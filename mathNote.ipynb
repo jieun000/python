{
 "cells": [
  {
   "cell_type": "markdown",
   "id": "e97a09ac",
   "metadata": {},
   "source": [
    "## 거듭제곱근\n",
    "- a의 n제곱근\n",
    "    - 2 이상의 자연수 n에 대하여 n제곱하여 실수 a가 되는 수\n",
    "    - $$ x^{n} = a $$ 의 근을 a의 n 제곱근이라고 한다.\n",
    "    - 이때 a의 제곱근, 세제급근, 네제곱은, $\\cdot\\cdot\\cdot$을 통틀어 a의 거듭제곱근이라고 한다. "
   ]
  },
  {
   "cell_type": "code",
   "execution_count": 16,
   "id": "0b822a13",
   "metadata": {},
   "outputs": [
    {
     "data": {
      "text/plain": [
       "4"
      ]
     },
     "execution_count": 16,
     "metadata": {},
     "output_type": "execute_result"
    }
   ],
   "source": [
    "2**2"
   ]
  },
  {
   "cell_type": "code",
   "execution_count": 4,
   "id": "b966014d",
   "metadata": {},
   "outputs": [],
   "source": [
    "import numpy as np"
   ]
  },
  {
   "cell_type": "code",
   "execution_count": 15,
   "id": "188e8b1b",
   "metadata": {},
   "outputs": [
    {
     "data": {
      "text/plain": [
       "2.0"
      ]
     },
     "execution_count": 15,
     "metadata": {},
     "output_type": "execute_result"
    }
   ],
   "source": [
    "np.sqrt(4)"
   ]
  },
  {
   "cell_type": "code",
   "execution_count": 13,
   "id": "4461bd4e",
   "metadata": {},
   "outputs": [
    {
     "data": {
      "text/plain": [
       "2.0"
      ]
     },
     "execution_count": 13,
     "metadata": {},
     "output_type": "execute_result"
    }
   ],
   "source": [
    "def square_root(a, n): # a(실수), n(몇 제곱)\n",
    "    x = a**(1/n)\n",
    "    return x\n",
    "square_root(16,4)"
   ]
  }
 ],
 "metadata": {
  "kernelspec": {
   "display_name": "Python 3 (ipykernel)",
   "language": "python",
   "name": "python3"
  },
  "language_info": {
   "codemirror_mode": {
    "name": "ipython",
    "version": 3
   },
   "file_extension": ".py",
   "mimetype": "text/x-python",
   "name": "python",
   "nbconvert_exporter": "python",
   "pygments_lexer": "ipython3",
   "version": "3.11.3"
  }
 },
 "nbformat": 4,
 "nbformat_minor": 5
}
