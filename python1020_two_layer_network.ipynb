{
 "cells": [
  {
   "cell_type": "code",
   "execution_count": 1,
   "id": "2364b26a",
   "metadata": {},
   "outputs": [
    {
     "data": {
      "text/latex": [
       "$\\displaystyle 1$"
      ],
      "text/plain": [
       "1"
      ]
     },
     "execution_count": 1,
     "metadata": {},
     "output_type": "execute_result"
    }
   ],
   "source": [
    "import numpy as np\n",
    "from sympy import *\n",
    "\n",
    "x, y= symbols(\"x y\")\n",
    "f = x + y\n",
    "diff(f, x)"
   ]
  },
  {
   "cell_type": "code",
   "execution_count": 2,
   "id": "5e19d2e4",
   "metadata": {},
   "outputs": [
    {
     "data": {
      "text/latex": [
       "$\\displaystyle 2$"
      ],
      "text/plain": [
       "2"
      ]
     },
     "execution_count": 2,
     "metadata": {},
     "output_type": "execute_result"
    }
   ],
   "source": [
    "x, y= symbols(\"x y\")\n",
    "f = 2*x + 3*y + 5\n",
    "diff(f, x)"
   ]
  },
  {
   "cell_type": "code",
   "execution_count": 3,
   "id": "8aa071f1",
   "metadata": {},
   "outputs": [
    {
     "name": "stdout",
     "output_type": "stream",
     "text": [
      "w로 미분: [x**2, 6*w*x, 6*w**2*x, -6*x**3/w**2] \n",
      "x로 미분: [2*w*x, 3*w**2, 2*w**3, 18*x**2/w]\n"
     ]
    }
   ],
   "source": [
    "x, w= symbols(\"x w\")\n",
    "a = [[x**2*w, 3*x*w**2], [2*x*w**3 ,6*x**3*w**(-1)]]\n",
    "list1 = []\n",
    "list2 = []\n",
    "[[list1.append(diff(i, w)) for i in j] for j in a]\n",
    "[[list2.append(diff(i, x)) for i in j] for j in a]\n",
    "print('w로 미분:',list1, '\\nx로 미분:',list2)"
   ]
  },
  {
   "cell_type": "markdown",
   "id": "6ab3c097",
   "metadata": {},
   "source": [
    "## Back Propagation (역전파)"
   ]
  },
  {
   "cell_type": "markdown",
   "id": "5d06d56c",
   "metadata": {},
   "source": [
    "<img src='images/1.jpg' />"
   ]
  },
  {
   "cell_type": "markdown",
   "id": "f8caad07",
   "metadata": {},
   "source": [
    "<img src='images/2.jpg' />"
   ]
  },
  {
   "cell_type": "markdown",
   "id": "3eb07695",
   "metadata": {},
   "source": [
    "<img src='images/3.jpg' />"
   ]
  },
  {
   "cell_type": "markdown",
   "id": "e0980065",
   "metadata": {},
   "source": [
    "## 곱셈 계층"
   ]
  },
  {
   "cell_type": "code",
   "execution_count": 4,
   "id": "d2307a8c",
   "metadata": {},
   "outputs": [],
   "source": [
    "class MulLayer:\n",
    "    def __init__(self):\n",
    "        self.x = None\n",
    "        self.y = None\n",
    "    def forward(self, x, y):\n",
    "        self.x = x\n",
    "        self.y = y\n",
    "        out = x * y\n",
    "        return out\n",
    "    def backward(self, dout):\n",
    "        dx = dout * self.y # x와 y를 바꾼다\n",
    "        dy = dout * self.x\n",
    "        return dx, dy"
   ]
  },
  {
   "cell_type": "code",
   "execution_count": 5,
   "id": "2d146690",
   "metadata": {},
   "outputs": [
    {
     "data": {
      "text/plain": [
       "220.00000000000003"
      ]
     },
     "execution_count": 5,
     "metadata": {},
     "output_type": "execute_result"
    }
   ],
   "source": [
    "apple = 100\n",
    "apple_num = 2\n",
    "tax = 1.1\n",
    "# 계층들\n",
    "mul_apple_layer = MulLayer()\n",
    "mul_tax_layer = MulLayer()\n",
    "# forward(순전파)\n",
    "apple_price = mul_apple_layer.forward(apple, apple_num)\n",
    "price = mul_tax_layer.forward(apple_price, tax)\n",
    "price # 220"
   ]
  },
  {
   "cell_type": "markdown",
   "id": "95c6922c",
   "metadata": {},
   "source": [
    "## 덧셈 계층"
   ]
  },
  {
   "cell_type": "code",
   "execution_count": 6,
   "id": "50aab08c",
   "metadata": {},
   "outputs": [],
   "source": [
    "class AddLayer:\n",
    "    def __init__(self):\n",
    "        pass # 더하기는 미분하면 1이니까 저장할 필요 없음\n",
    "    def forward(self, x, y):\n",
    "        out = x + y\n",
    "        return out\n",
    "    def backward(self, dout):\n",
    "        dx = dout * 1\n",
    "        dy = dout * 1\n",
    "        return dx, dy"
   ]
  },
  {
   "cell_type": "code",
   "execution_count": 7,
   "id": "2050c376",
   "metadata": {
    "scrolled": true
   },
   "outputs": [
    {
     "name": "stdout",
     "output_type": "stream",
     "text": [
      "forward: 715.0000000000001\n",
      "715.0000000000001\n",
      "110.00000000000001 2.2 3.3000000000000003 165.0 650\n"
     ]
    }
   ],
   "source": [
    "apple = 100\n",
    "apple_num = 2\n",
    "orange = 150\n",
    "orange_num = 3\n",
    "tax = 1.1\n",
    "# 계층들\n",
    "mul_apple_layer = MulLayer()\n",
    "mul_orange_layer = MulLayer()\n",
    "add_apple_orange_layer = AddLayer()\n",
    "mul_tax_layer = MulLayer()\n",
    "\n",
    "# forward(순전파)\n",
    "apple_price = mul_apple_layer.forward(apple, apple_num)\n",
    "orange_price = mul_orange_layer.forward(orange, orange_num) # 여기 채우기\n",
    "all_price = add_apple_orange_layer.forward(apple_price, orange_price)\n",
    "price = mul_tax_layer.forward(all_price, tax) # 여기 수정\n",
    "print('forward:', price) # 220\n",
    "\n",
    "# backward(역전파)\n",
    "dprice = 1\n",
    "dall_price, dtax = mul_tax_layer.backward(dprice)\n",
    "dapple_price, dorange_price = add_apple_orange_layer.backward(dall_price)\n",
    "dorange, dorange_num = mul_orange_layer.backward(dorange_price)\n",
    "dapple, dapple_num = mul_apple_layer.backward(dorange_price)\n",
    "print(price)\n",
    "print(dapple_num, dapple, dorange, dorange_num, dtax) # 110 2.2 3.3 165 650"
   ]
  },
  {
   "cell_type": "markdown",
   "id": "544cb88d",
   "metadata": {},
   "source": [
    "### 활성화 함수"
   ]
  },
  {
   "cell_type": "markdown",
   "id": "67499e20",
   "metadata": {},
   "source": [
    "<img src='images/활성화함수계산.jpg' />"
   ]
  },
  {
   "cell_type": "code",
   "execution_count": 8,
   "id": "cb1c33b4",
   "metadata": {},
   "outputs": [],
   "source": [
    "class Relu:\n",
    "    def __init__(self):\n",
    "        self.mask = None\n",
    "    def forward(f, x):\n",
    "        self.mask = (x <= 0)\n",
    "        out = x.copy() # 깊은 복사(deep copy), shallow copy(얕은 복사) => 주소 복사\n",
    "        out[self.mask] = 0\n",
    "        return out\n",
    "    def backward(self, dout):\n",
    "        dout[self.mask] = 0\n",
    "        dx = dout\n",
    "        return dx"
   ]
  },
  {
   "cell_type": "code",
   "execution_count": 9,
   "id": "70a55448",
   "metadata": {},
   "outputs": [],
   "source": [
    "import numpy as np"
   ]
  },
  {
   "cell_type": "code",
   "execution_count": 10,
   "id": "4825f645",
   "metadata": {},
   "outputs": [
    {
     "data": {
      "text/plain": [
       "array([-2])"
      ]
     },
     "execution_count": 10,
     "metadata": {},
     "output_type": "execute_result"
    }
   ],
   "source": [
    "# 참고\n",
    "x = np.array([[1,2],[3,-2]])\n",
    "x[1][x[1]<0] # fancy index"
   ]
  },
  {
   "cell_type": "code",
   "execution_count": 11,
   "id": "13ae0934",
   "metadata": {},
   "outputs": [
    {
     "name": "stdout",
     "output_type": "stream",
     "text": [
      "fancy index: [50 70 80]\n"
     ]
    },
    {
     "data": {
      "text/plain": [
       "[[50, 70], [80]]"
      ]
     },
     "execution_count": 11,
     "metadata": {},
     "output_type": "execute_result"
    }
   ],
   "source": [
    "# fancy index 연습\n",
    "x_30 = np.array([[20,50,70],[80,-7,20]])\n",
    "# fancy index로 30보다 큰 데이터 추출\n",
    "print('fancy index:', x_30[x_30>30])\n",
    "# 일반 반복문이나 slicing을 해서 추출\n",
    "[[ i for i in j if i>30 ] for j in x_30 ]"
   ]
  },
  {
   "cell_type": "code",
   "execution_count": 12,
   "id": "d521b41e",
   "metadata": {},
   "outputs": [
    {
     "data": {
      "text/plain": [
       "[[50, 70], [80], [100, 200, 50]]"
      ]
     },
     "execution_count": 12,
     "metadata": {},
     "output_type": "execute_result"
    }
   ],
   "source": [
    "# T\n",
    "# x_30 = np.array([[20,50,70],[80,-7,20],[100,20,-100,200,50]]) # numpy라서..\n",
    "x_30 = np.array([[20,50,70,0,0],[80,-7,20,0,0],[100,20,-100,200,50]])\n",
    "# [ i for i in x_30 if i>30 ] # 데이터의 갯수가 맞지 않아서 오류\n",
    "# p = zip(*[[ i for i in x_30[j] if i>30 ] for j in range(len(x_30)) ])\n",
    "# for i in p:\n",
    "#     print(i)\n",
    "[[ i for i in x_30[j] if i>30 ] for j in range(len(x_30)) ]"
   ]
  },
  {
   "cell_type": "code",
   "execution_count": 13,
   "id": "6842e648",
   "metadata": {},
   "outputs": [
    {
     "data": {
      "text/plain": [
       "array([[ 1. , -0.5],\n",
       "       [-2. ,  3. ]])"
      ]
     },
     "execution_count": 13,
     "metadata": {},
     "output_type": "execute_result"
    }
   ],
   "source": [
    "x = np.array([[1.0, -0.5],[-2.0, 3.0]])\n",
    "x"
   ]
  },
  {
   "cell_type": "code",
   "execution_count": 14,
   "id": "b3913e19",
   "metadata": {},
   "outputs": [
    {
     "data": {
      "text/plain": [
       "array([[False,  True],\n",
       "       [ True, False]])"
      ]
     },
     "execution_count": 14,
     "metadata": {},
     "output_type": "execute_result"
    }
   ],
   "source": [
    "mask = (x < 0)\n",
    "mask"
   ]
  },
  {
   "cell_type": "markdown",
   "id": "fa363f06",
   "metadata": {},
   "source": [
    "## 시그모이드 계층"
   ]
  },
  {
   "cell_type": "markdown",
   "id": "4ab37a7f",
   "metadata": {},
   "source": [
    "$$ y = \\frac{1}{1 + exp(-x)} $$\n",
    "#### 1단계)\n",
    "'/' 노드, 즉 $y = \\frac{1}{x}$을 미분하면\n",
    "$$ \\frac{\\partial y}{\\partial x} = - \\frac{1}{x^2} = -y^2 $$\n",
    "\n",
    "역전파 때는 상류에서 홀더 들어온 값에 $ -y^2 $ (순전파의 출력을 제곱한 후 마이너스를 붙인 값)을 곱해서 하류로 전달함\n",
    "<img src='images/sigmoid_1.jpg' />"
   ]
  },
  {
   "cell_type": "markdown",
   "id": "0765d32c",
   "metadata": {},
   "source": [
    "#### 2단계)\n",
    "'+' 노드는 상류의 값을 여과없이 하류로 내보내는 것이 다이다.\n",
    "<img src='images/sigmoid_2.jpg' />"
   ]
  },
  {
   "cell_type": "markdown",
   "id": "bc11a35a",
   "metadata": {},
   "source": [
    "#### 3단계)\n",
    "'exp' 노드는 y = exp(x) 연산을 수행한다. <br>계산 그래프에서는 상류의 값에 순전파 때의 출력을 곱해 하류로 전달\n",
    "<img src='images/sigmoid_3.jpg' />"
   ]
  },
  {
   "cell_type": "markdown",
   "id": "b64242e2",
   "metadata": {},
   "source": [
    "#### 4단계)\n",
    "'x' 노드는 순전파 때의 값을 서로 바꿔서 곱한다.\n",
    "<img src='images/sigmoid_4.jpg' />"
   ]
  },
  {
   "cell_type": "markdown",
   "id": "6cec0194",
   "metadata": {},
   "source": []
  },
  {
   "cell_type": "markdown",
   "id": "ae5a862d",
   "metadata": {},
   "source": [
    "<img src='images/sigmoid_total.jpg' />"
   ]
  },
  {
   "cell_type": "code",
   "execution_count": 15,
   "id": "a167ca54",
   "metadata": {},
   "outputs": [],
   "source": [
    "class Sigmoid:\n",
    "    def __init__(self):\n",
    "        self.out = None\n",
    "    def forward(self, x):\n",
    "        out = sigmoid(x)\n",
    "        self.out = out\n",
    "        return out\n",
    "    def backward(self, dout):\n",
    "        dx = dout * (1.0 - self.out) * self.out # 결국\n",
    "        # back에서 전달된 값 dout에 \n",
    "        # sigmoid 함수의 미분을 sigmoid * (1-sigmid)를 곱한 결과\n",
    "        return dx # 반환"
   ]
  },
  {
   "cell_type": "markdown",
   "id": "1d80466b",
   "metadata": {},
   "source": [
    "### Affine / Softmax 계층 구현하기\n",
    "#### Affine 계층\n",
    "신경망의 순전파에서는 가중치 신호의 총합을 계산하기 때문에 행렬의 내적(넘파이에서는 np.dot()을 사용) <br>\n",
    "여기서는 X, W, B는 각각의 형상이 (2,),(2,3),(3,)인 다차원 배열 <br>\n",
    "그러면 뉴런의 가중치의 합은 Y"
   ]
  },
  {
   "cell_type": "code",
   "execution_count": 16,
   "id": "e70601fb",
   "metadata": {},
   "outputs": [
    {
     "name": "stdout",
     "output_type": "stream",
     "text": [
      "(2,) (2, 3) (3,)\n"
     ]
    },
    {
     "data": {
      "text/plain": [
       "array([0.63962619, 0.26274779, 1.27579088])"
      ]
     },
     "execution_count": 16,
     "metadata": {},
     "output_type": "execute_result"
    }
   ],
   "source": [
    "X = np.random.rand(2) # 입력\n",
    "W = np.random.rand(2, 3) # 가중치\n",
    "B = np.random.rand(3) # 편향(bias)\n",
    "print(X.shape, W.shape, B.shape)\n",
    "Y = np.dot(X, W) + B\n",
    "Y"
   ]
  },
  {
   "cell_type": "code",
   "execution_count": 17,
   "id": "cee7b8fa",
   "metadata": {},
   "outputs": [],
   "source": [
    "class Affine:\n",
    "    def __init__(self):\n",
    "        self.W = W # 구하고자 하는 것은 W, b\n",
    "        self.b = b\n",
    "        self.x = None # 입력\n",
    "        self.dW = None # 업데이트 하기 위해 미분(w에 대한)\n",
    "        self.db = None # 업데이트 하기 위해 미분(b에 대한)\n",
    "    def forward(self, x):\n",
    "        self.x = x # 입력데이터를 멤버변수 x에 저장\n",
    "        out = np.dot(x, self.W) + self.b # 입력데이터와 W의 행렬곱과 bias(벡터)의 더하기\n",
    "        return out\n",
    "    def backward(f, dout):\n",
    "        dx = np.dot(dout, self.W.T) # 마지막에서부터의 오차(dout)과 W행렬의 traspost의 곱\n",
    "  \n",
    "        # 곱한 결과(dx)의 transpose한 것과 backward의 \n",
    "        # 파라미터 입력으로 전달되는 dout을 곱한 결과를 dW에 저장\n",
    "        # a * delta\n",
    "        self.dW = np.dot(self.x.T, dout) \n",
    "        self.db = np.sum(dout, axis=0) # bias는 총합(delta)\n",
    "        return dx"
   ]
  },
  {
   "cell_type": "markdown",
   "id": "c220ca57",
   "metadata": {},
   "source": [
    "<img src='images/back.jpg' />"
   ]
  },
  {
   "cell_type": "markdown",
   "id": "3706f6d6",
   "metadata": {},
   "source": [
    "<img src='images/back1_1019.jpg' />"
   ]
  },
  {
   "cell_type": "markdown",
   "id": "a3380d2a",
   "metadata": {},
   "source": [
    "### Softmax-with-Loss 계층구현"
   ]
  },
  {
   "cell_type": "code",
   "execution_count": 18,
   "id": "9f5f2b3b",
   "metadata": {},
   "outputs": [],
   "source": [
    "from common.functions import *\n",
    "import sys, os\n",
    "sys.path.append(os.pardir)"
   ]
  },
  {
   "cell_type": "code",
   "execution_count": 21,
   "id": "b7a66b0c",
   "metadata": {},
   "outputs": [],
   "source": [
    "class SoftMaxWithLoss:\n",
    "    def __init__(self):\n",
    "        self.loss = None # 손실\n",
    "        self.y = None # Softmax의 출력\n",
    "        self.x = None # 정답 레이블(one hot 벡터)\n",
    "    def forward(self, x, t):\n",
    "        self.t = f\n",
    "        self.y = softmax(x)\n",
    "        self.loss = cross_entropy_error(self.y, self.t)\n",
    "        return self.loss\n",
    "    def backward(self, dout=1):\n",
    "        batch_size = self.t.shape[0]\n",
    "        dx = (self.y - self.t) / batch_size\n",
    "        return dx"
   ]
  },
  {
   "cell_type": "markdown",
   "id": "e1fc76ce",
   "metadata": {},
   "source": [
    "## 오차 역전파 법 구하기"
   ]
  },
  {
   "cell_type": "code",
   "execution_count": 23,
   "id": "62aa5dd0",
   "metadata": {},
   "outputs": [],
   "source": [
    "from common.layers import *\n",
    "from common.gradient import numerical_gradient\n",
    "from collections import OrderedDict"
   ]
  },
  {
   "cell_type": "code",
   "execution_count": 28,
   "id": "4e27eda4",
   "metadata": {},
   "outputs": [],
   "source": [
    "class TwoLayerNet:\n",
    "    def __init__(self, input_size, hidden_size, output_size, weight_init_std=0.01):\n",
    "        self.params = {}\n",
    "        self.params['W1'] = weight_init_std * np.random.randn(input_size, hidden_size)\n",
    "        self.params['b1'] = np.zeros(hidden_size)\n",
    "        self.params['W2'] = weight_init_std * np.random.randn(hidden_size, output_size)\n",
    "        self.params['b2'] = np.zeros(output_size)\n",
    "        \n",
    "        # 계층 생성\n",
    "        self.layers = OrderedDict()\n",
    "        self.layers['Affine1'] = Affine(self.params['W1'], self.params['b1'])\n",
    "        self.layers['Relu1'] = Relu()\n",
    "        self.layers['Affine2'] = Affine(self.params['W2'], self.params['b2'])\n",
    "        self.lastLayer = SoftMaxWithLoss()\n",
    "    def predict(self, x):\n",
    "        for layer in self.layers.values():\n",
    "            x = layer.forward(x)\n",
    "        return x\n",
    "    # x: 입력데이터, t: 정답 레이블\n",
    "    def loss(self, x, t):\n",
    "        y = self.predict(x)\n",
    "        return self.lastLayer.forward(y, t)\n",
    "    def accuracy(self, x, t):\n",
    "        y = self.predict(x)\n",
    "        y = np.argmax(y, axis=1)\n",
    "        if t.ndim != 1: t=np.argmax(t, axis=1)\n",
    "        accuracy = np.sum(y==t) / float(x.shape[0])\n",
    "        return accuracy\n",
    "    def numerical_gradient(self, x, t):\n",
    "        loss_W = lambda W: self.loss(x, t)\n",
    "        grads = {}\n",
    "        grads['W1'] = numerical_gradient(loss_W, self.parmas['W1'])\n",
    "        grads['b1'] = numerical_gradient(loss_W, self.parmas['b1'])\n",
    "        grads['W2'] = numerical_gradient(loss_W, self.parmas['W2'])\n",
    "        grads['b2'] = numerical_gradient(loss_W, self.parmas['b2'])\n",
    "        return grads\n",
    "    def gradient(self, x, t):\n",
    "        # forward\n",
    "        self.loss(x, t)\n",
    "        # 역전파(backward)\n",
    "        dout = t\n",
    "        dout = self.lastLayer.backward(dout)\n",
    "        layers = list(self.layers.values())\n",
    "        layers.reverse() # backward 하기 위해 순서를 뒤집음\n",
    "        for layer in layers:\n",
    "            dout = layer.backward(dout)\n",
    "        # 결과 저장\n",
    "        grads = {}\n",
    "        grads['W1'], grads['b1'] = self.layers['Affine1'].dW, self.layers['Affine1'].db\n",
    "        grads['W2'], grads['b2'] = self.layers['Affine2'].dW, self.layers['Affine2'].db\n",
    "        return grads"
   ]
  },
  {
   "cell_type": "code",
   "execution_count": 26,
   "id": "2547ef9c",
   "metadata": {},
   "outputs": [],
   "source": [
    "from dataset.mnist import load_mnist"
   ]
  },
  {
   "cell_type": "code",
   "execution_count": 31,
   "id": "385ddd3b",
   "metadata": {
    "scrolled": true
   },
   "outputs": [
    {
     "data": {
      "text/plain": [
       "(2, 5)"
      ]
     },
     "execution_count": 31,
     "metadata": {},
     "output_type": "execute_result"
    }
   ],
   "source": [
    "x_test = np.array([[11,22,33,44,55],[1,2,3,4,5]])\n",
    "x_test.shape"
   ]
  },
  {
   "cell_type": "code",
   "execution_count": 33,
   "id": "0a506417",
   "metadata": {},
   "outputs": [
    {
     "data": {
      "text/plain": [
       "array([[11, 22, 33, 44, 55],\n",
       "       [ 1,  2,  3,  4,  5]])"
      ]
     },
     "execution_count": 33,
     "metadata": {},
     "output_type": "execute_result"
    }
   ],
   "source": [
    "x_test"
   ]
  },
  {
   "cell_type": "code",
   "execution_count": 38,
   "id": "128c3343",
   "metadata": {},
   "outputs": [
    {
     "data": {
      "text/plain": [
       "array([[11, 22],\n",
       "       [33, 44],\n",
       "       [55,  1],\n",
       "       [ 2,  3],\n",
       "       [ 4,  5]])"
      ]
     },
     "execution_count": 38,
     "metadata": {},
     "output_type": "execute_result"
    }
   ],
   "source": [
    "x_test.reshape(5, -1)"
   ]
  },
  {
   "cell_type": "code",
   "execution_count": 44,
   "id": "64503ec6",
   "metadata": {},
   "outputs": [
    {
     "name": "stdout",
     "output_type": "stream",
     "text": [
      "3\n"
     ]
    },
    {
     "data": {
      "text/plain": [
       "2"
      ]
     },
     "execution_count": 44,
     "metadata": {},
     "output_type": "execute_result"
    }
   ],
   "source": [
    "x_zeros = np.zeros((3,4,5))\n",
    "print(x_zeros.ndim) # n차원 확인\n",
    "# 뒤에가 -1이면 알아서 맞춰줌, 3차원을 2차원으로 만들어줌?\n",
    "reshaped_ = x_zeros.reshape(20, -1) \n",
    "reshaped_.ndim"
   ]
  },
  {
   "cell_type": "code",
   "execution_count": 52,
   "id": "86b2b47c",
   "metadata": {},
   "outputs": [
    {
     "name": "stdout",
     "output_type": "stream",
     "text": [
      "(3, 4, 5, 10)\n"
     ]
    },
    {
     "data": {
      "text/plain": [
       "(5, 4, 30)"
      ]
     },
     "execution_count": 52,
     "metadata": {},
     "output_type": "execute_result"
    }
   ],
   "source": [
    "x_zeros = np.zeros((3,4,5,10))\n",
    "print(x_zeros.shape)\n",
    "reshaped_ = x_zeros.reshape((5,4,-1)) \n",
    "reshaped_.shape"
   ]
  },
  {
   "cell_type": "code",
   "execution_count": 53,
   "id": "2821c58e",
   "metadata": {},
   "outputs": [
    {
     "ename": "TypeError",
     "evalue": "Affine.__init__() takes 1 positional argument but 3 were given",
     "output_type": "error",
     "traceback": [
      "\u001b[1;31m---------------------------------------------------------------------------\u001b[0m",
      "\u001b[1;31mTypeError\u001b[0m                                 Traceback (most recent call last)",
      "Cell \u001b[1;32mIn[53], line 2\u001b[0m\n\u001b[0;32m      1\u001b[0m (x_train, t_train), (x_test, t_test) \u001b[38;5;241m=\u001b[39m load_mnist(normalize\u001b[38;5;241m=\u001b[39m\u001b[38;5;28;01mTrue\u001b[39;00m, one_hot_label\u001b[38;5;241m=\u001b[39m\u001b[38;5;28;01mTrue\u001b[39;00m)\n\u001b[1;32m----> 2\u001b[0m network \u001b[38;5;241m=\u001b[39m \u001b[43mTwoLayerNet\u001b[49m\u001b[43m(\u001b[49m\u001b[43minput_size\u001b[49m\u001b[38;5;241;43m=\u001b[39;49m\u001b[38;5;241;43m784\u001b[39;49m\u001b[43m,\u001b[49m\u001b[43m \u001b[49m\u001b[43mhidden_size\u001b[49m\u001b[38;5;241;43m=\u001b[39;49m\u001b[38;5;241;43m50\u001b[39;49m\u001b[43m,\u001b[49m\u001b[43m \u001b[49m\u001b[43moutput_size\u001b[49m\u001b[38;5;241;43m=\u001b[39;49m\u001b[38;5;241;43m10\u001b[39;49m\u001b[43m)\u001b[49m\n",
      "Cell \u001b[1;32mIn[28], line 11\u001b[0m, in \u001b[0;36mTwoLayerNet.__init__\u001b[1;34m(self, input_size, hidden_size, output_size, weight_init_std)\u001b[0m\n\u001b[0;32m      9\u001b[0m \u001b[38;5;66;03m# 계층 생성\u001b[39;00m\n\u001b[0;32m     10\u001b[0m \u001b[38;5;28mself\u001b[39m\u001b[38;5;241m.\u001b[39mlayers \u001b[38;5;241m=\u001b[39m OrderedDict()\n\u001b[1;32m---> 11\u001b[0m \u001b[38;5;28mself\u001b[39m\u001b[38;5;241m.\u001b[39mlayers[\u001b[38;5;124m'\u001b[39m\u001b[38;5;124mAffine1\u001b[39m\u001b[38;5;124m'\u001b[39m] \u001b[38;5;241m=\u001b[39m \u001b[43mAffine\u001b[49m\u001b[43m(\u001b[49m\u001b[38;5;28;43mself\u001b[39;49m\u001b[38;5;241;43m.\u001b[39;49m\u001b[43mparams\u001b[49m\u001b[43m[\u001b[49m\u001b[38;5;124;43m'\u001b[39;49m\u001b[38;5;124;43mW1\u001b[39;49m\u001b[38;5;124;43m'\u001b[39;49m\u001b[43m]\u001b[49m\u001b[43m,\u001b[49m\u001b[43m \u001b[49m\u001b[38;5;28;43mself\u001b[39;49m\u001b[38;5;241;43m.\u001b[39;49m\u001b[43mparams\u001b[49m\u001b[43m[\u001b[49m\u001b[38;5;124;43m'\u001b[39;49m\u001b[38;5;124;43mb1\u001b[39;49m\u001b[38;5;124;43m'\u001b[39;49m\u001b[43m]\u001b[49m\u001b[43m)\u001b[49m\n\u001b[0;32m     12\u001b[0m \u001b[38;5;28mself\u001b[39m\u001b[38;5;241m.\u001b[39mlayers[\u001b[38;5;124m'\u001b[39m\u001b[38;5;124mRelu1\u001b[39m\u001b[38;5;124m'\u001b[39m] \u001b[38;5;241m=\u001b[39m Relu()\n\u001b[0;32m     13\u001b[0m \u001b[38;5;28mself\u001b[39m\u001b[38;5;241m.\u001b[39mlayers[\u001b[38;5;124m'\u001b[39m\u001b[38;5;124mAffine2\u001b[39m\u001b[38;5;124m'\u001b[39m] \u001b[38;5;241m=\u001b[39m Affine(\u001b[38;5;28mself\u001b[39m\u001b[38;5;241m.\u001b[39mparams[\u001b[38;5;124m'\u001b[39m\u001b[38;5;124mW2\u001b[39m\u001b[38;5;124m'\u001b[39m], \u001b[38;5;28mself\u001b[39m\u001b[38;5;241m.\u001b[39mparams[\u001b[38;5;124m'\u001b[39m\u001b[38;5;124mb2\u001b[39m\u001b[38;5;124m'\u001b[39m])\n",
      "\u001b[1;31mTypeError\u001b[0m: Affine.__init__() takes 1 positional argument but 3 were given"
     ]
    }
   ],
   "source": [
    "(x_train, t_train), (x_test, t_test) = load_mnist(normalize=True, one_hot_label=True)\n",
    "network = TwoLayerNet(input_size=784, hidden_size=50, output_size=10)"
   ]
  },
  {
   "cell_type": "code",
   "execution_count": null,
   "id": "2d695567",
   "metadata": {},
   "outputs": [],
   "source": []
  },
  {
   "cell_type": "code",
   "execution_count": null,
   "id": "ebc8129d",
   "metadata": {},
   "outputs": [],
   "source": []
  },
  {
   "cell_type": "code",
   "execution_count": null,
   "id": "c9274ed9",
   "metadata": {},
   "outputs": [],
   "source": []
  },
  {
   "cell_type": "markdown",
   "id": "43cbbb3c",
   "metadata": {},
   "source": [
    "<img src='images/시그모이드.jpg' />"
   ]
  },
  {
   "cell_type": "markdown",
   "id": "ced96d19",
   "metadata": {},
   "source": [
    "<img src='images/시그모이드2.jpg' />"
   ]
  },
  {
   "cell_type": "markdown",
   "id": "7bc8cd8c",
   "metadata": {},
   "source": [
    "<img src='images/계산그래프.jpg' />"
   ]
  },
  {
   "cell_type": "markdown",
   "id": "e77f5ae0",
   "metadata": {},
   "source": [
    "합성함수\n",
    "$$ z(x) = 1 + x $$\n",
    "\n",
    "$$ a(x) = 1 + e^{x} $$\n",
    "\n",
    "$$ a(z(x)) = ? $$\n",
    "\n",
    "$$ a(z(x)) = 1 + e^{1 + x} $$"
   ]
  },
  {
   "cell_type": "markdown",
   "id": "b9286c55",
   "metadata": {},
   "source": [
    "<div style=\"border: 1px solid black; width: 30%; float: right;\">\n",
    "$$ (log x)\\acute{} = \\frac{1}{x} $$ <br>\n",
    "$$ (e^{x})\\acute{} = e^{x} $$ <br>\n",
    "$$ (\\cos{x})\\acute{} = -\\sin{x} $$ <br>\n",
    "$$ (\\sin{x})\\acute{} = \\cos{x} $$\n",
    "</div>\n",
    "<br>\n",
    "\n",
    "1) $ e^{x^{2} + 2x + 3} $ x로 미분\n",
    "--- \n",
    "2) $ (e^{t} + 3t + 9)^{3} $ t로 미분\n",
    "--- \n",
    "3) $ \\log(\\cos\\theta + \\sin\\theta + 6\\theta^{2} + 9) \\theta $ 로 미분 \n",
    "--- \n",
    "4) $ e^{x^{2} + 6x + 3} $ x로 미분"
   ]
  }
 ],
 "metadata": {
  "kernelspec": {
   "display_name": "Python 3 (ipykernel)",
   "language": "python",
   "name": "python3"
  },
  "language_info": {
   "codemirror_mode": {
    "name": "ipython",
    "version": 3
   },
   "file_extension": ".py",
   "mimetype": "text/x-python",
   "name": "python",
   "nbconvert_exporter": "python",
   "pygments_lexer": "ipython3",
   "version": "3.10.9"
  }
 },
 "nbformat": 4,
 "nbformat_minor": 5
}
