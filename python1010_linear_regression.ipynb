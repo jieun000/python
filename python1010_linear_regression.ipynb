{
 "cells": [
  {
   "cell_type": "markdown",
   "id": "86a99b02",
   "metadata": {},
   "source": [
    "<table>\n",
    "    <tr>\n",
    "        <th>x(feature/시간)</th>\n",
    "        <th>y(label(정답)/점수)</th>\n",
    "    </tr>\n",
    "    <tr>\n",
    "        <td>10</td>\n",
    "        <td>90</td>\n",
    "    </tr>\n",
    "    <tr>\n",
    "        <td>9</td>\n",
    "        <td>8</td>\n",
    "    </tr>\n",
    "    <tr>\n",
    "        <td>3</td>\n",
    "        <td>50</td>\n",
    "    </tr>\n",
    "    <tr>\n",
    "        <td>2</td>\n",
    "        <td>30</td>\n",
    "    </tr>\n",
    "</table>"
   ]
  },
  {
   "cell_type": "markdown",
   "id": "f8dbfb01",
   "metadata": {},
   "source": [
    "## 선형회귀(linear regression)\n",
    "feature와 label은 항상 쌍으로 주어지고, feature가 하나인 것을 simple linear regression이라고 하고\n",
    "feature가 여러 개 있고 label이 하나 있는 것을 multivariable linear regression이라고 함."
   ]
  },
  {
   "cell_type": "markdown",
   "id": "c42b4ddd",
   "metadata": {},
   "source": [
    "데이터가 여러 개가 있고 여러 개의 데이터를 하나의 점으로 생각하고 벡터로 생각하자 <br>\n",
    "여러 개의 점과 가장 오차가 적게 되는 직선의 방정식(hypothesis / $ \\hat{y} $) 과의 차이가 적게 $ \\hat{y} $ 이 계속 움직이면서 오차를 적게 하려는 방향으로 학습(갱산, w와 b를 변경)하면서 cost(오차, Mean Square Error)가 0으로 가까워지도록 학습을 하게 되면 우리가 찾고자 하는 y(정답)과 가장 가까운 $ \\hat{y} $ 을 찾게되는 것이고 그것이 linear regression의 학습이 완료된 것이다."
   ]
  },
  {
   "cell_type": "markdown",
   "id": "6016fcd7",
   "metadata": {},
   "source": [
    "$$ J = \\frac{1}{2m}\\sum_{i=1}^{m}(y-\\hat{y})^{2} \\rightarrow MSE $$"
   ]
  },
  {
   "cell_type": "markdown",
   "id": "ded497c3",
   "metadata": {},
   "source": []
  },
  {
   "cell_type": "markdown",
   "id": "80754ba7",
   "metadata": {},
   "source": [
    "# Optional Lab: 선형회귀를 위한 경사 하강법 <br>(Gradient Descent for Linear Regression)\n",
    "\n",
    "<figure>\n",
    "    <center> <img src=\"./images (2)/C1_W1_L4_S1_Lecture_GD.png\"  style=\"width:800px;height:200px;\" ></center>\n",
    "</figure>"
   ]
  },
  {
   "cell_type": "markdown",
   "id": "2c9dc3c5",
   "metadata": {},
   "source": [
    "$$ pred = x \\cdot w + b $$"
   ]
  },
  {
   "cell_type": "code",
   "execution_count": null,
   "id": "527c0656",
   "metadata": {},
   "outputs": [],
   "source": [
    "def cost(self, x, y):\n",
    "    pred = np.dot(x, self.w)+ self.b # 예측한 직선의 방정식(y^hat, hypothesis(가설))\n",
    "    e = y - pred # 오차\n",
    "    return np.mean(e**2) # Mean Square Error"
   ]
  },
  {
   "cell_type": "markdown",
   "id": "58e51dad",
   "metadata": {},
   "source": [
    "$$\n",
    "\\begin{align}\n",
    "\\frac{\\partial J(w,b)}{\\partial w}  &= \\frac{1}{m} \\sum\\limits_{i = 0}^{m-1} (f_{w,b}(x^{(i)}) - y^{(i)})x^{(i)} \\tag{4}\\\\\n",
    "  \\frac{\\partial J(w,b)}{\\partial b}  &= \\frac{1}{m} \\sum\\limits_{i = 0}^{m-1} (f_{w,b}(x^{(i)}) - y^{(i)}) \\tag{5}\\\\\n",
    "\\end{align}\n",
    "$$\n",
    "\n",
    "$$\\begin{align*} \\text{ 수렴할 때까지 반복:} \\; \\lbrace \\newline\n",
    "\\;  w &= w -  \\alpha \\frac{\\partial J(w,b)}{\\partial w} \\tag{3}  \\; \\newline \n",
    " b &= b -  \\alpha \\frac{\\partial J(w,b)}{\\partial b}  \\newline \\rbrace\n",
    "\\end{align*}$$"
   ]
  },
  {
   "cell_type": "code",
   "execution_count": null,
   "id": "0b2d4af8",
   "metadata": {},
   "outputs": [],
   "source": [
    "def fit(self,x,y): # 반복하여 w, b를 찾음\n",
    "    pred = x@self.w + self.b\n",
    "    e = y - pred\n",
    "    dJ_dw = (np.mean(e*(-2*x), axis=0)) # J를 w로 편미분, 0or1에 따라 가로로 세로로\n",
    "    dJ_db = (np.mean(e*(-2), axis=0)) # J를 b로 편미분\n",
    "    self.w = (self.w.T - self.lr*dJ_dw).T # w갱신\n",
    "    self.b = (self.b.T - self.lr*dJ_db) # b갱신"
   ]
  },
  {
   "cell_type": "markdown",
   "id": "61fd4325",
   "metadata": {},
   "source": []
  },
  {
   "cell_type": "markdown",
   "id": "64f2b230",
   "metadata": {},
   "source": [
    "*gradient descent(경사 하강)*  는 아래와 같다\n",
    "\n",
    "$$\\begin{align*} \\text{ 수렴할 때까지 반복:} \\; \\lbrace \\newline\n",
    "\\;  w &= w -  \\alpha \\frac{\\partial J(w,b)}{\\partial w} \\tag{3}  \\; \\newline \n",
    " b &= b -  \\alpha \\frac{\\partial J(w,b)}{\\partial b}  \\newline \\rbrace\n",
    "\\end{align*}$$\n",
    "여기서 파라미터는 $w$, $b$ 이고 동시에 갱신됨. \n",
    "기울기는 아래와 같다:\n",
    "$$\n",
    "\\begin{align}\n",
    "\\frac{\\partial J(w,b)}{\\partial w}  &= \\frac{1}{m} \\sum\\limits_{i = 0}^{m-1} (f_{w,b}(x^{(i)}) - y^{(i)})x^{(i)} \\tag{4}\\\\\n",
    "  \\frac{\\partial J(w,b)}{\\partial b}  &= \\frac{1}{m} \\sum\\limits_{i = 0}^{m-1} (f_{w,b}(x^{(i)}) - y^{(i)}) \\tag{5}\\\\\n",
    "\\end{align}\n",
    "$$\n",
    "\n",
    " *simultaniously* 는 모든 파라미터를 갱신하기 전에 모든 파라미터의 편미분을 계산하는 것을 의미함."
   ]
  },
  {
   "cell_type": "markdown",
   "id": "34bde2ab",
   "metadata": {},
   "source": [
    "$$ \\frac{\\partial J(w,b)}{\\partial w} = ?\n",
    "$$"
   ]
  },
  {
   "cell_type": "markdown",
   "id": "b9589a01",
   "metadata": {},
   "source": [
    "$$ J = \\frac{1}{2m}\\sum_{i=1}^{m}(y-\\hat{y})^{2} \\rightarrow MSE $$\n",
    "$$ J = \\frac{1}{2m}\\sum_{i=1}^{m}(y-(wx+b))^{2} \\rightarrow MSE $$\n",
    "$$ wx+b \\rightarrow p $$\n",
    "$$ y-\\hat{y} \\rightarrow q $$\n",
    "$$ y-p \\rightarrow q $$\n",
    "$$  J = \\frac{1}{2m}\\sum_{i=1}^{m}q^{2} $$\n",
    "$$ \\frac{\\partial J(w,b)}{\\partial q} =  \\frac{1}{2m}\\sum_{i=1}^{m} 2q $$\n",
    "$$ \\frac{\\partial p}{\\partial w} = x $$\n",
    "$$ \\frac{\\partial J}{\\partial q} \\frac{\\partial q}{\\partial p} \\frac{\\partial p}{\\partial w} = $$\n",
    "$$ \\frac{1}{m}\\sum_{i=1}^{m}(y-\\hat{y}) \\cdot (-1) \\cdot x  $$\n",
    "$$ -\\frac{1}{m}\\sum_{i=1}^{m}(y-\\hat{y}) \\cdot x  $$\n"
   ]
  },
  {
   "cell_type": "markdown",
   "id": "43a7bc34",
   "metadata": {},
   "source": []
  },
  {
   "cell_type": "markdown",
   "id": "d80aa28f",
   "metadata": {},
   "source": [
    "$$ \\frac{\\partial J(w,b)}{\\partial b} = ?\n",
    "$$"
   ]
  },
  {
   "cell_type": "markdown",
   "id": "be2fc142",
   "metadata": {},
   "source": [
    "$$ J = \\frac{1}{2m}\\sum_{i=1}^{m}(y-\\hat{y})^{2} \\rightarrow MSE $$\n",
    "$$ J = \\frac{1}{2m}\\sum_{i=1}^{m}(y-(wx+b))^{2} \\rightarrow MSE $$\n",
    "$$ wx+b \\rightarrow p $$\n",
    "$$ y-\\hat{y} \\rightarrow q $$\n",
    "$$ y-p \\rightarrow q $$\n",
    "$$ \\frac{\\partial J}{\\partial b} =  \\frac{\\partial J}{\\partial q} \\frac{\\partial q}{\\partial p} \\frac{\\partial p}{\\partial b} = $$\n",
    "$$  J = \\frac{1}{2m}\\sum_{i=1}^{m}q^{2} $$\n",
    "$$ \\frac{\\partial J(w,b)}{\\partial q} =  \\frac{1}{2m}\\sum_{i=1}^{m} 2q $$\n",
    "$$ \\frac{\\partial p}{\\partial w} = x $$\n",
    "$$ \\frac{\\partial q}{\\partial p} = -1 $$\n",
    "$$ \\frac{1}{m}\\sum_{i=1}^{m}(y-\\hat{y}) \\cdot (-1) \\cdot x  $$\n",
    "$$ -\\frac{1}{m}\\sum_{i=1}^{m}(y-\\hat{y}) \\cdot x  $$"
   ]
  },
  {
   "cell_type": "markdown",
   "id": "e011ca2d",
   "metadata": {},
   "source": [
    "<img src='./images (2)/linear1.gif' />"
   ]
  },
  {
   "cell_type": "markdown",
   "id": "49e106a0",
   "metadata": {},
   "source": [
    "<img src='./images (2)/linear2.gif' />"
   ]
  },
  {
   "cell_type": "markdown",
   "id": "8df15d9b",
   "metadata": {},
   "source": [
    "<img src='./images (2)/linear3.gif' />"
   ]
  },
  {
   "cell_type": "code",
   "execution_count": null,
   "id": "845e1f30",
   "metadata": {},
   "outputs": [],
   "source": [
    "!pip install basemap"
   ]
  },
  {
   "cell_type": "code",
   "execution_count": null,
   "id": "cd1f5e50",
   "metadata": {},
   "outputs": [],
   "source": [
    "!pip install celluloid"
   ]
  },
  {
   "cell_type": "code",
   "execution_count": 3,
   "id": "e9647144",
   "metadata": {},
   "outputs": [],
   "source": [
    "import numpy as np\n",
    "import matplotlib.pyplot as plt\n",
    "from mpl_toolkits.mplot3d import Axes3D\n",
    "import celluloid \n",
    "from celluloid import Camera"
   ]
  },
  {
   "cell_type": "code",
   "execution_count": null,
   "id": "021edac4",
   "metadata": {},
   "outputs": [],
   "source": [
    "class LinearRegression(object):\n",
    "    def __init__(self, w=1, b=1, lr=0.01):\n",
    "        self.lr = lr\n",
    "        self.w = np.array([[w]]) # w: 행렬\n",
    "        self.b = np.array([[b]]) # b: 벡터\n",
    "    def cost(self, x, y):\n",
    "        pred = x@self.w + self.b # 예측한 직선의 방정식(y^hat, hypothesis(가설))\n",
    "        e = y - pred # 오차\n",
    "        return np.mean(e**2) # Mean Square Error\n",
    "    def fit(self,x,y): # 반복하여 w, b를 찾음\n",
    "        pred = x@self.w + self.b\n",
    "        e = y - pred\n",
    "        dJ_dw = (np.mean(e*(-2*x), axis=0)) # J를 w로 편미분, 0or1에 따라 가로로 세로로\n",
    "        dJ_db = (np.mean(e*(-2), axis=0)) # J를 b로 편미분\n",
    "        self.w = (self.w.T - self.lr*dJ_dw).T # w갱신\n",
    "        self.b = (self.b.T - self.lr*dJ_db) # b갱신\n",
    "    def predict(self, x):\n",
    "        return (x@self.w.T + self.b) # 예측값 반환\n",
    "    def params(self):\n",
    "        return (self.w, self.b) # 우리가 찾고자 하는 파라미터 반환"
   ]
  },
  {
   "cell_type": "code",
   "execution_count": null,
   "id": "bcca445c",
   "metadata": {},
   "outputs": [],
   "source": [
    "# Introduce training data\n",
    "x_train = np.array([     \n",
    "    [1],\n",
    "    [2],\n",
    "    [4],\n",
    "    [5],\n",
    "    [6],\n",
    "    [7]\n",
    "])\n",
    "\n",
    "y_train = np.array([     \n",
    "    [4],\n",
    "    [-12],\n",
    "    [3],\n",
    "    [-11],\n",
    "    [-5],\n",
    "    [-17]\n",
    "])\n",
    "w_list = [] # weight(기울기) 저장\n",
    "b_list = [] # bias(y절편 저장)\n",
    "c_list = [] # cost 저장\n",
    "\n",
    "ys_list = [] # xs에 대한 예측값 저장을 위한 리스트\n",
    "cl_list = [] # x_train을 위한 예측해 y값을 저장하는 리스트\n",
    "xs = np.array([ # regression 직선을 그리기 위한 x_value 설정\n",
    "    [-3],\n",
    "    [10]\n",
    "])\n",
    "# 모델 학습(training)\n",
    "model = LinearRegression(w=3, b=1, lr=0.001)\n",
    "for i in range(60000): # 반복(epochs) 횟수 지정\n",
    "    w_list.append(model.params()[0]) # 기울기 저장\n",
    "    b_list.append(model.params()[1]) # y절편 저장\n",
    "    c_list.append(model.cost(x_train, y_train)) # cost를 저장\n",
    "    ys_list.append(model.predict(xs).T) # xs에 해당하는 y 예측값 저장\n",
    "    cl_list.append(model.predict(x_train).T) # x_tarin에 해당하는 y값 저장\n",
    "    model.fit(x_train, y_train)\n",
    "print('weight: ' + str(model.params()[0]))\n",
    "print('y_절편: ' + str(model.params()[1]))\n",
    "print('costs: ' + str(model.cost(x_train, y_train)))"
   ]
  },
  {
   "cell_type": "code",
   "execution_count": 4,
   "id": "5c79e498",
   "metadata": {},
   "outputs": [],
   "source": [
    "import sklearn\n",
    "from sklearn.linear_model import LinearRegression"
   ]
  },
  {
   "cell_type": "code",
   "execution_count": null,
   "id": "7ef17fc0",
   "metadata": {},
   "outputs": [],
   "source": [
    "reg = LinearRegression().fit(x_train, y_train)\n",
    "print(reg.coef_)\n",
    "print(reg.intercept_)"
   ]
  },
  {
   "cell_type": "markdown",
   "id": "dde83b78",
   "metadata": {},
   "source": [
    "### 시각화 코드"
   ]
  },
  {
   "cell_type": "code",
   "execution_count": null,
   "id": "c8b877a8",
   "metadata": {},
   "outputs": [],
   "source": [
    "a = np.arange(0,50,1).tolist()\n",
    "b = np.arange(50,100,5).tolist()\n",
    "c = np.arange(100,12000,200).tolist()\n",
    "# 0~50까지는 1간격, 50~100까지는 5간격, 100이후로는 200간격으로 그림을 그리자\n",
    "p = a + b + c\n",
    "# 리스트를 배열로 반환\n",
    "w = np.array(w_list).flatten() # flatten(펼친다)\n",
    "b = np.array(b_list).flatten() # flatten(펼친다)\n",
    "c = np.array(c_list).flatten() # flatten(펼친다)\n",
    "ys = np.array(ys_list)\n",
    "p = np.array(p)\n",
    "# 첫번째 animation 생성\n",
    "fig = plt.figure(figsize=(10,10)) # figure 생성\n",
    "labelsize_ = 14\n",
    "camera = Camera(fig) # 카메라 생성\n",
    "for i in p:\n",
    "    ax1 = fig.add_subplot(3,2,2)\n",
    "    ax1.plot(w[:i], color='blue', linestyle='dashed', alpha=0.5)\n",
    "    ax1.set_title('w', fontsize=17)\n",
    "    ax1.tick_params(axis='both', which='major', labelsize=labelsize_)\n",
    "    \n",
    "    ax2 = fig.add_subplot(3,2,4)\n",
    "    ax2.plot(w[:i], color='red', linestyle='dashed', alpha=0.5)\n",
    "    ax2.set_title('b', fontsize=17)\n",
    "    ax2.tick_params(axis='both', which='major', labelsize=labelsize_)\n",
    "    \n",
    "    ax3 = fig.add_subplot(3,2,6)\n",
    "    ax3.plot(w[:i], color='black', linestyle='dashed', alpha=0.5)\n",
    "    ax3.set_title('costs', fontsize=17)\n",
    "    ax3.tick_params(axis='both', which='major', labelsize=labelsize_)\n",
    "    ax3.set_xlabel('epochs', fontsize=14, labelpad=10)\n",
    "    ax0 = fig.add_subplot(1,2,1) # fit 그리기\n",
    "    leg = ax0.plot(xs.T.flatten(), ys[i].flatten(), color='r'\n",
    "                   , label=str(i)) # legend 설정, 그림을 그리기 위해 배열 flatten(펼치다)\n",
    "    ax0.scatter(x_train, y_train, color='b', marker='x', s=44)\n",
    "    ax0.legend(leg, [f'eposhs: (i)'], loc='upper right', fontsize=15)\n",
    "    ax0.set_title('Linear fit', fontsize=25)\n",
    "    ax0.tick_params(axis='both', which='major', labelsize=labelsize_)\n",
    "    ax0.set_xlabel('x', fontsize=25, labelpad=10)\n",
    "    ax0.set_ylabel('y', fontsize=25, labelpad=10)\n",
    "    ax0.tick_params(axis='both', which='major', labelsize=labelsize_)\n",
    "    ax0.set_ylim([-20,10])\n",
    "    plt.tight_layout()\n",
    "    camera.snap() # 각각의 프레임 및 반복후에 스냅샷 취함\n",
    "animation = camera.animate(interval=5, repeat=False, repeat_delay=500) # 카메라 애니메이션 생성\n",
    "animation.save('image/SimpleLinReg_1.gif', writer='imagemagick') # 애니메이션 저장"
   ]
  },
  {
   "cell_type": "markdown",
   "id": "a48261c9",
   "metadata": {},
   "source": [
    "-> pycharm"
   ]
  },
  {
   "cell_type": "markdown",
   "id": "861e2f73",
   "metadata": {},
   "source": [
    "<img src='1/20231010_150423_132.jpg' />"
   ]
  },
  {
   "cell_type": "markdown",
   "id": "7eea007a",
   "metadata": {},
   "source": [
    "$$ J = \\frac{1}{n}\\sum_{i=1}^{n}(y-\\hat{y})^2 \\rightarrow MSE $$\n",
    "$$ \\frac{\\partial J} {\\partial w} = -\\frac{1}{2n}\\sum_{i=1}^{n}(y-\\hat{y})x $$\n",
    "$$ \\frac{\\partial J} {\\partial b} = -\\frac{1}{2n}\\sum_{i=1}^{n}(y-\\hat{y}) $$\n",
    "$$ w \\leftarrow w - \\alpha \\frac{\\partial J} {\\partial w} $$\n",
    "$$ b \\leftarrow b - \\alpha \\frac{\\partial J} {\\partial b} $$"
   ]
  },
  {
   "cell_type": "code",
   "execution_count": 7,
   "id": "808bf44c",
   "metadata": {},
   "outputs": [],
   "source": [
    "x_train = np.array([\n",
    "    [1],\n",
    "    [2],\n",
    "    [4],\n",
    "    [5],\n",
    "    [6],\n",
    "    [7]\n",
    "])\n",
    "\n",
    "y_train = np.array([\n",
    "    [4],\n",
    "    [-12],\n",
    "    [3],\n",
    "    [-11],\n",
    "    [-5],\n",
    "    [-17]\n",
    "])"
   ]
  },
  {
   "cell_type": "code",
   "execution_count": 18,
   "id": "29bc3fd7",
   "metadata": {
    "collapsed": true
   },
   "outputs": [
    {
     "name": "stdout",
     "output_type": "stream",
     "text": [
      "[1.95] [1.00000019] [547.83333333]\n",
      "[-1.80919647] [1.00019038] [42.87142337]\n",
      "[-1.80923277] [1.00038056] [42.87134548]\n",
      "[-1.80926906] [1.00057075] [42.8712676]\n",
      "[-1.80930536] [1.00076093] [42.87118974]\n",
      "[-1.80934165] [1.00095112] [42.87111189]\n",
      "[-1.80937795] [1.00114131] [42.87103406]\n",
      "[-1.80941424] [1.00133149] [42.87095624]\n",
      "[-1.80945054] [1.00152168] [42.87087844]\n",
      "[-1.80948683] [1.00171186] [42.87080065]\n",
      "[-1.80952313] [1.00190205] [42.87072288]\n",
      "[-1.80955942] [1.00209224] [42.87064512]\n",
      "[-1.80959572] [1.00228242] [42.87056738]\n",
      "[-1.80963201] [1.00247261] [42.87048965]\n",
      "[-1.80966831] [1.00266279] [42.87041194]\n",
      "[-1.8097046] [1.00285298] [42.87033424]\n",
      "[-1.8097409] [1.00304317] [42.87025656]\n",
      "[-1.80977719] [1.00323335] [42.87017889]\n",
      "[-1.80981349] [1.00342354] [42.87010123]\n",
      "[-1.80984978] [1.00361372] [42.87002359]\n",
      "[-1.80988608] [1.00380391] [42.86994597]\n",
      "[-1.80992237] [1.0039941] [42.86986836]\n",
      "[-1.80995867] [1.00418428] [42.86979076]\n",
      "[-1.80999496] [1.00437447] [42.86971318]\n",
      "[-1.81003126] [1.00456465] [42.86963562]\n",
      "[-1.81006755] [1.00475484] [42.86955807]\n",
      "[-1.81010385] [1.00494503] [42.86948053]\n",
      "[-1.81014014] [1.00513521] [42.86940301]\n",
      "[-1.81017644] [1.0053254] [42.86932551]\n",
      "[-1.81021273] [1.00551558] [42.86924802]\n",
      "[-1.81024903] [1.00570577] [42.86917054]\n",
      "[-1.81028532] [1.00589596] [42.86909308]\n",
      "[-1.81032162] [1.00608614] [42.86901563]\n",
      "[-1.81035791] [1.00627633] [42.8689382]\n",
      "[-1.81039421] [1.00646651] [42.86886078]\n",
      "[-1.8104305] [1.0066567] [42.86878338]\n",
      "[-1.8104668] [1.00684689] [42.86870599]\n",
      "[-1.81050309] [1.00703707] [42.86862862]\n",
      "[-1.81053939] [1.00722726] [42.86855126]\n",
      "[-1.81057568] [1.00741744] [42.86847392]\n",
      "[-1.81061198] [1.00760763] [42.86839659]\n",
      "[-1.81064827] [1.00779782] [42.86831928]\n",
      "[-1.81068457] [1.007988] [42.86824198]\n",
      "[-1.81072086] [1.00817819] [42.8681647]\n",
      "[-1.81075716] [1.00836837] [42.86808743]\n",
      "[-1.81079345] [1.00855856] [42.86801017]\n",
      "[-1.81082975] [1.00874875] [42.86793294]\n",
      "[-1.81086604] [1.00893893] [42.86785571]\n",
      "[-1.81090234] [1.00912912] [42.8677785]\n",
      "[-1.81093863] [1.0093193] [42.86770131]\n"
     ]
    }
   ],
   "source": [
    "w_ = 3\n",
    "b_ = 1\n",
    "\n",
    "for i in range(50000):\n",
    "    y_hat = w_ * x_train + b_ # 예측값(hypothesis, y_hat), y^ = Wx + b\n",
    "    n = len(x_train) # 데이터 길이\n",
    "    \n",
    "    # 미분\n",
    "    D_m = (-1/n) * sum(x_train * (y_train - y_hat)) # cost(J) 를 W로 편미분(기울기)\n",
    "    D_b = (-1/n) * sum(y_train - y_pred) # cost(J) 를 b로 편미분 (y절편)\n",
    "\n",
    "    # 파라미터 갱신\n",
    "    w_ = w_ - 0.01 * D_m # w갱신\n",
    "    b_ = b_ - 0.01 * D_b # b갱신\n",
    "    \n",
    "    c_ = (1/n) * sum( (y_train - y_hat)**2 ) # cost = MSE\n",
    "    if i%1000==0:\n",
    "        print(w_, b_, c_)"
   ]
  },
  {
   "cell_type": "code",
   "execution_count": 23,
   "id": "611dd802",
   "metadata": {},
   "outputs": [],
   "source": [
    "def grade_w(x, y, w_, b_):\n",
    "    y_hat = w_ * x + b_ # 예측값(hypothesis, y_hat), y^ = Wx + b\n",
    "    n = len(x) # 데이터 길이\n",
    "    result = 0\n",
    "    for x_i, y_i, y_hat_i in zip(x, y, y_hat):\n",
    "        result += (y_i- y_hat_i) * x_i\n",
    "    return 1/(2*n)*result"
   ]
  },
  {
   "cell_type": "code",
   "execution_count": 24,
   "id": "1e736a38",
   "metadata": {},
   "outputs": [],
   "source": [
    "def grade_b(x, y, w_, b_):\n",
    "    y_hat = w_ * x + b_ # 예측값(hypothesis, y_hat), y^ = Wx + b\n",
    "    n = len(x) # 데이터 길이\n",
    "    result = 0\n",
    "    for y_i, y_hat_i in zip(y, y_hat):\n",
    "        result += (y_i - y_hat_i)\n",
    "    return 1/(2*n)*result"
   ]
  },
  {
   "cell_type": "code",
   "execution_count": 26,
   "id": "74b7a8b9",
   "metadata": {},
   "outputs": [],
   "source": [
    "def cost(x,y,w_,b_):\n",
    "    y_hat = w_ * x + b_ # 예측값(hypothesis, y_hat), y^ = Wx + b\n",
    "    n = len(x) # 데이터 길이\n",
    "    result = 0\n",
    "    for y_i, y_hat_i in zip(y, y_hat):\n",
    "        result += (y_i - y_hat_i)\n",
    "    return 1/(2*n)*result\n",
    "    c_ = (1/n) * sum( (y_train - y_hat)**2 ) # cost = MSE"
   ]
  },
  {
   "cell_type": "code",
   "execution_count": 28,
   "id": "4a435935",
   "metadata": {},
   "outputs": [
    {
     "name": "stdout",
     "output_type": "stream",
     "text": [
      "[2.99999996] [1.00000019] [-9.91666669]\n",
      "[2.99996367] [1.00019038] [-9.91668616]\n",
      "[2.99992737] [1.00038056] [-9.91670564]\n",
      "[2.99989108] [1.00057075] [-9.91672512]\n",
      "[2.99985478] [1.00076093] [-9.9167446]\n",
      "[2.99981849] [1.00095112] [-9.91676408]\n",
      "[2.99978219] [1.00114131] [-9.91678356]\n",
      "[2.9997459] [1.00133149] [-9.91680303]\n",
      "[2.9997096] [1.00152168] [-9.91682251]\n",
      "[2.99967331] [1.00171186] [-9.91684199]\n",
      "[2.99963701] [1.00190205] [-9.91686147]\n",
      "[2.99960072] [1.00209224] [-9.91688095]\n",
      "[2.99956442] [1.00228242] [-9.91690043]\n",
      "[2.99952813] [1.00247261] [-9.9169199]\n",
      "[2.99949183] [1.00266279] [-9.91693938]\n",
      "[2.99945554] [1.00285298] [-9.91695886]\n",
      "[2.99941924] [1.00304317] [-9.91697834]\n",
      "[2.99938295] [1.00323335] [-9.91699782]\n",
      "[2.99934665] [1.00342354] [-9.9170173]\n",
      "[2.99931036] [1.00361372] [-9.91703677]\n",
      "[2.99927406] [1.00380391] [-9.91705625]\n",
      "[2.99923777] [1.0039941] [-9.91707573]\n",
      "[2.99920147] [1.00418428] [-9.91709521]\n",
      "[2.99916518] [1.00437447] [-9.91711469]\n",
      "[2.99912888] [1.00456465] [-9.91713417]\n",
      "[2.99909259] [1.00475484] [-9.91715364]\n",
      "[2.99905629] [1.00494503] [-9.91717312]\n",
      "[2.99902] [1.00513521] [-9.9171926]\n",
      "[2.9989837] [1.0053254] [-9.91721208]\n",
      "[2.99894741] [1.00551558] [-9.91723156]\n",
      "[2.99891111] [1.00570577] [-9.91725104]\n",
      "[2.99887482] [1.00589596] [-9.91727051]\n",
      "[2.99883852] [1.00608614] [-9.91728999]\n",
      "[2.99880223] [1.00627633] [-9.91730947]\n",
      "[2.99876593] [1.00646651] [-9.91732895]\n",
      "[2.99872964] [1.0066567] [-9.91734843]\n",
      "[2.99869334] [1.00684689] [-9.91736791]\n",
      "[2.99865705] [1.00703707] [-9.91738738]\n",
      "[2.99862075] [1.00722726] [-9.91740686]\n",
      "[2.99858446] [1.00741744] [-9.91742634]\n",
      "[2.99854816] [1.00760763] [-9.91744582]\n",
      "[2.99851187] [1.00779782] [-9.9174653]\n",
      "[2.99847557] [1.007988] [-9.91748478]\n",
      "[2.99843928] [1.00817819] [-9.91750425]\n",
      "[2.99840298] [1.00836837] [-9.91752373]\n",
      "[2.99836669] [1.00855856] [-9.91754321]\n",
      "[2.99833039] [1.00874875] [-9.91756269]\n",
      "[2.9982941] [1.00893893] [-9.91758217]\n",
      "[2.9982578] [1.00912912] [-9.91760165]\n",
      "[2.99822151] [1.0093193] [-9.91762112]\n"
     ]
    }
   ],
   "source": [
    "w_ = 3\n",
    "b_ = 1\n",
    "\n",
    "for i in range(50000):\n",
    "    # D_b = (-1/n) * sum(y_train - y_pred) # cost(J) 를 b로 편미분 (y절편)\n",
    "    dJ_dw = grade_w(x_train, y_train, w_, b_)\n",
    "    dJ_db = grade_b(x_train, y_train, w_, b_)\n",
    "    \n",
    "    # 파라미터 갱신\n",
    "    w_ = w_ - 0.01 * D_m # w갱신\n",
    "    b_ = b_ - 0.01 * D_b # b갱신\n",
    "    c_ = cost(x_train, y_train, w_, b_)\n",
    "    \n",
    "    if i%1000==0:\n",
    "        print(w_, b_, c_)"
   ]
  },
  {
   "cell_type": "code",
   "execution_count": null,
   "id": "9cdd90e1",
   "metadata": {},
   "outputs": [],
   "source": [
    "# Simple linear regression model:\n",
    "class LinearRegression(object):\n",
    "    def __init__(self,w=1,b=1, lr=0.01):\n",
    "        self.lr=lr\n",
    "        self.w=np.array([[w]])\n",
    "        self.b=np.array([b])\n",
    "\n",
    "    def cost(self,x,y):\n",
    "        pred = x@self.w+self.b  # predicted y-values\n",
    "        e=y-pred             # error term\n",
    "        return np.mean(e**2)  # mean squared error\n",
    "\n",
    "    def fit(self, x,y):\n",
    "        pred = x@self.w+self.b\n",
    "        e=y-pred\n",
    "        dJ_dw=(np.mean(e*(-2*x), axis=0)) # partial derivate of J with respect to w\n",
    "        dJ_db=(np.mean(e*(-2),axis=0)) # partial derivate of J with respect to b\n",
    "        self.w = (self.w.T-self.lr*dJ_dw).T  # update w\n",
    "        self.b = self.b - self.lr*dJ_db    # update b\n",
    "\n",
    "    def predict(self, x):\n",
    "        return (x @ self.w.T + self.b)  # return predicted values\n",
    "\n",
    "    def params(self):\n",
    "        return (self.w,self.b)   # return parameters"
   ]
  },
  {
   "cell_type": "code",
   "execution_count": null,
   "id": "111d4a49",
   "metadata": {},
   "outputs": [],
   "source": [
    "# Import libraries\n",
    "import numpy as np\n",
    "import matplotlib.pyplot as plt\n",
    "from mpl_toolkits.mplot3d import Axes3D\n",
    "import celluloid\n",
    "from celluloid import Camera"
   ]
  },
  {
   "cell_type": "code",
   "execution_count": null,
   "id": "57925a33",
   "metadata": {},
   "outputs": [],
   "source": [
    "# Introduce training data\n",
    "x_train = np.array([\n",
    "    [1],\n",
    "    [2],\n",
    "    [4],\n",
    "    [5],\n",
    "    [6],\n",
    "    [7]\n",
    "])\n",
    "y_train = np.array([\n",
    "    [4],\n",
    "    [-12],\n",
    "    [3],\n",
    "    [-11],\n",
    "    [-5],\n",
    "    [-17]\n",
    "])\n",
    "print('x_train:', x_train,'\\ny_train:', y_train)"
   ]
  },
  {
   "cell_type": "code",
   "execution_count": null,
   "id": "9fb15b87",
   "metadata": {},
   "outputs": [],
   "source": [
    "# Introduce lists where data points are being stored:\n",
    "w_list=[]   # list contains weights\n",
    "b_list=[]   # list contains biases\n",
    "c_list=[]   # list contains costs\n",
    "ys_list=[]  # store arrays of predicted y-values for xs ( -> plot regression line!)\n",
    "cl_list = [] # list contains predicted y-values for x_train ( -> plot connecting lines!)\n",
    "\n",
    "xs= np.array([    # set x-values for regression line plot\n",
    "            [-3],\n",
    "             [10]\n",
    "             ])\n",
    "xs"
   ]
  },
  {
   "cell_type": "code",
   "execution_count": null,
   "id": "68c848df",
   "metadata": {},
   "outputs": [],
   "source": [
    "# Train model:\n",
    "model=LinearRegression(w=3,b=-1,lr=0.001) # set initial parameters and learning rate\n",
    "model"
   ]
  },
  {
   "cell_type": "code",
   "execution_count": null,
   "id": "5bca09fc",
   "metadata": {},
   "outputs": [],
   "source": [
    "for i in range(60000):      # set number of epochs\n",
    "    w_list.append(model.params()[0])    # append weights (=slopes) to list\n",
    "    b_list.append(model.params()[1])    # append biases (=y-intercepts) to list\n",
    "    c_list.append(model.cost(x_train,y_train))  # append costs to list\n",
    "    ys_list.append(model.predict(xs).T)     # append pairs of predicted y-values for xs\n",
    "    cl_list.append(model.predict(x_train).T) # append predicted y-values for x_train to list\n",
    "    model.fit(x_train, y_train) # fit model"
   ]
  },
  {
   "cell_type": "code",
   "execution_count": null,
   "id": "84adcb3c",
   "metadata": {},
   "outputs": [],
   "source": [
    "# print parameters and costs after all epochs\n",
    "print(\"weight: \" + str( model.params()[0]) )\n",
    "print(\"y-intercept: \" + str( model.params()[1]) )\n",
    "print(\"costs: \"+ str(model.cost(x_train, y_train)))"
   ]
  },
  {
   "cell_type": "code",
   "execution_count": null,
   "id": "9a59a609",
   "metadata": {},
   "outputs": [],
   "source": [
    "# Define which epochs/data points to plot\n",
    "a = np.arange(0, 50, 1).tolist()\n",
    "b = np.arange(50, 100, 5).tolist()\n",
    "c = np.arange(100, 12000, 200).tolist()\n",
    "p = a + b + c  # points we want to plot\n",
    "p"
   ]
  },
  {
   "cell_type": "code",
   "execution_count": null,
   "id": "c6ecb7db",
   "metadata": {},
   "outputs": [],
   "source": [
    "# Turn lists into arrays\n",
    "w = np.array(w_list).flatten()\n",
    "b = np.array(b_list).flatten()\n",
    "c = np.array(c_list).flatten()\n",
    "ys = np.array(ys_list)\n",
    "p = np.array(p)"
   ]
  },
  {
   "cell_type": "code",
   "execution_count": null,
   "id": "75f1bac6",
   "metadata": {},
   "outputs": [],
   "source": [
    "# Create first animation:\n",
    "fig ,axs = plt.subplots(2,2,figsize=(10, 10))  # create figure\n",
    "#labelsize_ = 14\n",
    "camera = Camera(fig)  # create camera\n",
    "print(len(p))\n",
    "for idx , i in enumerate(p):\n",
    "    if idx%7==0:\n",
    "        print(\"진행중:\",idx)\n",
    "        # 서브플롯 업데이트\n",
    "        axs[0, 0].plot(xs.T.flatten(), ys[i].flatten(), color='r')\n",
    "        axs[0, 0].scatter(x_train, y_train, color='b', marker='x', s=44)\n",
    "        axs[0, 0].set_title(f\"선형 피팅 - Epoch: {i}\")\n",
    "\n",
    "        axs[0, 1].plot(w[:i + 1], color='blue', linestyle=\"dashed\", alpha=0.5)\n",
    "        axs[0, 1].set_title(\"w\")\n",
    "\n",
    "        axs[1, 0].plot(b[:i + 1], color='red', linestyle=\"dashed\", alpha=0.5)\n",
    "        axs[1, 0].set_title(\"b\")\n",
    "\n",
    "        axs[1, 1].plot(c[:i + 1], color='black', linestyle=\"dashed\")\n",
    "        axs[1, 1].set_title(\"비용\")\n",
    "\n",
    "        plt.tight_layout()\n",
    "        camera.snap()\n",
    "\n",
    "animation = camera.animate(interval=5,\n",
    "                           repeat=False, repeat_delay=500)  # create animation\n",
    "animation.save('media/SimpleLinReg_1.gif', writer='imagemagick')  # save animation\n"
   ]
  }
 ],
 "metadata": {
  "kernelspec": {
   "display_name": "Python 3 (ipykernel)",
   "language": "python",
   "name": "python3"
  },
  "language_info": {
   "codemirror_mode": {
    "name": "ipython",
    "version": 3
   },
   "file_extension": ".py",
   "mimetype": "text/x-python",
   "name": "python",
   "nbconvert_exporter": "python",
   "pygments_lexer": "ipython3",
   "version": "3.10.9"
  }
 },
 "nbformat": 4,
 "nbformat_minor": 5
}
