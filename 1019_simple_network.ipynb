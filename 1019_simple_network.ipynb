{
 "cells": [
  {
   "cell_type": "code",
   "execution_count": 1,
   "id": "ee87fd9e",
   "metadata": {},
   "outputs": [
    {
     "data": {
      "text/plain": [
       "'C:\\\\Users\\\\Admin\\\\Jieun\\\\1019_deeplearning_from_scratch\\\\ch04_1018'"
      ]
     },
     "execution_count": 1,
     "metadata": {},
     "output_type": "execute_result"
    }
   ],
   "source": [
    "pwd"
   ]
  },
  {
   "cell_type": "code",
   "execution_count": 2,
   "id": "d733319d",
   "metadata": {},
   "outputs": [],
   "source": [
    "import sys, os\n",
    "sys.path.append(os.pardir)\n",
    "import numpy as np\n",
    "from common.functions2 import * "
   ]
  },
  {
   "cell_type": "code",
   "execution_count": 3,
   "id": "bc2672ed",
   "metadata": {},
   "outputs": [],
   "source": [
    "class SimpleNet:\n",
    "    def __init__(self):\n",
    "        self.W = np.random.randn(2, 3) # 정규 분포(Noraml Distribution)으로 초기화\n",
    "    def predict(self, x):\n",
    "        return np.dot(x, self.W)\n",
    "    def loss(self, x, t):\n",
    "        z = self.predict(x)\n",
    "        y = softmax(z)\n",
    "        loss = cross_entropy_error(y, t)\n",
    "        return loss"
   ]
  },
  {
   "cell_type": "code",
   "execution_count": 4,
   "id": "cf47a32e",
   "metadata": {},
   "outputs": [
    {
     "data": {
      "text/plain": [
       "array([[-0.2167532 ,  0.71529249, -0.63341435],\n",
       "       [-1.29153399,  1.54186071,  0.68407286]])"
      ]
     },
     "execution_count": 4,
     "metadata": {},
     "output_type": "execute_result"
    }
   ],
   "source": [
    "net = SimpleNet()\n",
    "net.W"
   ]
  },
  {
   "cell_type": "code",
   "execution_count": 5,
   "id": "a37d59f6",
   "metadata": {},
   "outputs": [
    {
     "data": {
      "text/plain": [
       "array([-1.29243252,  1.81685013,  0.23561696])"
      ]
     },
     "execution_count": 5,
     "metadata": {},
     "output_type": "execute_result"
    }
   ],
   "source": [
    "x = np.array([0.6, 0.9])\n",
    "p = net.predict(x)\n",
    "p"
   ]
  },
  {
   "cell_type": "code",
   "execution_count": 6,
   "id": "72868154",
   "metadata": {},
   "outputs": [
    {
     "data": {
      "text/plain": [
       "1.804659446172905"
      ]
     },
     "execution_count": 6,
     "metadata": {},
     "output_type": "execute_result"
    }
   ],
   "source": [
    "t = np.array([0, 0, 1])\n",
    "net.loss(x, t)"
   ]
  },
  {
   "cell_type": "code",
   "execution_count": 7,
   "id": "d76588d1",
   "metadata": {},
   "outputs": [],
   "source": [
    "def f(W): return net.loss(x, t)"
   ]
  },
  {
   "cell_type": "code",
   "execution_count": 8,
   "id": "2670ce78",
   "metadata": {},
   "outputs": [],
   "source": [
    "dW = numerical_gradient(f, net.W)"
   ]
  },
  {
   "cell_type": "markdown",
   "id": "f37c4318",
   "metadata": {},
   "source": []
  },
  {
   "cell_type": "code",
   "execution_count": 9,
   "id": "fa694e99",
   "metadata": {},
   "outputs": [],
   "source": [
    "class TwoLayerNet:\n",
    "    def __init__(self, input_size, hidden_size, output_size, weight_init_std=0.01):\n",
    "        # 기울기 초기화\n",
    "        self.params = {}\n",
    "        self.params['W1'] = weight_init_std * np.random.randn(input_size, hidden_size)\n",
    "        self.params['b1'] = np.zeros(hidden_size)\n",
    "        self.params['W2'] = weight_init_std * np.random.randn(input_size, hidden_size)\n",
    "        self.params['b2'] = np.zeros(output_size)\n",
    "    def predict(self, x):\n",
    "        W1, W2 = self.params['W1']. self.params['W2']\n",
    "        b1, b2 = self.params['b1']. self.params['b2']\n",
    "        a1 = np.dot(x, W1) + b1\n",
    "        z1 = sigmoid(a1)\n",
    "        a2 = np.dot(z1, W1) + b2\n",
    "        z2 = sigmoid(a2)\n",
    "        y = softmax(a2)\n",
    "        return y\n",
    "    def loss(self, x, t):\n",
    "        z = self.predict(x)\n",
    "        y = softmax(z)\n",
    "        loss = cross_entropy_error(y, t)\n",
    "        return loss\n",
    "    def accuracy(self, x, t):\n",
    "        y = self.predict(x)\n",
    "        y = np.argmax(y, axis=1)\n",
    "        t = np.argmax(t, axis=1)\n",
    "        accuracy = np.sum(y==t)/float(x.shape[0])\n",
    "    def numerical_gradient(self, x, t):\n",
    "        loss_W = lambda W: self.loss(x, t)\n",
    "        grads = {}\n",
    "        # 아래에 코드 채우세요\n",
    "        grads['W1'] = numerical_gradient(loss_W, self.params['W1'])\n",
    "        grads['b1'] = numerical_gradient(loss_W, self.params['b1'])\n",
    "        grads['W2'] = numerical_gradient(loss_W, self.params['W2'])\n",
    "        grads['b2'] = numerical_gradient(loss_W, self.params['b2'])\n",
    "        return grads\n",
    "    def gradient(self, x, t):\n",
    "        W1, W2 = self.params['W1'], self.params['W2']\n",
    "        W1, W2 = self.params['b1'], self.params['b2']\n",
    "        grads = {}\n",
    "        batch_num = x.shape[0]\n",
    "        # forward\n",
    "#             기존 코드 참고하시면 2개의 레이어가 있어요\n",
    "        a1 = np.dot(x, W1) + b1\n",
    "        z1 = sigmoid(a1)\n",
    "        a2 = np.dot(z1, W2) + b2\n",
    "        y = softmax(a2)\n",
    "        # backward\n",
    "        dy = (y-t) / batch_num # 마지막 레이어의 델타\n",
    "        grads['W2'] = np.dot(z1.T, dy)\n",
    "        grads['b2'] = np.sum(dy, axis=0)\n",
    "        da1 = np.dot(dy, W2.T)\n",
    "        dz1 = sigmoid_grad(a1) * da1\n",
    "        grads['W1'] = np.dot(x.T, dz1)\n",
    "        grads['b1'] = np.sum(dz1, axis=0)\n",
    "        return grads"
   ]
  },
  {
   "cell_type": "code",
   "execution_count": 10,
   "id": "1432a323",
   "metadata": {},
   "outputs": [
    {
     "name": "stdout",
     "output_type": "stream",
     "text": [
      "(784, 100)\n",
      "(100,)\n",
      "(784, 100)\n",
      "(10,)\n"
     ]
    }
   ],
   "source": [
    "net = TwoLayerNet(input_size=784, hidden_size=100, output_size=10)\n",
    "print(net.params['W1'].shape) # (784,100)\n",
    "print(net.params['b1'].shape) # (100,)\n",
    "print(net.params['W2'].shape) # (100,10)\n",
    "print(net.params['b2'].shape) # (10,)"
   ]
  },
  {
   "cell_type": "markdown",
   "id": "640e74db",
   "metadata": {},
   "source": [
    "<a href='https://m.blog.naver.com/PostView.nhn?isHttpsRedirect=true&blogId=laonple&logNo=220507299181'>역전파의 개념</a>"
   ]
  },
  {
   "cell_type": "markdown",
   "id": "3d21e8ba",
   "metadata": {},
   "source": [
    "<img src='images/back.jpg' />"
   ]
  },
  {
   "cell_type": "markdown",
   "id": "cfe67d5c",
   "metadata": {},
   "source": [
    "## 무시무시 어려운 back propagation"
   ]
  },
  {
   "cell_type": "markdown",
   "id": "54ec7ff6",
   "metadata": {},
   "source": [
    "$$ C = \\frac{1}{2n}\\sum_{x} (y(x) - a^{L}(x))^{2}  $$"
   ]
  },
  {
   "cell_type": "markdown",
   "id": "fe115ae8",
   "metadata": {},
   "source": [
    "<img src='images/cute.jpg' />"
   ]
  },
  {
   "cell_type": "markdown",
   "id": "9d1f4e78",
   "metadata": {},
   "source": [
    "$$ \\delta_{j}^{l} \\equiv \\frac{\\partial C}{\\partial{z}_{j}^{l}} $$"
   ]
  },
  {
   "cell_type": "markdown",
   "id": "397cc20d",
   "metadata": {},
   "source": [
    "$$ \\delta_{j}^{L} \\equiv \\frac{\\partial C}{\\partial{a}_{j}^{L}} \\sigma^{'}(z_{j}^{L}) $$ "
   ]
  },
  {
   "cell_type": "markdown",
   "id": "5caa4f23",
   "metadata": {},
   "source": [
    "$$ C = \\frac{1}{2n}\\sum_{x} (y(x) - a^{L}(x))^{2}  $$\n",
    "↑ 요거 미분하면 ↓\n",
    "$$ \\frac{\\partial C}{\\partial{a}_{j}^{L}} = (a_{j}^{L} - y_{j}) $$ "
   ]
  },
  {
   "cell_type": "markdown",
   "id": "d51372ae",
   "metadata": {},
   "source": [
    "$$ \\frac{\\partial C}{\\partial{b}_{j}^{l}} = \\delta_{j}^{l} $$\n",
    "$$ \\frac{\\partial C}{\\partial{w_{jk}^{l}}} = a_{k}^{l-2} \\delta_{j}^{l} $$\n",
    "$$ \\frac{\\partial C}{\\partial \\omega} = a_{in} \\delta_{out} $$"
   ]
  },
  {
   "cell_type": "markdown",
   "id": "e870d469",
   "metadata": {},
   "source": [
    "<mark>☆ 하이라이트 ☆</mark>\n",
    "<img src='images/very_important.jpg' />"
   ]
  },
  {
   "cell_type": "markdown",
   "id": "50c38b82",
   "metadata": {},
   "source": [
    "<a href='http://neuralnetworksanddeeplearning.com/chap2.html'>역전파</a>"
   ]
  },
  {
   "cell_type": "markdown",
   "id": "c148c937",
   "metadata": {},
   "source": [
    "<img src='images/summary.jpg'/>"
   ]
  },
  {
   "cell_type": "markdown",
   "id": "869fbc37",
   "metadata": {},
   "source": [
    "## 미니 배치 학습 구현하기"
   ]
  },
  {
   "cell_type": "code",
   "execution_count": 11,
   "id": "9a094da8",
   "metadata": {},
   "outputs": [],
   "source": [
    "from common.two_layer_net import TwoLayerNet\n",
    "from dataset.mnist import load_mnist"
   ]
  },
  {
   "cell_type": "code",
   "execution_count": 12,
   "id": "89c7101c",
   "metadata": {},
   "outputs": [],
   "source": [
    "# 데이터 읽기\n",
    "(x_train, t_train), (x_test, y_test) = load_mnist(normalize=True, one_hot_label=True)\n",
    "network = TwoLayerNet(input_size=784, hidden_size=50, output_size=10)"
   ]
  },
  {
   "cell_type": "code",
   "execution_count": 13,
   "id": "18d3cac5",
   "metadata": {},
   "outputs": [],
   "source": [
    "# 하이퍼 파라미터\n",
    "iters_num = 10000 # 반복 횟수를 적절히 설정\n",
    "train_size = x_train.shape[0]\n",
    "batch_size = 100 # 미니 배치 크기\n",
    "learing_rate = 0.1"
   ]
  },
  {
   "cell_type": "code",
   "execution_count": 14,
   "id": "81d3ca71",
   "metadata": {},
   "outputs": [
    {
     "ename": "NameError",
     "evalue": "name 'numerical_gradient' is not defined",
     "output_type": "error",
     "traceback": [
      "\u001b[1;31m---------------------------------------------------------------------------\u001b[0m",
      "\u001b[1;31mNameError\u001b[0m                                 Traceback (most recent call last)",
      "Cell \u001b[1;32mIn[14], line 14\u001b[0m\n\u001b[0;32m     12\u001b[0m t_batch \u001b[38;5;241m=\u001b[39m t_train[batch_mask]\n\u001b[0;32m     13\u001b[0m \u001b[38;5;66;03m# 기울기 계산\u001b[39;00m\n\u001b[1;32m---> 14\u001b[0m grad \u001b[38;5;241m=\u001b[39m \u001b[43mnetwork\u001b[49m\u001b[38;5;241;43m.\u001b[39;49m\u001b[43mnumerical_gradient\u001b[49m\u001b[43m(\u001b[49m\u001b[43mx_batch\u001b[49m\u001b[43m,\u001b[49m\u001b[43m \u001b[49m\u001b[43mt_batch\u001b[49m\u001b[43m)\u001b[49m\n\u001b[0;32m     15\u001b[0m \u001b[38;5;66;03m# 매개변수 갱신\u001b[39;00m\n\u001b[0;32m     16\u001b[0m \u001b[38;5;28;01mfor\u001b[39;00m key \u001b[38;5;129;01min\u001b[39;00m (\u001b[38;5;124m'\u001b[39m\u001b[38;5;124mW1\u001b[39m\u001b[38;5;124m'\u001b[39m, \u001b[38;5;124m'\u001b[39m\u001b[38;5;124mb1\u001b[39m\u001b[38;5;124m'\u001b[39m,\u001b[38;5;124m'\u001b[39m\u001b[38;5;124mW2\u001b[39m\u001b[38;5;124m'\u001b[39m, \u001b[38;5;124m'\u001b[39m\u001b[38;5;124mb2\u001b[39m\u001b[38;5;124m'\u001b[39m):\n",
      "File \u001b[1;32m~\\Jieun\\1019_deeplearning_from_scratch\\ch04_1018\\common\\two_layer_net.py:34\u001b[0m, in \u001b[0;36mTwoLayerNet.numerical_gradient\u001b[1;34m(self, x, t)\u001b[0m\n\u001b[0;32m     32\u001b[0m grads \u001b[38;5;241m=\u001b[39m {}\n\u001b[0;32m     33\u001b[0m \u001b[38;5;66;03m# 아래에 코드 채우세요\u001b[39;00m\n\u001b[1;32m---> 34\u001b[0m grads[\u001b[38;5;124m'\u001b[39m\u001b[38;5;124mW1\u001b[39m\u001b[38;5;124m'\u001b[39m] \u001b[38;5;241m=\u001b[39m \u001b[43mnumerical_gradient\u001b[49m(loss_W, \u001b[38;5;28mself\u001b[39m\u001b[38;5;241m.\u001b[39mparams[\u001b[38;5;124m'\u001b[39m\u001b[38;5;124mW1\u001b[39m\u001b[38;5;124m'\u001b[39m])\n\u001b[0;32m     35\u001b[0m grads[\u001b[38;5;124m'\u001b[39m\u001b[38;5;124mb1\u001b[39m\u001b[38;5;124m'\u001b[39m] \u001b[38;5;241m=\u001b[39m numerical_gradient(loss_W, \u001b[38;5;28mself\u001b[39m\u001b[38;5;241m.\u001b[39mparams[\u001b[38;5;124m'\u001b[39m\u001b[38;5;124mb1\u001b[39m\u001b[38;5;124m'\u001b[39m])\n\u001b[0;32m     36\u001b[0m grads[\u001b[38;5;124m'\u001b[39m\u001b[38;5;124mW2\u001b[39m\u001b[38;5;124m'\u001b[39m] \u001b[38;5;241m=\u001b[39m numerical_gradient(loss_W, \u001b[38;5;28mself\u001b[39m\u001b[38;5;241m.\u001b[39mparams[\u001b[38;5;124m'\u001b[39m\u001b[38;5;124mW2\u001b[39m\u001b[38;5;124m'\u001b[39m])\n",
      "\u001b[1;31mNameError\u001b[0m: name 'numerical_gradient' is not defined"
     ]
    }
   ],
   "source": [
    "tarin_loss_list = []\n",
    "train_acc_list = []\n",
    "test_acc_list = []\n",
    "# 1 epoch 당 반복수\n",
    "iter_per_epoch = max(train_size / batch_size, 1)\n",
    "for i in range(iters_num):\n",
    "    # 미니 배치 획득\n",
    "    batch_mask = np.random.choice(train_size, batch_size)\n",
    "    # 60000개의 데이터 중 랜덤으로 batch_size만큼 데이터를 학습함.\n",
    "    # 이것을 확률적 경사 하강법 (Stochastic Gradient Descent SGD)\n",
    "    x_batch = x_train[batch_mask]\n",
    "    t_batch = t_train[batch_mask]\n",
    "    # 기울기 계산\n",
    "    grad = network.numerical_gradient(x_batch, t_batch)\n",
    "    # 매개변수 갱신\n",
    "    for key in ('W1', 'b1','W2', 'b2'):\n",
    "        network.params[key] -= learing_rate * grad[key]\n",
    "    # 학습 경과 기록\n",
    "    loss = network.loss(x_batch, t_batch)\n",
    "    train_loss_list.append(loss)\n",
    "    # 1 epoch 당 정확도 계산\n",
    "    if i % iter_per_epoch == 0:\n",
    "        train_acc = network.accuracy(x_train, t_train)\n",
    "        test_acc = network.accuracy(x_test, t_test)\n",
    "        train_acc_list.append(train_acc)\n",
    "        test_acc_list.append(test_acc)\n",
    "        print(\"train acc, test acc | \" + str(train_acc) + \" , \" + str(test_acc))\n",
    "# 그래프 그리기\n",
    "markers = {'train:':'o', 'test':'s'}\n",
    "x = np.arange(len(train_acc_list))\n",
    "plt.plot(x, train_acc_list, label='train acc')\n",
    "plt.plot(x, test_acc_list, label='test acc', linestyle='--')\n",
    "plt.xlabel('epochs')\n",
    "plt.ylabel('accuracy')\n",
    "plt.ylim(0, 1.0)\n",
    "plt.legend(loc='lower right')\n",
    "plt.show()"
   ]
  },
  {
   "cell_type": "code",
   "execution_count": null,
   "id": "e7bb018a",
   "metadata": {},
   "outputs": [],
   "source": []
  }
 ],
 "metadata": {
  "kernelspec": {
   "display_name": "Python 3 (ipykernel)",
   "language": "python",
   "name": "python3"
  },
  "language_info": {
   "codemirror_mode": {
    "name": "ipython",
    "version": 3
   },
   "file_extension": ".py",
   "mimetype": "text/x-python",
   "name": "python",
   "nbconvert_exporter": "python",
   "pygments_lexer": "ipython3",
   "version": "3.10.9"
  }
 },
 "nbformat": 4,
 "nbformat_minor": 5
}
