{
 "cells": [
  {
   "cell_type": "markdown",
   "metadata": {},
   "source": [
    "# Partial Derivatives (편미분)\n",
    "여기까지는 하나의 변수에 대한 함수의 미분에 대하여 다루었고\n",
    "아래 수식은 2개의 독립변수에 대한 함수의 미분을 취해야 한다.\n",
    "\n",
    "$$f(x,y) = x^2 + y^2$$\n",
    "\n",
    "함수의 변화량은 x, y 두 개에 대한 변화량의 미분을 취한다.\n",
    "이런 각각의 변수에 대한 것을 편미분이라 칭한다.\n",
    "Let's give this a try by taking the derivative of $f(x,y)$ with respect to ***x***. We write this partial derivative as follows.\n",
    "\n",
    "$$\\frac{\\partial f(x,y)}{\\partial x} = \\frac{\\partial (x^2 + y^2)}{\\partial x}$$\n",
    "\n",
    "일반 미분은 하나의 변수에 대한 기울기를 계산하는 것이고 편미분은 여러 개의 독립변수의 함수의 각각에 대한 변화량을 말한다. \n",
    "\n",
    "Since $f(x,y)$ is the sum of several simpler functions we need to take the partial derivative of each of these and sum the result. The first two parts are easy.\n",
    "\n",
    "$$\\frac{\\partial x^2}{\\partial x} = 2x$$\n",
    "\n",
    "Notice that we are following the usual rules of differentiation for any function of ***x*** here. \n",
    "\n",
    "Now we need to take the partial derivative of the last part of $f(x,y)$, which does not depend on ***x*** at all. In these care we get the following.\n",
    "\n",
    "$$\\frac{\\partial y^2}{\\partial x} = 0$$\n",
    "\n",
    "Now we can add up the parts to get the complete partail derivative of $f(x,y)$.\n",
    "\n",
    "$$\\frac{\\partial f(x,y)}{\\partial x} = 2x + 0 = 2x$$"
   ]
  },
  {
   "cell_type": "markdown",
   "metadata": {},
   "source": [
    "We can also take the partial derivative of $f(x,y)$ with respect to ***y***. The process proceeds in the following manner.\n",
    "\n",
    "$$\\frac{\\partial f(x,y)}{\\partial y} = 0 + 2y = 2y$$"
   ]
  },
  {
   "cell_type": "markdown",
   "metadata": {
    "collapsed": true
   },
   "source": [
    "## Computing a Gradient\n",
    "\n",
    "At this point, you may well ask what is the point of computing partial derivatives? Yes, they are a nifty math trick, but what are they good for? It turns out that partial derivatives are important if you want to find the analog of the slope for multi-dimensonal surfaces. We call this quantity the **gradient**. \n",
    "\n",
    "Recall that you can find minimum and maximum of curves using derivatives. In the same way, you can find the minimum and maximum of surfaces by following the gradiennt and finding the points were the gradient is zero in all directions. "
   ]
  },
  {
   "cell_type": "markdown",
   "metadata": {},
   "source": [
    "You have already examined the partial derivatives of the function, $f(x,y) = x^2 + y^2$. These partial derivatives are:\n",
    "\n",
    "$$\\frac{\\partial f(x,y)}{\\partial x} = 2x \\\\\n",
    "\\frac{\\partial f(x,y)}{\\partial y} = 2y$$\n",
    "\n",
    "In this case, the gradient is a 2-dimensional vector of the change of the function in the $x$ direction and the change in the function in the $y$ direction. This vector can be written as follows:\n",
    "\n",
    "$$ \\nabla = grad(f(x,y)) =  \\vec{g(x,y)} = \\begin{bmatrix}\\frac{\\partial f(x,y)}{\\partial x} \\\\ \\frac{\\partial f(x,y)}{\\partial y} \\end{bmatrix} = \\begin{bmatrix}2x \\\\ 2y \\end{bmatrix} $$"
   ]
  },
  {
   "cell_type": "markdown",
   "metadata": {},
   "source": [
    "$$ q = f(x,y,z) = 3x^2y^2z + 6x^32y + z^2x에서 $$\n",
    "$$  \\nabla q = \\begin{bmatrix} \n",
    "        \\frac{\\partial q}{\\partial x} \\\\\n",
    "        \\frac{\\partial q}{\\partial y}\n",
    "        \\\\ \\frac{\\partial q}{\\partial z}\n",
    "      \\end{bmatrix}\n",
    "$$"
   ]
  },
  {
   "cell_type": "code",
   "execution_count": 8,
   "metadata": {},
   "outputs": [],
   "source": [
    "# 위의 수식을 풀어보세요, x로 편미분할 때는 x를 제외한 변수는 상수로 취급"
   ]
  },
  {
   "cell_type": "markdown",
   "metadata": {},
   "source": [
    "$$ q = f(x,y,z) = 3x^2y^2z + 6x^32y + z^2x에서 $$\n",
    "\n",
    "$$  \\nabla q = \\begin{bmatrix} \n",
    "        6xy^2z + 36x^2y + z^2 \\\\\n",
    "        6x^2yz + 12x^3 \\\\\n",
    "        3x^2y^2 + 2zx\n",
    "      \\end{bmatrix}\n",
    "$$"
   ]
  },
  {
   "cell_type": "markdown",
   "metadata": {},
   "source": [
    "<img src='1/20231004_131538_404.jpg'/>"
   ]
  },
  {
   "cell_type": "markdown",
   "metadata": {},
   "source": [
    "$$ q= f(x,y, z)  = 3x^2y^2z + 6x^32y + z^2x 에서  $$  \n",
    "$$  \\nabla q = \\begin{bmatrix} \n",
    "        \\frac{\\partial^3 q}{ \\partial x^3 }\n",
    "      &   \\frac{\\partial^3 q}{ \\partial x  \\partial y^2  }  \n",
    "      &    \\frac{\\partial^3 q}{ \\partial x  \\partial z^2  }       \\\\\n",
    "       \\frac{\\partial^3 q}{ \\partial x^2 \\partial y }\n",
    "      &   \\frac{\\partial^3 q}{ \\partial  y^3  }  \n",
    "      &    \\frac{\\partial^3 q}{ \\partial y \\partial z^2 }      \n",
    "        \\\\ \\frac{\\partial^3 q}{ \\partial x^2 \\partial z }  \n",
    "       &  \\frac{\\partial^3 q}{ \\partial z \\partial y^2 }   \n",
    "        &  \\frac{\\partial^3 q}{ \\partial z^3 }   \n",
    "    \\end{bmatrix}\n",
    "$$"
   ]
  },
  {
   "cell_type": "markdown",
   "metadata": {},
   "source": [
    "$$ \\frac{\\partial q}{\\partial x} = 6xy^2z + 18x^22y + z^2 $$\n",
    "$$ \\frac{\\partial^2 q}{\\partial x^2} = 6y^2z + 36x2y $$\n",
    "$$ \\frac{\\partial^3 q}{\\partial x^3} = 72y $$"
   ]
  },
  {
   "cell_type": "markdown",
   "metadata": {},
   "source": [
    "$$ \\frac{\\partial q}{\\partial x} = 6xy^2z + 36x^2y + z^2 $$\n",
    "$$ \\frac{\\partial^2 q}{\\partial x \\partial y} = 12xyz + 36x^2 $$\n",
    "$$ \\frac{\\partial^3 q}{\\partial x \\partial y^2} = 12xz $$"
   ]
  },
  {
   "cell_type": "markdown",
   "metadata": {},
   "source": [
    "$$ \\frac{\\partial q}{\\partial x} = 6xy^2z + 18x^22y + z^2 $$\n",
    "$$ \\frac{\\partial^2 q}{\\partial x^2} = 6y^2z + 36x2y $$\n",
    "$$ \\frac{\\partial^3 q}{\\partial x^2 \\partial y} = 12yz + 72x $$"
   ]
  },
  {
   "cell_type": "code",
   "execution_count": 1,
   "metadata": {},
   "outputs": [],
   "source": [
    "import sympy as sp\n",
    "x,y,z = sp.symbols('x y z')\n",
    "q = 3*x**2* y**2*z + 6*x**3*2*y + z**2*x"
   ]
  },
  {
   "cell_type": "code",
   "execution_count": 3,
   "metadata": {},
   "outputs": [
    {
     "data": {
      "text/latex": [
       "$\\displaystyle 72 y$"
      ],
      "text/plain": [
       "72*y"
      ]
     },
     "execution_count": 3,
     "metadata": {},
     "output_type": "execute_result"
    }
   ],
   "source": [
    "sp.diff(q,x,3) # x로 3번 편미분"
   ]
  },
  {
   "cell_type": "code",
   "execution_count": 9,
   "metadata": {},
   "outputs": [
    {
     "data": {
      "text/latex": [
       "$\\displaystyle 12 x z$"
      ],
      "text/plain": [
       "12*x*z"
      ]
     },
     "execution_count": 9,
     "metadata": {},
     "output_type": "execute_result"
    }
   ],
   "source": [
    "sp.diff(q,x,y,y)"
   ]
  },
  {
   "cell_type": "code",
   "execution_count": 27,
   "metadata": {
    "scrolled": false
   },
   "outputs": [
    {
     "data": {
      "text/latex": [
       "$\\displaystyle 72 x + 12 y z$"
      ],
      "text/plain": [
       "72*x + 12*y*z"
      ]
     },
     "execution_count": 27,
     "metadata": {},
     "output_type": "execute_result"
    }
   ],
   "source": [
    "sp.expand(sp.diff(q,x,x,y))"
   ]
  },
  {
   "cell_type": "code",
   "execution_count": 19,
   "metadata": {
    "scrolled": true
   },
   "outputs": [
    {
     "name": "stdout",
     "output_type": "stream",
     "text": [
      "36*x**2*y + 6*x*y**2*z + z**2\n",
      "36*x**2*y + 6*x*y**2*z + z**2\n",
      "12*x**3 + 6*x**2*y*z\n",
      "12*x**3 + 6*x**2*y*z\n"
     ]
    }
   ],
   "source": [
    "def diff(v, *r):\n",
    "    for i in r:\n",
    "        print(sp.diff(v, i))\n",
    "        \n",
    "diff(q, x,x,y,y)"
   ]
  },
  {
   "cell_type": "code",
   "execution_count": 31,
   "metadata": {},
   "outputs": [
    {
     "data": {
      "text/latex": [
       "$\\displaystyle 12 y$"
      ],
      "text/plain": [
       "12*y"
      ]
     },
     "execution_count": 31,
     "metadata": {},
     "output_type": "execute_result"
    }
   ],
   "source": [
    "sp.diff(q, (x,2),(y,1),(z,1))"
   ]
  },
  {
   "cell_type": "code",
   "execution_count": 41,
   "metadata": {},
   "outputs": [
    {
     "data": {
      "text/plain": [
       "[[12*x**3 + 6*x**2*y*z]]"
      ]
     },
     "execution_count": 41,
     "metadata": {},
     "output_type": "execute_result"
    }
   ],
   "source": [
    "def diff(v, *r):\n",
    "    for i in r:\n",
    "        internal = []\n",
    "        outernal = []\n",
    "        for j in range(i[1]): # tuple의 우측값 만큼 반복\n",
    "            internal.append(sp.diff(v,i[0]))\n",
    "        outernal.append(internal)\n",
    "    return outernal\n",
    "diff(q, (x,2),(y,1))"
   ]
  },
  {
   "cell_type": "code",
   "execution_count": 56,
   "metadata": {},
   "outputs": [],
   "source": [
    "v = x**3"
   ]
  },
  {
   "cell_type": "code",
   "execution_count": 61,
   "metadata": {
    "scrolled": true
   },
   "outputs": [
    {
     "data": {
      "text/latex": [
       "$\\displaystyle 0$"
      ],
      "text/plain": [
       "0"
      ]
     },
     "execution_count": 61,
     "metadata": {},
     "output_type": "execute_result"
    }
   ],
   "source": [
    "v = sp.diff(v, x)\n",
    "v"
   ]
  },
  {
   "cell_type": "markdown",
   "metadata": {},
   "source": [
    "## Plotting the Gradient\n",
    "\n",
    "A plot will help you get feel for the meaning of the gradient. The code below plots the gradient of the function $f(x,y) = x^2 + y^2$ along with contours of the value of the function. Run this code and examine the plot.  "
   ]
  },
  {
   "cell_type": "code",
   "execution_count": null,
   "metadata": {
    "scrolled": false
   },
   "outputs": [],
   "source": [
    "%matplotlib inline\n",
    "import matplotlib.pyplot as plt\n",
    "import numpy as np\n",
    "import math\n",
    "\n",
    "## Create a uniform grid\n",
    "el = np.arange(-5,6)\n",
    "nx, ny = np.meshgrid(el, el, sparse=False, indexing='ij')\n",
    "\n",
    "## flatten the gird to 1-d and compute the value of the function z\n",
    "x_coord = []\n",
    "y_coord = []\n",
    "z = []\n",
    "for i in range(11):  \n",
    "    for j in range(11):\n",
    "        x_coord.append(float(-nx[i,j]))\n",
    "        y_coord.append(float(-ny[i,j]))       \n",
    "        z.append(nx[i,j]**2 + ny[i,j]**2)\n",
    "\n",
    "## perform vector arithmetic to get the x and y gradients        \n",
    "x_grad = [-2 * x for x in x_coord]\n",
    "y_grad = [-2 * y for y in y_coord] \n",
    "\n",
    "## Plot the arrows using  width for gradient\n",
    "plt.xlim(-5.5,5.5)\n",
    "plt.ylim(-5.5,5.5)\n",
    "for x, y, xg, yg in zip(list(x_coord), list(y_coord), list(x_grad), list(y_grad)):\n",
    "    if x != 0.0 or y != 0.0: ## Avoid the zero divide when scaling the arrow\n",
    "        l = math.sqrt(xg**2 + yg**2)/2.0\n",
    "        plt.quiver(x, y, xg, yg, width = l, units = 'dots')\n",
    "\n",
    "## Plot the countours of the function surface\n",
    "z = np.array(z).reshape(11,11)    \n",
    "plt.contour(el, el, z)    "
   ]
  },
  {
   "cell_type": "markdown",
   "metadata": {
    "collapsed": true
   },
   "source": [
    "Notice the following properties of this plot. \n",
    "- The arrows in the plot point in the direction of the gradient.\n",
    "- The width of the arrows is proportional to the value of the gradient. The width of the arrows and the **gradient decreases as function gets closer to the minimum**. If this is the case everywhere, you can say that a function is **convex**. It is always much easier to find minimum of convex functions.  \n",
    "- The **direction of the gradient is always perpendicular to the contours**. This is an important property of multivariate functions. \n",
    "\n",
    "## Using the gradient\n",
    "\n",
    "So, what is all this good for? Say that you want to find the minimum of the function $f(x,y) = x^2 + y^2$. It is easy to see that the minimum of this function is at $x = 0$ and $y = 0$. But, what if you did not know this solution? Then you could do the following:\n",
    "\n",
    "1. Take some starting guess.\n",
    "2. Compute the  gradient.\n",
    "3. take a small step in the direction of the gradient.\n",
    "4. Determine if the gradient is close to zero. If so, then stop, since the gradient will be zero at the minimum.\n",
    "5. Repeate steps 2, 3 and 4. \n",
    "\n",
    "The algorithm outlined above is called the **gradient decent method**. It is the basis of many real-world minimization algorithms. "
   ]
  }
 ],
 "metadata": {
  "anaconda-cloud": {},
  "kernelspec": {
   "display_name": "Python 3 (ipykernel)",
   "language": "python",
   "name": "python3"
  },
  "language_info": {
   "codemirror_mode": {
    "name": "ipython",
    "version": 3
   },
   "file_extension": ".py",
   "mimetype": "text/x-python",
   "name": "python",
   "nbconvert_exporter": "python",
   "pygments_lexer": "ipython3",
   "version": "3.10.9"
  }
 },
 "nbformat": 4,
 "nbformat_minor": 1
}
