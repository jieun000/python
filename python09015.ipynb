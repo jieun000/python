{
 "cells": [
  {
   "cell_type": "code",
   "execution_count": null,
   "id": "03409b12",
   "metadata": {},
   "outputs": [],
   "source": [
    "import numpy as np\n",
    "import cv2"
   ]
  },
  {
   "cell_type": "code",
   "execution_count": null,
   "id": "4dc03091",
   "metadata": {},
   "outputs": [],
   "source": [
    "def f(n):\n",
    "    src = np.zeros((400,400),np.uint8)\n",
    "    height_step = src.shape[1]//n\n",
    "    weight_step = src.shape[0]//n\n",
    "    leng = src.shape[1] // weight_step\n",
    "    leng_ = int(400 / leng)\n",
    "    def v(pp):\n",
    "        for i in range(leng):\n",
    "            src[i*leng_:i+height_step*leng_] += (pp*np.random.randint(256))\n",
    "        cv2.imshow('dst', src)\n",
    "        \n",
    "    cv2.namedWindow('dst')\n",
    "    cv2.createTrackbar('Brightness', 'dst', 0, 100, v)\n",
    "    v(0)\n",
    "    cv2.waitKey()\n",
    "    cv2.destroyAllWindows()\n",
    "f(15)"
   ]
  }
 ],
 "metadata": {
  "kernelspec": {
   "display_name": "Python 3 (ipykernel)",
   "language": "python",
   "name": "python3"
  },
  "language_info": {
   "codemirror_mode": {
    "name": "ipython",
    "version": 3
   },
   "file_extension": ".py",
   "mimetype": "text/x-python",
   "name": "python",
   "nbconvert_exporter": "python",
   "pygments_lexer": "ipython3",
   "version": "3.11.3"
  }
 },
 "nbformat": 4,
 "nbformat_minor": 5
}
