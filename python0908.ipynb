{
 "cells": [
  {
   "cell_type": "markdown",
   "id": "0262c340",
   "metadata": {},
   "source": [
    "## Softmax \n",
    "$$  \\begin{eqnarray}\n",
    "\\sigma(y_{i}) = \\left(\\frac{e^{y_{i}}}{ \\sum\\limits_{j} e^{y_{j}}}\\right)\n",
    "j = 1,...,n\n",
    "\\end{eqnarray}\n",
    "\n",
    "\n",
    "Normalization and Probabilities with $\\sigma(y_{i})$\n",
    "\n",
    "\\begin{eqnarray}\n",
    "y \\rightarrow \n",
    "\\begin{bmatrix}{2.}\\\\{1.}\\\\{0.1}\\end{bmatrix} \n",
    "\\longrightarrow\n",
    "\\left[\\frac{e^{y_{i}}}{ \\sum\\limits_{j} e^{y_{j}}}\\right]\n",
    "\\longrightarrow\n",
    "\\begin{bmatrix}{0.7}\\\\{0.2}\\\\{0.1}\\end{bmatrix} \n",
    "= 1\n",
    "\\end{eqnarray}\n",
    "$$"
   ]
  },
  {
   "cell_type": "code",
   "execution_count": 1,
   "id": "a570cb48",
   "metadata": {},
   "outputs": [],
   "source": [
    "import numpy as np"
   ]
  },
  {
   "cell_type": "code",
   "execution_count": null,
   "id": "22be685d",
   "metadata": {},
   "outputs": [],
   "source": [
    "data = np.array([2.0,1.0,0.1])\n",
    "denominator = sum(np.exp(data)) # np.exp(): 밑이 자연상수 e인 지수함수(e^x)로 변환\n",
    "np.exp(data[0])/denominator"
   ]
  },
  {
   "cell_type": "code",
   "execution_count": null,
   "id": "e7a369ad",
   "metadata": {},
   "outputs": [],
   "source": [
    "# 문제) 반복문으로\n",
    "data = np.array([2.0,1.0,0.1])\n",
    "denominator = sum(np.exp(data))\n",
    "[np.exp(i)/denominator for i in data]"
   ]
  },
  {
   "cell_type": "code",
   "execution_count": null,
   "id": "27e6234a",
   "metadata": {},
   "outputs": [],
   "source": [
    "# 문제2) \n",
    "data = np.array([2.0,1.0,0.1])\n",
    "denominator = sum(np.exp(data))\n",
    "sum([np.exp(i)/denominator for i in data])"
   ]
  },
  {
   "cell_type": "markdown",
   "id": "47a051ab",
   "metadata": {},
   "source": [
    "<a href='https://syj9700.tistory.com/38' />소프트맥스</a>"
   ]
  },
  {
   "cell_type": "markdown",
   "id": "b8717366",
   "metadata": {},
   "source": [
    "<img src='images/20230908_113805.jpg' />"
   ]
  },
  {
   "cell_type": "code",
   "execution_count": null,
   "id": "5ba5e7bc",
   "metadata": {},
   "outputs": [],
   "source": [
    "# 문제)\n",
    "a = [2,3,4,5,8]\n",
    "sum([i*3 for i in a])"
   ]
  },
  {
   "cell_type": "markdown",
   "id": "eedbe0db",
   "metadata": {},
   "source": [
    "<img src='images/20230908_122816.jpg' />"
   ]
  },
  {
   "cell_type": "code",
   "execution_count": null,
   "id": "7304bfcd",
   "metadata": {},
   "outputs": [],
   "source": [
    "v = [2,3,1,4,5,6,9]\n",
    "sum(np.log(i)*2 for i in v)"
   ]
  },
  {
   "cell_type": "markdown",
   "id": "9b2b36d2",
   "metadata": {},
   "source": [
    "<img src='images/20230908_122911.jpg' />"
   ]
  },
  {
   "cell_type": "code",
   "execution_count": null,
   "id": "ed46b1bf",
   "metadata": {},
   "outputs": [],
   "source": [
    "sum([np.exp(i) for i in v]) + 5"
   ]
  },
  {
   "cell_type": "markdown",
   "id": "5284ebb3",
   "metadata": {},
   "source": [
    "<img src='images/20230908_123025.jpg' />"
   ]
  },
  {
   "cell_type": "code",
   "execution_count": null,
   "id": "a912848a",
   "metadata": {},
   "outputs": [],
   "source": [
    "p = [np.exp(i) for i in a] # [e^3, e^4, e^5]\n",
    "p_s = sum(p)\n",
    "p_s"
   ]
  },
  {
   "cell_type": "markdown",
   "id": "636d08a2",
   "metadata": {},
   "source": [
    "$$ \\sum_{j=0}^{K}(cos\\theta_{j}) $$"
   ]
  },
  {
   "cell_type": "markdown",
   "id": "54aa22d0",
   "metadata": {},
   "source": [
    "$$ 360: \\theta = 2\\pi : x \\rightarrow x =  \\frac{2\\pi \\theta}{360} $$"
   ]
  },
  {
   "cell_type": "code",
   "execution_count": null,
   "id": "ba232f0a",
   "metadata": {},
   "outputs": [],
   "source": [
    "# 각도를 radian으로 변환\n",
    "def deg_to_radian(x):\n",
    "    return (2*np.pi*x)/360 # 수정 (약분하면 x*np.pi/180도 맞긴 하다고 합니다)\n",
    "    # return (np.pi*x)/180\n",
    "radian = [deg_to_radian(i) for i in np.arange(-180,180,10)]\n",
    "radian"
   ]
  },
  {
   "cell_type": "code",
   "execution_count": null,
   "id": "3f650b2e",
   "metadata": {},
   "outputs": [],
   "source": [
    "# 각도를 radian으로 변환\n",
    "def deg_to_radian(x):\n",
    "    return (np.pi*x)/180 # 수정 (약분하면 x*np.pi/180도 맞긴 하다고 합니다)\n",
    "deg_to_radian(180)"
   ]
  },
  {
   "cell_type": "code",
   "execution_count": null,
   "id": "156fcf07",
   "metadata": {},
   "outputs": [],
   "source": [
    "radian = [deg_to_radian(i) for i in np.arange(-180,180,10)]\n",
    "sum(np.cos(radian))"
   ]
  },
  {
   "cell_type": "code",
   "execution_count": null,
   "id": "fb2bc8ee",
   "metadata": {},
   "outputs": [],
   "source": [
    "radian = [deg_to_radian(i) for i in np.arange(-180,180,10)]\n",
    "sum([np.cos(radian) for i in radian])"
   ]
  },
  {
   "cell_type": "code",
   "execution_count": null,
   "id": "d28377a0",
   "metadata": {},
   "outputs": [],
   "source": [
    "x = np.arange(-180,180,10)\n",
    "y = np.array(np.cos([deg_to_radian(i) for i in x]))\n",
    "for deg, cos_value in zip(x,y):\n",
    "    if deg == 60:\n",
    "        print(cos_value)\n",
    "    elif deg == 30:\n",
    "        print(cos_value, np.sqrt(3)/2)"
   ]
  },
  {
   "cell_type": "code",
   "execution_count": null,
   "id": "9b9acc3b",
   "metadata": {},
   "outputs": [],
   "source": [
    "x1 = 0.8660254037844387\n",
    "x2 = 0.5000000000000001\n",
    "x1*x1 + x2*x2"
   ]
  },
  {
   "cell_type": "code",
   "execution_count": null,
   "id": "7f01418e",
   "metadata": {},
   "outputs": [],
   "source": [
    "x = np.arange(-180,180,10)\n",
    "y_cos = np.array(np.cos([deg_to_radian(i) for i in x]))\n",
    "y_sin = np.array(np.sin([deg_to_radian(i) for i in x]))\n",
    "sum_ = 0\n",
    "for deg, cos_value, sin_value in zip(x,y_cos,y_sin):\n",
    "    if not abs((cos_value**2 + sin_value**2) -1) < 0.0000001:\n",
    "        sum_ += 1\n",
    "sum_"
   ]
  },
  {
   "cell_type": "markdown",
   "id": "c78ebb91",
   "metadata": {},
   "source": [
    "<img src='images/20230908_143959_943.jpg' >"
   ]
  },
  {
   "cell_type": "code",
   "execution_count": 8,
   "id": "75bd1377",
   "metadata": {},
   "outputs": [],
   "source": [
    "x_ = np.array([[10,20],[5,4],[2,-1],[3,5],[-1,2],[2,6],[8,8],[-1,5]])"
   ]
  },
  {
   "cell_type": "code",
   "execution_count": 3,
   "id": "a4a8dc68",
   "metadata": {},
   "outputs": [],
   "source": [
    "def radian_to_deg(x):\n",
    "    return (360*x)/(2*np.pi)"
   ]
  },
  {
   "cell_type": "code",
   "execution_count": 5,
   "id": "772c142d",
   "metadata": {},
   "outputs": [],
   "source": [
    "result_dict = {}\n",
    "result_dict['x'] = [i[0] for i in x_]\n",
    "result_dict['y'] = [i[1] for i in x_]"
   ]
  },
  {
   "cell_type": "code",
   "execution_count": 4,
   "id": "4fbb6f4d",
   "metadata": {},
   "outputs": [],
   "source": [
    "def magnitude(x):\n",
    "    return np.sqrt(sum([i*i for i in x]))"
   ]
  },
  {
   "cell_type": "code",
   "execution_count": 9,
   "id": "791375da",
   "metadata": {
    "scrolled": false
   },
   "outputs": [
    {
     "data": {
      "text/plain": [
       "{'x': [10, 5, 2, 3, -1, 2, 8, -1],\n",
       " 'y': [20, 4, -1, 5, 2, 6, 8, 5],\n",
       " 'radian': [63.43494882292201,\n",
       "  38.65980825409009,\n",
       "  26.56505117707799,\n",
       "  59.03624346792648,\n",
       "  116.56505117707799,\n",
       "  71.56505117707799,\n",
       "  45.00000000000001,\n",
       "  101.30993247402021],\n",
       " 'magnitude': [22.360679774997898,\n",
       "  6.4031242374328485,\n",
       "  2.23606797749979,\n",
       "  5.830951894845301,\n",
       "  2.23606797749979,\n",
       "  6.324555320336759,\n",
       "  11.313708498984761,\n",
       "  5.0990195135927845]}"
      ]
     },
     "execution_count": 9,
     "metadata": {},
     "output_type": "execute_result"
    }
   ],
   "source": [
    "mag_x = [magnitude(np.array(i)) for i in x_]\n",
    "deg_x = []\n",
    "for i, m in zip(x_, mag_x):\n",
    "    deg_x.append(radian_to_deg(np.arccos(i/m))[0])\n",
    "result_dict['radian'] = deg_x\n",
    "result_dict['magnitude'] = mag_x\n",
    "result_dict"
   ]
  },
  {
   "cell_type": "markdown",
   "id": "73deba3f",
   "metadata": {},
   "source": [
    "<img src='images/20230908_153236_598.jpg' >"
   ]
  },
  {
   "cell_type": "code",
   "execution_count": null,
   "id": "35e3e169",
   "metadata": {},
   "outputs": [],
   "source": [
    "# 2-1) 제곱의 합 = 1\n",
    "\n",
    "# 2-2) 0번 벡터와 다른 벡터간의 내적 및 벡터간의 각도 구하기(np.dot사용하지 마세요.)\n"
   ]
  },
  {
   "cell_type": "code",
   "execution_count": 15,
   "id": "722258fa",
   "metadata": {},
   "outputs": [],
   "source": [
    "def dot(x,y):\n",
    "    return sum([i*j for i, j in zip(x,y)])"
   ]
  },
  {
   "cell_type": "code",
   "execution_count": 12,
   "id": "842a1e80",
   "metadata": {},
   "outputs": [],
   "source": [
    "x_0, x_the_other = x_[0], x_[1:]\n",
    "x_0_mag = magnitude(x_0)\n",
    "x_other_mag = [magnitude(i) for i in x_the_other]"
   ]
  },
  {
   "cell_type": "code",
   "execution_count": 19,
   "id": "6a0bc89d",
   "metadata": {},
   "outputs": [
    {
     "data": {
      "text/plain": [
       "[130, 0, 130, 30, 140, 240, 90]"
      ]
     },
     "execution_count": 19,
     "metadata": {},
     "output_type": "execute_result"
    }
   ],
   "source": [
    "other_dot = [dot(x_0,i) for i in x_the_other]\n",
    "other_dot"
   ]
  },
  {
   "cell_type": "code",
   "execution_count": 18,
   "id": "89c94ce4",
   "metadata": {},
   "outputs": [
    {
     "data": {
      "text/plain": [
       "[24.775140568831922,\n",
       " 90.0,\n",
       " 4.398705354995675,\n",
       " 53.130102354155994,\n",
       " 8.130102354156005,\n",
       " 18.434948822922017,\n",
       " 37.8749836510982]"
      ]
     },
     "execution_count": 18,
     "metadata": {},
     "output_type": "execute_result"
    }
   ],
   "source": [
    "the_other_cos = [dot_i / (x_0_mag * x_m) for dot_i, x_m in zip(other_dot, x_other_mag)]\n",
    "cos_deg = [radian_to_deg(np.arccos(i)) for i in the_other_cos]\n",
    "cos_deg"
   ]
  }
 ],
 "metadata": {
  "kernelspec": {
   "display_name": "Python 3 (ipykernel)",
   "language": "python",
   "name": "python3"
  },
  "language_info": {
   "codemirror_mode": {
    "name": "ipython",
    "version": 3
   },
   "file_extension": ".py",
   "mimetype": "text/x-python",
   "name": "python",
   "nbconvert_exporter": "python",
   "pygments_lexer": "ipython3",
   "version": "3.11.3"
  }
 },
 "nbformat": 4,
 "nbformat_minor": 5
}
