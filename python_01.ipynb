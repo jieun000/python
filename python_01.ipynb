{
 "cells": [
  {
   "attachments": {},
   "cell_type": "markdown",
   "id": "0b589c96",
   "metadata": {},
   "source": [
    "단축키 <br>\n",
    "Ctrl + m :  command모드 <br>\n",
    "Enter = 편집모드 <hr>\n",
    "m = markdown모드 <br>\n",
    "y = code작성모드 <hr>\n",
    "a = 위로 셀 추가 <br>\n",
    "b = 아래로 셀 추가 <br>\n",
    "c :  셀 복사 , v :  셀 붙여넣기 , x :  셀 잘라내기 <hr>\n",
    "        Ctrl + Enter: 실행 <br>"
   ]
  },
  {
   "cell_type": "code",
   "execution_count": null,
   "id": "bed7dd4d",
   "metadata": {},
   "outputs": [],
   "source": [
    "#은 주석(comment)\n",
    "# 주석은 컴퓨터가 실행하지 않는다.\n",
    "# 사용자가 읽기 쉽도록 설명하는 내용\n",
    "\n",
    "a = 3 + 1 # a라는 변수에 3+1의 결과가 저장된다. \n",
    "print(a) # a의 값을 출력해라."
   ]
  },
  {
   "cell_type": "code",
   "execution_count": null,
   "id": "6b38e41e",
   "metadata": {},
   "outputs": [],
   "source": [
    "b = a + 7\n",
    "print(b)"
   ]
  },
  {
   "attachments": {},
   "cell_type": "markdown",
   "id": "9f8c6a10",
   "metadata": {},
   "source": [
    "### 변수 (###=h3)  "
   ]
  },
  {
   "attachments": {},
   "cell_type": "markdown",
   "id": "6ae2d8c5",
   "metadata": {},
   "source": [
    "<ul>\n",
    "    <li>변수는 값을 저장하는 공간</li>\n",
    "    <li>=는 같다는 것이 아니라 오른쪽의 값을 왼쪽의 변수에 저장하라는 대입연산자</li>\n",
    "</ul>"
   ]
  },
  {
   "cell_type": "code",
   "execution_count": null,
   "id": "a4d3aefd",
   "metadata": {},
   "outputs": [],
   "source": [
    "a = 7\n",
    "b = 3\n",
    "c = a + b\n",
    "c"
   ]
  },
  {
   "cell_type": "code",
   "execution_count": null,
   "id": "31d023f3",
   "metadata": {},
   "outputs": [],
   "source": [
    "# 변수 d에 a의 값과 b의 값을 곱한 결과를 저장하고 저장된 d의 값 출력\n",
    "d = a * b\n",
    "d"
   ]
  },
  {
   "cell_type": "code",
   "execution_count": null,
   "id": "8267cecd",
   "metadata": {
    "scrolled": true
   },
   "outputs": [],
   "source": [
    "# p.48\n",
    "school = \"한국대학교\"  # 쌍따옴표는 문자열을 표시\n",
    "school"
   ]
  },
  {
   "cell_type": "code",
   "execution_count": null,
   "id": "d7996b46",
   "metadata": {},
   "outputs": [],
   "source": [
    "a = 3  # a 변수에 숫자 3을 대입연산자(=)를 이용하여 값을 a 변수에 저장\n",
    "a = 100"
   ]
  },
  {
   "cell_type": "code",
   "execution_count": null,
   "id": "f35c73ae",
   "metadata": {},
   "outputs": [],
   "source": [
    "a = 3\n",
    "b = 7"
   ]
  },
  {
   "cell_type": "code",
   "execution_count": null,
   "id": "ccd0ab38",
   "metadata": {
    "scrolled": true
   },
   "outputs": [],
   "source": [
    "c = a * b\n",
    "c"
   ]
  },
  {
   "cell_type": "code",
   "execution_count": null,
   "id": "ca5da888",
   "metadata": {},
   "outputs": [],
   "source": [
    "b = 20  # 위 or 아래 재실행하면 변화"
   ]
  },
  {
   "cell_type": "code",
   "execution_count": null,
   "id": "abd8bdd9",
   "metadata": {
    "scrolled": true
   },
   "outputs": [],
   "source": [
    "c"
   ]
  },
  {
   "cell_type": "code",
   "execution_count": null,
   "id": "629c87ca",
   "metadata": {},
   "outputs": [],
   "source": [
    "a = 1000  # 실행 안 하면 적용X"
   ]
  },
  {
   "cell_type": "code",
   "execution_count": null,
   "id": "4ad0dd0e",
   "metadata": {
    "scrolled": true
   },
   "outputs": [],
   "source": [
    "a + b"
   ]
  },
  {
   "cell_type": "code",
   "execution_count": null,
   "id": "63714380",
   "metadata": {},
   "outputs": [],
   "source": [
    "school = \"안녕하세요\""
   ]
  },
  {
   "attachments": {},
   "cell_type": "markdown",
   "id": "4d6f076d",
   "metadata": {
    "scrolled": true
   },
   "source": [
    "<hr>"
   ]
  },
  {
   "cell_type": "code",
   "execution_count": null,
   "id": "8c1eb114",
   "metadata": {},
   "outputs": [],
   "source": [
    "school = \"안녕하세요\""
   ]
  },
  {
   "cell_type": "code",
   "execution_count": null,
   "id": "2b5fabeb",
   "metadata": {},
   "outputs": [],
   "source": [
    "type(school)  # str = string(문자열)의 약자"
   ]
  },
  {
   "attachments": {},
   "cell_type": "markdown",
   "id": "c6723cef",
   "metadata": {},
   "source": [
    "파이썬에서 type은 변수에 어떤 형태가 들어있는지 확인하는 기능"
   ]
  },
  {
   "cell_type": "code",
   "execution_count": null,
   "id": "49716e73",
   "metadata": {},
   "outputs": [],
   "source": [
    "a 변수에 어떤 데이터 타입이 들어가 있는지 확인하는 코드작성"
   ]
  },
  {
   "cell_type": "code",
   "execution_count": null,
   "id": "849a9da7",
   "metadata": {},
   "outputs": [],
   "source": [
    "type(a)"
   ]
  },
  {
   "cell_type": "code",
   "execution_count": null,
   "id": "2466ff91",
   "metadata": {
    "scrolled": true
   },
   "outputs": [],
   "source": [
    "f = 2.7\n",
    "type(f)  # f = float(소수)"
   ]
  },
  {
   "attachments": {},
   "cell_type": "markdown",
   "id": "a5e893e5",
   "metadata": {},
   "source": [
    "p.48 <br>\n",
    "변수이름 규칙 => 첫글자는 숫자로 시작할 수 없음"
   ]
  },
  {
   "cell_type": "code",
   "execution_count": null,
   "id": "a0ddc758",
   "metadata": {
    "scrolled": true
   },
   "outputs": [],
   "source": [
    "24cafe = \"커피\" # 여기에서 오류 발생함"
   ]
  },
  {
   "cell_type": "code",
   "execution_count": null,
   "id": "63afe5ae",
   "metadata": {
    "scrolled": true
   },
   "outputs": [],
   "source": [
    "a_1 = 6\n",
    "a_2 = 16\n",
    "a_3 = 26\n",
    "a_4 = 36\n",
    "a_5 = 46\n",
    "a_1 + a_2 + a_3 + a_4 + a_5"
   ]
  },
  {
   "cell_type": "code",
   "execution_count": null,
   "id": "a4803443",
   "metadata": {},
   "outputs": [],
   "source": [
    "#국어 영어 수학 점수를 변수에 저장하고 \n",
    "# 총점과 평균을 구하는 식을 구현하세요. \n",
    "k = 100\n",
    "e = 90\n",
    "m = 80\n",
    "total = k+e+m\n",
    "avg = total/3.0"
   ]
  },
  {
   "cell_type": "code",
   "execution_count": null,
   "id": "36e9113a",
   "metadata": {
    "scrolled": true
   },
   "outputs": [],
   "source": [
    "print(\"총점: \" + str(total) + \"입니다.\")"
   ]
  },
  {
   "attachments": {},
   "cell_type": "markdown",
   "id": "74e5c15b",
   "metadata": {},
   "source": [
    "숫자의 +는 더하기이지만 문자열의 +는 결합입니다. <br>\n",
    "숫자를 문자열로 변환하기 위해 str로 감싸서 결합"
   ]
  },
  {
   "cell_type": "code",
   "execution_count": null,
   "id": "377f9d94",
   "metadata": {
    "scrolled": false
   },
   "outputs": [],
   "source": [
    "print(\"평균: \" + str(avg) + \"입니다.\")"
   ]
  },
  {
   "cell_type": "code",
   "execution_count": null,
   "id": "184dbaa2",
   "metadata": {},
   "outputs": [],
   "source": [
    "print(\"국어점수: \" + str(k) + \", 영어점수: \" + str(e) + \", 수학점수: \" + str(m) + \"이고,\")\n",
    "print(\"총점: \" + str(total) + \"이고 평균은 \" + str(avg) + \"입니다.\")"
   ]
  },
  {
   "attachments": {},
   "cell_type": "markdown",
   "id": "62f75e32",
   "metadata": {},
   "source": [
    "pwd(Print Working Directory): 현재 작업중인 디렉토리 확인 "
   ]
  },
  {
   "cell_type": "code",
   "execution_count": null,
   "id": "37a75436",
   "metadata": {
    "scrolled": true
   },
   "outputs": [],
   "source": [
    "pwd # 'C:\\\\Users\\\\Admin'"
   ]
  },
  {
   "cell_type": "code",
   "execution_count": null,
   "id": "5c317dbe",
   "metadata": {},
   "outputs": [],
   "source": [
    "a = \"사랑\"\n",
    "b = \"믿음\""
   ]
  },
  {
   "cell_type": "code",
   "execution_count": null,
   "id": "81e34987",
   "metadata": {},
   "outputs": [],
   "source": [
    "a + b"
   ]
  },
  {
   "attachments": {},
   "cell_type": "markdown",
   "id": "eda9ff55",
   "metadata": {},
   "source": [
    "(문자열+숫자) or (숫자+문자열) 불가"
   ]
  },
  {
   "cell_type": "code",
   "execution_count": null,
   "id": "62751781",
   "metadata": {
    "scrolled": true
   },
   "outputs": [],
   "source": [
    "\"사랑\" + 1"
   ]
  },
  {
   "cell_type": "code",
   "execution_count": null,
   "id": "948b1ac0",
   "metadata": {
    "scrolled": true
   },
   "outputs": [],
   "source": [
    "\"사랑\" + str(1)  # 숫자를 문자열로 변환하는 기능(str)"
   ]
  },
  {
   "cell_type": "code",
   "execution_count": null,
   "id": "89c25d1e",
   "metadata": {},
   "outputs": [],
   "source": [
    "\"총점은\" + str(90) + \"입니다\""
   ]
  },
  {
   "cell_type": "code",
   "execution_count": null,
   "id": "4335f3c2",
   "metadata": {},
   "outputs": [],
   "source": [
    "a = input(\"입력하세요\")\n",
    "a"
   ]
  },
  {
   "cell_type": "code",
   "execution_count": null,
   "id": "7a82db37",
   "metadata": {},
   "outputs": [],
   "source": [
    "k = input(\"국어\")  \n",
    "# 사용자에게 국어라는 문자열을 알려주고,\n",
    "#  사용자가 키보드로 입력 받은 값을 변수 K에 저장함\n",
    "int(k)"
   ]
  },
  {
   "cell_type": "code",
   "execution_count": null,
   "id": "948061df",
   "metadata": {},
   "outputs": [],
   "source": [
    "m = input(\"수학\")\n",
    "int(m)"
   ]
  },
  {
   "cell_type": "code",
   "execution_count": null,
   "id": "987a2339",
   "metadata": {},
   "outputs": [],
   "source": [
    "total = int(k) + int(e) + int(m)\n",
    "total"
   ]
  },
  {
   "cell_type": "code",
   "execution_count": null,
   "id": "76e5f94e",
   "metadata": {},
   "outputs": [],
   "source": [
    "avg = int(total)/3\n",
    "int(avg)"
   ]
  },
  {
   "cell_type": "code",
   "execution_count": null,
   "id": "76f64fb6",
   "metadata": {
    "scrolled": true
   },
   "outputs": [],
   "source": [
    "k = input(\"국어\")\n",
    "print(type(k))  # 키보드로 입력받은 값은 숫자가 아니라 문자열이기에\n",
    "print(type(int(k)))  # 문자열을 계산하기 위해 정수(int)로 형변환 해야함\n",
    "e = input(\"영어\")\n",
    "print(type(e))\n",
    "print(type(int(e)))\n",
    "m = input(\"수학\")\n",
    "print(type(m))\n",
    "print(type(int(m)))\n",
    "\n",
    "total = int(k) + int(e) + int(m)\n",
    "total"
   ]
  },
  {
   "cell_type": "code",
   "execution_count": null,
   "id": "95501c92",
   "metadata": {
    "scrolled": true
   },
   "outputs": [],
   "source": [
    "avg = total / 3\n",
    "avg"
   ]
  },
  {
   "attachments": {},
   "cell_type": "markdown",
   "id": "c9f66549",
   "metadata": {},
   "source": [
    "<a href=\"https://www.thebaleun.com/post/%EB%8D%B0%EC%9D%B4%ED%84%B0%EB%A5%BC-%EB%8B%B4%EB%8A%94-%EC%83%81%EC%9E%90-%EB%B3%80%EC%88%98\">변수란?</a>"
   ]
  },
  {
   "attachments": {},
   "cell_type": "markdown",
   "id": "a23da1d6",
   "metadata": {},
   "source": [
    "<h2> 형변환 (타입 casting) </h2><br>\n",
    "키보드로 입력받으면 숫자로 입력한 것 같지만 실제로는 숫자가 아니라 문자열이다. <br>\n",
    "계산을 해야 하므로 정수형으로 변경해야함. <br>\n",
    "그말은 int(  ) ,  (  ) 괄호 내에 있는 변수를 int(정수형, integer)로 \n",
    "형변환해라. "
   ]
  },
  {
   "cell_type": "code",
   "execution_count": null,
   "id": "56351687",
   "metadata": {},
   "outputs": [],
   "source": [
    "z = input(\"원하는 숫자는? \")\n",
    "z"
   ]
  },
  {
   "cell_type": "code",
   "execution_count": null,
   "id": "f685ebb4",
   "metadata": {
    "scrolled": true
   },
   "outputs": [],
   "source": [
    "int(z)  # 변수z는 여전히 문자열"
   ]
  },
  {
   "cell_type": "code",
   "execution_count": null,
   "id": "5accf5fe",
   "metadata": {},
   "outputs": [],
   "source": [
    "r = int(z)  #  변수r에 z가 정수형태로 들어감\n",
    "r"
   ]
  },
  {
   "attachments": {},
   "cell_type": "markdown",
   "id": "695991f9",
   "metadata": {},
   "source": [
    "이미지: <img src=\"image/function.png\"/>"
   ]
  },
  {
   "cell_type": "code",
   "execution_count": null,
   "id": "719e8fca",
   "metadata": {},
   "outputs": [],
   "source": [
    "animal = \"고양이\"\n",
    "x = \"나는 %s를 좋아한다 \"%animal  # s = string\n",
    "x"
   ]
  },
  {
   "cell_type": "code",
   "execution_count": null,
   "id": "278391ec",
   "metadata": {},
   "outputs": [],
   "source": [
    "age = 17\n",
    "y = \"내 나이는 %d입니다 \" %age  # d = decimal( 10진수 )\n",
    "y"
   ]
  },
  {
   "cell_type": "code",
   "execution_count": null,
   "id": "ba5063cf",
   "metadata": {},
   "outputs": [],
   "source": [
    "age = 17.4\n",
    "y = \"내 나이는 %f입니다 \" %age  # f = float( 실수 )\n",
    "y"
   ]
  },
  {
   "cell_type": "code",
   "execution_count": null,
   "id": "a5059a70",
   "metadata": {
    "scrolled": true
   },
   "outputs": [],
   "source": [
    "age = 17.4\n",
    "y = \"내 나이는 %f.2 입니다 \" %age  # f.2 = float.2( 실수, 소숫점 2자리까지 )\n",
    "y"
   ]
  },
  {
   "attachments": {},
   "cell_type": "markdown",
   "id": "98c43a06",
   "metadata": {},
   "source": [
    "파이썬에서는 ' ', \" \" 둘 다 문자열이고, <br>\n",
    "문자열만 format이라는 함수 사용 가능"
   ]
  },
  {
   "cell_type": "code",
   "execution_count": null,
   "id": "064a93f9",
   "metadata": {},
   "outputs": [],
   "source": [
    "test = 5.44\n",
    "test2 = 7\n",
    "age = 14\n",
    "y = 'test:[0], test2:{1}, age:{2}'.format(test, test2, age)\n",
    "y"
   ]
  },
  {
   "cell_type": "code",
   "execution_count": null,
   "id": "f5d7823c",
   "metadata": {},
   "outputs": [],
   "source": [
    "str1 = \"이재오\" + \"\\n\" + \"강사\" + \"\\n\" + \"입니다.\"\n",
    "str1"
   ]
  },
  {
   "cell_type": "code",
   "execution_count": null,
   "id": "376818af",
   "metadata": {},
   "outputs": [],
   "source": [
    "kor = 88\n",
    "eng = 96\n",
    "math = 97\n",
    "sum1 = kor + eng + math\n",
    "y = \"합계:%d, 평균:%.2f\"%(sum1, sum1/3.0)\n",
    "y"
   ]
  },
  {
   "cell_type": "code",
   "execution_count": null,
   "id": "abdfadf7",
   "metadata": {},
   "outputs": [],
   "source": []
  }
 ],
 "metadata": {
  "kernelspec": {
   "display_name": "Python 3 (ipykernel)",
   "language": "python",
   "name": "python3"
  },
  "language_info": {
   "codemirror_mode": {
    "name": "ipython",
    "version": 3
   },
   "file_extension": ".py",
   "mimetype": "text/x-python",
   "name": "python",
   "nbconvert_exporter": "python",
   "pygments_lexer": "ipython3",
   "version": "3.10.9"
  }
 },
 "nbformat": 4,
 "nbformat_minor": 5
}
