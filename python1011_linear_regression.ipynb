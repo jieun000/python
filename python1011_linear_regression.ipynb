{
 "cells": [
  {
   "cell_type": "markdown",
   "id": "41dc6231",
   "metadata": {},
   "source": [
    "# Practice Lab: Linear Regression (선형 회귀)\n",
    "\n",
    "Welcome to your first practice lab! In this lab, you will implement linear regression with one variable to predict profits for a restaurant franchise.\n",
    "\n",
    "\n",
    "# Outline\n",
    "- [ 1 - Packages ](#1)\n",
    "- [ 2 - Linear regression with one variable ](#2)\n",
    "  - [ 2.1 Problem Statement](#2.1)\n",
    "  - [ 2.2  Dataset](#2.2)\n",
    "  - [ 2.3 Refresher on linear regression](#2.3)\n",
    "  - [ 2.4  Compute Cost](#2.4)\n",
    "    - [ Exercise 1](#ex01)\n",
    "  - [ 2.5 Gradient descent ](#2.5)\n",
    "    - [ Exercise 2](#ex02)\n",
    "  - [ 2.6 Learning parameters using batch gradient descent ](#2.6)"
   ]
  },
  {
   "cell_type": "markdown",
   "id": "efa810a6",
   "metadata": {},
   "source": [
    "<img src='images/평면.gif' />"
   ]
  },
  {
   "cell_type": "code",
   "execution_count": null,
   "id": "97d960d0",
   "metadata": {},
   "outputs": [],
   "source": [
    "!pip install utils"
   ]
  },
  {
   "cell_type": "code",
   "execution_count": 1,
   "id": "75ea02a5",
   "metadata": {},
   "outputs": [],
   "source": [
    "import numpy as np\n",
    "import matplotlib.pyplot as plt\n",
    "from utils import *\n",
    "import copy\n",
    "import math\n",
    "%matplotlib inline"
   ]
  },
  {
   "cell_type": "code",
   "execution_count": null,
   "id": "87635ce2",
   "metadata": {},
   "outputs": [],
   "source": [
    "from train import load_data"
   ]
  },
  {
   "cell_type": "markdown",
   "id": "6081cb2a",
   "metadata": {},
   "source": [
    "2 - 문제 설명\n",
    "당신이 레스토랑 프랜차이즈의 CEO이고 새로운 매장을 열기 위해 여러 도시를 고려하고 있다고 가정해 보겠습니다.\n",
    "\n",
    "귀하는 귀하의 레스토랑이 더 높은 수익을 올릴 수 있는 도시로 사업을 확장하고 싶습니다.\n",
    "체인에는 이미 다양한 도시에 레스토랑이 있으며 해당 도시의 수익과 인구에 대한 데이터가 있습니다.\n",
    "또한 새 레스토랑이 들어설 후보 도시에 대한 데이터도 있습니다.\n",
    "이 도시에는 도시 인구가 있습니다.\n",
    "데이터를 사용하여 잠재적으로 귀하의 비즈니스에 더 높은 수익을 줄 수 있는 도시를 식별할 수 있습니까?"
   ]
  },
  {
   "cell_type": "markdown",
   "id": "278b35fb",
   "metadata": {},
   "source": [
    "## 3- DataSet\n",
    "이 작업을 위해 데이터 셋을 로딩부터 시작\n",
    "- 'load_data()' 함수는 데이터를 로딩하여 x_train과 y_train 변수로 저장\n",
    "    - 'x_train'은 도시의 인구수\n",
    "    - 'y_train'은 해당 도시의 이윤이고 이윤의 음수는 손실을 나타냄\n",
    "    - 'x_train'과 'y_train'은 numpy 배열 "
   ]
  },
  {
   "cell_type": "code",
   "execution_count": null,
   "id": "09c5326a",
   "metadata": {},
   "outputs": [],
   "source": [
    "# dataset 로딩\n",
    "x_train, y_train = load_data()"
   ]
  }
 ],
 "metadata": {
  "kernelspec": {
   "display_name": "Python 3 (ipykernel)",
   "language": "python",
   "name": "python3"
  },
  "language_info": {
   "codemirror_mode": {
    "name": "ipython",
    "version": 3
   },
   "file_extension": ".py",
   "mimetype": "text/x-python",
   "name": "python",
   "nbconvert_exporter": "python",
   "pygments_lexer": "ipython3",
   "version": "3.10.9"
  }
 },
 "nbformat": 4,
 "nbformat_minor": 5
}
