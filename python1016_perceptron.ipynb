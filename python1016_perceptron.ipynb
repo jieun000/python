{
 "cells": [
  {
   "cell_type": "markdown",
   "id": "af3a4f2b",
   "metadata": {},
   "source": [
    "<img src='images/and.jpg' />"
   ]
  },
  {
   "cell_type": "code",
   "execution_count": 1,
   "id": "db7a83d5",
   "metadata": {},
   "outputs": [],
   "source": [
    "import numpy as np"
   ]
  },
  {
   "cell_type": "code",
   "execution_count": 50,
   "id": "1be6dbf5",
   "metadata": {},
   "outputs": [],
   "source": [
    "def AND(x1, x2):\n",
    "    x = np.array([x1, x2])\n",
    "    w = np.array([0.5, 0.5])\n",
    "    b = -0.7\n",
    "    tmp = np.sum(w*x) + b\n",
    "    if tmp <= 0:\n",
    "        return 0\n",
    "    else: return 1"
   ]
  },
  {
   "cell_type": "code",
   "execution_count": 3,
   "id": "72dfdaae",
   "metadata": {
    "scrolled": false
   },
   "outputs": [
    {
     "name": "stdout",
     "output_type": "stream",
     "text": [
      "(0, 0)->0\n",
      "(1, 0)->0\n",
      "(0, 1)->0\n",
      "(1, 1)->1\n"
     ]
    }
   ],
   "source": [
    "for xs in [(0,0), (1,0), (0,1), (1,1)]:\n",
    "    y = AND(xs[0], xs[1])\n",
    "    print(str(xs) + \"->\" + str(y))"
   ]
  },
  {
   "cell_type": "markdown",
   "id": "4e1cdd46",
   "metadata": {},
   "source": [
    "<img src='images/or.jpg' />"
   ]
  },
  {
   "cell_type": "code",
   "execution_count": 51,
   "id": "73c5348b",
   "metadata": {},
   "outputs": [],
   "source": [
    "def OR(x1, x2):\n",
    "    x = np.array([x1, x2])\n",
    "    w = np.array([0.5, 0.5])\n",
    "    b = -0.2\n",
    "    tmp = np.sum(w*x) + b\n",
    "    if tmp <= 0:\n",
    "        return 0\n",
    "    else: return 1"
   ]
  },
  {
   "cell_type": "code",
   "execution_count": 5,
   "id": "b1cb29bc",
   "metadata": {
    "scrolled": false
   },
   "outputs": [
    {
     "name": "stdout",
     "output_type": "stream",
     "text": [
      "(0, 0)->0\n",
      "(1, 0)->1\n",
      "(0, 1)->1\n",
      "(1, 1)->1\n"
     ]
    }
   ],
   "source": [
    "for xs in [(0,0), (1,0), (0,1), (1,1)]:\n",
    "    y = OR(xs[0], xs[1])\n",
    "    print(str(xs) + \"->\" + str(y))"
   ]
  },
  {
   "cell_type": "code",
   "execution_count": 22,
   "id": "730d19e4",
   "metadata": {},
   "outputs": [],
   "source": [
    "def AND(x1, x2):\n",
    "    x = np.array([x1, x2])\n",
    "    w = np.array([100, 100])\n",
    "    b = -100\n",
    "    tmp = np.sum(w*x) + b\n",
    "    if tmp <= 0:\n",
    "        return 0\n",
    "    else: return 1"
   ]
  },
  {
   "cell_type": "code",
   "execution_count": 23,
   "id": "5c69b802",
   "metadata": {
    "scrolled": false
   },
   "outputs": [
    {
     "name": "stdout",
     "output_type": "stream",
     "text": [
      "(0, 0)->0\n",
      "(1, 0)->0\n",
      "(0, 1)->0\n",
      "(1, 1)->1\n"
     ]
    }
   ],
   "source": [
    "for xs in [(0,0), (1,0), (0,1), (1,1)]:\n",
    "    y = AND(xs[0], xs[1])\n",
    "    print(str(xs) + \"->\" + str(y))"
   ]
  },
  {
   "cell_type": "markdown",
   "id": "4edc307c",
   "metadata": {},
   "source": [
    "<img src='images/nand.jpg' />"
   ]
  },
  {
   "cell_type": "code",
   "execution_count": 52,
   "id": "3d976134",
   "metadata": {},
   "outputs": [],
   "source": [
    "def NAND(x1, x2):\n",
    "    x = np.array([x1, x2])\n",
    "    w = np.array([0.5, 0.5])\n",
    "    b = -0.7\n",
    "    tmp = np.sum(w*x) + b\n",
    "    if not(tmp <= 0):\n",
    "        return 0\n",
    "    else: return 1\n",
    "# NAND = AND를 NOT 취한 것"
   ]
  },
  {
   "cell_type": "code",
   "execution_count": 43,
   "id": "37e9893a",
   "metadata": {
    "scrolled": false
   },
   "outputs": [
    {
     "name": "stdout",
     "output_type": "stream",
     "text": [
      "(0, 0)->1\n",
      "(1, 0)->1\n",
      "(0, 1)->1\n",
      "(1, 1)->0\n"
     ]
    }
   ],
   "source": [
    "for xs in [(0,0), (1,0), (0,1), (1,1)]:\n",
    "    y = NAND(xs[0], xs[1])\n",
    "    print(str(xs) + \"->\" + str(y))"
   ]
  },
  {
   "cell_type": "markdown",
   "id": "cf48a976",
   "metadata": {},
   "source": [
    "<img src='images/XOR.jpg' />"
   ]
  },
  {
   "cell_type": "markdown",
   "id": "96523223",
   "metadata": {},
   "source": [
    "## eXclusive OR => 배타적 OR이 서로 다를 때 1"
   ]
  },
  {
   "cell_type": "markdown",
   "id": "136521a1",
   "metadata": {},
   "source": [
    "<img src='images/xor2.jpg' />"
   ]
  },
  {
   "cell_type": "code",
   "execution_count": 53,
   "id": "b9be9380",
   "metadata": {},
   "outputs": [],
   "source": [
    "def XOR(x1, x2):\n",
    "    s1 = NAND (x1, x2)\n",
    "    s2 = OR(x1, x2)\n",
    "    y = AND(s1, s2) # nand와 or결과 중 and\n",
    "    return y"
   ]
  },
  {
   "cell_type": "code",
   "execution_count": 54,
   "id": "8bf266c3",
   "metadata": {
    "scrolled": true
   },
   "outputs": [
    {
     "name": "stdout",
     "output_type": "stream",
     "text": [
      "(0, 0)->0\n",
      "(1, 0)->1\n",
      "(0, 1)->1\n",
      "(1, 1)->0\n"
     ]
    }
   ],
   "source": [
    "for xs in [(0,0), (1,0), (0,1), (1,1)]:\n",
    "    y = XOR(xs[0], xs[1])\n",
    "    print(str(xs) + \"->\" + str(y))"
   ]
  },
  {
   "cell_type": "markdown",
   "id": "9c0fc95e",
   "metadata": {},
   "source": [
    "## 이번 장에서 배운 내용\n",
    "- 퍼셉트론은 입출력을 갖춘 알고리즘, 입력을 주면 정해진 규칙에 값을 출력\n",
    "- 퍼셉트론은 가중치(weight)와 bias를 파라미터(매개변수, theta)로 설정\n",
    "- 퍼셉트론으로 AND, OR 게이트 등의 논리 회로 표현\n",
    "- XOR 게이트는 단층 퍼셉트론으로 표현 불가\n",
    "- 2층 퍼셉트론을 이용하면 XOR 구현 가능\n",
    "- 단층 퍼셉트론은 직선형 영역만 표현할 수 있고 다층 퍼셉트론은 비선형 영역도 표현"
   ]
  },
  {
   "cell_type": "markdown",
   "id": "aa916ec2",
   "metadata": {},
   "source": [
    "<img src='images/perceptron.jpg' />"
   ]
  }
 ],
 "metadata": {
  "kernelspec": {
   "display_name": "Python 3 (ipykernel)",
   "language": "python",
   "name": "python3"
  },
  "language_info": {
   "codemirror_mode": {
    "name": "ipython",
    "version": 3
   },
   "file_extension": ".py",
   "mimetype": "text/x-python",
   "name": "python",
   "nbconvert_exporter": "python",
   "pygments_lexer": "ipython3",
   "version": "3.10.9"
  }
 },
 "nbformat": 4,
 "nbformat_minor": 5
}
