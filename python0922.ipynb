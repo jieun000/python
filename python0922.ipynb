{
 "cells": [
  {
   "cell_type": "markdown",
   "id": "0f766e40",
   "metadata": {},
   "source": [
    "# 변화율 Rate of Change\n",
    "Functions are often visualized as a line on a graph, and this line shows how the value returned by the function changes based on changes in the input value.\n",
    "\n",
    "## 선형 변화율 Linear Rate of Change\n",
    "\n",
    "For example, imagine a function that returns the number of meters travelled by a cyclist based on the number of seconds that the cyclist has been cycling.\n",
    "\n",
    "Here is such a function:\n",
    "\n",
    "\\begin{equation}q(x) = 2x + 1\\end{equation}\n",
    "\n",
    "We can plot the output for this function for a period of 10 seconds like this:"
   ]
  },
  {
   "cell_type": "code",
   "execution_count": 1,
   "id": "d034fe20",
   "metadata": {},
   "outputs": [],
   "source": [
    "import numpy as np\n",
    "import matplotlib.pyplot as plt"
   ]
  },
  {
   "cell_type": "code",
   "execution_count": null,
   "id": "dcc43e47",
   "metadata": {},
   "outputs": [],
   "source": [
    "def q(x):\n",
    "    return 2*x + 1"
   ]
  },
  {
   "cell_type": "code",
   "execution_count": null,
   "id": "ed08d402",
   "metadata": {},
   "outputs": [],
   "source": [
    "x = np.array(range(0,11)) #  0~10까지의 x변수의 배열 생성"
   ]
  },
  {
   "cell_type": "code",
   "execution_count": null,
   "id": "5ab74c78",
   "metadata": {
    "scrolled": true
   },
   "outputs": [],
   "source": [
    "plt.xlabel('Second')\n",
    "plt.ylabel('Meters')\n",
    "plt.xticks(range(0,11,1))\n",
    "plt.yticks(range(0,22,1))\n",
    "plt.grid()\n",
    "plt.plot(x,q(x), color='green')\n",
    "plt.show()"
   ]
  },
  {
   "cell_type": "markdown",
   "id": "24f3d294",
   "metadata": {},
   "source": [
    "It's clear from the graph that ***q*** is a *linear* function that describes a slope in which distance increases at a constant rate over time. In other words, the cyclist is travelling at a constant speed.\n",
    "\n",
    "But what speed? 속도는 얼마?\n",
    "\n",
    "Speed, or more technically, velocity is a measure of change - 시간이 흐르면서 얼마나 이동했는지의 평가 수단 (which is why we typically express it as a unit of distance per a unit of time, like *시간 당 마일* or *시간 당 미터*). So we're looking for a way to measure the change in the line created by the function.\n",
    "\n",
    "The change in values along the line define its *slope*, which we know from a previous lesson is represented like this:\n",
    "\n",
    "\\begin{equation}m = \\frac{\\Delta{y}}{\\Delta{x}} \\end{equation} \n",
    "\n",
    "함수의 기울기(slope)를 계산 가능 \n",
    "\n",
    "\\begin{equation}m = \\frac{q(x_{2}) - q(x_{1})}{x_{2} - x_{1}} \\end{equation}\n",
    "\n",
    "이 수식을 적용하기 위해 우리의 직선으로부터 3개의 순서쌍 ***x*** and ***q(x)***\n",
    "\n",
    "- 1초 후 ***x*** 는 1 에서의 함수값 ***q***(1) = **3**.\n",
    "- 10초 후 ***x*** 는 10 에서의 함수값 ***q***(10) = 21.\n",
    "\n",
    "So we can meassure the rate of change like this:\n",
    "\n",
    "\\begin{equation}m = \\frac{21 - 3}{10 - 1} \\rightarrow 평균변화율 \\end{equation}\n",
    "$$ \\Delta가 -0으로 근사하면 그 순간에서의 순간변화율(진짜 미분) $$\n",
    "This is the same as:\n",
    "\n",
    "\\begin{equation}m = \\frac{18}{9} \\end{equation}\n",
    "\n",
    "아래와 같이 단순화 가능\n",
    "\n",
    "\\begin{equation}m = \\frac{2}{1} \\end{equation}\n",
    "\n",
    "So our rate of change is <sup>2</sup>/<sub>1</sub> or put another way, the cyclist is travelling at 2 meters-per-second."
   ]
  },
  {
   "cell_type": "markdown",
   "id": "0bcdfd01",
   "metadata": {},
   "source": [
    "## 평균 변화율 Average Rate of Change\n",
    "주어진 시간동안 이동한 거리의 또다른 함수를 보자\n",
    "\n",
    "\\begin{equation}r(x) = x^{2} + x\\end{equation}\n",
    "\n",
    "파이썬으로 구현"
   ]
  },
  {
   "cell_type": "code",
   "execution_count": null,
   "id": "04e35858",
   "metadata": {},
   "outputs": [],
   "source": [
    "x = np.arange(-10,11) #  0~10까지의 x변수의 배열 생성"
   ]
  },
  {
   "cell_type": "code",
   "execution_count": null,
   "id": "0ca8deaa",
   "metadata": {
    "scrolled": true
   },
   "outputs": [],
   "source": [
    "def r1(x):\n",
    "    return x**2 + x\n",
    "plt.xlabel('Second')\n",
    "plt.ylabel('Meters')\n",
    "plt.xticks(np.arange(-10,11,1))\n",
    "# plt.yticks(range(0,22,1))\n",
    "plt.grid()\n",
    "plt.plot(x,r1(x), color='green')\n",
    "plt.show()\n",
    "# 파이썬 코드를 x의 값이 -1/2일 때의 y값을 구하세요 "
   ]
  },
  {
   "cell_type": "code",
   "execution_count": null,
   "id": "98f2df3d",
   "metadata": {
    "scrolled": true
   },
   "outputs": [],
   "source": [
    "# 최소점\n",
    "def r2(x):\n",
    "    return x**2 + 2*x + 5\n",
    "# (x+1)^2 -1 +5\n",
    "plt.xlabel('Second')\n",
    "plt.ylabel('Meters')\n",
    "plt.xticks(np.arange(-10,11,1))\n",
    "# plt.yticks(range(0,22,1))\n",
    "plt.grid()\n",
    "plt.plot(x,r2(x), color='green')\n",
    "plt.show()\n",
    "# 파이썬 코드를 x의 값이 -1/2일 때의 y값을 구하세요 \n"
   ]
  },
  {
   "cell_type": "code",
   "execution_count": null,
   "id": "f518cabe",
   "metadata": {
    "scrolled": true
   },
   "outputs": [],
   "source": [
    "# 최대점\n",
    "def r3(x):\n",
    "    return -x**2 - 4*x -2\n",
    "plt.xlabel('Second')\n",
    "plt.ylabel('Meters')\n",
    "plt.xticks(np.arange(-10,11,1))\n",
    "# plt.yticks(range(0,22,1))\n",
    "plt.grid()\n",
    "plt.plot(x,r3(x), color='green')\n",
    "plt.show()\n",
    "# 파이썬 코드를 x의 값이 -1/2일 때의 y값을 구하세요 "
   ]
  },
  {
   "cell_type": "code",
   "execution_count": 18,
   "id": "45ce2c6f",
   "metadata": {},
   "outputs": [],
   "source": [
    "from sympy import *\n",
    "import numpy as np\n",
    "a, b, c = symbols('a b c')"
   ]
  },
  {
   "cell_type": "code",
   "execution_count": null,
   "id": "7ad9ff5c",
   "metadata": {},
   "outputs": [],
   "source": [
    "funcs = [str(np.random.randint(10)) + \n",
    "         '*x**2+' + str(np.random.randint(10)) + '*x+' + str(np.random.randint(100))\n",
    "        for _ in range(5) ]"
   ]
  },
  {
   "cell_type": "code",
   "execution_count": null,
   "id": "f275c7cf",
   "metadata": {
    "scrolled": true
   },
   "outputs": [],
   "source": [
    "for i in funcs:\n",
    "    print(i)"
   ]
  },
  {
   "cell_type": "code",
   "execution_count": null,
   "id": "dc970b68",
   "metadata": {},
   "outputs": [],
   "source": [
    "[solve(i) for i in funcs][0][0]"
   ]
  },
  {
   "cell_type": "code",
   "execution_count": null,
   "id": "d29c64cf",
   "metadata": {
    "scrolled": false
   },
   "outputs": [],
   "source": [
    "[solve(expand(i)) for i in funcs]"
   ]
  },
  {
   "cell_type": "markdown",
   "id": "f38ab56b",
   "metadata": {},
   "source": [
    "$$ b^{2} - 4ac > 0보다 커야 함 $$"
   ]
  },
  {
   "cell_type": "markdown",
   "id": "92b963fb",
   "metadata": {},
   "source": [
    "$$ y = f(x) = ax^{2} + bx + c $$\n",
    "\n",
    "$$ \\frac{-b \\pm \\sqrt{b^{2}-4ac}}{2a} $$"
   ]
  },
  {
   "cell_type": "code",
   "execution_count": null,
   "id": "a583b0ca",
   "metadata": {},
   "outputs": [],
   "source": [
    "위의 근의 공식을 함수로 정의하고 b**2-4*a*c가 0보다 같거나 클때만 값을 반환함"
   ]
  },
  {
   "cell_type": "code",
   "execution_count": 2,
   "id": "d43a4c1a",
   "metadata": {},
   "outputs": [
    {
     "data": {
      "text/plain": [
       "array([-0.32382502, -6.17617498])"
      ]
     },
     "execution_count": 2,
     "metadata": {},
     "output_type": "execute_result"
    }
   ],
   "source": [
    "def solve_root_fn(a, b, c):\n",
    "    test = b**2 - 4*a*c\n",
    "    if  test < 0: return \n",
    "    return np.array([-b + np.sqrt(test),-b - np.sqrt(test)])/(2*a)\n",
    "    \n",
    "solve_root_fn(2,13,4)"
   ]
  },
  {
   "cell_type": "code",
   "execution_count": null,
   "id": "44e39bcf",
   "metadata": {},
   "outputs": [],
   "source": [
    "ckeck_result = lambda x : 8*x**2+86*x+95\n",
    "print(ckeck_result(-1.25))\n",
    "print(ckeck_result(-9.5))"
   ]
  },
  {
   "cell_type": "code",
   "execution_count": null,
   "id": "9183f4be",
   "metadata": {},
   "outputs": [],
   "source": [
    "for i in range(100):\n",
    "    a_ = np.random.randint(1,100)\n",
    "    b_ = np.random.randint(1,100)\n",
    "    c_ = np.random.randint(1,100)\n",
    "    print(solve_root_fn(a_, b_, c_), root_solve_sympy(a_,b_,c_) )"
   ]
  },
  {
   "cell_type": "code",
   "execution_count": null,
   "id": "0ee62ed8",
   "metadata": {},
   "outputs": [],
   "source": [
    "for i in range(100):\n",
    "    a_ = np.random.randint(1,100)\n",
    "    b_ = np.random.randint(1,100)\n",
    "    c_ = np.random.randint(1,100)\n",
    "    print(solve_root_fn(a_, b_, c_), solve(root_solve_sympy(a_,b_,c_)) )"
   ]
  },
  {
   "cell_type": "code",
   "execution_count": null,
   "id": "53b5b5b4",
   "metadata": {},
   "outputs": [],
   "source": [
    "user_def = [-0.10481505, -0.77356333]\n",
    "symp_def = [-65/148 - np.sqrt(2449)/148, -65/148 + np.sqrt(2449)/148]\n",
    "abs(user_def[0] - symp_def[0]) < 10"
   ]
  },
  {
   "cell_type": "code",
   "execution_count": 52,
   "id": "4419b8de",
   "metadata": {},
   "outputs": [
    {
     "name": "stdout",
     "output_type": "stream",
     "text": [
      "0\n"
     ]
    }
   ],
   "source": [
    "final_result = []\n",
    "for i in range(100):\n",
    "    a_ = np.random.randint(1,100)\n",
    "    b_ = np.random.randint(1,100)\n",
    "    c_ = np.random.randint(1,100)\n",
    "    final_result.append((solve_root_fn(a_, b_, c_), root_solve_sympy(a_,b_,c_) ))\n",
    "a_1 = [i for i in final_result if i[0] is not None][1][1][0]\n",
    "b_1 = [i for i in final_result if i[0] is not None][1][1][1]\n",
    "a_0 = [i for i in final_result if i[0] is not None][1][0][0]\n",
    "b_0 = [i for i in final_result if i[0] is not None][1][0][1]\n",
    "result = (a_1 + b_1) - (a_0 + b_0)\n",
    "print(result)"
   ]
  },
  {
   "cell_type": "code",
   "execution_count": null,
   "id": "1b24b670",
   "metadata": {},
   "outputs": [],
   "source": [
    "def f(x):\n",
    "    return 2*x**2 + 4*x + 87"
   ]
  },
  {
   "cell_type": "code",
   "execution_count": null,
   "id": "6e33996d",
   "metadata": {
    "scrolled": true
   },
   "outputs": [],
   "source": [
    "[solve(i) for i in funcs][0][0]"
   ]
  },
  {
   "cell_type": "code",
   "execution_count": null,
   "id": "f339600f",
   "metadata": {},
   "outputs": [],
   "source": [
    "# 3x^2 + 16x + 4\n",
    "x = Symbol('x')\n",
    "solve(3*x**2 + 16*x + 4)"
   ]
  },
  {
   "cell_type": "code",
   "execution_count": null,
   "id": "04b2de04",
   "metadata": {},
   "outputs": [],
   "source": [
    "factor(3*x**2 + 16*x + 4)"
   ]
  },
  {
   "cell_type": "code",
   "execution_count": null,
   "id": "d03e6c3b",
   "metadata": {},
   "outputs": [],
   "source": [
    "def sangjun_solve(a, b, c):\n",
    "    num = (b**2) - (4*a*c)\n",
    "    if num > 0:\n",
    "        r1 = (-b + (b**2-4*a*c)**0.5)/(2*a)\n",
    "        r2 = (-b - (b**2-4*a*c)**0.5)/(2*a)\n",
    "        print(\"{} 또는 {} 입니다.\".format(r1,r2))\n",
    "    elif num == 0:\n",
    "        x = -b / 2*a\n",
    "        print(\"중근이고, 해는 {} 입니다\".format(x))\n",
    "    else:\n",
    "        r1 = (-b + (b**2-4*a*c)**0.5)/(2*a)\n",
    "        r2 = (-b - (b**2-4*a*c)**0.5)/(2*a)\n",
    "        print(\"허근이며, 해는 {} 또는 {} 입니다\".format(r1,r2))\n",
    "        \n",
    "a = 3\n",
    "b = 16\n",
    "c = 4\n",
    "sangjun_solve(a,b,c)"
   ]
  },
  {
   "cell_type": "code",
   "execution_count": null,
   "id": "1408e8a6",
   "metadata": {},
   "outputs": [],
   "source": [
    "f = x**2 + 2*x + 1"
   ]
  },
  {
   "cell_type": "code",
   "execution_count": null,
   "id": "35f3c4f9",
   "metadata": {},
   "outputs": [],
   "source": [
    "solve(f)"
   ]
  },
  {
   "cell_type": "code",
   "execution_count": 3,
   "id": "95e760a5",
   "metadata": {},
   "outputs": [],
   "source": [
    "def root_solve_sympy(a, b, c):\n",
    "    str1 = ''\n",
    "    a_str = str(a)\n",
    "    b_str = str(b)\n",
    "    c_str = str(c)\n",
    "    str1 += a_str + '*x**2+' + b_str + '*x+' + c_str\n",
    "    if b**2 - 4*a*c >= 0: return str1\n",
    "    else: return None"
   ]
  },
  {
   "cell_type": "code",
   "execution_count": null,
   "id": "1560b9d9",
   "metadata": {
    "scrolled": true
   },
   "outputs": [],
   "source": [
    "result_with_none = [root_solve_sympy(np.random.randint(10)\n",
    "                , np.random.randint(10)\n",
    "                , np.random.randint(100) ) for _ in range(100)]\n",
    "result_without_none = [i for i in result_with_none if i is not None]\n",
    "result_without_none"
   ]
  },
  {
   "cell_type": "code",
   "execution_count": null,
   "id": "6a292eab",
   "metadata": {
    "scrolled": true
   },
   "outputs": [],
   "source": [
    "result_with_none = [root_solve() for _ in range(100)]\n",
    "result_witout_none = [i for i in result_with_none if i is not None]\n",
    "result_witout_none"
   ]
  },
  {
   "cell_type": "code",
   "execution_count": null,
   "id": "c92e6159",
   "metadata": {},
   "outputs": [],
   "source": [
    "[solve(f) for f in result_witout_none]"
   ]
  },
  {
   "cell_type": "code",
   "execution_count": 69,
   "id": "10a36380",
   "metadata": {},
   "outputs": [],
   "source": [
    "# 계산해서 해 구하기\n",
    "def solve_root_fn(a, b, c):\n",
    "    test = b**2 - 4*a*c\n",
    "    if  test < 0: return\n",
    "    return np.array([-b - np.sqrt(test),-b + np.sqrt(test)])/(2*a)"
   ]
  },
  {
   "cell_type": "code",
   "execution_count": 70,
   "id": "7ec9e4d5",
   "metadata": {},
   "outputs": [],
   "source": [
    "# sympy로 해 구하기\n",
    "def root_solve_sympy(a, b, c):\n",
    "    str1 = ''\n",
    "    a_str = str(a)\n",
    "    b_str = str(b)\n",
    "    c_str = str(c)\n",
    "    str1 += a_str + '*x**2+' + b_str + '*x+' + c_str\n",
    "    if b**2 - 4*a*c >= 0: return solve(str1)\n",
    "    else: return None"
   ]
  },
  {
   "cell_type": "code",
   "execution_count": 71,
   "id": "85678c44",
   "metadata": {
    "collapsed": true
   },
   "outputs": [
    {
     "data": {
      "text/plain": [
       "[(array([0.09459927, 1.24363603]),\n",
       "  [91/136 - sqrt(6105)/136, sqrt(6105)/136 + 91/136]),\n",
       " (array([-0.24427268, -5.21027278]),\n",
       "  [-30/11 - sqrt(746)/11, -30/11 + sqrt(746)/11]),\n",
       " (array([ 0.51996205, -1.51996205]),\n",
       "  [-1/2 + sqrt(3999)/62, -sqrt(3999)/62 - 1/2]),\n",
       " (array([-1.71660022,  0.84563248]),\n",
       "  [-27/62 + 3*sqrt(701)/62, -3*sqrt(701)/62 - 27/62]),\n",
       " (array([-2.35193455,  0.4449578 ]),\n",
       "  [-41/43 + 4*sqrt(226)/43, -4*sqrt(226)/43 - 41/43]),\n",
       " (array([ 1.84889689, -0.97134587]),\n",
       "  [43/98 - 13*sqrt(113)/98, 43/98 + 13*sqrt(113)/98]),\n",
       " (array([-3.21078722,  1.74412056]),\n",
       "  [-11/15 + sqrt(1381)/15, -sqrt(1381)/15 - 11/15]),\n",
       " (array([-4.61926505, -0.44740162]),\n",
       "  [-38/15 - sqrt(979)/15, -38/15 + sqrt(979)/15]),\n",
       " (array([ 0.13843424, -0.69162573]),\n",
       "  [-13/47 + sqrt(1522)/94, -sqrt(1522)/94 - 13/47]),\n",
       " (array([ 0.22662813, -0.92662813]),\n",
       "  [-7/20 + sqrt(133)/20, -sqrt(133)/20 - 7/20]),\n",
       " (array([ 0.32766236, -1.1738162 ]),\n",
       "  [-11/26 + sqrt(381)/26, -sqrt(381)/26 - 11/26]),\n",
       " (array([-1.09561201,  1.17894534]),\n",
       "  [1/24 - sqrt(745)/24, 1/24 + sqrt(745)/24]),\n",
       " (array([69.81107693,  1.18892307]),\n",
       "  [71/2 - sqrt(4709)/2, sqrt(4709)/2 + 71/2]),\n",
       " (array([-2.23849324,  1.14474324]),\n",
       "  [-35/64 + sqrt(11721)/64, -sqrt(11721)/64 - 35/64]),\n",
       " (array([-0.32250116,  1.13202497]),\n",
       "  [17/42 - sqrt(933)/42, 17/42 + sqrt(933)/42]),\n",
       " (array([-1.19361694,  1.33647408]),\n",
       "  [1/14 - sqrt(2823)/42, 1/14 + sqrt(2823)/42]),\n",
       " (array([-0.32547808,  0.25603363]),\n",
       "  [-5/144 + sqrt(1753)/144, -sqrt(1753)/144 - 5/144]),\n",
       " (array([ 0.04138697, -1.51013697]),\n",
       "  [-47/64 + sqrt(2465)/64, -sqrt(2465)/64 - 47/64]),\n",
       " (array([ 0.61887632, -1.92656862]),\n",
       "  [-17/26 + sqrt(1095)/26, -sqrt(1095)/26 - 17/26]),\n",
       " (array([-0.83630621,  1.83630621]),\n",
       "  [1/2 - 5*sqrt(14)/14, 1/2 + 5*sqrt(14)/14]),\n",
       " (array([-0.70968552,  2.20968552]),\n",
       "  [3/4 - 5*sqrt(165)/44, 3/4 + 5*sqrt(165)/44]),\n",
       " (array([-0.79422832,  1.73789029]),\n",
       "  [67/142 - sqrt(32321)/142, 67/142 + sqrt(32321)/142]),\n",
       " (array([  0.52037428, -11.77037428]),\n",
       "  [-45/8 + sqrt(2417)/8, -sqrt(2417)/8 - 45/8]),\n",
       " (array([ 0.15272188, -1.22772188]),\n",
       "  [-43/80 + sqrt(3049)/80, -sqrt(3049)/80 - 43/80]),\n",
       " (array([0.52529042, 0.21756672]), [13/35 - sqrt(29)/35, sqrt(29)/35 + 13/35]),\n",
       " (array([-0.78202992,  0.67392182]),\n",
       "  [-2/37 + sqrt(2902)/74, -sqrt(2902)/74 - 2/37]),\n",
       " (array([ 9.16386946, -0.76386946]),\n",
       "  [21/5 - 2*sqrt(154)/5, 21/5 + 2*sqrt(154)/5]),\n",
       " (array([-2.04809191, -0.73978687]),\n",
       "  [-46/33 - sqrt(466)/33, -46/33 + sqrt(466)/33]),\n",
       " (array([ 0.54986678, -1.89769286]),\n",
       "  [-31/46 + sqrt(3169)/46, -sqrt(3169)/46 - 31/46]),\n",
       " (array([-1.20520279,  0.35710152]),\n",
       "  [-67/158 + sqrt(15233)/158, -sqrt(15233)/158 - 67/158]),\n",
       " (array([-0.51066735, -4.40599932]),\n",
       "  [-59/24 - sqrt(2185)/24, -59/24 + sqrt(2185)/24]),\n",
       " (array([19.68761617, -0.48761617]),\n",
       "  [48/5 - 4*sqrt(159)/5, 48/5 + 4*sqrt(159)/5]),\n",
       " (array([-0.87918253, -1.97375865]),\n",
       "  [-97/68 - sqrt(1385)/68, -97/68 + sqrt(1385)/68]),\n",
       " (array([-1.24275685,  0.40233132]),\n",
       "  [-79/188 + 3*sqrt(2657)/188, -3*sqrt(2657)/188 - 79/188]),\n",
       " (array([ 1.16855822, -0.33182352]),\n",
       "  [41/98 - sqrt(5405)/98, 41/98 + sqrt(5405)/98]),\n",
       " (array([-1.65919542,  0.8119732 ]),\n",
       "  [-61/144 + sqrt(31657)/144, -sqrt(31657)/144 - 61/144]),\n",
       " (array([-1.47088401,  0.33993163]),\n",
       "  [-95/168 + sqrt(23137)/168, -sqrt(23137)/168 - 95/168]),\n",
       " (array([ 1.00913451, -1.10528835]),\n",
       "  [-5/104 + sqrt(12089)/104, -sqrt(12089)/104 - 5/104]),\n",
       " (array([-0.74952455,  0.60519465]),\n",
       "  [-7/97 + sqrt(4317)/97, -sqrt(4317)/97 - 7/97]),\n",
       " (array([-12.4678693,   0.4678693]), [-6 + sqrt(1506)/6, -sqrt(1506)/6 - 6]),\n",
       " (array([-0.89771364,  2.25882475]),\n",
       "  [49/72 - sqrt(12913)/72, 49/72 + sqrt(12913)/72]),\n",
       " (array([1.96, 2.  ]), [49/25, 2]),\n",
       " (array([-0.29713027,  1.29713027]), [1/2 - sqrt(366)/24, 1/2 + sqrt(366)/24]),\n",
       " (array([ 0.29290371, -1.7418833 ]),\n",
       "  [-71/98 + sqrt(9941)/98, -sqrt(9941)/98 - 71/98]),\n",
       " (array([ 2.19292788, -0.19292788]), [1 - sqrt(962)/26, 1 + sqrt(962)/26]),\n",
       " (array([-13.36073133,   0.86073133]),\n",
       "  [-25/4 + sqrt(809)/4, -sqrt(809)/4 - 25/4]),\n",
       " (array([-1.34892714, -0.12564913]),\n",
       "  [-87/118 - sqrt(5209)/118, -87/118 + sqrt(5209)/118]),\n",
       " (array([-2.76762124,  1.02568575]),\n",
       "  [-27/31 + sqrt(3457)/31, -sqrt(3457)/31 - 27/31]),\n",
       " (array([-1.51940766,  1.56702671]),\n",
       "  [1/42 - sqrt(4201)/42, 1/42 + sqrt(4201)/42]),\n",
       " (array([-1.49087274,  0.78253941]),\n",
       "  [-17/48 + sqrt(2977)/48, -sqrt(2977)/48 - 17/48]),\n",
       " (array([-0.81020119,  9.53747392]),\n",
       "  [48/11 - sqrt(3239)/11, 48/11 + sqrt(3239)/11]),\n",
       " (array([ 0.76536102, -0.77577769]),\n",
       "  [-1/192 + sqrt(21889)/192, -sqrt(21889)/192 - 1/192])]"
      ]
     },
     "execution_count": 71,
     "metadata": {},
     "output_type": "execute_result"
    }
   ],
   "source": [
    "final_result = []\n",
    "for i in range(100):\n",
    "    a_ = np.random.randint(-100,100)\n",
    "    b_ = np.random.randint(-100,100)\n",
    "    c_ = np.random.randint(-100,100)\n",
    "    final_result.append((solve_root_fn(a_, b_, c_), root_solve_sympy(a_,b_,c_) ))\n",
    "# final_result: None이 아닌 해의 결과만 필터링하여 저장\n",
    "final_result_filter = [ i for i in final_result if i[0] is not None]\n",
    "final_result_filter"
   ]
  },
  {
   "cell_type": "code",
   "execution_count": 72,
   "id": "4c0b4a4d",
   "metadata": {},
   "outputs": [
    {
     "data": {
      "text/plain": [
       "0"
      ]
     },
     "execution_count": 72,
     "metadata": {},
     "output_type": "execute_result"
    }
   ],
   "source": [
    "# 합의 차이가 1 미만인 경우 False\n",
    "sum([False for i,j in final_result_filter if abs(sum(i)-sum(j)) < 1 ])"
   ]
  },
  {
   "cell_type": "code",
   "execution_count": 73,
   "id": "e7c34edd",
   "metadata": {},
   "outputs": [
    {
     "name": "stdout",
     "output_type": "stream",
     "text": [
      "True\n",
      "True\n",
      "True\n",
      "True\n",
      "True\n",
      "True\n",
      "True\n",
      "True\n",
      "True\n",
      "True\n",
      "True\n",
      "True\n",
      "False\n",
      "True\n",
      "True\n",
      "True\n",
      "True\n",
      "True\n",
      "True\n",
      "True\n",
      "True\n",
      "True\n",
      "True\n",
      "True\n",
      "True\n",
      "True\n",
      "True\n",
      "True\n",
      "True\n",
      "True\n",
      "True\n",
      "True\n",
      "True\n",
      "True\n",
      "True\n",
      "True\n",
      "True\n",
      "True\n",
      "True\n",
      "True\n",
      "True\n",
      "True\n",
      "True\n",
      "True\n",
      "True\n",
      "True\n",
      "True\n",
      "True\n",
      "True\n",
      "True\n",
      "True\n",
      "True\n"
     ]
    }
   ],
   "source": [
    "for i in final_result_filter:\n",
    "    first = abs(i[0][0] - i[1][0])\n",
    "    second = abs(i[0][1] - i[1][1])\n",
    "    print(first + second < 100)"
   ]
  },
  {
   "cell_type": "code",
   "execution_count": 59,
   "id": "6445657d",
   "metadata": {},
   "outputs": [],
   "source": [
    "def f():\n",
    "    return 1\n",
    "def g():\n",
    "    return 1"
   ]
  },
  {
   "cell_type": "code",
   "execution_count": 65,
   "id": "e8fc0f6e",
   "metadata": {},
   "outputs": [
    {
     "data": {
      "text/plain": [
       "[(1, 1)]"
      ]
     },
     "execution_count": 65,
     "metadata": {},
     "output_type": "execute_result"
    }
   ],
   "source": [
    "b = []\n",
    "b.append((f(),g()))\n",
    "b"
   ]
  }
 ],
 "metadata": {
  "kernelspec": {
   "display_name": "Python 3 (ipykernel)",
   "language": "python",
   "name": "python3"
  },
  "language_info": {
   "codemirror_mode": {
    "name": "ipython",
    "version": 3
   },
   "file_extension": ".py",
   "mimetype": "text/x-python",
   "name": "python",
   "nbconvert_exporter": "python",
   "pygments_lexer": "ipython3",
   "version": "3.10.9"
  }
 },
 "nbformat": 4,
 "nbformat_minor": 5
}
