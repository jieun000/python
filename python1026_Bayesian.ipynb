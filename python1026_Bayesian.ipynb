{
 "cells": [
  {
   "cell_type": "markdown",
   "id": "d4fa2cc0",
   "metadata": {},
   "source": [
    "# 베이지안 갱신"
   ]
  },
  {
   "cell_type": "markdown",
   "id": "7ca3a471",
   "metadata": {},
   "source": [
    "Marginal Probabilty\n",
    "첫번째 단계는 Marginal Probability 정의함. <br>\n",
    "특정 사건이 발행할 확률. <br>\n",
    "예를 들어 동전을 던져 앞면이 나올 marginal 확률 (P(H))는 단순히 0.5\n",
    "$$ P(H) = 0.5 = \\frac{1}{2} $$"
   ]
  },
  {
   "cell_type": "markdown",
   "id": "8d6b81a4",
   "metadata": {},
   "source": [
    "카드를 던지는 경우 다이아몬드(D)가 나올 , maginal 확률 (P(D))는 0.25\n",
    "$$ P(D) = 0.25 = \\frac{1}{4} $$"
   ]
  },
  {
   "cell_type": "markdown",
   "id": "adbd126f",
   "metadata": {},
   "source": [
    "### 결합 확률(joint probability), 동시에 나올 확률\n",
    "2개의 동전이 앞면이 나올 확률은? <br>\n",
    "2개의 동전이 나올 결과의 가지수는 {H,H}, {H,T}, {T,H}, {T,T} <br>\n",
    "2개가 둘 다 앞면이 나올 확률 ($ P(H \\cap H) $) 은 0.25"
   ]
  },
  {
   "cell_type": "markdown",
   "id": "a76fda8c",
   "metadata": {},
   "source": [
    "결합 확률의 경우 <mark>두 사건이 독립일 경우 2개의 marginal 확률의 곱과 같다</mark> <br>\n",
    "하나의 동전이 다른 동전에 영향을 주지 않는다. <br>\n",
    "결합 확률의 중요한 특징은 <u>교환 법칙</u>이 성립한다.\n",
    "\n",
    "$$ P(A \\cap B) = P(B \\cap A) =  P(B, A) $$\n",
    "<p style=\"text-align: center;\">베이즈 이론을 증명할 때 유용하다.</p>"
   ]
  },
  {
   "cell_type": "markdown",
   "id": "4e472dfb",
   "metadata": {},
   "source": [
    "### 조건부 확률 (conditional probability)\n",
    "어떤 사건이 주어졌을 때 다음에 나올 확률을 결정할 때 사용 <br>\n",
    "빨간색 카드를 선택한 경우 카드를 들고 있을 때 3개의 다이아몬드를 고를 때의 확률은? <br>\n",
    "$$ P(3D) = \\frac{1}{52} $$\n",
    "$$ P(R) = \\frac{26}{52} = \\frac{1}{2} $$\n",
    "<p style=\"text-align: center;\">빨간 카드를 가지고 있다고 했을 때 다이아몬드 3을 선택할 확률은 </p>\n",
    "$$ P(3D | R) = \\frac{\\frac{1}{52}}{\\frac{1}{2}} = \\frac{1}{26} $$"
   ]
  },
  {
   "cell_type": "markdown",
   "id": "b666bc29",
   "metadata": {},
   "source": [
    "2개의 사건(A, B)에 대한 공식적인 수식의 정의는\n",
    "$$ P(A|B) = \\frac{P(A \\cap B)}{P(B)} $$\n",
    "$$ P(A \\cap B) = P(B) P(A|B) $$\n",
    "$$ P(A) P(B|A) = P(B) P(A|B) $$\n",
    "$$ P(A|B) = \\frac{P(A) P(B|A)}{P(B)} $$"
   ]
  },
  {
   "cell_type": "markdown",
   "id": "e2c016ce",
   "metadata": {},
   "source": [
    "베이즈 이론은 아래와 같이 분할 가능\n",
    "- P(A) = prior(사전 확률), 우리가 데이터를 관측하기 전에 미리 알고 있다고 믿는 확률.\n",
    "    - 이것은 이런 사건의 marginal 확률\n",
    "- P(B) = 우리가 보유하고 있는 데이터 / event를 관측한 확률. \n",
    "    - 이것은 이런 사건의 marginal 확률, 특히 정규화 상수라 함.\n",
    "- P(B|A)는 likelihood로 알려진 우리가 믿고 있는 것이 주어졌다고 생각하는 확률. \n",
    "    - 실제는 확률이 아님.\n",
    "- P(A|B)는 우리가 데이터를 관측한 후의 우리의 믿음(belief)의 확률이고. \n",
    "    - posterior(사후 확률)"
   ]
  },
  {
   "cell_type": "markdown",
   "id": "33e691ae",
   "metadata": {},
   "source": [
    "베이즈 이론은 아래와 같이 분할 가능\n",
    "- $P(\\theta)$ = prior(사전 확률), 우리가 데이터를 관측하기 전에 미리 알고 있다고 믿는 확률.\n",
    "    - 이것은 이런 사건의 marginal 확률\n",
    "- $P(B)$ = 우리가 보유하고 있는 데이터 / event를 관측한 확률. \n",
    "    - 이것은 이런 사건의 marginal 확률, 특히 정규화 상수라 함.\n",
    "- $ P(x|\\theta) $는 likelihood로 알려진 우리가 믿고 있는 것이 주어졌다고 생각하는 확률. \n",
    "    - 실제는 확률이 아님.\n",
    "- $ P(\\theta|x) $는 우리가 데이터를 관측한 후의 우리의 믿음(belief)의 확률이고. \n",
    "    - posterior(사후 확률)"
   ]
  },
  {
   "cell_type": "markdown",
   "id": "15d96c81",
   "metadata": {},
   "source": [
    "## 전체 확률의 법칙\n",
    "$$ P(A) = \\sum_{i=1}{n} P(A \\cap B_{i}) = \\sum_{i=1}{n} P(B_{i}) P(A|B_{i}) $$"
   ]
  },
  {
   "cell_type": "markdown",
   "id": "587b5976",
   "metadata": {},
   "source": [
    "## 두 개의 서로 다른 합으로 생각 가능함.\n",
    "- B를 덮고 있는 중첩된 모든 A들의 합\n",
    "- B에 대하여 A의 가중 평균"
   ]
  },
  {
   "cell_type": "markdown",
   "id": "244da9dc",
   "metadata": {},
   "source": [
    "### 예제\n",
    "2쌍의 카드를 가지고 있다. 하나는 정상 deck_1(D_1)이고 다른 하나는 빨간색 카드(다이아몬드와 하트)를 가지고 있는 deck_2(D_2). <br>\n",
    "랜덤으로 하나의 deck를 선택하고 다이아몬드 3이 나오는 경우(3D) <br>\n",
    "정상 deck_1(D_1)으로부터 다이아몬드 3이 나오는 확률은?"
   ]
  },
  {
   "cell_type": "markdown",
   "id": "1cd5dca7",
   "metadata": {},
   "source": [
    "우선 랜덤으로 deck_1, deck_2, 중에서 하나를 선택하면 deck_1이 선택될 확률 \n",
    "$$ P(D_{1}) = \\frac{1}{2}$$\n",
    "$$ P(D_{2}) = \\frac{1}{2}$$"
   ]
  },
  {
   "cell_type": "markdown",
   "id": "08053bbb",
   "metadata": {},
   "source": [
    "likelihood 계산\n",
    "$$ P(3D | D_{1}) = \\frac{1}{52} $$\n",
    "$$ P(3D | D_{2}) = \\frac{1}{26} $$"
   ]
  },
  {
   "cell_type": "markdown",
   "id": "0c6477d2",
   "metadata": {},
   "source": [
    "두번째 deck에서만 빨간색 카드가 있고 26개의 카드가 있고, 그 26개 중 하나의 3의 다이아몬드를 선택하는 확률 <br>\n",
    "전체 확률 법칙을 적용하여 다이아몬드 3을 관측할 수 있는 확률?\n",
    "$$ P(3D) = P(D_{1}) P(3D | D_{1}) + P(D_{2}) P(3D | D_{2}) = \\frac{3}{104} $$"
   ]
  },
  {
   "cell_type": "markdown",
   "id": "a3aa800c",
   "metadata": {},
   "source": [
    "## 문제\n",
    "베이지안 이론을 사용하여 아래의 수식을 전개하세요\n",
    "$$ P(D_{1} | 3D) = \\frac{P(D_{1}) P(3D|D_{1})}{3D} = \\frac{1}{3} $$\n",
    "1번 deck로부터 다이아몬드 3이 나오는 확률은?"
   ]
  },
  {
   "cell_type": "markdown",
   "id": "25ee5d69",
   "metadata": {},
   "source": [
    "$$ f(x) = \\frac{x}{5} $$\n",
    "$$ P(2 \\le X \\le3) = F(3) - F(2) $$\n",
    "$$ =\\int_{2}^{3} \\frac{x}{5} dx $$\n",
    "\n",
    "## 이것 풀어보세요\n",
    "$$ \\left [ \\frac{x^{2}}{10} \\right ]_{2}^{3} = (\\frac{9}{10} - \\frac{4}{10})  $$"
   ]
  },
  {
   "cell_type": "markdown",
   "id": "f601e05b",
   "metadata": {},
   "source": [
    "### 이산 확률 변수의 누적 분포함수(CDF)"
   ]
  },
  {
   "cell_type": "markdown",
   "id": "da7ac3b8",
   "metadata": {},
   "source": [
    "<p style=\"text-align: center;\">확률 분포 f(x)를 가지는 이산 확률 변수 X의 누적 분포 함수 F(X)는</p>\n",
    "$$ F(x) = P(X \\le x) = \\sum_{t \\le x}f(t), (단 -\\inf \\le x \\le \\inf) $$"
   ]
  },
  {
   "cell_type": "markdown",
   "id": "79a4bb84",
   "metadata": {},
   "source": [
    "문1) 세 개의 동전을 던져서 앞면이 나오는 횟수를 확률 변수 X라 할 때, 누적 분포 함수를 구해보자.\n",
    "1. 우선 <b>확률 변수</b>를 구한다. <br>\n",
    "    X = 0,1,2,3\n",
    "2. 이를 이용하여 확률 질량 함수(probability mass function)=> pmf를 구한다.\n",
    "     $$ f(0) = P(X=0) = {3 \\choose 0} \\left (  \\frac{1}{2} \\right )^{0} \\left ( \\frac{1}{2} \\right )^{3}  =\\frac{1}{8} $$ \n",
    "    $$ f(1) = P(X=0) = {3 \\choose 1} \\left (  \\frac{1}{2} \\right )^{1} \\left ( \\frac{1}{2} \\right )^{2}  =\\frac{3}{8} $$ \n",
    "    $$ f(2) = P(X=0) = {3 \\choose 2} \\left (  \\frac{1}{2} \\right )^{2} \\left ( \\frac{1}{2} \\right )^{1}  =\\frac{3}{8} $$ \n",
    "    $$ f(3) = P(X=0) = {3 \\choose 3} \\left (  \\frac{1}{2} \\right )^{3} \\left ( \\frac{1}{2} \\right )^{0}  =\\frac{1}{8} $$\n",
    "3. 위의 이산 확률 변수의 누적 분포 함수 공식을 이용\n",
    "$$ F(0) = P(X \\le 0) = \\sum_{t \\le 0} f(t) = f(0) = \\frac{1}{8}$$\n",
    "$$ F(1) = P(X \\le 1) = \\sum_{t \\le 1} f(t) = f(0) + f(1) = \\frac{1}{8} + \\frac{3}{8} = \\frac{4}{8} $$\n",
    "$$ F(2) = P(X \\le 2) = \\sum_{t \\le 2} f(t) = f(0) + f(1) + f(2) = \\frac{1}{8} + \\frac{3}{8} + \\frac{3}{8}= \\frac{7}{8} $$\n",
    "$$ F(3) = P(X \\le 3) = \\sum_{t \\le 3} f(t) = f(0) + f(1) + f(2) + f(3)= \\frac{1}{8} + \\frac{3}{8} + \\frac{3}{8} + \\frac{1}{8} = 1 $$"
   ]
  },
  {
   "cell_type": "markdown",
   "id": "f371e93e",
   "metadata": {},
   "source": [
    "<p style=\"text-align: center;\">$ F(0) = P(X \\le 0) = \\sum_{t \\le 0} f(t) = f(0) = $<b style=\"font-size: 20px; color: red;\">$\\frac{1}{8}$</b></p>\n",
    "<p style=\"text-align: center;\">$ F(1) = P(X \\le 1) = \\sum_{t \\le 1} f(t) = f(0) + f(1) = \\frac{1}{8} + \\frac{3}{8} = $<b style=\"font-size: 20px; color: red;\">$\\frac{4}{8}$</b></p>\n",
    "<p style=\"text-align: center;\">$ F(2) = P(X \\le 2) = \\sum_{t \\le 2} f(t) = f(0) + f(1) + f(2) = \\frac{1}{8} + \\frac{3}{8} + \\frac{3}{8}= $<b style=\"font-size: 20px; color: red;\">$\\frac{7}{8}$</b></p>\n",
    "<p style=\"text-align: center;\">$ F(3) = P(X \\le 3) = \\sum_{t \\le 3} f(t) = f(0) + f(1) + f(2) + f(3)= \\frac{1}{8} + \\frac{3}{8} + \\frac{3}{8} + \\frac{1}{8} = $<b style=\"font-size: 20px; color: red;\">$1$</b></p>"
   ]
  },
  {
   "cell_type": "markdown",
   "id": "176a7e24",
   "metadata": {},
   "source": [
    "중요한 점은, 말 그대로 <b>누적분포</b>함수 이기 때문에 확률변수에 대응하는 모든 확률의 합은 <b>1</b>이 되어야 한다."
   ]
  },
  {
   "cell_type": "markdown",
   "id": "c04ee4f1",
   "metadata": {},
   "source": [
    "## 확률밀도함수"
   ]
  },
  {
   "cell_type": "markdown",
   "id": "e1501a7c",
   "metadata": {},
   "source": [
    "<blockquote>확률질량함수 : 이산확률변수의 확률함수</blockquote>\n",
    "<blockquote>확률밀도함수 : 연속확률변수의 확률함수</blockquote>"
   ]
  },
  {
   "cell_type": "markdown",
   "id": "34f710c4",
   "metadata": {},
   "source": [
    "<blockquote>이산확률변수는 딱 떨어지는 확률변수에서 확률을 구할 수 있지만, <br>\n",
    "    연속확률변수는 <b>그렇지 않다.</b></blockquote>\n",
    "\n",
    "<blockquote>연속확률분포에서 <b>확률을 구할 때는 항상 범위로 표현한다.</b></blockquote>"
   ]
  },
  {
   "cell_type": "markdown",
   "id": "ffdc3674",
   "metadata": {},
   "source": [
    "### 확률 밀도 함수의 조건\n",
    "<blockquote>\n",
    "    연속 확률 변수 X에 대하여 <br>\n",
    "    1. 모든 $ x \\in R에 대하여 f(x) \\ge 0 $, <br>\n",
    "    2. $ \\int_{-\\infty}^{\\infty} f(x) dx = 1 $ <br>\n",
    "    3. $ P(a \\le X \\le b) =  \\int_{a}^{b} f(x) dx $ <br>\n",
    "    를 만족하는 f(x)를 확률 변수 X의 <b>확률 밀도 함수</b>라고 한다.\n",
    "</blockquote>    "
   ]
  },
  {
   "cell_type": "markdown",
   "id": "e5562838",
   "metadata": {},
   "source": [
    "연속확률변수에서 부등호에 붙은 등호는 의미가 없다. 왜냐하면, 연속확률분포에서 ['물을 정확히 100.00ml 따를 수 있을 확률'은 0에 가깝기에 '물을 99ml ~ 101ml 따를 수 있을 확률']처럼 묻는 것처럼, 연속확률변수는 딱 떨어지는 확률을 구하는 것이 아니기 때문.\n",
    "\n",
    "즉,\n",
    "\n",
    "확률밀도함수 f(x)는 결국 어떤 확률변수의 크기를 나타내는 값이다.\n",
    "(확률질량함수도 마찬가지이다. 단, 확률변수가 이산인지 연속인지만 다를 뿐이다.)"
   ]
  },
  {
   "cell_type": "markdown",
   "id": "9dc9c5f8",
   "metadata": {},
   "source": [
    "<img src=\"images/20231026_165323_108.jpg\" />"
   ]
  },
  {
   "cell_type": "markdown",
   "id": "7eb2b8a0",
   "metadata": {},
   "source": [
    "<img src=\"images/2.jpg\" />"
   ]
  },
  {
   "cell_type": "markdown",
   "id": "fce7e160",
   "metadata": {},
   "source": [
    "<a href=\"http://tomoyo.ivyro.net/123/wiki.php/%EC%A1%B0%EA%B1%B4%EB%B6%80%ED%99%95%EB%A5%A0%EB%B0%80%EB%8F%84%ED%95%A8%EC%88%98%2Cconditional_probability_density_function%2Cconditional_PDF\">무시무시한 수식</a>"
   ]
  }
 ],
 "metadata": {
  "kernelspec": {
   "display_name": "Python 3 (ipykernel)",
   "language": "python",
   "name": "python3"
  },
  "language_info": {
   "codemirror_mode": {
    "name": "ipython",
    "version": 3
   },
   "file_extension": ".py",
   "mimetype": "text/x-python",
   "name": "python",
   "nbconvert_exporter": "python",
   "pygments_lexer": "ipython3",
   "version": "3.10.9"
  }
 },
 "nbformat": 4,
 "nbformat_minor": 5
}
