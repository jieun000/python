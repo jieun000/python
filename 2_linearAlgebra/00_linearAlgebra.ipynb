{
 "cells": [
  {
   "cell_type": "markdown",
   "id": "8ac1b98a",
   "metadata": {},
   "source": [
    "# 선형대수\n",
    "\n",
    "<div>\n",
    "    <table style=\"float: left;\">\n",
    "        <tr></tr>\n",
    "        <tr><th style=\"text-align: center;\">넘파이</th></tr>\n",
    "        <tr><td style=\"text-align: center;\">N차원 배열 객체(ndarray)</td></tr>\n",
    "        <tr><td style=\"text-align: center;\">연속 원소 배열 생성 함수</td></tr>\n",
    "        <tr><td style=\"text-align: center;\">배열 생성 함수</td></tr>\n",
    "        <tr><td style=\"text-align: center;\">인덱싱(Indexing) & 슬라이싱(Slicing)</td></tr>\n",
    "    </table>\n",
    "    <table style=\"float: left;\">\n",
    "        <tr><th style=\"text-align: center;\">선형대수</th></tr>\n",
    "        <tr><td style=\"text-align: center;\">벡터</td></tr>\n",
    "        <tr><td style=\"text-align: center;\">행렬</td></tr>\n",
    "        <tr><td style=\"text-align: center;\">선형결합</td></tr>\n",
    "    </table>\n",
    "        <table style=\"float: left;\">\n",
    "        <tr></tr>\n",
    "        <tr><th style=\"text-align: center;\">인공 신경망</th></tr>\n",
    "        <tr><td style=\"text-align: center;\">가중치</td></tr>\n",
    "        <tr><td style=\"text-align: center;\">편향</td></tr>\n",
    "        <tr><td style=\"text-align: center;\">데이터 세트</td></tr>\n",
    "        <tr><td style=\"text-align: center;\">경사 하강법</td></tr>\n",
    "    </table>\n",
    "</div>"
   ]
  },
  {
   "cell_type": "markdown",
   "id": "f769dab3",
   "metadata": {},
   "source": [
    "# 넘파이"
   ]
  },
  {
   "cell_type": "code",
   "execution_count": 1,
   "id": "40237805",
   "metadata": {},
   "outputs": [
    {
     "data": {
      "text/plain": [
       "array([1, 4, 9])"
      ]
     },
     "execution_count": 1,
     "metadata": {},
     "output_type": "execute_result"
    }
   ],
   "source": [
    "A = [1,2,3]\n",
    "B = [1,2,3]\n",
    "# A * B 연산 안 됨\n",
    "\n",
    "import numpy as np\n",
    "A = np.array([1,2,3])\n",
    "B = np.array([1,2,3])\n",
    "A * B # 벡터라이제이션(vectorization): 대응하는 성분끼리 연산함(element-wise)"
   ]
  },
  {
   "cell_type": "markdown",
   "id": "044c60a7",
   "metadata": {},
   "source": [
    "### 넘파이 배열(N차원 배열 객체(ndarray))\n",
    "    : 모든 원소는 같은 타입, 같은 크기를 가지며, 차원 개수만큼의 정수로 인덱싱됨.\n",
    "- 차원(demension) = 축(axis)"
   ]
  },
  {
   "cell_type": "code",
   "execution_count": 2,
   "id": "31ea2c34",
   "metadata": {},
   "outputs": [
    {
     "name": "stdout",
     "output_type": "stream",
     "text": [
      "A.dtype: float64\n",
      "type(A): <class 'numpy.ndarray'>\n",
      "type(A[0]): <class 'numpy.float64'>\n"
     ]
    }
   ],
   "source": [
    "A = np.array([0.1, 0.2, 0.3])\n",
    "print('A.dtype:', A.dtype)\n",
    "print('type(A):', type(A))\n",
    "print('type(A[0]):', type(A[0]))"
   ]
  },
  {
   "cell_type": "code",
   "execution_count": 3,
   "id": "727367b7",
   "metadata": {},
   "outputs": [
    {
     "data": {
      "text/plain": [
       "array([1, 2, 3])"
      ]
     },
     "execution_count": 3,
     "metadata": {},
     "output_type": "execute_result"
    }
   ],
   "source": [
    "# 미리 생성한 리스트를 사용하여 넘파이 배열을 생성\n",
    "A = [1, 2, 3]\n",
    "B = np.array(B)\n",
    "B"
   ]
  },
  {
   "cell_type": "code",
   "execution_count": 4,
   "id": "e9fbaccf",
   "metadata": {},
   "outputs": [
    {
     "name": "stdout",
     "output_type": "stream",
     "text": [
      "float64\n",
      "int32\n"
     ]
    }
   ],
   "source": [
    "# 데이터 타입 지정\n",
    "A = np.array([1, 2, 3], dtype=np.float64)\n",
    "# A = np.array([1., 2., 3.]\n",
    "print(A.dtype)\n",
    "\n",
    "B = A.astype(np.int32)\n",
    "print(B.dtype)"
   ]
  },
  {
   "cell_type": "markdown",
   "id": "5fc1cf0a",
   "metadata": {},
   "source": [
    "### numpy.ndarray 클래스 "
   ]
  },
  {
   "cell_type": "code",
   "execution_count": 5,
   "id": "d833bd70",
   "metadata": {},
   "outputs": [
    {
     "name": "stdout",
     "output_type": "stream",
     "text": [
      "type(A): <class 'numpy.ndarray'>\n",
      "A.ndim: 2\n",
      "A.shape: (2, 3)\n",
      "A.size: 6\n",
      "A.dtype: int32\n",
      "A.itemsize: 4\n",
      "A.data: <memory at 0x000002FC4C162A80>\n"
     ]
    }
   ],
   "source": [
    "A = np.array([\n",
    "    [1,2,3],\n",
    "    [4,5,6]\n",
    "])\n",
    "print('type(A):', type(A))\n",
    "print('A.ndim:', A.ndim) # 배열을 구성하는 차원의 개수\n",
    "print('A.shape:', A.shape) # 배열을 구성하는 차원의 개수와 차원별 크기 (튜플)\n",
    "print('A.size:', A.size) # 배열에 있는 모든 원소의 개수 = shape의 원소를 모두 곱한 값\n",
    "print('A.dtype:', A.dtype) # 배열 원소의 데이터 타입\n",
    "print('A.itemsize:', A.itemsize) # 배열 원소 하나의 바이트 크기\n",
    "print('A.data:', A.data) # 배열 원소를 실제로 저장하고 있는 버퍼"
   ]
  },
  {
   "cell_type": "code",
   "execution_count": 6,
   "id": "692149c7",
   "metadata": {},
   "outputs": [
    {
     "name": "stdout",
     "output_type": "stream",
     "text": [
      "A: [[1 2 3]\n",
      " [4 5 6]]\n",
      "A.max(): 6\n",
      "A.min(): 1\n",
      "A.sum(): 21\n",
      "A.mean(): 3.5\n",
      "==========☆==========\n",
      "A.sum(axis=0): [5 7 9]\n",
      "A.sum(axis=1): [ 6 15]\n"
     ]
    }
   ],
   "source": [
    "A = np.array([\n",
    "    [1,2,3],\n",
    "    [4,5,6]\n",
    "])\n",
    "print('A:', A)\n",
    "\n",
    "print('A.max():', A.max()) # 최댓값\n",
    "print('A.min():', A.min()) # 최솟값\n",
    "print('A.sum():', A.sum()) # 총합\n",
    "print('A.mean():', A.mean()) # 평균\n",
    "\n",
    "print('==========☆==========')\n",
    "# 계산할 차원 방향을 지정하여 계산\n",
    "print('A.sum(axis=0):', A.sum(axis=0)) # 열 방향 계산\n",
    "print('A.sum(axis=1):', A.sum(axis=1)) # 행 방향 계산"
   ]
  },
  {
   "cell_type": "markdown",
   "id": "6ea6ee37",
   "metadata": {},
   "source": [
    "# 연속 원소 배열 생성 함수: arange()"
   ]
  },
  {
   "cell_type": "code",
   "execution_count": 7,
   "id": "1cd0b917",
   "metadata": {},
   "outputs": [
    {
     "data": {
      "text/plain": [
       "(array([0, 1, 2, 3, 4]), array([2, 3, 4]), array([1, 3, 5, 7, 9]))"
      ]
     },
     "execution_count": 7,
     "metadata": {},
     "output_type": "execute_result"
    }
   ],
   "source": [
    "A = np.arange(5) # 마지막값\n",
    "B = np.arange(2, 5) # 시작값, 마지막값\n",
    "C = np.arange(1, 10, 2) # 시작값, 마지막값, 간격\n",
    "A, B, C"
   ]
  },
  {
   "cell_type": "markdown",
   "id": "abe2a2d1",
   "metadata": {},
   "source": [
    "### 3차원"
   ]
  },
  {
   "cell_type": "code",
   "execution_count": 8,
   "id": "0cfaa8b7",
   "metadata": {},
   "outputs": [
    {
     "name": "stdout",
     "output_type": "stream",
     "text": [
      "[ 0  1  2  3  4  5  6  7  8  9 10 11 12 13 14 15 16 17 18 19 20 21 22 23]\n",
      "==========☆reshape☆==========\n",
      "[[[ 0  1  2  3]\n",
      "  [ 4  5  6  7]\n",
      "  [ 8  9 10 11]]\n",
      "\n",
      " [[12 13 14 15]\n",
      "  [16 17 18 19]\n",
      "  [20 21 22 23]]]\n"
     ]
    }
   ],
   "source": [
    "A = np.arange(24) # 0부터 23까지 배열(list)\n",
    "print(A)\n",
    "\n",
    "print('==========☆reshape☆==========')\n",
    "\n",
    "# reshape(열 방향, 열 방향 , 행 방향)\n",
    "A = np.arange(24).reshape(2,3,4)\n",
    "print(A)\n",
    "# [\n",
    "#     [[0,1,2,3],[4,5,6,7],[8,9,10,11]],\n",
    "#     [[12,13,14,15],[16,17,18,19],[20,21,22,23]]\n",
    "# ]"
   ]
  },
  {
   "cell_type": "code",
   "execution_count": 9,
   "id": "e515eff3",
   "metadata": {},
   "outputs": [],
   "source": [
    "A = np.arange(10000).reshape(100,100)\n",
    "# print(A)\n",
    "\n",
    "# 생략 없이 프린트\n",
    "import sys\n",
    "np.set_printoptions(threshold=sys.maxsize)"
   ]
  },
  {
   "cell_type": "markdown",
   "id": "bd5c398e",
   "metadata": {},
   "source": [
    "# 배열 생성 함수\n",
    "- zeros(())\n",
    "- ones(())\n"
   ]
  },
  {
   "cell_type": "code",
   "execution_count": 10,
   "id": "e79fba06",
   "metadata": {},
   "outputs": [
    {
     "data": {
      "text/plain": [
       "(array([[0., 0., 0.],\n",
       "        [0., 0., 0.]]),\n",
       " array([[1., 1., 1.],\n",
       "        [1., 1., 1.]]),\n",
       " array([[0., 0., 0.],\n",
       "        [0., 0., 0.]]),\n",
       " array([[0.70764938, 0.04544483, 0.16533785],\n",
       "        [0.16933168, 0.62636568, 0.99178586]]),\n",
       " array([[7, 3, 9],\n",
       "        [9, 3, 8]]))"
      ]
     },
     "execution_count": 10,
     "metadata": {},
     "output_type": "execute_result"
    }
   ],
   "source": [
    "A = np.zeros((2, 3)) # 모든 원소 0 (default=float64)\n",
    "B = np.ones((2, 3)) # 모든 원소 1\n",
    "C = np.empty((2, 3)) # 초기화되지 않도록 \n",
    "D = np.random.random((2, 3)) # 0~1 사이의 무작위\n",
    "E = np.random.randint(1, 10, (2, 3)) # 지정한 범위 내의 무작위\n",
    "A, B, C, D, E"
   ]
  },
  {
   "cell_type": "markdown",
   "id": "44e4522c",
   "metadata": {},
   "source": [
    "# 인덱싱(Indexing) & 슬라이싱(Slicing)"
   ]
  },
  {
   "cell_type": "code",
   "execution_count": 11,
   "id": "810d34f0",
   "metadata": {},
   "outputs": [
    {
     "name": "stdout",
     "output_type": "stream",
     "text": [
      "[1 2 3]\n",
      "[4 5 6]\n",
      "==========☆==========\n",
      "[1 4]\n",
      "[2 5]\n",
      "[3 6]\n",
      "==========☆==========\n",
      "1\n",
      "2\n",
      "3\n",
      "4\n",
      "5\n",
      "6\n"
     ]
    }
   ],
   "source": [
    "A = np.arange(1, 7).reshape(2, 3)\n",
    "\n",
    "# 행벡터 출력\n",
    "for row in A:\n",
    "    print(row)\n",
    "    \n",
    "print('==========☆==========')\n",
    "\n",
    "# 열벡터 출력\n",
    "for col in A.T:\n",
    "    print(col)\n",
    "    \n",
    "print('==========☆==========')\n",
    "\n",
    "# 원소 개별 출력\n",
    "for i in A.flat:\n",
    "    print(i)"
   ]
  },
  {
   "cell_type": "code",
   "execution_count": 12,
   "id": "bc488eda",
   "metadata": {},
   "outputs": [
    {
     "name": "stdout",
     "output_type": "stream",
     "text": [
      "[[1 2 3]\n",
      " [4 5 6]\n",
      " [7 8 9]]\n",
      "[1 2 3]\n",
      "[1 4 7]\n"
     ]
    }
   ],
   "source": [
    "A = np.arange(1, 10).reshape(3,3)\n",
    "print(A)\n",
    "print(A[0, ...]) # 첫 번째 행 슬라이싱\n",
    "print(A[..., 0]) # 첫 번째 열 슬라이싱"
   ]
  },
  {
   "cell_type": "code",
   "execution_count": null,
   "id": "91219904",
   "metadata": {},
   "outputs": [],
   "source": []
  }
 ],
 "metadata": {
  "kernelspec": {
   "display_name": "Python 3 (ipykernel)",
   "language": "python",
   "name": "python3"
  },
  "language_info": {
   "codemirror_mode": {
    "name": "ipython",
    "version": 3
   },
   "file_extension": ".py",
   "mimetype": "text/x-python",
   "name": "python",
   "nbconvert_exporter": "python",
   "pygments_lexer": "ipython3",
   "version": "3.11.3"
  }
 },
 "nbformat": 4,
 "nbformat_minor": 5
}
