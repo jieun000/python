{
 "cells": [
  {
   "cell_type": "code",
   "execution_count": 1,
   "id": "e922af1d",
   "metadata": {},
   "outputs": [],
   "source": [
    "from sklearn.datasets import make_moons # 머신러닝 라이브러리"
   ]
  },
  {
   "cell_type": "code",
   "execution_count": 2,
   "id": "1a39d825",
   "metadata": {},
   "outputs": [],
   "source": [
    "import matplotlib.pyplot as plt # 그림그리기"
   ]
  },
  {
   "cell_type": "code",
   "execution_count": 3,
   "id": "697e47e6",
   "metadata": {},
   "outputs": [],
   "source": [
    "import numpy as np"
   ]
  },
  {
   "cell_type": "code",
   "execution_count": 4,
   "id": "5f42f910",
   "metadata": {},
   "outputs": [],
   "source": [
    "def sigmoid (z): # (𝑤⋅𝑥+𝑏)\n",
    "    return 1.0/(1+np.exp(-z))"
   ]
  },
  {
   "cell_type": "markdown",
   "id": "48f18467",
   "metadata": {},
   "source": [
    "## Hypothesis (가설)\n",
    "$$ \\frac{1}{1+ e+{-(w \\cdot x+b})} $$"
   ]
  },
  {
   "cell_type": "markdown",
   "id": "7f3bf532",
   "metadata": {},
   "source": [
    "## logistic regression의 cost 함수 = \n",
    "$$ J(W,b) = \\frac{1}{m}\\sum_{i=1}^{m}L(\\widehat{y}^{(i)}, y^{(i)}) =\n",
    "    -\\frac{1}{m}\\sum_{i=1}^{m}[y^{(i)}log(\\widehat{y}^{(i)}+(1-y^{(i)})log(1-\\widehat{y}^{(i)})]\n",
    "$$"
   ]
  },
  {
   "cell_type": "code",
   "execution_count": 5,
   "id": "ffb04182",
   "metadata": {},
   "outputs": [],
   "source": [
    "def loss(y, y_hat): # Cross Entropy\n",
    "    loss = -np.mean(y*(np.log(y_hat)) - (1-y)*np.log(1-y_hat))\n",
    "    return loss"
   ]
  },
  {
   "cell_type": "code",
   "execution_count": 6,
   "id": "f27c7ac4",
   "metadata": {},
   "outputs": [],
   "source": [
    "def gradients(X, y, y_hat):\n",
    "    # X ---> 입력\n",
    "    # y ---> 정답(target / label)\n",
    "    # y_hat ---> 가설(모델의 출력, hypothesis/예측치(prediction/추정))\n",
    "    # w ---> weigth(파라미터, theta / 우리가 구하고자 하는 값)\n",
    "    # b ---> bias (파라미터, theta 0 )\n",
    "    \n",
    "    # m ---> 학습(trainging) 데이터의 갯수\n",
    "    m = X.shape[0]\n",
    "    \n",
    "    # Cost(Loss)를 weight로 미분함\n",
    "    dw = (1/m)*np.dot(X.T, (y_hat - y))\n",
    "    \n",
    "    # Cost(Loss)를 bias로 미분함 \n",
    "    db = (1/m)*np.sum((y_hat - y))\n",
    "    \n",
    "    return dw, db"
   ]
  },
  {
   "cell_type": "code",
   "execution_count": 7,
   "id": "addf2215",
   "metadata": {},
   "outputs": [],
   "source": [
    "def plot_decision_boundary(X, w, b):\n",
    "    # X = 입력\n",
    "    # w = 가중치\n",
    "    # b = bais\n",
    "    \n",
    "    # 직선은  = mx + c\n",
    "    # 그래서 직선의 방정식 mx + c = w.X + b    [.(닷)은 곱한다는 뜻) ]\n",
    "    # m과 c를 풀어라\n",
    "    x1 = [min(X[:, 0]), max(X[:, 0])] # X[:0] X의 모든 행을 가져오고 0열 선택\n",
    "    m = -w[0]/w[1]\n",
    "    c = -b/w[1]\n",
    "    x2 = m*x1 + c\n",
    "    \n",
    "    # 그림 그리기\n",
    "    fig = plt.figure(figsize=(10,8))\n",
    "    plt.plot(X[:, 0][y==0], X[:, 1][y==0], \"g^\")\n",
    "    plt.plot(X[:, 0][y==1], X[:, 1][y==1], \"bs\")\n",
    "    plt.xlim([-2, 2]) # x 구간 지정\n",
    "    plt.ylim([0, 2.2]) # ylimit (y 구간지정)\n",
    "    plt.xlabel(\"feature 1\")\n",
    "    plt.ylabel(\"feature 2\")\n",
    "    plt.title('Decision Boundary')\n",
    "    plt.plot(x1, x2, 'y-')"
   ]
  },
  {
   "cell_type": "code",
   "execution_count": 17,
   "id": "e131fa8c",
   "metadata": {},
   "outputs": [],
   "source": [
    "def normalize(X):\n",
    "    # X <= 입력\n",
    "    # m <= training 개수\n",
    "    # n <= feature 의 갯수 (weight와 내적하는 것)\n",
    "    m, n = X.shape # (m,n) m행 n열\n",
    "    # X행렬의 모든 n개 feature들을 정규화함\n",
    "    for i in range(n):\n",
    "        X = (X - X.mean(axis=0))/X.std(axis=0) \n",
    "        # 어제 했던 수식(데이터와 평균의 차이를) 표준편차(stanard deviation)으로 나눔\n",
    "        return X"
   ]
  },
  {
   "cell_type": "code",
   "execution_count": 25,
   "id": "9cd03cb8",
   "metadata": {},
   "outputs": [],
   "source": [
    "# Train 함수\n",
    "## 이 함수에서 gradient descent를 반복하여 학습을 하고 weight와 bias를 구함\n",
    "def train(X, y, bs, epochs, lr): \n",
    "    # X <- 입력\n",
    "    # y <- true / target\n",
    "    # epoch는 반복횟수\n",
    "    # lr = learning rate(학습율)\n",
    "    \n",
    "    # m <- 학습데이터의 수\n",
    "    # n <- feature의 수\n",
    "    \n",
    "    m, n = X.shape\n",
    "    # wieght와 bias 초기화\n",
    "    w = np.zeros((n, 1))\n",
    "    b = 0\n",
    "    # y를 reshape함(형태를 맞춤)\n",
    "    y = y.reshape(m, 1)\n",
    "    # 입력 데이터 normalize\n",
    "    x = normalize(X)\n",
    "    # LOSS를 저장하기 위한 빈 LIST 생성\n",
    "    losses = []\n",
    "    # 학습\n",
    "    for epoch in range(epochs):\n",
    "        for i in range((m-1)//bs + 1):\n",
    "            # batch 정의, SGD(Stocastric(통계적0), Gradient Descent)\n",
    "            start_i = i*bs # bs(배치 사이즈)\n",
    "            end_i = start_i + bs\n",
    "            xb = X[start_i:end_i]\n",
    "            yb = y[start_i:end_i]\n",
    "            \n",
    "            # hypothesis / 예측 계산\n",
    "            y_hat = sigmoid(np.dot(xb, w) + b)\n",
    "            # loss를 파라미터로 미분\n",
    "            dw, db = gradients(xb, yb, y_hat)\n",
    "            # 파라미터 갱신\n",
    "            w -= lr*dw\n",
    "            b -= lr*db\n",
    "        l = loss(y, sigmoid(np.dot(X, w) + b))\n",
    "        losses.append(l)\n",
    "    # weight와 bias, loss 반환\n",
    "    return w, b, losses"
   ]
  },
  {
   "cell_type": "code",
   "execution_count": 11,
   "id": "25fcb713",
   "metadata": {},
   "outputs": [],
   "source": [
    "# 예측 함수\n",
    "def predict(X):\n",
    "    # X <- 입력\n",
    "    # 입력 데이터 normalize\n",
    "    x = normalize(X)\n",
    "    \n",
    "    # 예측 / 추정치 / y_hat 계산\n",
    "    preds = sigmoid(np.dot(X, w) + b)\n",
    "    # 예측 데이터 저장 리스트 생성\n",
    "    pred_class = []\n",
    "    # y_hat >= 0.5 -> 1로 결과를 출력\n",
    "    # y_hat < 0.5 -> 0으로 결과를 출력\n",
    "    pred_class = [1 if i > 0.5 else 0 for i in preds]\n",
    "    return np.array(pre_class)"
   ]
  },
  {
   "cell_type": "code",
   "execution_count": 26,
   "id": "5ccf618e",
   "metadata": {
    "scrolled": true
   },
   "outputs": [
    {
     "data": {
      "image/png": "[encoded data removed]",
      "text/plain": [
       "<Figure size 1000x800 with 1 Axes>"
      ]
     },
     "metadata": {},
     "output_type": "display_data"
    }
   ],
   "source": [
    "# 학습\n",
    "X, y = make_moons(n_samples=100, noise=0.24)\n",
    "w, b, l = train(X, y, bs=100, epochs=1000, lr=0.01)\n",
    "# 그림 그리기\n",
    "plot_decision_boundary(X,w,b)"
   ]
  },
  {
   "cell_type": "code",
   "execution_count": 31,
   "id": "2ae94179",
   "metadata": {},
   "outputs": [
    {
     "data": {
      "text/plain": [
       "(10,)"
      ]
     },
     "execution_count": 31,
     "metadata": {},
     "output_type": "execute_result"
    }
   ],
   "source": [
    "X_ = np.array(X[:10][:,0]) # y_hat이라 가정합니다.\n",
    "np.shape(X_)"
   ]
  },
  {
   "cell_type": "code",
   "execution_count": 33,
   "id": "4311f562",
   "metadata": {},
   "outputs": [
    {
     "data": {
      "text/plain": [
       "(10,)"
      ]
     },
     "execution_count": 33,
     "metadata": {},
     "output_type": "execute_result"
    }
   ],
   "source": [
    "y_ = np.array(y[:10])\n",
    "np.shape(y_)"
   ]
  },
  {
   "cell_type": "code",
   "execution_count": 45,
   "id": "19cb3cb1",
   "metadata": {},
   "outputs": [
    {
     "data": {
      "text/plain": [
       "(10,)"
      ]
     },
     "execution_count": 45,
     "metadata": {},
     "output_type": "execute_result"
    }
   ],
   "source": [
    "# 문제) \n",
    "y_hat = np.array(X[:10][:,0]) # y_hat이라 가정합니다.\n",
    "np.shape(y_hat)"
   ]
  },
  {
   "cell_type": "code",
   "execution_count": 46,
   "id": "751671ce",
   "metadata": {
    "scrolled": true
   },
   "outputs": [
    {
     "data": {
      "text/plain": [
       "[2, 5, 8, 2, 4, 2, 9, 9, 2, 6]"
      ]
     },
     "execution_count": 46,
     "metadata": {},
     "output_type": "execute_result"
    }
   ],
   "source": [
    "y_true = [np.random.randint(10) for i in range(10)]\n",
    "y_true"
   ]
  },
  {
   "cell_type": "code",
   "execution_count": 52,
   "id": "0e621a2f",
   "metadata": {},
   "outputs": [
    {
     "data": {
      "text/plain": [
       "-6.586989325817256"
      ]
     },
     "execution_count": 52,
     "metadata": {},
     "output_type": "execute_result"
    }
   ],
   "source": [
    "y_true[0]* np.log(np.abs(y_hat[0])) + (1-y_true[0])*np.log(np.abs(1-y_hat[0]))"
   ]
  },
  {
   "cell_type": "code",
   "execution_count": 57,
   "id": "bc7cccbe",
   "metadata": {},
   "outputs": [
    {
     "data": {
      "text/plain": [
       "1.8637025921942274"
      ]
     },
     "execution_count": 57,
     "metadata": {},
     "output_type": "execute_result"
    }
   ],
   "source": [
    "cross_entropy = 0\n",
    "for i, j in zip(y_true, y_hat):\n",
    "    cross_entropy += i* np.log(np.abs(j)) + (1-i)*np.log(np.abs(1-j)) \n",
    "count = len(y_true)\n",
    "-cross_entropy / count"
   ]
  },
  {
   "cell_type": "markdown",
   "id": "76cf19a6",
   "metadata": {},
   "source": [
    "## 손실(Loss) / Cost(비용) 함수\n",
    "## logistic regression의 cost 함수 = \n",
    "$$ J(W,b) = \\frac{1}{m}\\sum_{i=1}^{m}L(\\widehat{y}^{(i)}, y^{(i)}) =\n",
    "    -\\frac{1}{m}\\sum_{i=1}^{m}[y^{(i)}log(\\widehat{y}^{(i)}+(1-y^{(i)})log(1-\\widehat{y}^{(i)})]\n",
    "$$"
   ]
  },
  {
   "cell_type": "code",
   "execution_count": 32,
   "id": "3b5d7207",
   "metadata": {},
   "outputs": [
    {
     "name": "stdout",
     "output_type": "stream",
     "text": [
      "X: (300, 2)\n",
      "y: (300, 2)\n",
      "start:  0 , end:  15 , epoch:  0\n",
      "start:  15 , end:  30 , epoch:  0\n",
      "start:  0 , end:  15 , epoch:  1\n",
      "start:  15 , end:  30 , epoch:  1\n",
      "start:  0 , end:  15 , epoch:  2\n",
      "start:  15 , end:  30 , epoch:  2\n",
      "start:  0 , end:  15 , epoch:  3\n",
      "start:  15 , end:  30 , epoch:  3\n",
      "start:  0 , end:  15 , epoch:  4\n",
      "start:  15 , end:  30 , epoch:  4\n",
      "start:  0 , end:  15 , epoch:  5\n",
      "start:  15 , end:  30 , epoch:  5\n",
      "start:  0 , end:  15 , epoch:  6\n",
      "start:  15 , end:  30 , epoch:  6\n",
      "start:  0 , end:  15 , epoch:  7\n",
      "start:  15 , end:  30 , epoch:  7\n",
      "start:  0 , end:  15 , epoch:  8\n",
      "start:  15 , end:  30 , epoch:  8\n",
      "start:  0 , end:  15 , epoch:  9\n",
      "start:  15 , end:  30 , epoch:  9\n"
     ]
    }
   ],
   "source": [
    "X, y = make_moons(n_samples=300, noise=0.24)\n",
    "print('X:', np.shape(X)) # X데이터 (100행 2열 행렬)\n",
    "print('y:', np.shape(X)) # X데이터 (100행 벡터)\n",
    "bs = 15\n",
    "m = 20\n",
    "for epoch in range(10):\n",
    "    for i in range((m-1)//bs+1):\n",
    "        # batch 정의, SGD(Stocastric(통계적0) Gradient Descent)\n",
    "        start_i = i*bs # bs(배치 사이즈)\n",
    "        end_i = start_i + bs\n",
    "        xb = X[start_i:end_i]\n",
    "        yb = y[start_i:end_i]\n",
    "        print('start: ', start_i, ', end: ', end_i, ', epoch: ', epoch)"
   ]
  },
  {
   "cell_type": "code",
   "execution_count": null,
   "id": "6771835a",
   "metadata": {},
   "outputs": [],
   "source": [
    "X = np.arange(-3,3,0.01)\n",
    "y = sigmoid(X)"
   ]
  },
  {
   "cell_type": "markdown",
   "id": "f90c69f3",
   "metadata": {},
   "source": [
    "#### 미분의 정의 remind\n",
    "$$ \\lim_{h\\rightarrow 0} \\frac{f(x+h)-f(x)}{h} $$"
   ]
  },
  {
   "cell_type": "code",
   "execution_count": null,
   "id": "3595fc4a",
   "metadata": {},
   "outputs": [],
   "source": [
    "def derivative(f, x):\n",
    "    h = 0.00001\n",
    "    return (f(x+h)-f(x))/h"
   ]
  },
  {
   "cell_type": "code",
   "execution_count": null,
   "id": "997031ce",
   "metadata": {},
   "outputs": [],
   "source": [
    "derivated = derivative(sigmoid, X)"
   ]
  },
  {
   "cell_type": "code",
   "execution_count": null,
   "id": "e8d7f10a",
   "metadata": {
    "scrolled": true
   },
   "outputs": [],
   "source": [
    "plt.plot(X, y)"
   ]
  },
  {
   "cell_type": "code",
   "execution_count": null,
   "id": "24b2f56b",
   "metadata": {
    "scrolled": false
   },
   "outputs": [],
   "source": [
    "plt.plot(X, derivated)"
   ]
  },
  {
   "cell_type": "markdown",
   "id": "567909e2",
   "metadata": {},
   "source": [
    "##  Hessian 행렬\n",
    "$$   \\begin{bmatrix}\n",
    " \\frac{\\partial^{2}f}{\\partial x_{1}^2} &  \\frac{\\partial^{2}f}{\\partial x_{1} \\partial x_{2} }  & \\cdot  \\cdot \\cdot  &  \\frac{\\partial^{2}f}{\\partial x_{1} \\partial x_{n} }    \\\\\n",
    "\\frac{\\partial^{2}f}{\\partial x_{2} \\partial x_{1}} &\n",
    "\\frac{\\partial^{2}f}{\\partial x_{1}^2}  & \\cdot  \\cdot \\cdot  &  \n",
    "  \\frac{\\partial^{2}f}{\\partial x_{2}\\partial x_{n}}   \\\\\n",
    "\\vdots & \\vdots & \\ddots & \\vdots \\\\\n",
    "\\frac{\\partial^{2}f}{\\partial x_{n} \\partial x_{1} } &  \\frac{\\partial^{2}f}{\\partial x_{n} \\partial x_{2} }  & \\cdot  \\cdot \\cdot  &  \\frac{\\partial^{2}f}{\\partial x_{n}^{2}}   \n",
    "\\end{bmatrix} $$"
   ]
  },
  {
   "cell_type": "markdown",
   "id": "88246855",
   "metadata": {},
   "source": [
    "<a href=\"https://angeloyeo.github.io/2020/06/17/Hessian.html\">헤시안 행렬의 기하학 의미</a>"
   ]
  },
  {
   "cell_type": "code",
   "execution_count": null,
   "id": "93a566c0",
   "metadata": {},
   "outputs": [],
   "source": [
    "from sympy import symbols, Matrix, Function, simplify, exp, hessian, solve, init_printing\n",
    "x1, x2 = symbols('x1 x2')\n",
    "f, g, h = symbols('f g h', cls=Function)\n",
    "\n",
    "X = Matrix([x1, x2])\n",
    "f = Matrix([-x1*x2*exp(-(x1**2 + x2**2)/2)])\n",
    "h = 2*x1 + 3* x2\n",
    "g = x1**2 + x2**2-10"
   ]
  },
  {
   "cell_type": "code",
   "execution_count": null,
   "id": "de3b26a5",
   "metadata": {},
   "outputs": [],
   "source": [
    "gradf = simplify(f.jacobian(X))\n",
    "gradf"
   ]
  },
  {
   "cell_type": "code",
   "execution_count": null,
   "id": "0d8a6045",
   "metadata": {},
   "outputs": [],
   "source": [
    "hessian = simplify(hessian(f, X)) # hessian(대칭)\n",
    "hessian"
   ]
  }
 ],
 "metadata": {
  "kernelspec": {
   "display_name": "Python 3 (ipykernel)",
   "language": "python",
   "name": "python3"
  },
  "language_info": {
   "codemirror_mode": {
    "name": "ipython",
    "version": 3
   },
   "file_extension": ".py",
   "mimetype": "text/x-python",
   "name": "python",
   "nbconvert_exporter": "python",
   "pygments_lexer": "ipython3",
   "version": "3.11.3"
  }
 },
 "nbformat": 4,
 "nbformat_minor": 5
}
