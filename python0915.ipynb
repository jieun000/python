{
 "cells": [
  {
   "cell_type": "code",
   "execution_count": null,
   "id": "03409b12",
   "metadata": {},
   "outputs": [],
   "source": [
    "import numpy as np\n",
    "import cv2"
   ]
  },
  {
   "cell_type": "code",
   "execution_count": null,
   "id": "8a73aebc",
   "metadata": {},
   "outputs": [],
   "source": [
    "# 1 증가할 때 밝기 10증가 & 255를 넘지 않게\n",
    "def f():\n",
    "    src = np.zeros((400,400),np.uint8)\n",
    "    def v(pp):\n",
    "        if pp>25: pp = 25\n",
    "        dst = src[:] + (pp*10)\n",
    "        cv2.imshow('dst', dst)\n",
    "    cv2.namedWindow('dst')\n",
    "    cv2.createTrackbar('Brightness', 'dst', 0, 100, v)\n",
    "    v(0)\n",
    "    cv2.waitKey()\n",
    "    cv2.destroyAllWindows()\n",
    "f()"
   ]
  },
  {
   "cell_type": "code",
   "execution_count": null,
   "id": "de15f729",
   "metadata": {},
   "outputs": [],
   "source": [
    "# 4분할하고 각각의 밝기의 변화를 다르게 주세요\n",
    "def f():\n",
    "    src = np.zeros((400,400),np.uint8)\n",
    "    height_center = src.shape[1]//2\n",
    "    weight_center = src.shape[0]//2\n",
    "    def v(pp):\n",
    "        src[:weight_center, :height_center] += (pp*2)\n",
    "        src[weight_center:, :height_center] += (pp*3)\n",
    "        src[weight_center:, height_center:] += (pp*5)\n",
    "        src[:weight_center, height_center:] += (pp*7)\n",
    "        cv2.imshow('dst', src)\n",
    "    cv2.namedWindow('dst')\n",
    "    cv2.createTrackbar('Brightness', 'dst', 0, 100, v)\n",
    "    v(0)\n",
    "    cv2.waitKey()\n",
    "    cv2.destroyAllWindows()\n",
    "f()"
   ]
  },
  {
   "cell_type": "code",
   "execution_count": null,
   "id": "4dc03091",
   "metadata": {},
   "outputs": [],
   "source": [
    "def f(n):\n",
    "    src = np.zeros((400,400),np.uint8)\n",
    "    height_step = src.shape[1]//n\n",
    "    weight_step = src.shape[0]//n\n",
    "    leng = src.shape[1] // weight_step\n",
    "    leng_ = int(400 / leng)\n",
    "    def v(pp):\n",
    "        for i in range(leng):\n",
    "            src[i*leng_:i+height_step*leng_] += (pp*np.random.randint(256))\n",
    "        cv2.imshow('dst', src)\n",
    "        \n",
    "    cv2.namedWindow('dst')\n",
    "    cv2.createTrackbar('Brightness', 'dst', 0, 100, v)\n",
    "    v(0)\n",
    "    cv2.waitKey()\n",
    "    cv2.destroyAllWindows()\n",
    "f(15)"
   ]
  }
 ],
 "metadata": {
  "kernelspec": {
   "display_name": "Python 3 (ipykernel)",
   "language": "python",
   "name": "python3"
  },
  "language_info": {
   "codemirror_mode": {
    "name": "ipython",
    "version": 3
   },
   "file_extension": ".py",
   "mimetype": "text/x-python",
   "name": "python",
   "nbconvert_exporter": "python",
   "pygments_lexer": "ipython3",
   "version": "3.11.3"
  }
 },
 "nbformat": 4,
 "nbformat_minor": 5
}
