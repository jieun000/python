{
 "cells": [
  {
   "cell_type": "code",
   "execution_count": null,
   "id": "03409b12",
   "metadata": {},
   "outputs": [],
   "source": [
    "import numpy as np\n",
    "import cv2"
   ]
  },
  {
   "cell_type": "code",
   "execution_count": null,
   "id": "8a73aebc",
   "metadata": {},
   "outputs": [],
   "source": [
    "# 1 증가할 때 밝기 10증가 & 255를 넘지 않게\n",
    "def f():\n",
    "    src = np.zeros((400,400),np.uint8)\n",
    "    def v(pp):\n",
    "        if pp>25: pp = 25\n",
    "        dst = src[:] + (pp*10)\n",
    "        cv2.imshow('dst', dst)\n",
    "    cv2.namedWindow('dst')\n",
    "    cv2.createTrackbar('Brightness', 'dst', 0, 100, v)\n",
    "    v(0)\n",
    "    cv2.waitKey()\n",
    "    cv2.destroyAllWindows()\n",
    "f()"
   ]
  },
  {
   "cell_type": "code",
   "execution_count": null,
   "id": "de15f729",
   "metadata": {},
   "outputs": [],
   "source": [
    "# 4분할하고 각각의 밝기의 변화를 다르게 주세요\n",
    "def f():\n",
    "    src = np.zeros((400,400),np.uint8)\n",
    "    height_center = src.shape[1]//2\n",
    "    weight_center = src.shape[0]//2\n",
    "    def v(pp):\n",
    "        src[:weight_center, :height_center] += (pp*2)\n",
    "        src[weight_center:, :height_center] += (pp*3)\n",
    "        src[weight_center:, height_center:] += (pp*5)\n",
    "        src[:weight_center, height_center:] += (pp*7)\n",
    "        cv2.imshow('dst', src)\n",
    "    cv2.namedWindow('dst')\n",
    "    cv2.createTrackbar('Brightness', 'dst', 0, 100, v)\n",
    "    v(0)\n",
    "    cv2.waitKey()\n",
    "    cv2.destroyAllWindows()\n",
    "f()"
   ]
  },
  {
   "cell_type": "code",
   "execution_count": null,
   "id": "4dc03091",
   "metadata": {},
   "outputs": [],
   "source": [
    "def f(n):\n",
    "    src = np.zeros((400,400),np.uint8)\n",
    "    height_step = src.shape[1]//n\n",
    "    weight_step = src.shape[0]//n\n",
    "    leng = src.shape[1] // weight_step\n",
    "    leng_ = int(400 / leng)\n",
    "    def v(pp):\n",
    "        for i in range(leng):\n",
    "            src[i*leng_:i+height_step*leng_] += (pp*np.random.randint(256))\n",
    "        cv2.imshow('dst', src)\n",
    "        \n",
    "    cv2.namedWindow('dst')\n",
    "    cv2.createTrackbar('Brightness', 'dst', 0, 100, v)\n",
    "    v(0)\n",
    "    cv2.waitKey()\n",
    "    cv2.destroyAllWindows()\n",
    "f(15)"
   ]
  },
  {
   "cell_type": "code",
   "execution_count": null,
   "id": "78c70e0f",
   "metadata": {},
   "outputs": [],
   "source": []
  },
  {
   "cell_type": "code",
   "execution_count": null,
   "id": "f8178c23",
   "metadata": {},
   "outputs": [],
   "source": [
    "def cyclic_iter(l, spec_index): # 순환(cyclic) 반복(iteraion)\n",
    "    result = []\n",
    "    length = len(l)\n",
    "    for i in range(length):\n",
    "        e_index = spec_index % length # 돌기 위해\n",
    "#         print(e_index)\n",
    "        result.append(l[e_index])\n",
    "        spec_index += 1\n",
    "    return result"
   ]
  },
  {
   "cell_type": "code",
   "execution_count": null,
   "id": "7d1dcd2d",
   "metadata": {},
   "outputs": [],
   "source": [
    "print(1%3)\n",
    "print(2%3)\n",
    "print(3%3)\n",
    "print(4%3)\n",
    "print(5%3)"
   ]
  },
  {
   "cell_type": "code",
   "execution_count": null,
   "id": "8e77ab92",
   "metadata": {},
   "outputs": [],
   "source": [
    "chars = ['a', 'b', 'c', 'd', 'e', 'f', 'g', 'h']\n",
    "print('original list')\n",
    "print(chars)\n",
    "spec_index = 3\n",
    "print('\\n 특정 인덱스 ', spec_index)\n",
    "print(cyclic_iter(chars, spec_index))\n",
    "spec_index = 5\n",
    "print('\\n 특정 인덱스 ', spec_index)\n",
    "print(cyclic_iter(chars, spec_index))\n",
    "spec_index = 9\n",
    "print('\\n 특정 인덱스 ', spec_index)\n",
    "print(cyclic_iter(chars, spec_index))"
   ]
  },
  {
   "cell_type": "code",
   "execution_count": null,
   "id": "8438b877",
   "metadata": {},
   "outputs": [],
   "source": [
    "arr = [1,2,3,7,9]\n",
    "window_size = 3"
   ]
  },
  {
   "cell_type": "code",
   "execution_count": null,
   "id": "7381a95e",
   "metadata": {},
   "outputs": [],
   "source": [
    "i = 0\n",
    "moving_average = [] # 이동 평균을 저장할 빈 list.\n",
    "while i<len(arr) - window_size + 1: # 매 윈도우 크기 3마다 반복함.\n",
    "    window = arr[i:i+window_size] # 현재 window를 얻기 위해 list에서 i부터 i+window_size를 저장함.\n",
    "    window_average = round(sum(window)/window_size, 2) # 현재 window의 평균 계산\n",
    "    \n",
    "    moving_average.append(window_average) # 이동 편균 list에 현재 window의 평균 저장\n",
    "    i += 1 # window를 한칸 이동함\n",
    "moving_average"
   ]
  }
 ],
 "metadata": {
  "kernelspec": {
   "display_name": "Python 3 (ipykernel)",
   "language": "python",
   "name": "python3"
  },
  "language_info": {
   "codemirror_mode": {
    "name": "ipython",
    "version": 3
   },
   "file_extension": ".py",
   "mimetype": "text/x-python",
   "name": "python",
   "nbconvert_exporter": "python",
   "pygments_lexer": "ipython3",
   "version": "3.11.3"
  }
 },
 "nbformat": 4,
 "nbformat_minor": 5
}
