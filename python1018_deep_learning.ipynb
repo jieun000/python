{
 "cells": [
  {
   "cell_type": "code",
   "execution_count": 1,
   "id": "2920df17",
   "metadata": {},
   "outputs": [
    {
     "data": {
      "text/plain": [
       "'C:\\\\Users\\\\Admin\\\\Jieun\\\\1016_deeplearning_from_scratch\\\\ch04_1018'"
      ]
     },
     "execution_count": 1,
     "metadata": {},
     "output_type": "execute_result"
    }
   ],
   "source": [
    "pwd"
   ]
  },
  {
   "cell_type": "code",
   "execution_count": 2,
   "id": "ce8d59e5",
   "metadata": {},
   "outputs": [],
   "source": [
    "import numpy as np\n",
    "from mnist import load_mnist\n",
    "import pickle"
   ]
  },
  {
   "cell_type": "markdown",
   "id": "89477bc6",
   "metadata": {},
   "source": [
    "<a href='https://benn.tistory.com/43'>피클 파일 다루기</a>"
   ]
  },
  {
   "cell_type": "code",
   "execution_count": 3,
   "id": "ec3681f3",
   "metadata": {},
   "outputs": [],
   "source": [
    "from commons.functions import softmax, sigmoid"
   ]
  },
  {
   "cell_type": "code",
   "execution_count": 4,
   "id": "e3e4ecbb",
   "metadata": {},
   "outputs": [],
   "source": [
    "def get_data():\n",
    "    (x_train, t_train), (x_test, t_test) = load_mnist(normalize=True, flatten=True,\n",
    "                                                     one_hot_label=False)\n",
    "    return x_test, t_test"
   ]
  },
  {
   "cell_type": "code",
   "execution_count": 5,
   "id": "b5ca66c8",
   "metadata": {},
   "outputs": [],
   "source": [
    "def init_network():\n",
    "    with open(\"sample_weight.pkl\", 'rb') as f: # 기존에 학습시킨 weight를 저장\n",
    "        # pre_trained 데이터 가져다가 fine tuning을 함\n",
    "        network = pickle.load(f)\n",
    "    return network"
   ]
  },
  {
   "cell_type": "markdown",
   "id": "d73fe930",
   "metadata": {},
   "source": [
    "<a href=\"https://wikidocs.net/22647\">원 핫 인코딩</a>"
   ]
  },
  {
   "cell_type": "code",
   "execution_count": 6,
   "id": "3829f60c",
   "metadata": {},
   "outputs": [],
   "source": [
    "def predict(network, x):\n",
    "    W1, W2, W3 = network['W1'], network['W2'], network['W3']\n",
    "    b1, b2, b3 = network['b1'], network['b2'], network['b3']\n",
    "    \n",
    "    a1 = np.dot(x, W1) + b1\n",
    "    z1 = sigmoid(a1)\n",
    "    a2 = np.dot(z1, W2) + b2\n",
    "    z2 = sigmoid(a2)\n",
    "    a3 = np.dot(z2, W3) + b3\n",
    "    y = softmax(a3)\n",
    "    return y"
   ]
  },
  {
   "cell_type": "code",
   "execution_count": 7,
   "id": "facc5a13",
   "metadata": {},
   "outputs": [
    {
     "name": "stdout",
     "output_type": "stream",
     "text": [
      "정확도: 0.9352\n"
     ]
    }
   ],
   "source": [
    "x, t = get_data()\n",
    "network = init_network()\n",
    "accuracy_cnt = 0\n",
    "for i in range(len(x)):\n",
    "    y = predict(network, x[i])\n",
    "    p = np.argmax(y) # 확률이 가장 높은 원소의 index를 얻는다\n",
    "    if p==t[i]:\n",
    "        accuracy_cnt += 1\n",
    "print(\"정확도: \" + str(float(accuracy_cnt)/len(x)))"
   ]
  },
  {
   "cell_type": "markdown",
   "id": "5b2db8e0",
   "metadata": {},
   "source": [
    "<a href='https://www.youtube.com/watch?v=aircAruvnKk&list=PLZHQObOWTQDNU6R1_67000Dx_ZCJB-3pi'>신경망</a>"
   ]
  },
  {
   "cell_type": "markdown",
   "id": "bf6cfed0",
   "metadata": {},
   "source": [
    "## 배치 처리"
   ]
  },
  {
   "cell_type": "code",
   "execution_count": 8,
   "id": "4fcbab1e",
   "metadata": {},
   "outputs": [],
   "source": [
    "x, _ = get_data()\n",
    "network = init_network()\n",
    "W1, W2, W3 = network['W1'], network['W2'], network['W3']"
   ]
  },
  {
   "cell_type": "code",
   "execution_count": 9,
   "id": "7d17c1e7",
   "metadata": {},
   "outputs": [
    {
     "data": {
      "text/plain": [
       "(10000, 784)"
      ]
     },
     "execution_count": 9,
     "metadata": {},
     "output_type": "execute_result"
    }
   ],
   "source": [
    "x.shape # 1000장의 이미지, 28*28=784"
   ]
  },
  {
   "cell_type": "code",
   "execution_count": 10,
   "id": "3864bc86",
   "metadata": {},
   "outputs": [
    {
     "data": {
      "text/plain": [
       "(784,)"
      ]
     },
     "execution_count": 10,
     "metadata": {},
     "output_type": "execute_result"
    }
   ],
   "source": [
    "x[0].shape"
   ]
  },
  {
   "cell_type": "code",
   "execution_count": 11,
   "id": "4abd686d",
   "metadata": {},
   "outputs": [
    {
     "data": {
      "text/plain": [
       "(784, 50)"
      ]
     },
     "execution_count": 11,
     "metadata": {},
     "output_type": "execute_result"
    }
   ],
   "source": [
    "W1.shape"
   ]
  },
  {
   "cell_type": "code",
   "execution_count": 12,
   "id": "81f6a201",
   "metadata": {},
   "outputs": [
    {
     "name": "stdout",
     "output_type": "stream",
     "text": [
      "w1 shape: (784, 50)\n",
      "w2 shape: (50, 100)\n",
      "w3 shape: (100, 10)\n"
     ]
    }
   ],
   "source": [
    "print('w1 shape:', W1.shape)\n",
    "print('w2 shape:', W2.shape)\n",
    "print('w3 shape:', W3.shape)"
   ]
  },
  {
   "cell_type": "markdown",
   "id": "982c20e4",
   "metadata": {},
   "source": [
    "X(784), W1(784X50), W2(50,100), W3(100,10)\n",
    "하나로 묶은 데이터를 배치라고 함."
   ]
  },
  {
   "cell_type": "code",
   "execution_count": 13,
   "id": "87774bcf",
   "metadata": {},
   "outputs": [
    {
     "name": "stdout",
     "output_type": "stream",
     "text": [
      "정확도: 0.9352\n"
     ]
    }
   ],
   "source": [
    "x, t = get_data()\n",
    "batch_size = 100 # 배치 크기\n",
    "accuracy_cnt = 0\n",
    "for i in range(0, len(x), batch_size):\n",
    "    x_batch = x[i:i + batch_size]\n",
    "    y_batch = predict(network, x_batch)\n",
    "    p = np.argmax(y_batch, axis=1) # 1차원이면 어떤 축으로 정할 필요가 없지만\n",
    "    # 2차원이면 해당 축에서 가장 큰값의 index를 알려달라고 정해야 함.\n",
    "    accuracy_cnt += np.sum(p==t[i:i + batch_size])\n",
    "print(\"정확도: \" + str(float(accuracy_cnt)/len(x)))"
   ]
  },
  {
   "cell_type": "code",
   "execution_count": 14,
   "id": "d0076355",
   "metadata": {},
   "outputs": [
    {
     "name": "stdout",
     "output_type": "stream",
     "text": [
      "정확도: 0.9352\n"
     ]
    }
   ],
   "source": [
    "x, t = get_data()\n",
    "batch_size = 1000 # 배치 크기\n",
    "accuracy_cnt = 0\n",
    "for i in range(0, len(x), batch_size):\n",
    "    x_batch = x[i:i + batch_size]\n",
    "    y_batch = predict(network, x_batch)\n",
    "    p = np.argmax(y_batch, axis=1) # 1차원이면 어떤 축으로 정할 필요가 없지만\n",
    "    # 2차원이면 해당 축에서 가장 큰값의 index를 알려달라고 정해야 함.\n",
    "    accuracy_cnt += np.sum(p==t[i:i + batch_size])\n",
    "print(\"정확도: \" + str(float(accuracy_cnt)/len(x)))"
   ]
  },
  {
   "cell_type": "markdown",
   "id": "f06a0709",
   "metadata": {},
   "source": [
    "## 손실함수\n",
    "### 평균 제곱 오차 (Mean Squre Error)\n",
    "$$ E = \\frac{1}{2} \\sum_{k}(y_{k} - t_{k})^2 $$"
   ]
  },
  {
   "cell_type": "code",
   "execution_count": 15,
   "id": "bb132629",
   "metadata": {},
   "outputs": [],
   "source": [
    "def mean_squared_error(y, t):\n",
    "    return 0.5 * np.sum((y-t)**2)"
   ]
  },
  {
   "cell_type": "code",
   "execution_count": 16,
   "id": "4f34fcf3",
   "metadata": {},
   "outputs": [
    {
     "data": {
      "text/plain": [
       "0"
      ]
     },
     "execution_count": 16,
     "metadata": {},
     "output_type": "execute_result"
    }
   ],
   "source": [
    "t=[0,0,1,0,0,0,0,0,0,0]\n",
    "y=[0.1,0.05 , 0.6,0.0,0.05,0.1,0.0,0.1,0.0,0.0]\n",
    "len(t) - len(y)"
   ]
  },
  {
   "cell_type": "code",
   "execution_count": 17,
   "id": "3516df88",
   "metadata": {},
   "outputs": [],
   "source": [
    "import numpy as np"
   ]
  },
  {
   "cell_type": "code",
   "execution_count": 18,
   "id": "c39a3012",
   "metadata": {},
   "outputs": [
    {
     "data": {
      "text/plain": [
       "0.09750000000000003"
      ]
     },
     "execution_count": 18,
     "metadata": {},
     "output_type": "execute_result"
    }
   ],
   "source": [
    "mean_squared_error(np.array(y), np.array(t))"
   ]
  },
  {
   "cell_type": "code",
   "execution_count": 19,
   "id": "3207d9fd",
   "metadata": {},
   "outputs": [
    {
     "data": {
      "text/plain": [
       "0.5975"
      ]
     },
     "execution_count": 19,
     "metadata": {},
     "output_type": "execute_result"
    }
   ],
   "source": [
    "y=[0.1,0.05 , 0.1,0.0,0.05,0.1,0.0,0.6,0.0,0.0]\n",
    "mean_squared_error(np.array(y), np.array(t))"
   ]
  },
  {
   "cell_type": "markdown",
   "id": "bb2a87f5",
   "metadata": {},
   "source": [
    "## 교차 엔트로피 오차(Cross Entropy)\n",
    "$$ -\\sum_{k} t+{k} log y_{k} $$\n",
    "\n",
    "- logistic entropy의 cross entropy와 다름?"
   ]
  },
  {
   "cell_type": "markdown",
   "id": "8e024f7e",
   "metadata": {},
   "source": [
    "- logistic entropy\n",
    "<img src='images/losisticEntropy.jpg' />"
   ]
  },
  {
   "cell_type": "markdown",
   "id": "10e452b3",
   "metadata": {},
   "source": [
    "<a href='https://www.philgineer.com/2021/10/31.html'>소프트맥스와 크로스 엔트로피</a> <br>\n",
    "<a href='https://davinci-ai.tistory.com/28'>분류(Classification) 네트워크</a>"
   ]
  },
  {
   "cell_type": "code",
   "execution_count": 20,
   "id": "119a9fea",
   "metadata": {},
   "outputs": [],
   "source": [
    "def cross_entropy_error(y, t):\n",
    "    delta = 1e-7\n",
    "    return -np.sum(t * np.log(y + delta)) # log의 값이 0이 되며 안되므로 약간의 오차 보정"
   ]
  },
  {
   "cell_type": "code",
   "execution_count": 21,
   "id": "c0974615",
   "metadata": {},
   "outputs": [
    {
     "data": {
      "text/plain": [
       "0.510825457099338"
      ]
     },
     "execution_count": 21,
     "metadata": {},
     "output_type": "execute_result"
    }
   ],
   "source": [
    "t=[0,0,1,0,0,0,0,0,0,0]\n",
    "y=[0.1,0.05 , 0.6,0.0,0.05,0.1,0.0,0.1,0.0,0.0]\n",
    "cross_entropy_error(np.array(y), np.array(t))"
   ]
  },
  {
   "cell_type": "code",
   "execution_count": 22,
   "id": "ed5b297b",
   "metadata": {},
   "outputs": [
    {
     "data": {
      "text/plain": [
       "2.302584092994546"
      ]
     },
     "execution_count": 22,
     "metadata": {},
     "output_type": "execute_result"
    }
   ],
   "source": [
    "y=[0.1,0.05 , 0.1,0.0,0.05,0.1,0.0,0.6,0.0,0.0]\n",
    "cross_entropy_error(np.array(y), np.array(t))"
   ]
  },
  {
   "cell_type": "markdown",
   "id": "35b0133e",
   "metadata": {},
   "source": []
  },
  {
   "cell_type": "markdown",
   "id": "c37f8c99",
   "metadata": {},
   "source": [
    "<a href='https://blog.naver.com/PostView.nhn?blogId=syg7949&logNo=221861927747&parentCategoryNo=&categoryNo=41&viewDate=&isShowPopularPosts=true&from=search'>[딥러닝-keras] MultiClass Classification 사용하기</a>"
   ]
  },
  {
   "cell_type": "code",
   "execution_count": 23,
   "id": "354f8269",
   "metadata": {},
   "outputs": [],
   "source": [
    "from keras.datasets import reuters"
   ]
  },
  {
   "cell_type": "code",
   "execution_count": 24,
   "id": "9117e8a4",
   "metadata": {
    "scrolled": true
   },
   "outputs": [],
   "source": [
    "(train_data, train_labels), (test_data, test_labels) = reuters.load_data(num_words=10000)"
   ]
  },
  {
   "cell_type": "code",
   "execution_count": 25,
   "id": "86bb9333",
   "metadata": {},
   "outputs": [
    {
     "name": "stdout",
     "output_type": "stream",
     "text": [
      "8982 2246 [1, 2, 2, 8, 43, 10, 447, 5, 25, 207, 270, 5, 3095, 111, 16, 369, 186, 90, 67, 7, 89, 5, 19, 102, 6, 19, 124, 15, 90, 67, 84, 22, 482, 26, 7, 48, 4, 49, 8, 864, 39, 209, 154, 6, 151, 6, 83, 11, 15, 22, 155, 11, 15, 7, 48, 9, 4579, 1005, 504, 6, 258, 6, 272, 11, 15, 22, 134, 44, 11, 15, 16, 8, 197, 1245, 90, 67, 52, 29, 209, 30, 32, 132, 6, 109, 15, 17, 12]\n"
     ]
    }
   ],
   "source": [
    "print(len(train_data), len(test_data), train_data[0])"
   ]
  },
  {
   "cell_type": "markdown",
   "id": "1637c927",
   "metadata": {},
   "source": [
    "data가 주어지면 이게 결국은 숫자가 들어간 list로 구성되어있기 때문에 <br>\n",
    "{숫자: 단어}로 된 dictionary를 이용해서 <br>\n",
    "파일을 읽는다. <br>"
   ]
  },
  {
   "cell_type": "code",
   "execution_count": 26,
   "id": "e52318bb",
   "metadata": {},
   "outputs": [
    {
     "data": {
      "text/plain": [
       "'? ? ? said as a result of its december acquisition of space co it expects earnings per share in 1987 of 1 15 to 1 30 dlrs per share up from 70 cts in 1986 the company said pretax net should rise to nine to 10 mln dlrs from six mln dlrs in 1986 and rental operation revenues to 19 to 22 mln dlrs from 12 5 mln dlrs it said cash flow per share this year should be 2 50 to three dlrs reuter 3'"
      ]
     },
     "execution_count": 26,
     "metadata": {},
     "output_type": "execute_result"
    }
   ],
   "source": [
    "word_index = reuters.get_word_index()\n",
    "reverse_word_index = dict([(value, key) for (key, value) in word_index.items()])\n",
    "decoded_newswire = ' '.join([reverse_word_index.get(i-3, '?') for i in train_data[0]])\n",
    "decoded_newswire"
   ]
  },
  {
   "cell_type": "markdown",
   "id": "fd0e2316",
   "metadata": {},
   "source": [
    "## 데이터 전처리(data Pre-processiong)\n",
    "데이터를 vector로 변환"
   ]
  },
  {
   "cell_type": "code",
   "execution_count": 27,
   "id": "00136e80",
   "metadata": {},
   "outputs": [],
   "source": [
    "import numpy as np"
   ]
  },
  {
   "cell_type": "code",
   "execution_count": 28,
   "id": "5dbb4895",
   "metadata": {},
   "outputs": [],
   "source": [
    "def vectorize_sequence(sequences, dimension=10000):\n",
    "    results = np.zeros((len(sequences), dimension))\n",
    "    for i, sequences in enumerate(sequences):\n",
    "        results[i, sequences] = 1.\n",
    "    return results"
   ]
  },
  {
   "cell_type": "code",
   "execution_count": 29,
   "id": "a82e5ffc",
   "metadata": {
    "scrolled": true
   },
   "outputs": [],
   "source": [
    "x_train = vectorize_sequence(train_data)\n",
    "y_test = vectorize_sequence(test_data)"
   ]
  },
  {
   "cell_type": "markdown",
   "id": "6e8ae577",
   "metadata": {},
   "source": [
    "## multiclass label을 one-hot-encoding으로 변환"
   ]
  },
  {
   "cell_type": "code",
   "execution_count": 30,
   "id": "f86eaa34",
   "metadata": {},
   "outputs": [],
   "source": [
    "def to_one_hot(labels, dimension=46):\n",
    "    results = np.zeros((len(labels), dimension))\n",
    "    for i, label in enumerate(labels):\n",
    "        results[i, label] = 1.\n",
    "    return results"
   ]
  },
  {
   "cell_type": "markdown",
   "id": "7de19f37",
   "metadata": {},
   "source": [
    "이렇게 하지 않고 케라스에서는 이를 내장함수로 제공"
   ]
  },
  {
   "cell_type": "code",
   "execution_count": 31,
   "id": "06f28ae8",
   "metadata": {},
   "outputs": [],
   "source": [
    "from keras.utils import to_categorical"
   ]
  },
  {
   "cell_type": "code",
   "execution_count": 32,
   "id": "96fc3fa3",
   "metadata": {},
   "outputs": [
    {
     "data": {
      "text/plain": [
       "array([0., 0., 0.])"
      ]
     },
     "execution_count": 32,
     "metadata": {},
     "output_type": "execute_result"
    }
   ],
   "source": [
    "one_hot_train_labels = to_one_hot(train_labels)\n",
    "one_hot_test_lables = to_one_hot(test_labels)\n",
    "one_hot_test_lables[:3, -1]"
   ]
  },
  {
   "cell_type": "markdown",
   "id": "0626f4f5",
   "metadata": {},
   "source": [
    "각 layer를 쌓는데 각 층은 이전의 layer에서 사용한 정보만 사용할 수 있으므로 한 layer가 필요한 정보를 누락하면 그 다음 layer은 그 data를 복원할 방법이 없기 때문에 이는 information bottleneck이 될 수 있기에 여기서는 class가 46개이므로 46보다 큰 갯수의 hidden unit을 선택할 것이다. 또한 binary에서는 sigmoid가 사용된 반면에 여기서는 softmax가 사용되었다. 또한 loss function도 다르게 사용되었는데 binary classification에서는 binary_crossentropy가 사용된 반면에 이 multiclass에서는 categorical_crossentoropy가 사용되었다. categorical_crossentoropy는 두 확률 분포 사이의 거리를 측정하는 것으로 네트워크가 출력한 학률분호와 진짜 label의 분포 사이의 거리를 나타낸다."
   ]
  },
  {
   "cell_type": "markdown",
   "id": "b8d98f0a",
   "metadata": {},
   "source": [
    "각 layer를 쌓는데 각 층은 이전의 layer에서 사용한 정보만 사용할 수 있으므로\n",
    "\n",
    "한 layer가 필요한 정보를 누락하면 그 다음 layer은 그 data를 복원할 방법이 없기 때문에\n",
    "\n",
    "이는 information bottleneck이 될 수 있기에\n",
    "\n",
    "여기서는 class가 46개 이므로 46보다 큰 갯수의 hidden unit을 선택할 것이다. \n",
    "\n",
    "​\n",
    "\n",
    "또한 binary에서는 sigmoid가 사용된 반면에\n",
    "\n",
    "여기서는 softmax가 사용되었다\n",
    "\n",
    "​\n",
    "\n",
    "또한 loss function도 다르게 사용되었는데\n",
    "\n",
    "binary classification에서는 binary_crossentropy가 사용된 반면에\n",
    "\n",
    "이 multicalss에서는 categorical_crossentropy가 사용되었다.\n",
    "\n",
    "​\n",
    "\n",
    "categorical_crossentropy는 두 확률 분포 사이의 거리를 측정하는것으로 \n",
    "\n",
    "네트워크가 출력한 확률분포와 진짜 label의 분포 사이의 거리를 나타낸다."
   ]
  },
  {
   "cell_type": "markdown",
   "id": "39fd1b0a",
   "metadata": {},
   "source": [
    "# 모델구성"
   ]
  },
  {
   "cell_type": "code",
   "execution_count": 33,
   "id": "f1da9481",
   "metadata": {},
   "outputs": [],
   "source": [
    "from keras import models, layers"
   ]
  },
  {
   "cell_type": "code",
   "execution_count": 34,
   "id": "1e334618",
   "metadata": {},
   "outputs": [],
   "source": [
    "model = models.Sequential()\n",
    "model.add(layers.Dense(64, activation='relu', input_shape=(10000,)))\n",
    "model.add(layers.Dense(64, activation='relu'))\n",
    "model.add(layers.Dense(46, activation='softmax'))"
   ]
  },
  {
   "cell_type": "code",
   "execution_count": 35,
   "id": "e4358588",
   "metadata": {},
   "outputs": [],
   "source": [
    "model.compile(optimizer='rmsprop', loss='categorical_crossentropy', metrics=['accuracy'])"
   ]
  },
  {
   "cell_type": "code",
   "execution_count": 36,
   "id": "bf409fb2",
   "metadata": {},
   "outputs": [
    {
     "name": "stdout",
     "output_type": "stream",
     "text": [
      "(8982, 10000)\n",
      "(7982, 10000)\n"
     ]
    }
   ],
   "source": [
    "x_val = x_train[:1000]\n",
    "print(x_train.shape) # (8982, 1000)\n",
    "partial_x_train = x_train[1000:]\n",
    "print(partial_x_train.shape) # (1246, 10000)"
   ]
  },
  {
   "cell_type": "code",
   "execution_count": 37,
   "id": "82d932b1",
   "metadata": {
    "scrolled": false
   },
   "outputs": [
    {
     "name": "stdout",
     "output_type": "stream",
     "text": [
      "(1000, 46)\n",
      "[[0. 0. 0. ... 0. 0. 0.]\n",
      " [0. 0. 0. ... 0. 0. 0.]\n",
      " [0. 0. 0. ... 0. 0. 0.]\n",
      " ...\n",
      " [0. 0. 0. ... 0. 0. 0.]\n",
      " [0. 0. 0. ... 0. 0. 0.]\n",
      " [0. 0. 0. ... 0. 0. 0.]]\n",
      "Epoch 1/20\n",
      "16/16 [==============================] - 1s 38ms/step - loss: 3.0416 - accuracy: 0.4453 - val_loss: 2.0967 - val_accuracy: 0.6000\n",
      "Epoch 2/20\n",
      "16/16 [==============================] - 0s 18ms/step - loss: 1.6983 - accuracy: 0.6657 - val_loss: 1.4803 - val_accuracy: 0.6790\n",
      "Epoch 3/20\n",
      "16/16 [==============================] - 0s 18ms/step - loss: 1.2622 - accuracy: 0.7269 - val_loss: 1.2412 - val_accuracy: 0.7240\n",
      "Epoch 4/20\n",
      "16/16 [==============================] - 0s 18ms/step - loss: 1.0339 - accuracy: 0.7744 - val_loss: 1.1235 - val_accuracy: 0.7550\n",
      "Epoch 5/20\n",
      "16/16 [==============================] - 0s 18ms/step - loss: 0.8704 - accuracy: 0.8084 - val_loss: 1.0517 - val_accuracy: 0.7640\n",
      "Epoch 6/20\n",
      "16/16 [==============================] - 0s 18ms/step - loss: 0.7386 - accuracy: 0.8376 - val_loss: 0.9841 - val_accuracy: 0.7820\n",
      "Epoch 7/20\n",
      "16/16 [==============================] - 0s 21ms/step - loss: 0.6270 - accuracy: 0.8639 - val_loss: 0.9433 - val_accuracy: 0.7990\n",
      "Epoch 8/20\n",
      "16/16 [==============================] - 0s 20ms/step - loss: 0.5339 - accuracy: 0.8855 - val_loss: 0.9171 - val_accuracy: 0.8120\n",
      "Epoch 9/20\n",
      "16/16 [==============================] - 0s 21ms/step - loss: 0.4543 - accuracy: 0.9018 - val_loss: 0.8869 - val_accuracy: 0.8080\n",
      "Epoch 10/20\n",
      "16/16 [==============================] - 0s 19ms/step - loss: 0.3928 - accuracy: 0.9148 - val_loss: 0.8722 - val_accuracy: 0.8180\n",
      "Epoch 11/20\n",
      "16/16 [==============================] - 0s 18ms/step - loss: 0.3355 - accuracy: 0.9278 - val_loss: 0.8674 - val_accuracy: 0.8210\n",
      "Epoch 12/20\n",
      "16/16 [==============================] - 0s 18ms/step - loss: 0.2943 - accuracy: 0.9345 - val_loss: 0.8736 - val_accuracy: 0.8190\n",
      "Epoch 13/20\n",
      "16/16 [==============================] - 0s 19ms/step - loss: 0.2583 - accuracy: 0.9422 - val_loss: 0.8773 - val_accuracy: 0.8190\n",
      "Epoch 14/20\n",
      "16/16 [==============================] - 0s 20ms/step - loss: 0.2286 - accuracy: 0.9460 - val_loss: 0.8988 - val_accuracy: 0.8210\n",
      "Epoch 15/20\n",
      "16/16 [==============================] - 0s 18ms/step - loss: 0.2094 - accuracy: 0.9481 - val_loss: 0.9075 - val_accuracy: 0.8110\n",
      "Epoch 16/20\n",
      "16/16 [==============================] - 0s 17ms/step - loss: 0.1879 - accuracy: 0.9501 - val_loss: 0.8890 - val_accuracy: 0.8170\n",
      "Epoch 17/20\n",
      "16/16 [==============================] - 0s 17ms/step - loss: 0.1735 - accuracy: 0.9539 - val_loss: 0.8969 - val_accuracy: 0.8160\n",
      "Epoch 18/20\n",
      "16/16 [==============================] - 0s 18ms/step - loss: 0.1644 - accuracy: 0.9530 - val_loss: 0.9271 - val_accuracy: 0.8160\n",
      "Epoch 19/20\n",
      "16/16 [==============================] - 0s 20ms/step - loss: 0.1540 - accuracy: 0.9551 - val_loss: 0.9347 - val_accuracy: 0.8090\n",
      "Epoch 20/20\n",
      "16/16 [==============================] - 0s 19ms/step - loss: 0.1395 - accuracy: 0.9549 - val_loss: 0.9601 - val_accuracy: 0.8000\n"
     ]
    },
    {
     "data": {
      "text/plain": [
       "dict_keys(['loss', 'accuracy', 'val_loss', 'val_accuracy'])"
      ]
     },
     "execution_count": 37,
     "metadata": {},
     "output_type": "execute_result"
    }
   ],
   "source": [
    "y_val = one_hot_train_labels[:1000]\n",
    "print(y_val.shape)\n",
    "partial_y_train = one_hot_train_labels[1000:]\n",
    "print(partial_y_train)\n",
    "history = model.fit(partial_x_train, partial_y_train, epochs=20, batch_size=512, validation_data=(x_val, y_val))\n",
    "history_dic = history.history\n",
    "history_dic.keys() # dict_keys(['loss', 'accuracy', 'val_loss', 'val_accuracy'])"
   ]
  },
  {
   "cell_type": "markdown",
   "id": "a0674d6a",
   "metadata": {},
   "source": [
    "# plot 그리기"
   ]
  },
  {
   "cell_type": "code",
   "execution_count": 38,
   "id": "02a3c8b7",
   "metadata": {},
   "outputs": [],
   "source": [
    "import matplotlib.pyplot as plt"
   ]
  },
  {
   "cell_type": "code",
   "execution_count": 39,
   "id": "623a6ace",
   "metadata": {},
   "outputs": [
    {
     "data": {
      "text/plain": [
       "<Figure size 640x480 with 0 Axes>"
      ]
     },
     "metadata": {},
     "output_type": "display_data"
    }
   ],
   "source": [
    "loss= history.history['loss']\n",
    "plt.clf()"
   ]
  },
  {
   "cell_type": "code",
   "execution_count": 45,
   "id": "d771d437",
   "metadata": {},
   "outputs": [],
   "source": [
    "def vis(history,name) :\n",
    "    plt.title(f\"{name.upper()}\")\n",
    "    plt.xlabel('epochs')\n",
    "    plt.ylabel(f\"{name.lower()}\")\n",
    "    value = history.history.get(name)\n",
    "    val_value = history.history.get(f\"val_{name}\",None)\n",
    "    epochs = range(1, len(value)+1)\n",
    "    plt.plot(epochs, value, 'b-', label=f'training {name}')\n",
    "    if val_value is not None :\n",
    "        plt.plot(epochs, val_value, 'r:', label=f'validation {name}')\n",
    "    plt.legend(loc='upper center', bbox_to_anchor=(0.05, 1.2) , fontsize=10 , ncol=1)\n",
    "    \n",
    "def plot_history(history) :\n",
    "    key_value = list(set([i.split(\"val_\")[-1] for i in list(history.history.keys())]))\n",
    "    plt.figure(figsize=(12, 4))\n",
    "    for idx , key in enumerate(key_value) :\n",
    "        plt.subplot(1, len(key_value), idx+1)\n",
    "        vis(history, key)\n",
    "    plt.tight_layout()\n",
    "    plt.show()"
   ]
  },
  {
   "cell_type": "code",
   "execution_count": 46,
   "id": "bda2b3ed",
   "metadata": {
    "scrolled": false
   },
   "outputs": [
    {
     "data": {
      "image/png": "[encoded data removed]",
      "text/plain": [
       "<Figure size 1200x400 with 2 Axes>"
      ]
     },
     "metadata": {},
     "output_type": "display_data"
    }
   ],
   "source": [
    "plot_history(history)"
   ]
  },
  {
   "cell_type": "markdown",
   "id": "cbcc8d9b",
   "metadata": {},
   "source": [
    "<a href='https://partrita.github.io/posts/CNN-with-KERAS/'>케라스 사용법</a> <br>\n",
    "<a href='https://velog.io/@ljs7463/%EB%A8%B8%EC%8B%A0%EB%9F%AC%EB%8B%9D-%ED%95%99%EC%8A%B5%EC%9D%84-%EC%9C%84%ED%95%9C-%EB%8D%B0%EC%9D%B4%ED%84%B0%EC%85%8B-%EB%B6%84%EB%A6%ACtraintestvalidation'>validation 사용 이유</a>"
   ]
  },
  {
   "cell_type": "code",
   "execution_count": 53,
   "id": "8513934f",
   "metadata": {},
   "outputs": [],
   "source": [
    "def cross_entropy_error(y, t):  # batch 크기로 분할하여 처리\n",
    "    if y.ndim == 1: # 입력 데이터가 1차원이면 2차원을 변형\n",
    "        t = t.reshape(1, t.shape)\n",
    "        y = y.reshape(1, y.shape)\n",
    "    batch_size = y.shape[0]\n",
    "    return -np.sum(t * np.log(y)) / batch_size"
   ]
  },
  {
   "cell_type": "markdown",
   "id": "09ef3521",
   "metadata": {},
   "source": [
    "# 수치 미분"
   ]
  },
  {
   "cell_type": "markdown",
   "id": "6c65b581",
   "metadata": {},
   "source": [
    "### 미분\n",
    "$$ \\frac{df(x)}{dx} = \\lim_{h \\rightarrow 0} \\frac{f(x+h)-f(x)}{h} $$"
   ]
  },
  {
   "cell_type": "code",
   "execution_count": 128,
   "id": "42204caf",
   "metadata": {},
   "outputs": [],
   "source": [
    "# 나쁜 구현 예\n",
    "def numerical_diff(f, x):\n",
    "    h = 10e-50\n",
    "    return (f(x+h)-f(x))/h"
   ]
  },
  {
   "cell_type": "code",
   "execution_count": 134,
   "id": "2ca0fa5f",
   "metadata": {},
   "outputs": [],
   "source": [
    "# 좋은 구현 예\n",
    "def numerical_diff(f, x):\n",
    "    h = 1e-4 # 0.000\n",
    "    return (f(x+h)-f(h-x))/(2*h) # 중심차분, 중앙차분"
   ]
  },
  {
   "cell_type": "markdown",
   "id": "77ea7508",
   "metadata": {},
   "source": [
    "$$ \\frac{df(x)}{dx} = \\lim_{h \\rightarrow 0} \\frac{f(x+h)-f(x-h)}{2 \\times h} $$"
   ]
  },
  {
   "cell_type": "code",
   "execution_count": 97,
   "id": "b2cc834e",
   "metadata": {},
   "outputs": [
    {
     "data": {
      "image/png": "[encoded data removed]",
      "text/plain": [
       "<Figure size 1000x600 with 1 Axes>"
      ]
     },
     "metadata": {},
     "output_type": "display_data"
    }
   ],
   "source": [
    "import numpy as np\n",
    "\n",
    "def numeral_diff_2(f,x):\n",
    "    h = 1e-4\n",
    "    return (f(x+h) - f(x-h))/(2*h)\n",
    "\n",
    "def f_1(x) : return 0.01*x**2 + 0.1*x\n",
    "x = np.arange(-10,10,0.01)\n",
    "y_prime = numeral_diff_2(f_1, x)\n",
    "\n",
    "\n",
    "plt.figure(figsize=(10, 6))\n",
    "plt.plot(x, y_prime, label=\"solve_sangjun_f_1\")\n",
    "plt.xlabel(\"x\")\n",
    "plt.ylabel(\"y\")\n",
    "plt.title(\"derivative f_1(x)\")\n",
    "plt.legend()\n",
    "plt.grid()\n",
    "plt.show()"
   ]
  },
  {
   "cell_type": "code",
   "execution_count": 98,
   "id": "4690d6ba",
   "metadata": {},
   "outputs": [
    {
     "name": "stdout",
     "output_type": "stream",
     "text": [
      "0.300000000000000\n",
      "-0.100000000000000\n"
     ]
    }
   ],
   "source": [
    "# 심파이로 최대 최소값 증명\n",
    "from sympy import *\n",
    "x,y = symbols('x y')\n",
    "f_ = 0.01*x**2 + 0.1*x\n",
    "y_ = diff(f_,x)\n",
    "result = y_.subs(x,10)\n",
    "print(result)\n",
    "result_2 = y_.subs(x,-10)\n",
    "print(result_2)"
   ]
  },
  {
   "cell_type": "code",
   "execution_count": null,
   "id": "9806648c",
   "metadata": {},
   "outputs": [],
   "source": []
  },
  {
   "cell_type": "code",
   "execution_count": 111,
   "id": "0147d6a0",
   "metadata": {},
   "outputs": [],
   "source": [
    "def f_1(x):\n",
    "    return 0.01 * x**2 + 0.1 * x"
   ]
  },
  {
   "cell_type": "code",
   "execution_count": 115,
   "id": "03e4df97",
   "metadata": {},
   "outputs": [
    {
     "data": {
      "image/png": "[encoded data removed]",
      "text/plain": [
       "<Figure size 640x480 with 1 Axes>"
      ]
     },
     "metadata": {},
     "output_type": "display_data"
    }
   ],
   "source": [
    "x = np.array([-10,10,0.01])\n",
    "y = numerical_diff(f_1, x)\n",
    "plt.plot(a, x)\n",
    "plt.show()"
   ]
  },
  {
   "cell_type": "markdown",
   "id": "80077724",
   "metadata": {},
   "source": [
    "# 편미분"
   ]
  },
  {
   "cell_type": "markdown",
   "id": "f1ac0a77",
   "metadata": {},
   "source": [
    "$$ f(x_{0}, x_{1}) = x_{0}^2 + x_{1}^2 $$"
   ]
  },
  {
   "cell_type": "code",
   "execution_count": 108,
   "id": "c4e64763",
   "metadata": {},
   "outputs": [],
   "source": [
    "def f_2(x):\n",
    "    return x[0]**2 + x[1]**2"
   ]
  },
  {
   "cell_type": "code",
   "execution_count": 132,
   "id": "3da39b7c",
   "metadata": {},
   "outputs": [],
   "source": [
    "def f_tmp1(x0):\n",
    "    return x0*x0 + 4.0**2.0"
   ]
  },
  {
   "cell_type": "code",
   "execution_count": 135,
   "id": "b1b985ff",
   "metadata": {},
   "outputs": [
    {
     "data": {
      "text/plain": [
       "6.00000000000378"
      ]
     },
     "execution_count": 135,
     "metadata": {},
     "output_type": "execute_result"
    }
   ],
   "source": [
    "numerical_diff(f_tmp1, 3.0)"
   ]
  },
  {
   "cell_type": "markdown",
   "id": "cb1a3e2a",
   "metadata": {},
   "source": [
    "문2)  $$ x_{0} = 3, x_{1} = 4일 때 x_{1}에 대한 편미분 (\\frac{\\partial f}{\\partial x_{1}})를 구하세요 $$"
   ]
  },
  {
   "cell_type": "code",
   "execution_count": null,
   "id": "23bedc9c",
   "metadata": {},
   "outputs": [],
   "source": []
  },
  {
   "cell_type": "markdown",
   "id": "4c94c192",
   "metadata": {},
   "source": [
    "# 기울기"
   ]
  },
  {
   "cell_type": "code",
   "execution_count": 177,
   "id": "0ebb85cb",
   "metadata": {},
   "outputs": [],
   "source": [
    "def numerical_gradient(f, x):\n",
    "    h = 1e-4\n",
    "    grad = np.zeros_like(x) # x와 형상이 같은 배열 생성\n",
    "    for idx in range(x.size):\n",
    "        tmp_val = x[idx]\n",
    "        # f(x+h) 계산    \n",
    "        # 여기 채우세요, x의 idx에 해당하는 곳에 tmp_val의 값에 h만큼 증가한 값 저장\n",
    "        # f(x) 호출 결과를 fxh1에 저장\n",
    "        x[idx] = tmp_val + h\n",
    "        fxh1 = f(x)\n",
    "        # f(x-h) 계산\n",
    "        # 여기 채우세요, x의 idx에 해당하는 곳에 tmp_val의 값에 h만큼 감소한 값 저장\n",
    "        # f(x) 호출 결과를 fxh2에 저장\n",
    "        x[idx] = tmp_val - h\n",
    "        fxh2 = f(x)\n",
    "        grad[idx] = (fxh1 - fxh2) / (2*h)\n",
    "    return grad"
   ]
  },
  {
   "cell_type": "markdown",
   "id": "e5e5cffd",
   "metadata": {},
   "source": [
    "$$ f(x_{0}, x_{1}, x_{2}) = x_{0}^2 + x_{1}^2 + x_{2}^2 $$\n",
    "$$ \\nabla f(x_{0},x_{1},x_{2}) = (\\frac{\\partial f}{\\partial x_{0}}\\frac{\\partial f}{\\partial x_{1}}\\frac{\\partial f}{\\partial x_{2}} ) $$"
   ]
  },
  {
   "cell_type": "code",
   "execution_count": 181,
   "id": "9c17b76a",
   "metadata": {},
   "outputs": [
    {
     "data": {
      "text/plain": [
       "array([6., 8.])"
      ]
     },
     "execution_count": 181,
     "metadata": {},
     "output_type": "execute_result"
    }
   ],
   "source": [
    "numerical_gradient(f_2, np.array([3.0, 4.0])) # 6,8"
   ]
  },
  {
   "cell_type": "code",
   "execution_count": 182,
   "id": "b1ab25f0",
   "metadata": {},
   "outputs": [
    {
     "data": {
      "text/plain": [
       "array([0., 4.])"
      ]
     },
     "execution_count": 182,
     "metadata": {},
     "output_type": "execute_result"
    }
   ],
   "source": [
    "numerical_gradient(f_2, np.array([0.0, 2.0])) # 0,2"
   ]
  },
  {
   "cell_type": "code",
   "execution_count": 183,
   "id": "cdb64c80",
   "metadata": {
    "scrolled": false
   },
   "outputs": [
    {
     "data": {
      "text/plain": [
       "array([4., 0.])"
      ]
     },
     "execution_count": 183,
     "metadata": {},
     "output_type": "execute_result"
    }
   ],
   "source": [
    "numerical_gradient(f_2, np.array([2.0, 0.0])) # 4,0"
   ]
  },
  {
   "cell_type": "code",
   "execution_count": null,
   "id": "4b1dd9c9",
   "metadata": {},
   "outputs": [],
   "source": []
  },
  {
   "cell_type": "code",
   "execution_count": 55,
   "id": "74b1124a",
   "metadata": {
    "scrolled": true
   },
   "outputs": [
    {
     "data": {
      "text/plain": [
       "0.0"
      ]
     },
     "execution_count": 55,
     "metadata": {},
     "output_type": "execute_result"
    }
   ],
   "source": [
    "np.float32(1e-50)"
   ]
  },
  {
   "cell_type": "code",
   "execution_count": 51,
   "id": "d5611f49",
   "metadata": {
    "collapsed": true
   },
   "outputs": [
    {
     "ename": "TypeError",
     "evalue": "'tuple' object cannot be interpreted as an integer",
     "output_type": "error",
     "traceback": [
      "\u001b[1;31m---------------------------------------------------------------------------\u001b[0m",
      "\u001b[1;31mTypeError\u001b[0m                                 Traceback (most recent call last)",
      "Cell \u001b[1;32mIn[51], line 3\u001b[0m\n\u001b[0;32m      1\u001b[0m t\u001b[38;5;241m=\u001b[39m[\u001b[38;5;241m0\u001b[39m,\u001b[38;5;241m0\u001b[39m,\u001b[38;5;241m1\u001b[39m,\u001b[38;5;241m0\u001b[39m,\u001b[38;5;241m0\u001b[39m,\u001b[38;5;241m0\u001b[39m,\u001b[38;5;241m0\u001b[39m,\u001b[38;5;241m0\u001b[39m,\u001b[38;5;241m0\u001b[39m,\u001b[38;5;241m0\u001b[39m]\n\u001b[0;32m      2\u001b[0m y\u001b[38;5;241m=\u001b[39m[\u001b[38;5;241m0.1\u001b[39m,\u001b[38;5;241m0.05\u001b[39m , \u001b[38;5;241m0.6\u001b[39m,\u001b[38;5;241m0.0\u001b[39m,\u001b[38;5;241m0.05\u001b[39m,\u001b[38;5;241m0.1\u001b[39m,\u001b[38;5;241m0.0\u001b[39m,\u001b[38;5;241m0.1\u001b[39m,\u001b[38;5;241m0.0\u001b[39m,\u001b[38;5;241m0.0\u001b[39m]\n\u001b[1;32m----> 3\u001b[0m \u001b[43mcross_entropy_error\u001b[49m\u001b[43m(\u001b[49m\u001b[43mnp\u001b[49m\u001b[38;5;241;43m.\u001b[39;49m\u001b[43marray\u001b[49m\u001b[43m(\u001b[49m\u001b[43my\u001b[49m\u001b[43m)\u001b[49m\u001b[43m,\u001b[49m\u001b[43m \u001b[49m\u001b[43mnp\u001b[49m\u001b[38;5;241;43m.\u001b[39;49m\u001b[43marray\u001b[49m\u001b[43m(\u001b[49m\u001b[43mt\u001b[49m\u001b[43m)\u001b[49m\u001b[43m)\u001b[49m\n",
      "Cell \u001b[1;32mIn[50], line 3\u001b[0m, in \u001b[0;36mcross_entropy_error\u001b[1;34m(y, t)\u001b[0m\n\u001b[0;32m      1\u001b[0m \u001b[38;5;28;01mdef\u001b[39;00m \u001b[38;5;21mcross_entropy_error\u001b[39m(y, t):  \u001b[38;5;66;03m# batch 크기로 분할하여 처리\u001b[39;00m\n\u001b[0;32m      2\u001b[0m     \u001b[38;5;28;01mif\u001b[39;00m y\u001b[38;5;241m.\u001b[39mndim \u001b[38;5;241m==\u001b[39m \u001b[38;5;241m1\u001b[39m: \u001b[38;5;66;03m# 입력 데이터가 1차원이면 2차원을 변형\u001b[39;00m\n\u001b[1;32m----> 3\u001b[0m         t \u001b[38;5;241m=\u001b[39m \u001b[43mt\u001b[49m\u001b[38;5;241;43m.\u001b[39;49m\u001b[43mreshape\u001b[49m\u001b[43m(\u001b[49m\u001b[38;5;241;43m1\u001b[39;49m\u001b[43m,\u001b[49m\u001b[43m \u001b[49m\u001b[43mt\u001b[49m\u001b[38;5;241;43m.\u001b[39;49m\u001b[43mshape\u001b[49m\u001b[43m)\u001b[49m\n\u001b[0;32m      4\u001b[0m         y \u001b[38;5;241m=\u001b[39m y\u001b[38;5;241m.\u001b[39mreshape(\u001b[38;5;241m1\u001b[39m, y\u001b[38;5;241m.\u001b[39mshape)\n\u001b[0;32m      5\u001b[0m     batch_size \u001b[38;5;241m=\u001b[39m y\u001b[38;5;241m.\u001b[39mshape[\u001b[38;5;241m0\u001b[39m]\n",
      "\u001b[1;31mTypeError\u001b[0m: 'tuple' object cannot be interpreted as an integer"
     ]
    }
   ],
   "source": [
    "t=[0,0,1,0,0,0,0,0,0,0]\n",
    "y=[0.1,0.05 , 0.6,0.0,0.05,0.1,0.0,0.1,0.0,0.0]\n",
    "cross_entropy_error(np.array(y), np.array(t))"
   ]
  },
  {
   "cell_type": "code",
   "execution_count": null,
   "id": "80c6e28c",
   "metadata": {},
   "outputs": [],
   "source": []
  }
 ],
 "metadata": {
  "kernelspec": {
   "display_name": "Python 3 (ipykernel)",
   "language": "python",
   "name": "python3"
  },
  "language_info": {
   "codemirror_mode": {
    "name": "ipython",
    "version": 3
   },
   "file_extension": ".py",
   "mimetype": "text/x-python",
   "name": "python",
   "nbconvert_exporter": "python",
   "pygments_lexer": "ipython3",
   "version": "3.10.9"
  }
 },
 "nbformat": 4,
 "nbformat_minor": 5
}
