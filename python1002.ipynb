{
 "cells": [
  {
   "cell_type": "code",
   "execution_count": 1,
   "id": "bcb62d92",
   "metadata": {},
   "outputs": [],
   "source": [
    "fn = 'x**2+3*x+5'"
   ]
  },
  {
   "cell_type": "code",
   "execution_count": 3,
   "id": "c61837e0",
   "metadata": {},
   "outputs": [
    {
     "data": {
      "text/plain": [
       "45"
      ]
     },
     "execution_count": 3,
     "metadata": {},
     "output_type": "execute_result"
    }
   ],
   "source": [
    "fn_lambda = lambda x: x**2+3*x+5\n",
    "fn_lambda(5)"
   ]
  },
  {
   "cell_type": "code",
   "execution_count": 5,
   "id": "b881e4b9",
   "metadata": {},
   "outputs": [
    {
     "data": {
      "text/plain": [
       "23"
      ]
     },
     "execution_count": 5,
     "metadata": {},
     "output_type": "execute_result"
    }
   ],
   "source": [
    "# eval(): 문자열로 표현되는 표현식(expression)을 실행해서 결과값을 받아오는 함수\n",
    "fn_str = 'lambda x: ' + fn\n",
    "eval(fn_str)(3) # evaluation(평가)"
   ]
  },
  {
   "cell_type": "code",
   "execution_count": 6,
   "id": "aac351ac",
   "metadata": {},
   "outputs": [],
   "source": [
    "def f(x):\n",
    "    return x+5"
   ]
  },
  {
   "cell_type": "code",
   "execution_count": 13,
   "id": "fc96b57f",
   "metadata": {},
   "outputs": [],
   "source": [
    "f_str = '''\n",
    "def g(x):\n",
    "    return x+50\n",
    "'''"
   ]
  },
  {
   "cell_type": "code",
   "execution_count": 14,
   "id": "cb8ef2c1",
   "metadata": {},
   "outputs": [
    {
     "data": {
      "text/plain": [
       "60"
      ]
     },
     "execution_count": 14,
     "metadata": {},
     "output_type": "execute_result"
    }
   ],
   "source": [
    "exec(f_str) # execution(실행)\n",
    "result = g(10)\n",
    "result"
   ]
  },
  {
   "cell_type": "markdown",
   "id": "22fd283d",
   "metadata": {},
   "source": [
    "상수 함수 <br>\n",
    "$ f = f(x) = 5 $"
   ]
  },
  {
   "cell_type": "code",
   "execution_count": 30,
   "id": "cab723fc",
   "metadata": {},
   "outputs": [
    {
     "data": {
      "text/plain": [
       "5"
      ]
     },
     "execution_count": 30,
     "metadata": {},
     "output_type": "execute_result"
    }
   ],
   "source": [
    "vv = lambda x: 5\n",
    "vv(7)"
   ]
  },
  {
   "cell_type": "code",
   "execution_count": null,
   "id": "4442e3a3",
   "metadata": {},
   "outputs": [],
   "source": [
    "5 10 15 20"
   ]
  },
  {
   "cell_type": "code",
   "execution_count": 47,
   "id": "8cbe8e29",
   "metadata": {},
   "outputs": [
    {
     "data": {
      "text/plain": [
       "[25, 50, 75, 100]"
      ]
     },
     "execution_count": 47,
     "metadata": {},
     "output_type": "execute_result"
    }
   ],
   "source": [
    "fn_list = ['lambda x: x*5', 'lambda x: x*10', 'lambda x: x*15', 'lambda x: x*20']\n",
    "[eval(fn_list[i])(5) for i in range(len(fn_list))]"
   ]
  },
  {
   "cell_type": "code",
   "execution_count": 46,
   "id": "a7a3d913",
   "metadata": {},
   "outputs": [
    {
     "name": "stdout",
     "output_type": "stream",
     "text": [
      "25\n",
      "50\n",
      "75\n",
      "100\n"
     ]
    }
   ],
   "source": [
    "list_fn = ['lambda x: x*5', 'lambda x: x*10', 'lambda x: x*15', 'lambda x: x*20']\n",
    "for i in list_fn:\n",
    "    print(eval(i)(5))"
   ]
  },
  {
   "cell_type": "code",
   "execution_count": 48,
   "id": "fda1f989",
   "metadata": {
    "scrolled": true
   },
   "outputs": [
    {
     "data": {
      "text/plain": [
       "[25, 50, 75, 100]"
      ]
     },
     "execution_count": 48,
     "metadata": {},
     "output_type": "execute_result"
    }
   ],
   "source": [
    "list_fn = ['lambda x: ' + str((i+1)*5) + ' *5' for i in range(4)]\n",
    "[i(5) for i in [eval(list_fn[j]) for j in range(len(list_fn))]]"
   ]
  }
 ],
 "metadata": {
  "kernelspec": {
   "display_name": "Python 3 (ipykernel)",
   "language": "python",
   "name": "python3"
  },
  "language_info": {
   "codemirror_mode": {
    "name": "ipython",
    "version": 3
   },
   "file_extension": ".py",
   "mimetype": "text/x-python",
   "name": "python",
   "nbconvert_exporter": "python",
   "pygments_lexer": "ipython3",
   "version": "3.10.9"
  }
 },
 "nbformat": 4,
 "nbformat_minor": 5
}
