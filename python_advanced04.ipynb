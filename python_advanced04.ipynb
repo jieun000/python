{
 "cells": [
  {
   "cell_type": "code",
   "execution_count": null,
   "id": "8872ea0f",
   "metadata": {
    "scrolled": true
   },
   "outputs": [],
   "source": [
    "for i in [2,3,4,5]:  # in 다음에는 iterable 한 데이터만 온다. \n",
    "    print(i)"
   ]
  },
  {
   "cell_type": "code",
   "execution_count": null,
   "id": "6e25af18",
   "metadata": {
    "scrolled": true
   },
   "outputs": [],
   "source": [
    "sum1 = 0\n",
    "\n",
    "for i in [2,3,4,5]:  # in 다음에는 iterable 한 데이터만 온다. \n",
    "    sum1 += i\n",
    "    print(i, sum1)\n",
    "sum1"
   ]
  },
  {
   "cell_type": "markdown",
   "id": "08cb3155",
   "metadata": {},
   "source": [
    "# ditionary (key: value의 쌍) #"
   ]
  },
  {
   "cell_type": "code",
   "execution_count": null,
   "id": "01ca8197",
   "metadata": {},
   "outputs": [],
   "source": [
    "dict1 = {'a':11,'b':15,'c':[1,2,3,4],'d':{'f':[11,12,23]}}\n",
    "dict1['a']"
   ]
  },
  {
   "cell_type": "code",
   "execution_count": null,
   "id": "76d0dc28",
   "metadata": {
    "scrolled": true
   },
   "outputs": [],
   "source": [
    "dict1['d']  # dictionary"
   ]
  },
  {
   "cell_type": "code",
   "execution_count": null,
   "id": "8b87270f",
   "metadata": {
    "scrolled": true
   },
   "outputs": [],
   "source": [
    "dict1['d']['f']  # 리스트"
   ]
  },
  {
   "cell_type": "code",
   "execution_count": null,
   "id": "43486c38",
   "metadata": {
    "scrolled": false
   },
   "outputs": [],
   "source": [
    "dict1['d']['f'][1]"
   ]
  },
  {
   "cell_type": "code",
   "execution_count": null,
   "id": "43966e67",
   "metadata": {},
   "outputs": [],
   "source": [
    "dic3 = {'f':{'r':[1,2,3,4]}}\n",
    "dic3"
   ]
  },
  {
   "cell_type": "code",
   "execution_count": null,
   "id": "19c00aef",
   "metadata": {},
   "outputs": [],
   "source": [
    "dic3['f']['r'][3]"
   ]
  },
  {
   "cell_type": "code",
   "execution_count": null,
   "id": "3945659b",
   "metadata": {},
   "outputs": [],
   "source": [
    "sum = 0\n",
    "\n",
    "for i in dic3['f']['r']:\n",
    "    sum += i\n",
    "sum"
   ]
  },
  {
   "cell_type": "code",
   "execution_count": null,
   "id": "aa6863c1",
   "metadata": {},
   "outputs": [],
   "source": [
    "dict4 = {\"a\":[1,2,3,4,5], \"b\":[7,11,13]}\n",
    "# 문제1) 1,2,3,4,5 ,7,11,13의 총합과 데이터의 갯수 구하기\n",
    "\n",
    "# 답1) \n",
    "sum1 = 0\n",
    "sum2 = 0\n",
    "cnt = 0\n",
    "for i in dict4[\"a\"]:\n",
    "    sum1 += i\n",
    "    cnt += 1\n",
    "for i in dict4[\"b\"]:\n",
    "    sum2 += i\n",
    "    cnt += 1\n",
    "sum1 + sum2, cnt"
   ]
  },
  {
   "cell_type": "code",
   "execution_count": null,
   "id": "fd711e4b",
   "metadata": {},
   "outputs": [],
   "source": [
    "# 선생님 답1) \n",
    "sum_a = 0\n",
    "sum_b = 0\n",
    "cnt_a = 0\n",
    "cnt_b = 0\n",
    "\n",
    "for i in dict4['a']:\n",
    "    sum_a += i\n",
    "    cnt_a += 1\n",
    "print(sum_a)\n",
    "\n",
    "for i in dict4['b']:\n",
    "    sum_b += i\n",
    "    cnt_b += 1\n",
    "    \n",
    "print(\"dictionary a의 합:%d 갯수:%d, b의 합:%d 갯수: %d\"%(sum_a, cnt_a, sum_b, cnt_b))"
   ]
  },
  {
   "cell_type": "code",
   "execution_count": null,
   "id": "0778e367",
   "metadata": {},
   "outputs": [],
   "source": [
    "sum_total = sum_a + sum_b\n",
    "cnt_total = cnt_a + cnt_b\n",
    "\n",
    "print(sum_total, cnt_total)"
   ]
  },
  {
   "cell_type": "code",
   "execution_count": null,
   "id": "42eb286a",
   "metadata": {},
   "outputs": [],
   "source": [
    "dict5 = {\"f\":[2,3,4,5,6,8,11,13]}\n",
    "# 문제2) 짝수의 총합과 홀수의 총합을 각각 구하세요. \n",
    "\n",
    "# 답2) \n",
    "odd_sum = 0\n",
    "even_sum = 0\n",
    "odd_cnt = 0\n",
    "even_cnt = 0\n",
    "result_dict = {}\n",
    "for i in dict5[\"f\"]:\n",
    "    if i % 2 == 1:\n",
    "        odd_sum += i\n",
    "        odd_cnt += 1\n",
    "    else:\n",
    "        even_sum += i\n",
    "        even_cnt += 1\n",
    "result_dict['odd_sum'] = odd_sum\n",
    "result_dict['even_sum'] = even_sum\n",
    "result_dict['odd_cnt'] = odd_cnt\n",
    "result_dict['even_cnt'] = even_cnt\n",
    "result_dict"
   ]
  },
  {
   "cell_type": "code",
   "execution_count": null,
   "id": "fd692c55",
   "metadata": {},
   "outputs": [],
   "source": [
    "sum_total = 0;\n",
    "for i in result_dict.keys():  # dictionary의 key값들을 가져옴\n",
    "    print(i)\n",
    "    sum_total += result_dict[i]  # 하나의 key값을 이용하여 value를 가져와서 누적함\n",
    "sum_total"
   ]
  },
  {
   "cell_type": "code",
   "execution_count": null,
   "id": "2f52a91d",
   "metadata": {},
   "outputs": [],
   "source": [
    "result_dict['odd_sum']"
   ]
  },
  {
   "cell_type": "code",
   "execution_count": null,
   "id": "dae28f2b",
   "metadata": {},
   "outputs": [],
   "source": [
    "dict7 = {};\n",
    "list1 = [];\n",
    "list1.append(5);\n",
    "dict7['f'] = [1,2,3,4];\n",
    "\n",
    "list1"
   ]
  },
  {
   "cell_type": "code",
   "execution_count": null,
   "id": "0aa7c744",
   "metadata": {
    "scrolled": true
   },
   "outputs": [],
   "source": [
    "dict7"
   ]
  },
  {
   "cell_type": "markdown",
   "id": "ff4f5628",
   "metadata": {},
   "source": [
    "p237 dictionary 공부하기"
   ]
  },
  {
   "cell_type": "code",
   "execution_count": null,
   "id": "bd03242c",
   "metadata": {},
   "outputs": [],
   "source": [
    "member = {\"name\":\"황예린\", \"age\":22, \"email\": \"yerin@a.com\"}\n",
    "member"
   ]
  },
  {
   "cell_type": "code",
   "execution_count": null,
   "id": "63dfdf9f",
   "metadata": {},
   "outputs": [],
   "source": [
    "score = dict([(\"국어\", 80), (\"영어\", 60), (\"수학\", 100)])  # 튜플로 dictionary 만들기\n",
    "score"
   ]
  },
  {
   "cell_type": "code",
   "execution_count": null,
   "id": "c5ac2c7e",
   "metadata": {},
   "outputs": [],
   "source": [
    "score['국어'] = 120\n",
    "score['미술'] = 15\n",
    "score"
   ]
  },
  {
   "cell_type": "markdown",
   "id": "2f4cf6f0",
   "metadata": {},
   "source": [
    "p240 삭제하기"
   ]
  },
  {
   "cell_type": "code",
   "execution_count": null,
   "id": "bd8a92c3",
   "metadata": {
    "scrolled": true
   },
   "outputs": [],
   "source": [
    "score.pop('미술')  # .pop('key_name') 삭제\n",
    "score"
   ]
  },
  {
   "cell_type": "code",
   "execution_count": null,
   "id": "3941d112",
   "metadata": {},
   "outputs": [],
   "source": [
    "list2 = [2,3,4]\n",
    "# list2.pop()\n",
    "list2.remove(2)\n",
    "list2"
   ]
  },
  {
   "cell_type": "markdown",
   "id": "b9684d03",
   "metadata": {},
   "source": [
    "p243 for문과 dictionary"
   ]
  },
  {
   "cell_type": "code",
   "execution_count": null,
   "id": "46e8819e",
   "metadata": {},
   "outputs": [],
   "source": [
    "area_code={\"서울\":\"02\",\"부산\":\"051\",\"대구\":\"053\",\"광주\":\"062\"}\n",
    "\n",
    "for i in area_code:  # key값을 하나씩 꺼내어 준다. \n",
    "    print(area_code[i])"
   ]
  },
  {
   "cell_type": "code",
   "execution_count": null,
   "id": "f1819d0f",
   "metadata": {},
   "outputs": [],
   "source": [
    "for i in area_code:  # key값을 하나씩 꺼내어 준다. \n",
    "    print(type(i))"
   ]
  },
  {
   "cell_type": "code",
   "execution_count": null,
   "id": "d1f7a738",
   "metadata": {},
   "outputs": [],
   "source": [
    "sum_1 = 0;\n",
    "for i in area_code:\n",
    "    sum_1 += int(area_code[i])\n",
    "sum_1"
   ]
  },
  {
   "cell_type": "code",
   "execution_count": null,
   "id": "6736a0ce",
   "metadata": {},
   "outputs": [],
   "source": [
    "list_of_list = [\n",
    "    [1,2,3,4],\n",
    "    [11,12,13,14],\n",
    "    [21,22,23,24],\n",
    "    [31,32,33,34],\n",
    "]"
   ]
  },
  {
   "cell_type": "code",
   "execution_count": null,
   "id": "e7053524",
   "metadata": {},
   "outputs": [],
   "source": [
    "total = 0\n",
    "for i in list_of_list:\n",
    "    for j in i:  #[1,2,3,4] => [11,12,13,14] => [21,22,23,24] => [31,32,33,34]\n",
    "        total += j\n",
    "total"
   ]
  },
  {
   "cell_type": "code",
   "execution_count": null,
   "id": "c47c88cc",
   "metadata": {},
   "outputs": [],
   "source": [
    "1+2+3+4+11+12+13+14+21+22+23+24+31+32+33+34"
   ]
  },
  {
   "cell_type": "code",
   "execution_count": null,
   "id": "3b997792",
   "metadata": {},
   "outputs": [],
   "source": [
    "difficult = {\"a\":[1,2,3,4], \"b\":[5,6,7,8], \"c\":0}\n",
    "\n",
    "sum1 = 0\n",
    "sum2 = 0\n",
    "for i in difficult[\"a\"]:\n",
    "    sum1 += i \n",
    "for i in difficult[\"b\"]:\n",
    "    sum2 += i\n",
    "difficult[\"c\"] = sum1 + sum2\n",
    "\n",
    "print(difficult[\"c\"])\n",
    "print(difficult)"
   ]
  },
  {
   "cell_type": "code",
   "execution_count": null,
   "id": "07a83ec6",
   "metadata": {},
   "outputs": [],
   "source": [
    "# 문제 11) difficult의 c가 홀수이면 a의 각각의 값에 3배한 총합을 출력하고\n",
    "#          짝수이면 b의 각각의 값에 5배한 총합을 출력하세요. \n",
    "sum_a = 0\n",
    "sum_b = 0\n",
    "\n",
    "if difficult[\"c\"] % 2 == 1:\n",
    "    for i in difficult[\"a\"]:\n",
    "        sum_a += i * 3\n",
    "    print(sum_a)\n",
    "else:\n",
    "    for i in difficult[\"b\"]:\n",
    "        sum_b += i * 5\n",
    "    print(sum_b)"
   ]
  },
  {
   "cell_type": "code",
   "execution_count": null,
   "id": "82d7a99b",
   "metadata": {
    "scrolled": true
   },
   "outputs": [],
   "source": [
    "difficult2 = {\"age\":[24,25,13,17], \"name\":[\"홍길동\",\"홍말자\",\"김개똥\",\"국제\"]}\n",
    "\n",
    "# 문제 12) name의 value값의 문자열 결합한 길이가 \n",
    "len_sum = 0 \n",
    "for i in difficult2[\"name\"]:\n",
    "    len_sum += len(i)\n",
    "    \n",
    "#     짝수이면 age의 값들 중 짝수인 것들의 총합 구하고 \n",
    "#     홀수이면 age의 값들의 홀수인 값들의 총합 구하세요. \n",
    "even_sum = 0\n",
    "odd_sum = 0\n",
    "if len_sum % 2 == 0:\n",
    "    for i in difficult2[\"age\"]:\n",
    "        if i % 2 == 0:\n",
    "            even_sum += i\n",
    "    print(even_sum)\n",
    "else: \n",
    "    for i in difficult2[\"age\"]:\n",
    "        if i % 2 == 1:\n",
    "            odd_sum += i\n",
    "    print(odd_sum)"
   ]
  },
  {
   "cell_type": "code",
   "execution_count": null,
   "id": "24eb709a",
   "metadata": {
    "scrolled": true
   },
   "outputs": [],
   "source": [
    "difficult2 = {\"age\":[24,25,13,17], \"name\":[\"홍길동\",\"홍말자\",\"김개똥\",\"국제\"]}\n",
    "merge = \"\"\n",
    "for i in difficult2['name']:\n",
    "    merge += i\n",
    "length = len(merge)\n",
    "length  # 문자열 결합한 문자열의 길이"
   ]
  },
  {
   "cell_type": "code",
   "execution_count": null,
   "id": "d293d4df",
   "metadata": {},
   "outputs": [],
   "source": [
    "sum_even = 0\n",
    "if length % 2 == 0:\n",
    "    for i in difficult2['age']: \n",
    "        if i % 2 == 0:\n",
    "            sum_even += i\n",
    "else:\n",
    "    for i in difficult2['age']: \n",
    "        if i % 2 == 1:\n",
    "            sum_even += i"
   ]
  },
  {
   "cell_type": "code",
   "execution_count": null,
   "id": "3b80ec1e",
   "metadata": {},
   "outputs": [],
   "source": [
    "sum_even"
   ]
  }
 ],
 "metadata": {
  "kernelspec": {
   "display_name": "Python 3 (ipykernel)",
   "language": "python",
   "name": "python3"
  },
  "language_info": {
   "codemirror_mode": {
    "name": "ipython",
    "version": 3
   },
   "file_extension": ".py",
   "mimetype": "text/x-python",
   "name": "python",
   "nbconvert_exporter": "python",
   "pygments_lexer": "ipython3",
   "version": "3.10.9"
  }
 },
 "nbformat": 4,
 "nbformat_minor": 5
}
