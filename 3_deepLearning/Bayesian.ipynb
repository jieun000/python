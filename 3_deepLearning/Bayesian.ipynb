{
 "cells": [
  {
   "cell_type": "markdown",
   "id": "ef5fe3d2",
   "metadata": {},
   "source": [
    "<div id=\"top\"></div>\n",
    "<table>\n",
    "    <tr><td style=\"text-align: center;\"><a href=\"#1\" style=\"text-decoration: none; color: black;\">1. 확률</a></td>\n",
    "    </tr>\n",
    "    <tr><td style=\"text-align: center;\"><a href=\"#2\" style=\"text-decoration: none; color: black;\">2. 베이즈 정리</a></td></tr>\n",
    "    <tr><td style=\"text-align: center;\"><a href=\"#3\" style=\"text-decoration: none; color: black;\">3. 연속 분포</a></td></tr>\n",
    "    <tr><td style=\"text-align: center;\"><a href=\"#4\" style=\"text-decoration: none; color: black;\">4. 정규 분포</a></td></tr>\n",
    "</table>"
   ]
  },
  {
   "cell_type": "markdown",
   "id": "13653fbf",
   "metadata": {},
   "source": [
    "## <div id=\"1\"><a href=\"#top\" style=\"text-decoration: none; color: black;\">1. 확률</a></div>"
   ]
  },
  {
   "cell_type": "code",
   "execution_count": 1,
   "id": "199ca6e5",
   "metadata": {},
   "outputs": [],
   "source": [
    "# pip install pandas"
   ]
  },
  {
   "cell_type": "code",
   "execution_count": 2,
   "id": "c86d04f4",
   "metadata": {},
   "outputs": [
    {
     "data": {
      "text/html": [
       "<div>\n",
       "<style scoped>\n",
       "    .dataframe tbody tr th:only-of-type {\n",
       "        vertical-align: middle;\n",
       "    }\n",
       "\n",
       "    .dataframe tbody tr th {\n",
       "        vertical-align: top;\n",
       "    }\n",
       "\n",
       "    .dataframe thead th {\n",
       "        text-align: right;\n",
       "    }\n",
       "</style>\n",
       "<table border=\"1\" class=\"dataframe\">\n",
       "  <thead>\n",
       "    <tr style=\"text-align: right;\">\n",
       "      <th></th>\n",
       "      <th>year</th>\n",
       "      <th>age</th>\n",
       "      <th>sex</th>\n",
       "      <th>polviews</th>\n",
       "      <th>partyid</th>\n",
       "      <th>indus10</th>\n",
       "    </tr>\n",
       "    <tr>\n",
       "      <th>caseid</th>\n",
       "      <th></th>\n",
       "      <th></th>\n",
       "      <th></th>\n",
       "      <th></th>\n",
       "      <th></th>\n",
       "      <th></th>\n",
       "    </tr>\n",
       "  </thead>\n",
       "  <tbody>\n",
       "    <tr>\n",
       "      <th>1</th>\n",
       "      <td>1974</td>\n",
       "      <td>21.0</td>\n",
       "      <td>1</td>\n",
       "      <td>4.0</td>\n",
       "      <td>2.0</td>\n",
       "      <td>4970.0</td>\n",
       "    </tr>\n",
       "    <tr>\n",
       "      <th>2</th>\n",
       "      <td>1974</td>\n",
       "      <td>41.0</td>\n",
       "      <td>1</td>\n",
       "      <td>5.0</td>\n",
       "      <td>0.0</td>\n",
       "      <td>9160.0</td>\n",
       "    </tr>\n",
       "    <tr>\n",
       "      <th>5</th>\n",
       "      <td>1974</td>\n",
       "      <td>58.0</td>\n",
       "      <td>2</td>\n",
       "      <td>6.0</td>\n",
       "      <td>1.0</td>\n",
       "      <td>2670.0</td>\n",
       "    </tr>\n",
       "    <tr>\n",
       "      <th>6</th>\n",
       "      <td>1974</td>\n",
       "      <td>30.0</td>\n",
       "      <td>1</td>\n",
       "      <td>5.0</td>\n",
       "      <td>4.0</td>\n",
       "      <td>6870.0</td>\n",
       "    </tr>\n",
       "    <tr>\n",
       "      <th>7</th>\n",
       "      <td>1974</td>\n",
       "      <td>48.0</td>\n",
       "      <td>1</td>\n",
       "      <td>5.0</td>\n",
       "      <td>4.0</td>\n",
       "      <td>7860.0</td>\n",
       "    </tr>\n",
       "  </tbody>\n",
       "</table>\n",
       "</div>"
      ],
      "text/plain": [
       "        year   age  sex  polviews  partyid  indus10\n",
       "caseid                                             \n",
       "1       1974  21.0    1       4.0      2.0   4970.0\n",
       "2       1974  41.0    1       5.0      0.0   9160.0\n",
       "5       1974  58.0    2       6.0      1.0   2670.0\n",
       "6       1974  30.0    1       5.0      4.0   6870.0\n",
       "7       1974  48.0    1       5.0      4.0   7860.0"
      ]
     },
     "execution_count": 2,
     "metadata": {},
     "output_type": "execute_result"
    }
   ],
   "source": [
    "import pandas as pd\n",
    "\n",
    "# General Social Survey(GSS)데이터 셋을 읽고 데이터프레임(DataFrame)에 저장\n",
    "gss = pd.read_csv('gss_bayes.csv', index_col=0)\n",
    "gss.head()"
   ]
  },
  {
   "cell_type": "markdown",
   "id": "b63334d9",
   "metadata": {},
   "source": [
    "gss_bayes.csv\n",
    "- caseid: 응답자의 ID(테이블의 인덱스)\n",
    "- year: 설문 연도\n",
    "- age: 응답자의 설문 당시 나이\n",
    "- sex: 성별\n",
    "- polviews: 진보부터 보수까지의 범위 내에서의 정치적 성향\n",
    "- partyid: 정당 소속, 민주당, 공화당, 혹은 무소속\n",
    "- Indus10: 응답자가 일하는 산업 분야"
   ]
  },
  {
   "cell_type": "code",
   "execution_count": 3,
   "id": "7977a51d",
   "metadata": {},
   "outputs": [
    {
     "name": "stdout",
     "output_type": "stream",
     "text": [
      "caseid\n",
      "1    False\n",
      "2    False\n",
      "5    False\n",
      "6     True\n",
      "7    False\n",
      "Name: indus10, dtype: bool\n",
      "==========☆==========\n",
      "banker.sum(): 728\n",
      "banker.mean(): 0.014769730168391155\n"
     ]
    }
   ],
   "source": [
    "banker = (gss['indus10'] == 6870) # 6870: '은행 및 관련 분야' 코드\n",
    "print(banker.head())\n",
    "\n",
    "print('==========☆==========') # (True: 1, False: 0)\n",
    "print('banker.sum():', banker.sum()) # 은행원의 합\n",
    "\n",
    "# 전체 응답자 중 한 명을 뽑았을 때 은행원일 확률: 1.5%\n",
    "print('banker.mean():', banker.mean()) # 은행원의 비율"
   ]
  },
  {
   "cell_type": "code",
   "execution_count": 4,
   "id": "80130fdd",
   "metadata": {},
   "outputs": [
    {
     "data": {
      "text/plain": [
       "0.014769730168391155"
      ]
     },
     "execution_count": 4,
     "metadata": {},
     "output_type": "execute_result"
    }
   ],
   "source": [
    "# 주어진 A의 비율을 구하는 함수\n",
    "def prob(A):\n",
    "    return A.mean()\n",
    "\n",
    "prob(banker)"
   ]
  },
  {
   "cell_type": "code",
   "execution_count": 5,
   "id": "f8d67675",
   "metadata": {},
   "outputs": [
    {
     "name": "stdout",
     "output_type": "stream",
     "text": [
      "0.5378575776019476\n",
      "0.27374721038750255\n",
      "0.3662609048488537\n"
     ]
    }
   ],
   "source": [
    "female = (gss['sex'] == 2)\n",
    "print(prob(female)) # 여성 응답자의 비율\n",
    "\n",
    "liberal = (gss['polviews'] <= 3)\n",
    "print(prob(liberal)) # 진보 성향인 비율\n",
    "\n",
    "democrat = (gss['partyid'] <= 1)\n",
    "print(prob(democrat)) # 적극적 민주당원 or 보통 민주당원 성향인 비율"
   ]
  },
  {
   "cell_type": "markdown",
   "id": "936dfed9",
   "metadata": {},
   "source": [
    "#### 논리곱(conjunction) == AND 논리 연산자\n",
    "<blockquote>A와 B 모두 참 => 참</blockquote>\n",
    "하나라도 거짓 => 거짓"
   ]
  },
  {
   "cell_type": "code",
   "execution_count": 6,
   "id": "b0f136b3",
   "metadata": {},
   "outputs": [
    {
     "name": "stdout",
     "output_type": "stream",
     "text": [
      "은행원일 확율: 0.014769730168391155\n",
      "은행원이며 민주당일 확율: 0.004686548995739501\n"
     ]
    }
   ],
   "source": [
    "print('은행원일 확율:', prob(banker))\n",
    "print('은행원이며 민주당일 확율:', prob(banker & democrat))"
   ]
  },
  {
   "cell_type": "markdown",
   "id": "b8a47187",
   "metadata": {},
   "source": [
    "### 조건부 확률 (conditional probability)\n",
    "어떤 사건이 주어졌을 때, 그 다음에 나올 확률을 결정할 때 사용함. <br>\n",
    "빨간색 카드를 선택한 경우, 카드를 들고 있을 때 3개의 다이아몬드를 고른 경우의 확률은?\n",
    "$$ P(3D) = \\frac{1}{52} $$\n",
    "$$ P(R) = \\frac{26}{52} = \\frac{1}{2} $$\n",
    "\n",
    "빨간 카드를 가지고 있다고 했을 때 다이아몬드 3을 선택할 확률은? \n",
    "$$ P(3D | R) = \\frac{\\frac{1}{52}}{\\frac{1}{2}} = \\frac{1}{26} $$\n",
    "\n",
    "2개의 사건(A, B)에 대한 공식적인 수식의 정의는\n",
    "$$ P(A|B) = \\frac{P(A \\cap B)}{P(B)} $$\n",
    "$$ P(A \\cap B) = P(B) P(A|B) $$\n",
    "$$ P(A) P(B|A) = P(B) P(A|B) $$\n",
    "$$ P(A|B) = \\frac{P(A) P(B|A)}{P(B)} $$\n",
    "\n",
    "베이즈 이론은 아래와 같이 분할 가능\n",
    "- P(A) = prior(사전 확률), 우리가 데이터를 관측하기 전에 미리 알고 있다고 믿는 확률.\n",
    "    - 이것은 이런 사건의 marginal 확률(개별 사건의 확률, 주변 확률)\n",
    "- P(B) = 우리가 보유하고 있는 데이터 / event를 관측한 확률. \n",
    "    - 이것은 이런 사건의 marginal 확률, 특히 정규화 상수라 함.\n",
    "- P(B|A)는 likelihood로 알려진 우리가 믿고 있는 것이 주어졌다고 생각하는 확률. \n",
    "    - 실제는 확률이 아님.\n",
    "- P(A|B)는 우리가 데이터를 관측한 후의 우리의 믿음(belief)의 확률이고. \n",
    "    - posterior(사후 확률)\n",
    "\n",
    "=> 베이즈 이론은 아래와 같이 분할 가능\n",
    "- $P(\\theta)$ = prior(사전 확률), 우리가 데이터를 관측하기 전에 미리 알고 있다고 믿는 확률.\n",
    "    - 이것은 이런 사건의 marginal 확률\n",
    "- $P(B)$ = 우리가 보유하고 있는 데이터 / event를 관측한 확률. \n",
    "    - 이것은 이런 사건의 marginal 확률, 특히 정규화 상수라 함.\n",
    "- $ P(x|\\theta) $는 likelihood로 알려진 우리가 믿고 있는 것이 주어졌다고 생각하는 확률. \n",
    "    - 실제는 확률이 아님.\n",
    "- $ P(\\theta|x) $는 우리가 데이터를 관측한 후의 우리의 믿음(belief)의 확률이고. \n",
    "    - posterior(사후 확률)"
   ]
  },
  {
   "cell_type": "code",
   "execution_count": 7,
   "id": "96a7fe4d",
   "metadata": {},
   "outputs": [
    {
     "name": "stdout",
     "output_type": "stream",
     "text": [
      "0.7706043956043956\n"
     ]
    },
    {
     "data": {
      "text/plain": [
       "0.7706043956043956"
      ]
     },
     "execution_count": 7,
     "metadata": {},
     "output_type": "execute_result"
    }
   ],
   "source": [
    "selected = female[banker]\n",
    "print(prob(selected)) # 은행원 중 여성일 확률\n",
    "\n",
    "def conditional(proposition, given):\n",
    "    return prob(proposition[given])\n",
    "conditional(female, banker)"
   ]
  },
  {
   "cell_type": "code",
   "execution_count": 8,
   "id": "c2c8129f",
   "metadata": {},
   "outputs": [
    {
     "name": "stdout",
     "output_type": "stream",
     "text": [
      "True\n",
      "False\n"
     ]
    }
   ],
   "source": [
    "# 논리곱은 교환 가능, 조건부확률은 교환 불가능\n",
    "print( prob(banker & democrat) == prob(democrat & banker) )\n",
    "print( conditional(female, banker) == conditional(banker, female) )"
   ]
  },
  {
   "cell_type": "code",
   "execution_count": 9,
   "id": "d6d36d1f",
   "metadata": {},
   "outputs": [
    {
     "data": {
      "text/plain": [
       "0.17307692307692307"
      ]
     },
     "execution_count": 9,
     "metadata": {},
     "output_type": "execute_result"
    }
   ],
   "source": [
    "# 은행원 중 진보 성향인 여성의 비율\n",
    "conditional(liberal & female, banker)"
   ]
  },
  {
   "cell_type": "markdown",
   "id": "5f27d455",
   "metadata": {},
   "source": [
    "명제 A에 대한 확률: $ P(A) $ <br>\n",
    "A와 B 모두 참일 확률: $ P(A and B) = P(A \\cap B) $ <br>\n",
    "B가 주어졌을 때 A가 참일 확률: $ P(A|B) $\n",
    "\n",
    "#### 확률 법칙\n",
    "\n",
    "정리1: $$ P(A|B) = \\frac{P(A \\cap B)}{P(B)} $$\n",
    "\n",
    "---\n",
    "정리2: $$ P(A \\cap B) = P(B)P(A|B) $$\n",
    "\n",
    "--- \n",
    "정리3: \n",
    "$$ P(A \\cap B) = P(B \\cap A) $$\n",
    "\n",
    "$$ P(B)P(A|B) = P(A)P(B|A) $$\n",
    "\n",
    "$$ P(A|B) = \\frac{P(A)P(B|A)}{P(B)} => 베이즈 정리 $$ \n",
    "\n",
    "---\n",
    "+전체확률의 법칙:\n",
    "$$ P(A) = P(B_{1} \\cap A) + P(B_{2} \\cap A) $$\n",
    "$$ P(A) = P(B_{1})P(A|B_{1}) + P(B_{2})P(A|B_{2}) = \\sum_{i=1} P(A \\cap B_{i}) =  \\sum_{i=1} P(B_{i}) P(A|B_{i}) $$"
   ]
  },
  {
   "cell_type": "code",
   "execution_count": 10,
   "id": "03d6e08d",
   "metadata": {},
   "outputs": [
    {
     "name": "stdout",
     "output_type": "stream",
     "text": [
      "0.014769730168391155\n",
      "0.014769730168391155\n"
     ]
    },
    {
     "data": {
      "text/plain": [
       "0.014769730168391153"
      ]
     },
     "execution_count": 10,
     "metadata": {},
     "output_type": "execute_result"
    }
   ],
   "source": [
    "# 전체확률의 법칙 1\n",
    "female = (gss['sex'] == 2)\n",
    "male = (gss['sex'] == 1)\n",
    "\n",
    "print(prob(banker))\n",
    "print(prob(male & banker) + prob(female & banker))\n",
    "\n",
    "# 전체확률의 법칙 2\n",
    "prob(male)*conditional(banker, male) + prob(female)*conditional(banker, female)"
   ]
  },
  {
   "cell_type": "markdown",
   "id": "244da9dc",
   "metadata": {},
   "source": [
    "### 예제\n",
    "2쌍의 카드를 가지고 있다. <br>\n",
    "하나는 <u>정상 deck_1(D_1)</u>이고 다른 하나는 <u>빨간색 카드(다이아몬드와 하트)를 가지고 있는 deck_2(D_2)</u>. <br>\n",
    "랜덤으로 하나의 deck를 선택하고 다이아몬드 3이 나오는 경우(3D), <br>\n",
    "다이아몬드 3이 정상 deck_1(D_1)으로부터 나오는 확률은?\n",
    "\n",
    "우선 랜덤으로 deck_1, deck_2, 중에서 하나를 선택하면 <br>\n",
    "deck_1이 선택될 확률: $ P(D_{1}) = \\frac{1}{2} $ <br>\n",
    "deck_2이 선택될 확률: $ P(D_{2}) = \\frac{1}{2} $\n",
    "\n",
    "- likelihood 계산\n",
    "\n",
    "$ P(3D | D_{1}) = \\frac{1}{52} $ <br>\n",
    "$ P(3D | D_{2}) = \\frac{1}{26} $\n",
    "\n",
    "두번째 deck에서만 빨간색 카드인 26개의 카드가 있고, 그 26개 중 하나의 3의 다이아몬드를 선택하는 확률 <br>\n",
    "전체 확률 법칙을 적용하여 다이아몬드 3을 관측할 수 있는 확률?\n",
    "$$ P(3D) = P(D_{1}) P(3D | D_{1}) + P(D_{2}) P(3D | D_{2}) = \\frac{3}{104} $$\n",
    "\n",
    "## 문제\n",
    "베이지안 이론을 사용하여 아래의 수식을 전개하세요. \n",
    "1번 deck로부터 다이아몬드 3이 나오는 확률은?\n",
    "\n",
    "$$ P(D_{1} | 3D) = \\frac{P(D_{1}) P(3D|D_{1})}{3D} = \\frac{1}{3} $$"
   ]
  },
  {
   "cell_type": "markdown",
   "id": "3df62818",
   "metadata": {},
   "source": [
    "## <div id=\"2\"><a href=\"#top\" style=\"text-decoration: none; color: black;\">2. 베이즈 정리</a></div>\n",
    "\n",
    "<blockquote>베이즈 정리: $ P(A|B) = \\frac{P(A)P(B|A)}{P(B)} $</blockquote>\n",
    "\n",
    "- [ 쿠키 ]\n",
    "    - 그릇1: 바닐라 쿠키 30개와 초콜릿 쿠키 10개\n",
    "    - 그릇2: 바닐라 쿠키 20개와 초콜릿 쿠키 20개\n",
    "        - 임의의 그릇을 하나 골라 쿠키 하나를 집었다. 그 때 그 쿠키가 바닐라 쿠키였다면, 이 쿠키가 1번 그릇에서 나왔을 확률은?\n",
    "1) 전제- 바닐라 쿠키를 꺼냈다 + 그릇 1에서 나온 것. 조건부확률: $ P(B_{1}|V) $\n",
    "    - 그릇1이라는 조건 하, 바닐라 쿠키 조건부확률: $ P(V|B_{1}) $\n",
    "    - 그릇2이라는 조건 하, 바닐라 쿠키 조건부확률: $ P(V|B_{2}) $\n",
    "    \n",
    "$$ P(B_{1}|V) = \\frac{P(B_{1})P(V|B_{1})}{P(V)} <= 구하고자 하는 값 $$\n",
    "- $ P(B_{1}) $: 그릇1을 골랐을 확률 = $ \\frac{1}{2} $\n",
    "- $ P(V|B_{1}) $: 그릇1에서 바닐라 쿠키를 고를 확률 = $ \\frac{3}{4} $\n",
    "- $ P(V) $: 각 그릇에서 바닐라 쿠키를 고를 확률 => 전체 확률의 법칙 이용\n",
    "    - $ P(V) = P(B_{1})P(V|A) + P(B_{2})P(V|B_{2}) $\n",
    "    - $ P(V) = (\\frac{1}{2})(\\frac{3}{4}) +  (\\frac{1}{2})(\\frac{1}{2}) = \\frac{5}{8} $\n",
    "$$ P(B_{1}|V) = \\frac{(\\frac{1}{2})(\\frac{3}{4})}{(\\frac{5}{8})} = \\frac{3}{5} $$"
   ]
  },
  {
   "cell_type": "markdown",
   "id": "70ef0943",
   "metadata": {},
   "source": [
    "#### 2-1. 베이즈 갱신(Bayesian Update)\n",
    "통시적(시간에 따라 변한다) 베이즈: 데이터 일부 D가 주어졌을 때, 가설 H의 확률을 갱신하는 방법으로 사용하는 것.<br><sub> 새로운 데이터를 접하게 되면 가설의 확률이 변한다는 것</sub>\n",
    "$$ P(H|D) = \\frac{P(H)P(D|H)}{P(D)} $$\n",
    "- $ P(H) $: 사전확률, 데이터를 확인하기 전에 구한 가설 확률. \n",
    "- $ P(H|D) $: 사후확률, 데이터를 확인한 후의 가설 확률. \n",
    "- $ P(D|H) $: 기능도(우도), 가설 하에서 해당 데이터가 나올 확률. \n",
    "- $ P(D) $: 데이터의 전체확률, 어떤 가설에서든 해당 데이터가 나올 확률.\n",
    "    -  $ P(D) = P(H_{1})P(D|H_{1}) + P(H_{2})P(D|H_{2}) = \\sum_{i} P(H_{i}) P(D|H_{i}) $\n",
    "    \n",
    "<div style=\"text-align: center;\">데이터와 사전 확률을 사용해서 사후확률을 구하는 과정 => 베이즈 갱신</div>\n",
    "\n"
   ]
  },
  {
   "cell_type": "markdown",
   "id": "ca1b5363",
   "metadata": {},
   "source": [
    "#### 2-2. 베이즈 테이블: 베이즈 갱신을 보다 편리하게 할 수 있는 도구\n"
   ]
  },
  {
   "cell_type": "code",
   "execution_count": 11,
   "id": "79013268",
   "metadata": {},
   "outputs": [
    {
     "name": "stdout",
     "output_type": "stream",
     "text": [
      "0.625\n",
      "1.0\n"
     ]
    },
    {
     "data": {
      "text/html": [
       "<div>\n",
       "<style scoped>\n",
       "    .dataframe tbody tr th:only-of-type {\n",
       "        vertical-align: middle;\n",
       "    }\n",
       "\n",
       "    .dataframe tbody tr th {\n",
       "        vertical-align: top;\n",
       "    }\n",
       "\n",
       "    .dataframe thead th {\n",
       "        text-align: right;\n",
       "    }\n",
       "</style>\n",
       "<table border=\"1\" class=\"dataframe\">\n",
       "  <thead>\n",
       "    <tr style=\"text-align: right;\">\n",
       "      <th></th>\n",
       "      <th>prior</th>\n",
       "      <th>likelihood</th>\n",
       "      <th>unnorm</th>\n",
       "      <th>posterior</th>\n",
       "    </tr>\n",
       "  </thead>\n",
       "  <tbody>\n",
       "    <tr>\n",
       "      <th>Bowl 1</th>\n",
       "      <td>0.5</td>\n",
       "      <td>0.75</td>\n",
       "      <td>0.375</td>\n",
       "      <td>0.6</td>\n",
       "    </tr>\n",
       "    <tr>\n",
       "      <th>Bowl 2</th>\n",
       "      <td>0.5</td>\n",
       "      <td>0.50</td>\n",
       "      <td>0.250</td>\n",
       "      <td>0.4</td>\n",
       "    </tr>\n",
       "  </tbody>\n",
       "</table>\n",
       "</div>"
      ],
      "text/plain": [
       "        prior  likelihood  unnorm  posterior\n",
       "Bowl 1    0.5        0.75   0.375        0.6\n",
       "Bowl 2    0.5        0.50   0.250        0.4"
      ]
     },
     "execution_count": 11,
     "metadata": {},
     "output_type": "execute_result"
    }
   ],
   "source": [
    "import pandas as pd\n",
    "\n",
    "# 한 행에 하나의 가설이 들어갈 빈 데이터프레임 생성\n",
    "table = pd.DataFrame(index=['Bowl 1', 'Bowl 2'])\n",
    "\n",
    "# 사전확률을 나타내는 열 추가\n",
    "table['prior'] = 1/2, 1/2\n",
    "# 가능도에 대한 열 추가\n",
    "table['likelihood'] = 3/4, 1/2\n",
    "# 표준화되지 않은 사후확률 = 사전확률 X 가능도\n",
    "table['unnorm'] = table['prior'] * table['likelihood']\n",
    "# 전체확률\n",
    "prob_data = table['unnorm'].sum()\n",
    "# 사후확률\n",
    "table['posterior'] = table['unnorm'] / prob_data # 표준화(normalization)\n",
    "\n",
    "print(prob_data)\n",
    "print(table['posterior'].sum()) # 표준화 상수(normalizing constant)\n",
    "table"
   ]
  },
  {
   "cell_type": "markdown",
   "id": "ab308d9f",
   "metadata": {},
   "source": [
    "#### 3. 분포\n",
    "분포(distribution): 가능한 결괏값과 각 값에 대한 확률의 집합. <br>\n",
    "- 경험적(empirical) 분포: 데이터에 기반한 개념 (<=> 이론적 분포)\n",
    "\n",
    "### 확률질량함수(probability mass funtion, PMF)\n",
    "분포 결과가 이산적인 경우 이 분포를 확률질량함수로 나타낼 수 있다."
   ]
  },
  {
   "cell_type": "code",
   "execution_count": 12,
   "id": "29897e97",
   "metadata": {},
   "outputs": [],
   "source": [
    "# pip install empiricaldist\n",
    "# pip install matplotlib\n",
    "# pip install scipy"
   ]
  },
  {
   "cell_type": "code",
   "execution_count": 13,
   "id": "8447a754",
   "metadata": {},
   "outputs": [
    {
     "data": {
      "text/html": [
       "<div>\n",
       "<style scoped>\n",
       "    .dataframe tbody tr th:only-of-type {\n",
       "        vertical-align: middle;\n",
       "    }\n",
       "\n",
       "    .dataframe tbody tr th {\n",
       "        vertical-align: top;\n",
       "    }\n",
       "\n",
       "    .dataframe thead th {\n",
       "        text-align: right;\n",
       "    }\n",
       "</style>\n",
       "<table border=\"1\" class=\"dataframe\">\n",
       "  <thead>\n",
       "    <tr style=\"text-align: right;\">\n",
       "      <th></th>\n",
       "      <th>probs</th>\n",
       "    </tr>\n",
       "  </thead>\n",
       "  <tbody>\n",
       "    <tr>\n",
       "      <th>heads</th>\n",
       "      <td>0.5</td>\n",
       "    </tr>\n",
       "    <tr>\n",
       "      <th>tails</th>\n",
       "      <td>0.5</td>\n",
       "    </tr>\n",
       "  </tbody>\n",
       "</table>\n",
       "</div>"
      ],
      "text/plain": [
       "heads    0.5\n",
       "tails    0.5\n",
       "Name: , dtype: float64"
      ]
     },
     "execution_count": 13,
     "metadata": {},
     "output_type": "execute_result"
    }
   ],
   "source": [
    "# Pmf: 각 가능한 결괏값에 각각의 확률을 연결해주는 함수\n",
    "from empiricaldist import Pmf\n",
    "\n",
    "coin = Pmf() # Pmf(): 어떤 결괏값도 들어있지 않은 빈 Pmf 객체를 생성.\n",
    "coin['heads'] = 1/2 # 동전 앞면\n",
    "coin['tails'] = 1/2 # 동전 뒷면\n",
    "coin"
   ]
  },
  {
   "cell_type": "code",
   "execution_count": 14,
   "id": "1e015fca",
   "metadata": {},
   "outputs": [
    {
     "data": {
      "text/html": [
       "<div>\n",
       "<style scoped>\n",
       "    .dataframe tbody tr th:only-of-type {\n",
       "        vertical-align: middle;\n",
       "    }\n",
       "\n",
       "    .dataframe tbody tr th {\n",
       "        vertical-align: top;\n",
       "    }\n",
       "\n",
       "    .dataframe thead th {\n",
       "        text-align: right;\n",
       "    }\n",
       "</style>\n",
       "<table border=\"1\" class=\"dataframe\">\n",
       "  <thead>\n",
       "    <tr style=\"text-align: right;\">\n",
       "      <th></th>\n",
       "      <th>probs</th>\n",
       "    </tr>\n",
       "  </thead>\n",
       "  <tbody>\n",
       "    <tr>\n",
       "      <th>1</th>\n",
       "      <td>0.166667</td>\n",
       "    </tr>\n",
       "    <tr>\n",
       "      <th>2</th>\n",
       "      <td>0.166667</td>\n",
       "    </tr>\n",
       "    <tr>\n",
       "      <th>3</th>\n",
       "      <td>0.166667</td>\n",
       "    </tr>\n",
       "    <tr>\n",
       "      <th>4</th>\n",
       "      <td>0.166667</td>\n",
       "    </tr>\n",
       "    <tr>\n",
       "      <th>5</th>\n",
       "      <td>0.166667</td>\n",
       "    </tr>\n",
       "    <tr>\n",
       "      <th>6</th>\n",
       "      <td>0.166667</td>\n",
       "    </tr>\n",
       "  </tbody>\n",
       "</table>\n",
       "</div>"
      ],
      "text/plain": [
       "1    0.166667\n",
       "2    0.166667\n",
       "3    0.166667\n",
       "4    0.166667\n",
       "5    0.166667\n",
       "6    0.166667\n",
       "Name: , dtype: float64"
      ]
     },
     "execution_count": 14,
     "metadata": {},
     "output_type": "execute_result"
    }
   ],
   "source": [
    "# 육면체 주사위의 확률값\n",
    "die = Pmf.from_seq([1, 2, 3, 4, 5, 6])\n",
    "die"
   ]
  },
  {
   "cell_type": "code",
   "execution_count": 15,
   "id": "dbdf72b6",
   "metadata": {},
   "outputs": [
    {
     "data": {
      "text/html": [
       "<div>\n",
       "<style scoped>\n",
       "    .dataframe tbody tr th:only-of-type {\n",
       "        vertical-align: middle;\n",
       "    }\n",
       "\n",
       "    .dataframe tbody tr th {\n",
       "        vertical-align: top;\n",
       "    }\n",
       "\n",
       "    .dataframe thead th {\n",
       "        text-align: right;\n",
       "    }\n",
       "</style>\n",
       "<table border=\"1\" class=\"dataframe\">\n",
       "  <thead>\n",
       "    <tr style=\"text-align: right;\">\n",
       "      <th></th>\n",
       "      <th>probs</th>\n",
       "    </tr>\n",
       "  </thead>\n",
       "  <tbody>\n",
       "    <tr>\n",
       "      <th>M</th>\n",
       "      <td>0.090909</td>\n",
       "    </tr>\n",
       "    <tr>\n",
       "      <th>i</th>\n",
       "      <td>0.363636</td>\n",
       "    </tr>\n",
       "    <tr>\n",
       "      <th>p</th>\n",
       "      <td>0.181818</td>\n",
       "    </tr>\n",
       "    <tr>\n",
       "      <th>s</th>\n",
       "      <td>0.363636</td>\n",
       "    </tr>\n",
       "  </tbody>\n",
       "</table>\n",
       "</div>"
      ],
      "text/plain": [
       "M    0.090909\n",
       "i    0.363636\n",
       "p    0.181818\n",
       "s    0.363636\n",
       "Name: , dtype: float64"
      ]
     },
     "execution_count": 15,
     "metadata": {},
     "output_type": "execute_result"
    }
   ],
   "source": [
    "# 글자수의 비중\n",
    "letters = Pmf.from_seq(list('Mississippi'))\n",
    "letters"
   ]
  },
  {
   "cell_type": "code",
   "execution_count": 16,
   "id": "a7eef95c",
   "metadata": {},
   "outputs": [
    {
     "data": {
      "text/plain": [
       "(0.36363636363636365, array([0.16666667, 0.16666667, 0.        ]))"
      ]
     },
     "execution_count": 16,
     "metadata": {},
     "output_type": "execute_result"
    }
   ],
   "source": [
    "letters['s'], die([1, 4, 7])"
   ]
  },
  {
   "cell_type": "markdown",
   "id": "9885e32c",
   "metadata": {},
   "source": []
  },
  {
   "cell_type": "markdown",
   "id": "02462b0d",
   "metadata": {},
   "source": [
    "## <div id=\"3\"><a href=\"#top\" style=\"text-decoration: none; color: black;\">3. 연속 분포</a></div>\n",
    "- 이산형 분포(discrete distribution): 각각의 결과에 확률을 계산(ex. 동전 던지기).\n",
    "    - 확률질량함수\n",
    "- 연속 분포(continuous distribution): 연속적인 결과에 대한 분포. \n",
    "    - 균등 분포(uniform distribution): 0과 1 사이의 모든 값에 동등한 비중을 준 분포. \n",
    "        - 확률밀도함수(probability density function, PDF): 밀도함수를 특정 구간에서 적분한 값으로 확률을 나타냄.\n",
    "        - 누적분포함수(cumulative distribution function, CDF): 확률변수의 값이 특정 값보다 작거나 클 확률을 나타냄. \n",
    "        \n",
    "> 확률질량함수 : 이산확률변수의 확률함수 <br>\n",
    "> 확률밀도함수 : 연속확률변수의 확률함수"
   ]
  },
  {
   "cell_type": "code",
   "execution_count": 30,
   "id": "8c8e9f48",
   "metadata": {},
   "outputs": [
    {
     "name": "stdout",
     "output_type": "stream",
     "text": [
      "PDF:  0 1\n",
      "CDF:  0 0.4 1\n"
     ]
    }
   ],
   "source": [
    "# 확률밀도함수(pdf)\n",
    "def uniform_pdf(x):\n",
    "    return 1 if x >= 0 and x < 1 else 0\n",
    "\n",
    "# 누적분포함수(cdf)\n",
    "def uniform_cdf(x):\n",
    "    \"균등분포를 따르는 확률변수의 값이 x보다 작거나 같을 확률을 반환\"\n",
    "    if x < 0: return 0 # 균등분포의 확률은 절대로 0보다 작을 수 없음\n",
    "    elif x < 1: return x # 예시: P(X <= 0.4) = 0.4\n",
    "    else: return 1 # 균등분포의 확률은 1보다 작음\n",
    "\n",
    "print('PDF: ', uniform_pdf(-0.2), uniform_pdf(0))\n",
    "print('CDF: ', uniform_cdf(-2), uniform_cdf(0.4), uniform_cdf(3))"
   ]
  },
  {
   "cell_type": "markdown",
   "id": "0270e99b",
   "metadata": {},
   "source": [
    "## <div id=\"4\"><a href=\"#top\" style=\"text-decoration: none; color: black;\">4. 정규분포(Normal distribution)</a></div><small>모든 분포들의 왕, 유명한 종형 곡선 모양의 분포. 가우스 분포<br>연속 확률분포의 한 종류로서 데이터의 분포를 근사하는데 가장 흔하게 사용됨.</small>\n",
    "- 두 파라미터로 정의됨.\n",
    "    - 평균 = $ \\mu(뮤) $ :  종의 중심이 어디인가.\n",
    "    - 표준편차 = $ \\sigma(시그마) $ :  종의 폭이 얼마나 넓은가\n",
    "    \n",
    "정규분포의 밀도함수: \n",
    "$$ f(x | \\mu, \\sigma)  = \\frac{1}{\\sqrt{2\\pi\\sigma}} exp \\bigr( \\frac{(x-\\mu)^2}{2\\sigma^2}\\bigr) $$"
   ]
  },
  {
   "cell_type": "code",
   "execution_count": 41,
   "id": "b615917d",
   "metadata": {
    "scrolled": false
   },
   "outputs": [
    {
     "data": {
      "image/png": "[encoded data removed]",
      "text/plain": [
       "<Figure size 640x480 with 1 Axes>"
      ]
     },
     "metadata": {},
     "output_type": "display_data"
    }
   ],
   "source": [
    "def normal_pdf(x, mu=0, sigma=1):\n",
    "    sqrt_two_pi = math.sqrt(2 * math.pi)\n",
    "    return (math.exp(-(-x-mu)**2 / 2 / sigma**2) / (sqrt_two_pi * sigma))\n",
    "\n",
    "import matplotlib.pyplot as plt\n",
    "import math\n",
    "\n",
    "xs = [x / 10.0 for x in range(-50, 50)]\n",
    "plt.plot(xs, [normal_pdf(x, sigma=1) for x in xs], '-', label='mu=0, sigma=1')\n",
    "plt.plot(xs, [normal_pdf(x, sigma=2) for x in xs], '--', label='mu=0, sigma=2')\n",
    "plt.plot(xs, [normal_pdf(x, sigma=0.5) for x in xs], ':', label='mu=0, sigma=0.5')\n",
    "plt.plot(xs, [normal_pdf(x, mu=-1) for x in xs], '-.', label='mu=-1, sigma=1') # ???\n",
    "plt.legend()\n",
    "plt.title('Variable Normal pdfs')\n",
    "plt.show()"
   ]
  },
  {
   "cell_type": "code",
   "execution_count": 49,
   "id": "c8af7689",
   "metadata": {},
   "outputs": [
    {
     "data": {
      "image/png": "[encoded data removed]",
      "text/plain": [
       "<Figure size 640x480 with 1 Axes>"
      ]
     },
     "metadata": {},
     "output_type": "display_data"
    }
   ],
   "source": [
    "# 정규분포의 누적분포함수\n",
    "def normal_cdf(x, mu=0, sigma=1):\n",
    "    sqrt_two_pi = math.sqrt(2 * math.pi)\n",
    "    return (1 + math.erf((x - mu) / math.sqrt(2) / sigma)) / 2\n",
    "\n",
    "import matplotlib.pyplot as plt\n",
    "import math\n",
    "\n",
    "xs = [x / 10.0 for x in range(-50, 50)]\n",
    "plt.plot(xs, [normal_cdf(x, sigma=1) for x in xs], '-', label='mu=0, sigma=1')\n",
    "plt.plot(xs, [normal_cdf(x, sigma=2) for x in xs], '--', label='mu=0, sigma=2')\n",
    "plt.plot(xs, [normal_cdf(x, sigma=0.5) for x in xs], ':', label='mu=0, sigma=0.5')\n",
    "plt.plot(xs, [normal_cdf(x, mu=-1) for x in xs], '-.', label='mu=-1, sigma=1') # ???\n",
    "plt.legend(loc=4)\n",
    "plt.title('Variable Normal cdfs')\n",
    "plt.show()"
   ]
  }
 ],
 "metadata": {
  "kernelspec": {
   "display_name": "Python 3 (ipykernel)",
   "language": "python",
   "name": "python3"
  },
  "language_info": {
   "codemirror_mode": {
    "name": "ipython",
    "version": 3
   },
   "file_extension": ".py",
   "mimetype": "text/x-python",
   "name": "python",
   "nbconvert_exporter": "python",
   "pygments_lexer": "ipython3",
   "version": "3.11.5"
  }
 },
 "nbformat": 4,
 "nbformat_minor": 5
}
