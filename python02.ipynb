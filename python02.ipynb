{
 "cells": [
  {
   "cell_type": "code",
   "execution_count": 2,
   "id": "f6df81b3",
   "metadata": {},
   "outputs": [
    {
     "ename": "SyntaxError",
     "evalue": "invalid syntax (682897478.py, line 1)",
     "output_type": "error",
     "traceback": [
      "\u001b[1;36m  Cell \u001b[1;32mIn[2], line 1\u001b[1;36m\u001b[0m\n\u001b[1;33m    (주석/comment)는 컴퓨터가 실행하지 않는다.\u001b[0m\n\u001b[1;37m                ^\u001b[0m\n\u001b[1;31mSyntaxError\u001b[0m\u001b[1;31m:\u001b[0m invalid syntax\n"
     ]
    }
   ],
   "source": [
    "(주석/comment)는 컴퓨터가 실행하지 않는다.\n",
    "# 다만 사용자가 읽기 쉽도록 설명하는 내용"
   ]
  },
  {
   "cell_type": "code",
   "execution_count": 1,
   "id": "f35c73ae",
   "metadata": {},
   "outputs": [],
   "source": [
    "a = 3\n",
    "b = 7"
   ]
  },
  {
   "cell_type": "code",
   "execution_count": 5,
   "id": "ccd0ab38",
   "metadata": {},
   "outputs": [
    {
     "data": {
      "text/plain": [
       "60"
      ]
     },
     "execution_count": 5,
     "metadata": {},
     "output_type": "execute_result"
    }
   ],
   "source": [
    "c = a * b\n",
    "c"
   ]
  },
  {
   "cell_type": "code",
   "execution_count": 3,
   "id": "ca5da888",
   "metadata": {},
   "outputs": [],
   "source": [
    "b = 20  # 위 or 아래 재실행하면 변화"
   ]
  },
  {
   "cell_type": "code",
   "execution_count": 6,
   "id": "abd8bdd9",
   "metadata": {
    "scrolled": true
   },
   "outputs": [
    {
     "data": {
      "text/plain": [
       "60"
      ]
     },
     "execution_count": 6,
     "metadata": {},
     "output_type": "execute_result"
    }
   ],
   "source": [
    "c"
   ]
  },
  {
   "cell_type": "code",
   "execution_count": null,
   "id": "629c87ca",
   "metadata": {},
   "outputs": [],
   "source": [
    "a = 1000  # 실행 안 하면 적용X"
   ]
  },
  {
   "cell_type": "code",
   "execution_count": 7,
   "id": "4ad0dd0e",
   "metadata": {
    "scrolled": true
   },
   "outputs": [
    {
     "data": {
      "text/plain": [
       "23"
      ]
     },
     "execution_count": 7,
     "metadata": {},
     "output_type": "execute_result"
    }
   ],
   "source": [
    "a + b"
   ]
  },
  {
   "cell_type": "code",
   "execution_count": 8,
   "id": "63714380",
   "metadata": {},
   "outputs": [],
   "source": [
    "school = \"안녕하세요\""
   ]
  },
  {
   "cell_type": "code",
   "execution_count": 9,
   "id": "2b5fabeb",
   "metadata": {},
   "outputs": [
    {
     "data": {
      "text/plain": [
       "str"
      ]
     },
     "execution_count": 9,
     "metadata": {},
     "output_type": "execute_result"
    }
   ],
   "source": [
    "type(school) # str = string(문자열)의 약자"
   ]
  },
  {
   "cell_type": "markdown",
   "id": "c6723cef",
   "metadata": {},
   "source": [
    "파이썬에서 type은 변수에 어떤 형태가 들어있는지 확인하는 기능"
   ]
  },
  {
   "cell_type": "code",
   "execution_count": null,
   "id": "49716e73",
   "metadata": {},
   "outputs": [],
   "source": [
    "a 변수에 어떤 데이터 타입이 들어가 있는지 확인하는 코드작성"
   ]
  },
  {
   "cell_type": "code",
   "execution_count": 10,
   "id": "849a9da7",
   "metadata": {},
   "outputs": [
    {
     "data": {
      "text/plain": [
       "int"
      ]
     },
     "execution_count": 10,
     "metadata": {},
     "output_type": "execute_result"
    }
   ],
   "source": [
    "type(a)"
   ]
  },
  {
   "cell_type": "code",
   "execution_count": 11,
   "id": "2466ff91",
   "metadata": {
    "scrolled": true
   },
   "outputs": [
    {
     "data": {
      "text/plain": [
       "float"
      ]
     },
     "execution_count": 11,
     "metadata": {},
     "output_type": "execute_result"
    }
   ],
   "source": [
    "f = 2.7\n",
    "type(f)"
   ]
  },
  {
   "cell_type": "markdown",
   "id": "a5e893e5",
   "metadata": {},
   "source": [
    "p48 <br>\n",
    "변수이름 규칙 => 첫글자는 숫자로 시작할 수 없음"
   ]
  },
  {
   "cell_type": "code",
   "execution_count": 12,
   "id": "a0ddc758",
   "metadata": {},
   "outputs": [
    {
     "ename": "SyntaxError",
     "evalue": "invalid decimal literal (1427544086.py, line 1)",
     "output_type": "error",
     "traceback": [
      "\u001b[1;36m  Cell \u001b[1;32mIn[12], line 1\u001b[1;36m\u001b[0m\n\u001b[1;33m    24cafe = \"커피\" # 여기에서 오류 발생함\u001b[0m\n\u001b[1;37m     ^\u001b[0m\n\u001b[1;31mSyntaxError\u001b[0m\u001b[1;31m:\u001b[0m invalid decimal literal\n"
     ]
    }
   ],
   "source": [
    "24cafe = \"커피\" # 여기에서 오류 발생함"
   ]
  },
  {
   "cell_type": "code",
   "execution_count": 13,
   "id": "63afe5ae",
   "metadata": {
    "scrolled": true
   },
   "outputs": [
    {
     "data": {
      "text/plain": [
       "130"
      ]
     },
     "execution_count": 13,
     "metadata": {},
     "output_type": "execute_result"
    }
   ],
   "source": [
    "a_1 = 6\n",
    "a_2 = 16\n",
    "a_3 = 26\n",
    "a_4 = 36\n",
    "a_5 = 46\n",
    "a_1 + a_2 + a_3 + a_4 + a_5"
   ]
  },
  {
   "cell_type": "code",
   "execution_count": 28,
   "id": "a4803443",
   "metadata": {},
   "outputs": [],
   "source": [
    "#국어 영어 수학 점수를 변수에 저장하고 \n",
    "# 총점과 평균을 구하는 식을 구현하세요. \n",
    "k = 100\n",
    "e = 90\n",
    "m = 80\n",
    "total = k+e+m\n",
    "avg = total/3.0"
   ]
  },
  {
   "cell_type": "code",
   "execution_count": 23,
   "id": "36e9113a",
   "metadata": {
    "scrolled": true
   },
   "outputs": [
    {
     "name": "stdout",
     "output_type": "stream",
     "text": [
      "총점: 270입니다.\n"
     ]
    }
   ],
   "source": [
    "print(\"총점: \" + str(total) +\"입니다.\")"
   ]
  },
  {
   "cell_type": "code",
   "execution_count": null,
   "id": "3a6e2157",
   "metadata": {},
   "outputs": [],
   "source": [
    "# 숫자의 + 는 더하기 이지만 문자열의 +는 결합입니다. \n",
    "# 숫자를 문자열로 변환하기 위해 str로 감싸서 결합"
   ]
  },
  {
   "cell_type": "code",
   "execution_count": 29,
   "id": "377f9d94",
   "metadata": {
    "scrolled": true
   },
   "outputs": [
    {
     "name": "stdout",
     "output_type": "stream",
     "text": [
      "평균: 90.0입니다.\n"
     ]
    }
   ],
   "source": [
    "print(\"평균: \" + str(avg) + \"입니다.\")"
   ]
  },
  {
   "cell_type": "code",
   "execution_count": 31,
   "id": "184dbaa2",
   "metadata": {},
   "outputs": [
    {
     "name": "stdout",
     "output_type": "stream",
     "text": [
      "국어점수: 100, 영어점수: 90, 수학점수: 80이고,\n",
      "총점: 270이고 평균은 90.0입니다.\n"
     ]
    }
   ],
   "source": [
    "print(\"국어점수: \" + str(k) + \", 영어점수: \" + str(e) + \", 수학점수: \" + str(m) + \"이고,\")\n",
    "print(\"총점: \" + str(total) + \"이고 평균은 \" + str(avg) + \"입니다.\")"
   ]
  },
  {
   "cell_type": "code",
   "execution_count": 32,
   "id": "37a75436",
   "metadata": {},
   "outputs": [
    {
     "data": {
      "text/plain": [
       "'C:\\\\Users\\\\Admin'"
      ]
     },
     "execution_count": 32,
     "metadata": {},
     "output_type": "execute_result"
    }
   ],
   "source": [
    "pwd"
   ]
  }
 ],
 "metadata": {
  "kernelspec": {
   "display_name": "Python 3 (ipykernel)",
   "language": "python",
   "name": "python3"
  },
  "language_info": {
   "codemirror_mode": {
    "name": "ipython",
    "version": 3
   },
   "file_extension": ".py",
   "mimetype": "text/x-python",
   "name": "python",
   "nbconvert_exporter": "python",
   "pygments_lexer": "ipython3",
   "version": "3.10.9"
  }
 },
 "nbformat": 4,
 "nbformat_minor": 5
}
