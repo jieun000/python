{
 "cells": [
  {
   "cell_type": "markdown",
   "id": "364fc37b",
   "metadata": {},
   "source": [
    "## tkinter"
   ]
  },
  {
   "cell_type": "code",
   "execution_count": 1,
   "id": "9cbadfe5",
   "metadata": {},
   "outputs": [
    {
     "name": "stdout",
     "output_type": "stream",
     "text": [
      "Collecting tk\n",
      "  Downloading tk-0.1.0-py3-none-any.whl (3.9 kB)\n",
      "Installing collected packages: tk\n",
      "Successfully installed tk-0.1.0\n"
     ]
    }
   ],
   "source": [
    "!pip install tk"
   ]
  },
  {
   "cell_type": "code",
   "execution_count": null,
   "id": "16fb651e",
   "metadata": {},
   "outputs": [],
   "source": [
    "# ex)\n",
    "class Tk:\n",
    "    def __init__(self)\n",
    "        pass\n",
    "    def mainloop(self):        "
   ]
  },
  {
   "cell_type": "code",
   "execution_count": 3,
   "id": "130493c8",
   "metadata": {},
   "outputs": [],
   "source": [
    "# tkinter: 파이썬에서 GUI(Graphical User Interface) 프로그래밍을 할 때 사용하는 모듈\n",
    "import tkinter as tk\n",
    "window = tk.Tk() #  객체 생성 떠올라야함\n",
    "window.mainloop()"
   ]
  },
  {
   "cell_type": "code",
   "execution_count": 13,
   "id": "b086c9d5",
   "metadata": {},
   "outputs": [],
   "source": [
    "window = tk.Tk()       # wigdet(위젯) 추가\n",
    "greeting = tk.Label(text='안녕 킨터',foreground='cyan',background='yellow',width=50,height=10)\n",
    "greeting.pack() # wigdet(소형 장치나 요소) 추가\n",
    "window.mainloop()"
   ]
  },
  {
   "cell_type": "code",
   "execution_count": 16,
   "id": "ca490339",
   "metadata": {},
   "outputs": [],
   "source": [
    "def f():\n",
    "    print('사랑')"
   ]
  },
  {
   "cell_type": "code",
   "execution_count": 20,
   "id": "98c271d6",
   "metadata": {
    "collapsed": true
   },
   "outputs": [
    {
     "name": "stdout",
     "output_type": "stream",
     "text": [
      "사랑\n",
      "사랑\n",
      "사랑\n",
      "사랑\n",
      "사랑\n",
      "사랑\n",
      "사랑\n",
      "사랑\n",
      "사랑\n",
      "사랑\n",
      "사랑\n",
      "사랑\n",
      "사랑\n",
      "사랑\n",
      "사랑\n",
      "사랑\n",
      "사랑\n",
      "사랑\n"
     ]
    }
   ],
   "source": [
    "window = tk.Tk()\n",
    "greeting = tk.Label(text='안녕 킨터',fg='cyan',bg='yellow',width=50,height=10)\n",
    "greeting.pack()\n",
    "button = tk.Button(text='나를 눌러라', width=25, height=5, bg='blue', fg='yellow', \n",
    "                   command=f)\n",
    "button.pack()\n",
    "window.mainloop()"
   ]
  },
  {
   "cell_type": "code",
   "execution_count": 27,
   "id": "aff6904f",
   "metadata": {
    "collapsed": true
   },
   "outputs": [
    {
     "name": "stdout",
     "output_type": "stream",
     "text": [
      "인공지능\n",
      "사랑\n",
      "사랑\n",
      "사랑\n",
      "사랑\n",
      "사랑\n"
     ]
    }
   ],
   "source": [
    "window = tk.Tk()\n",
    "greeting = tk.Label(text='안녕 킨터',fg='cyan',bg='yellow',width=50,height=10)\n",
    "greeting.pack()\n",
    "entry = tk.Entry()\n",
    "button = tk.Button(text='나를 눌러라', width=25, height=5, bg='blue', fg='yellow', \n",
    "                   command=f)\n",
    "button.pack()\n",
    "entry.pack()\n",
    "entry.insert(0,'인공지능')\n",
    "name = entry.get()\n",
    "print(name)\n",
    "window.mainloop()"
   ]
  },
  {
   "cell_type": "code",
   "execution_count": 33,
   "id": "5a30aa1b",
   "metadata": {},
   "outputs": [],
   "source": [
    "import matplotlib.pyplot as plt\n",
    "import numpy as np"
   ]
  },
  {
   "cell_type": "code",
   "execution_count": 34,
   "id": "32c961d6",
   "metadata": {},
   "outputs": [],
   "source": [
    "def f():\n",
    "    x = np.arange(-10,10,0.01)\n",
    "    plt.plot(x, [i*2 for i in x])"
   ]
  },
  {
   "cell_type": "code",
   "execution_count": 38,
   "id": "4b90b451",
   "metadata": {
    "scrolled": true
   },
   "outputs": [
    {
     "data": {
      "image/png": "[encoded data removed]",
      "text/plain": [
       "<Figure size 640x480 with 1 Axes>"
      ]
     },
     "metadata": {},
     "output_type": "display_data"
    }
   ],
   "source": [
    "window = tk.Tk()\n",
    "button = tk.Button(text='나를 눌러라', width=25, height=5, bg='blue', fg='yellow', \n",
    "                   command=f)\n",
    "button.pack()\n",
    "window.mainloop()"
   ]
  },
  {
   "cell_type": "markdown",
   "id": "95e43c61",
   "metadata": {},
   "source": []
  },
  {
   "cell_type": "code",
   "execution_count": 46,
   "id": "14132228",
   "metadata": {},
   "outputs": [],
   "source": [
    "from sympy import *\n",
    "from sympy import symbols"
   ]
  },
  {
   "cell_type": "code",
   "execution_count": 51,
   "id": "181ad472",
   "metadata": {},
   "outputs": [],
   "source": [
    "x1, y1 = symbols('x1 y1')\n",
    "def f():\n",
    "    x = np.arange(-10,10,0.01)\n",
    "    y = x**2 + 3*x + 2\n",
    "    y1 = x1**2 + 3*x1 + 2\n",
    "    y_derivative = np.diff(y) # diff(): 열 / 행과 행의 차이를 출력\n",
    "    y_sym = diff(y1, x1)\n",
    "    print('y_sym: ', y_sym)\n",
    "    y_sym_after = [2*i + 3 for i in x]\n",
    "    plt.plot(x, y)\n",
    "    plt.plot(x[:-1], y_derivative) # 2x + 3\n",
    "    plt.show() # 추가"
   ]
  },
  {
   "cell_type": "code",
   "execution_count": 52,
   "id": "73238c61",
   "metadata": {
    "scrolled": false
   },
   "outputs": [
    {
     "name": "stdout",
     "output_type": "stream",
     "text": [
      "y_sym:  2*x1 + 3\n"
     ]
    },
    {
     "data": {
      "image/png": "[encoded data removed]",
      "text/plain": [
       "<Figure size 640x480 with 1 Axes>"
      ]
     },
     "metadata": {},
     "output_type": "display_data"
    }
   ],
   "source": [
    "window = tk.Tk()\n",
    "button = tk.Button(text='나를 눌러라', width=25, height=5, bg='blue', fg='yellow', \n",
    "                   command=f)\n",
    "button.pack()\n",
    "window.mainloop()"
   ]
  },
  {
   "cell_type": "markdown",
   "id": "a150b16d",
   "metadata": {},
   "source": []
  },
  {
   "cell_type": "code",
   "execution_count": 58,
   "id": "2f2592ce",
   "metadata": {},
   "outputs": [],
   "source": [
    "def derivative(f,x,h=1e-5): # E가 10을 밑으로 하는 지수를 의미함. 즉 1E-5 = 1*10^-5\n",
    "    return (f(x+h)-f(x))/h"
   ]
  },
  {
   "cell_type": "code",
   "execution_count": 59,
   "id": "17388cbe",
   "metadata": {},
   "outputs": [],
   "source": [
    "def origin_f(x):\n",
    "    return x**2 + 3*x + 2"
   ]
  },
  {
   "cell_type": "code",
   "execution_count": 71,
   "id": "6f8dfd2d",
   "metadata": {},
   "outputs": [],
   "source": [
    "def f():\n",
    "    x_ = np.arange(-10,10,0.01)\n",
    "    y = origin_f(x_)\n",
    "    y_dev = derivative(origin_f, x_)\n",
    "    plt.plot(x_, y)\n",
    "    plt.plot(x_, y_dev) # 2x + 3\n",
    "    plt.show() # 추가"
   ]
  },
  {
   "cell_type": "code",
   "execution_count": 72,
   "id": "59621c46",
   "metadata": {
    "scrolled": true
   },
   "outputs": [
    {
     "data": {
      "image/png": "[encoded data removed]",
      "text/plain": [
       "<Figure size 640x480 with 1 Axes>"
      ]
     },
     "metadata": {},
     "output_type": "display_data"
    }
   ],
   "source": [
    "window = tk.Tk()\n",
    "button = tk.Button(text='나를 눌러라', width=25, height=5, bg='blue', fg='yellow', \n",
    "                   command=f)\n",
    "button.pack()\n",
    "window.mainloop()"
   ]
  },
  {
   "cell_type": "code",
   "execution_count": 97,
   "id": "f297c885",
   "metadata": {},
   "outputs": [],
   "source": [
    "import tkinter as tk\n",
    "from tkinter import ttk\n",
    "from tkinter.messagebox import showinfo\n",
    "from calendar import month_name"
   ]
  },
  {
   "cell_type": "code",
   "execution_count": 98,
   "id": "0ef9d023",
   "metadata": {},
   "outputs": [],
   "source": [
    "root = tk.Tk()"
   ]
  },
  {
   "cell_type": "code",
   "execution_count": 99,
   "id": "6d5daf35",
   "metadata": {},
   "outputs": [
    {
     "data": {
      "text/plain": [
       "''"
      ]
     },
     "execution_count": 99,
     "metadata": {},
     "output_type": "execute_result"
    }
   ],
   "source": [
    "# root 윈도우 구성\n",
    "root.geometry('300x200')\n",
    "root.resizable(False, False)\n",
    "root.title('콤보박스 widget')"
   ]
  },
  {
   "cell_type": "code",
   "execution_count": 100,
   "id": "8ef6df81",
   "metadata": {},
   "outputs": [],
   "source": [
    "label = ttk.Label(text = '원하는 달을 선택해주세요')\n",
    "label.pack(fill=tk.X, padx=5, pady=5)"
   ]
  },
  {
   "cell_type": "code",
   "execution_count": 101,
   "id": "30d0720d",
   "metadata": {},
   "outputs": [
    {
     "name": "stdout",
     "output_type": "stream",
     "text": [
      "PY_VAR9\n"
     ]
    }
   ],
   "source": [
    "# 콤보 박스 생성\n",
    "selected_month = tk.StringVar() # 위젯의 값을 효율적으로 관리하기 위한 객체\n",
    "print(selected_month)  # 위젯의 textvariable에 selected_month를 할당\n",
    "month_cb = ttk.Combobox(root, textvariable = selected_month) \n",
    "# 모든 달의 3개의 문자만 추출\n",
    "month_cb['values'] = [month_name[m][:3] for m in range(1,13)]\n",
    "\n",
    "# 값 typing 하는 것 방지\n",
    "month_cb['state'] = 'readonly'\n",
    "# 위젯 배치\n",
    "month_cb.pack(fill=tk.X, padx=5, pady=5)\n",
    "# 선택된 값의 변화를 binding\n",
    "def month_changed(event):\n",
    "    \"\"\"\n",
    "        month가 변경된 event를 처리하는 함수(event handler, callback)\n",
    "    \"\"\"\n",
    "    showinfo(title='Result', message=f'당신은 {selected_month.get()}을 선택하셨어요')\n",
    "month_cb.bind('<<ComboboxSelected>>', month_changed)\n",
    "root.mainloop()"
   ]
  },
  {
   "cell_type": "code",
   "execution_count": 86,
   "id": "d8d1b633",
   "metadata": {},
   "outputs": [],
   "source": [
    "import tkinter as tk\n",
    "from tkinter import ttk\n",
    "from tkinter.messagebox import showinfo\n",
    "from calendar import month_name, day_name"
   ]
  },
  {
   "cell_type": "code",
   "execution_count": 87,
   "id": "3c769b33",
   "metadata": {},
   "outputs": [],
   "source": [
    "root = tk.Tk()"
   ]
  },
  {
   "cell_type": "code",
   "execution_count": 88,
   "id": "67cd33cb",
   "metadata": {},
   "outputs": [
    {
     "data": {
      "text/plain": [
       "''"
      ]
     },
     "execution_count": 88,
     "metadata": {},
     "output_type": "execute_result"
    }
   ],
   "source": [
    "# root 윈도우 구성\n",
    "root.geometry('300x200')\n",
    "root.resizable(False, False)\n",
    "root.title('콤보박스 widget')"
   ]
  },
  {
   "cell_type": "code",
   "execution_count": 89,
   "id": "98ee0395",
   "metadata": {},
   "outputs": [],
   "source": [
    "label = ttk.Label(text = '원하는 달을 선택해주세요')\n",
    "label.pack(fill=tk.X, padx=5, pady=5)"
   ]
  },
  {
   "cell_type": "code",
   "execution_count": 95,
   "id": "56c14ebe",
   "metadata": {},
   "outputs": [
    {
     "name": "stdout",
     "output_type": "stream",
     "text": [
      "PY_VAR8\n"
     ]
    }
   ],
   "source": [
    "# 콤보 박스 생성\n",
    "selected_month = tk.StringVar() # 위젯의 값을 효율적으로 관리하기 위한 객체\n",
    "print(selected_month)  # 위젯의 textvariable에 selected_month를 할당\n",
    "month_cb = ttk.Combobox(root, textvariable = selected_month) \n",
    "# 모든 달의 3개의 문자만 추출\n",
    "month_cb['values'] = [day_name[m][:3] for m in range(7)]\n",
    "\n",
    "# 값 typing 하는 것 방지\n",
    "month_cb['state'] = 'readonly'\n",
    "# 위젯 배치\n",
    "month_cb.pack(fill=tk.X, padx=5, pady=5)\n",
    "# 선택된 값의 변화를 binding\n",
    "def month_changed(event):\n",
    "    \"\"\"\n",
    "        month가 변경된 event를 처리하는 함수(event handler, callback)\n",
    "    \"\"\"\n",
    "    showinfo(title='Result', message=f'당신은 {selected_month.get()}을 선택하셨어요')\n",
    "month_cb.bind('<<ComboboxSelected>>', month_changed)\n",
    "root.mainloop()"
   ]
  }
 ],
 "metadata": {
  "kernelspec": {
   "display_name": "Python 3 (ipykernel)",
   "language": "python",
   "name": "python3"
  },
  "language_info": {
   "codemirror_mode": {
    "name": "ipython",
    "version": 3
   },
   "file_extension": ".py",
   "mimetype": "text/x-python",
   "name": "python",
   "nbconvert_exporter": "python",
   "pygments_lexer": "ipython3",
   "version": "3.11.3"
  }
 },
 "nbformat": 4,
 "nbformat_minor": 5
}
