{
 "cells": [
  {
   "cell_type": "code",
   "execution_count": null,
   "id": "5c317dbe",
   "metadata": {},
   "outputs": [],
   "source": [
    "a = \"사랑\"\n",
    "b = \"믿음\""
   ]
  },
  {
   "cell_type": "code",
   "execution_count": null,
   "id": "81e34987",
   "metadata": {},
   "outputs": [],
   "source": [
    "a+b"
   ]
  },
  {
   "cell_type": "code",
   "execution_count": null,
   "id": "bfba3e6c",
   "metadata": {},
   "outputs": [],
   "source": [
    "\"사랑\" +1"
   ]
  },
  {
   "cell_type": "code",
   "execution_count": null,
   "id": "948b1ac0",
   "metadata": {
    "scrolled": true
   },
   "outputs": [],
   "source": [
    "\"사랑\" + str(1)  # 숫자를 문자열로 변환하는 기능(str)"
   ]
  },
  {
   "cell_type": "code",
   "execution_count": null,
   "id": "89c25d1e",
   "metadata": {},
   "outputs": [],
   "source": [
    "\"총점은\" + str(90) + \"입니다\""
   ]
  },
  {
   "cell_type": "code",
   "execution_count": null,
   "id": "4335f3c2",
   "metadata": {},
   "outputs": [],
   "source": [
    "a = input(\"입력하세요\")\n",
    "a"
   ]
  },
  {
   "cell_type": "code",
   "execution_count": 1,
   "id": "7a82db37",
   "metadata": {},
   "outputs": [
    {
     "name": "stdout",
     "output_type": "stream",
     "text": [
      "국어45\n"
     ]
    },
    {
     "data": {
      "text/plain": [
       "45"
      ]
     },
     "execution_count": 1,
     "metadata": {},
     "output_type": "execute_result"
    }
   ],
   "source": [
    "k = input(\"국어\")  # 사용자에게 국어라는 문자열을 알려주고, 사용자가\n",
    "# 키보드로 입력 받은 값을 변수 K에 저장함\n",
    "int(k)"
   ]
  },
  {
   "cell_type": "code",
   "execution_count": 2,
   "id": "3437217e",
   "metadata": {},
   "outputs": [
    {
     "name": "stdout",
     "output_type": "stream",
     "text": [
      "영어56\n"
     ]
    },
    {
     "data": {
      "text/plain": [
       "56"
      ]
     },
     "execution_count": 2,
     "metadata": {},
     "output_type": "execute_result"
    }
   ],
   "source": [
    "e = input(\"영어\")\n",
    "int(e)"
   ]
  },
  {
   "cell_type": "code",
   "execution_count": 3,
   "id": "948061df",
   "metadata": {},
   "outputs": [
    {
     "name": "stdout",
     "output_type": "stream",
     "text": [
      "수학67\n"
     ]
    },
    {
     "data": {
      "text/plain": [
       "67"
      ]
     },
     "execution_count": 3,
     "metadata": {},
     "output_type": "execute_result"
    }
   ],
   "source": [
    "m = input(\"수학\")\n",
    "int(m)"
   ]
  },
  {
   "cell_type": "code",
   "execution_count": 6,
   "id": "987a2339",
   "metadata": {},
   "outputs": [
    {
     "data": {
      "text/plain": [
       "168"
      ]
     },
     "execution_count": 6,
     "metadata": {},
     "output_type": "execute_result"
    }
   ],
   "source": [
    "total = int(k) + int(e) + int(m)\n",
    "total"
   ]
  },
  {
   "cell_type": "code",
   "execution_count": 7,
   "id": "76e5f94e",
   "metadata": {},
   "outputs": [
    {
     "data": {
      "text/plain": [
       "56"
      ]
     },
     "execution_count": 7,
     "metadata": {},
     "output_type": "execute_result"
    }
   ],
   "source": [
    "avg = int(total)/3\n",
    "int(avg)"
   ]
  },
  {
   "cell_type": "code",
   "execution_count": 11,
   "id": "76f64fb6",
   "metadata": {},
   "outputs": [
    {
     "name": "stdout",
     "output_type": "stream",
     "text": [
      "국어45\n",
      "<class 'str'>\n",
      "<class 'int'>\n",
      "영어56\n",
      "<class 'str'>\n",
      "<class 'int'>\n",
      "수학67\n",
      "<class 'str'>\n",
      "<class 'int'>\n"
     ]
    },
    {
     "data": {
      "text/plain": [
       "168"
      ]
     },
     "execution_count": 11,
     "metadata": {},
     "output_type": "execute_result"
    }
   ],
   "source": [
    "k = input(\"국어\")\n",
    "print(type(k)) # 키보드로 입력받은 값은 숫자가 아니라 문자열이기에\n",
    "print(type(int(k))) # 문자열을 계산하기 위해 정수(int)로 형변환 해야함\n",
    "e = input(\"영어\")\n",
    "print(type(e))\n",
    "print(type(int(e)))\n",
    "m = input(\"수학\")\n",
    "print(type(m))\n",
    "print(type(int(m)))\n",
    "total = int(k) + int(e) + int(m)\n",
    "total"
   ]
  },
  {
   "cell_type": "code",
   "execution_count": 12,
   "id": "95501c92",
   "metadata": {
    "scrolled": true
   },
   "outputs": [
    {
     "data": {
      "text/plain": [
       "56.0"
      ]
     },
     "execution_count": 12,
     "metadata": {},
     "output_type": "execute_result"
    }
   ],
   "source": [
    "avg = total / 3\n",
    "avg"
   ]
  },
  {
   "cell_type": "markdown",
   "id": "c9f66549",
   "metadata": {},
   "source": [
    "<a href=\"https://www.thebaleun.com/post/%EB%8D%B0%EC%9D%B4%ED%84%B0%EB%A5%BC-%EB%8B%B4%EB%8A%94-%EC%83%81%EC%9E%90-%EB%B3%80%EC%88%98\">변수</a>"
   ]
  },
  {
   "cell_type": "markdown",
   "id": "a23da1d6",
   "metadata": {},
   "source": [
    "<h2> 형변환 (타입 casting) </h2>\n",
    "키보드로 입력받으면 숫자로 입력한 것 같지만 실제로는 숫자가 아니라 문자열이다.\n",
    "계산을 해야 하므로 정수형으로 변경해야함\n",
    "그말은 int(  )  ,  (  ) 괄호 내에 있는 변수를 int(정수형, integer)로 \n",
    "형변환해라. "
   ]
  },
  {
   "cell_type": "code",
   "execution_count": 13,
   "id": "56351687",
   "metadata": {},
   "outputs": [
    {
     "name": "stdout",
     "output_type": "stream",
     "text": [
      "원하는 숫자는? 34\n"
     ]
    },
    {
     "data": {
      "text/plain": [
       "'34'"
      ]
     },
     "execution_count": 13,
     "metadata": {},
     "output_type": "execute_result"
    }
   ],
   "source": [
    "z = input(\"원하는 숫자는? \")\n",
    "z"
   ]
  },
  {
   "cell_type": "code",
   "execution_count": 14,
   "id": "f685ebb4",
   "metadata": {},
   "outputs": [
    {
     "data": {
      "text/plain": [
       "34"
      ]
     },
     "execution_count": 14,
     "metadata": {},
     "output_type": "execute_result"
    }
   ],
   "source": [
    "int(z) # 변수z는 여전히 문자열"
   ]
  },
  {
   "cell_type": "code",
   "execution_count": 16,
   "id": "5accf5fe",
   "metadata": {},
   "outputs": [
    {
     "data": {
      "text/plain": [
       "34"
      ]
     },
     "execution_count": 16,
     "metadata": {},
     "output_type": "execute_result"
    }
   ],
   "source": [
    "r = int(z)  #  변수r에 z가 정수형태로 들어감\n",
    "r"
   ]
  },
  {
   "cell_type": "markdown",
   "id": "0999b41d",
   "metadata": {},
   "source": [
    "<img src=\"image/function.png\"/>"
   ]
  },
  {
   "cell_type": "code",
   "execution_count": 26,
   "id": "91bfd0a5",
   "metadata": {
    "scrolled": true
   },
   "outputs": [],
   "source": [
    "# 함수의 정의, def = define(정의 하다의 약자)\n",
    "def d(i): \n",
    "    return i*2"
   ]
  },
  {
   "cell_type": "code",
   "execution_count": 27,
   "id": "cc124ce2",
   "metadata": {},
   "outputs": [
    {
     "data": {
      "text/plain": [
       "8"
      ]
     },
     "execution_count": 27,
     "metadata": {},
     "output_type": "execute_result"
    }
   ],
   "source": [
    "# 함수의 호출\n",
    "d(4) "
   ]
  },
  {
   "cell_type": "code",
   "execution_count": 35,
   "id": "c7ca35b1",
   "metadata": {},
   "outputs": [],
   "source": [
    "# 두 개를 더하는 함수\n",
    "def g(i, j):\n",
    "    return i+j"
   ]
  },
  {
   "cell_type": "code",
   "execution_count": 36,
   "id": "be10e623",
   "metadata": {},
   "outputs": [
    {
     "data": {
      "text/plain": [
       "7"
      ]
     },
     "execution_count": 36,
     "metadata": {},
     "output_type": "execute_result"
    }
   ],
   "source": [
    "g(3, 4)"
   ]
  },
  {
   "cell_type": "code",
   "execution_count": 32,
   "id": "5a711b99",
   "metadata": {},
   "outputs": [
    {
     "ename": "IndentationError",
     "evalue": "expected an indented block after function definition on line 1 (1957241083.py, line 2)",
     "output_type": "error",
     "traceback": [
      "\u001b[1;36m  Cell \u001b[1;32mIn[32], line 2\u001b[1;36m\u001b[0m\n\u001b[1;33m    return a+b\u001b[0m\n\u001b[1;37m    ^\u001b[0m\n\u001b[1;31mIndentationError\u001b[0m\u001b[1;31m:\u001b[0m expected an indented block after function definition on line 1\n"
     ]
    }
   ],
   "source": [
    "def d(a, b):\n",
    "return a+b   # 들여쓰기의 비극"
   ]
  },
  {
   "cell_type": "code",
   "execution_count": 43,
   "id": "0d18b11c",
   "metadata": {},
   "outputs": [],
   "source": [
    "def g(i, j, a, v):\n",
    "    \"\"\"\n",
    "        너가 g를 호출 했어\n",
    "    \"\"\"\n",
    "    return i+j*a*v"
   ]
  },
  {
   "cell_type": "code",
   "execution_count": 42,
   "id": "1cc71350",
   "metadata": {},
   "outputs": [
    {
     "data": {
      "text/plain": [
       "27"
      ]
     },
     "execution_count": 42,
     "metadata": {},
     "output_type": "execute_result"
    }
   ],
   "source": [
    "g(3, 4, 2, 3)"
   ]
  },
  {
   "cell_type": "code",
   "execution_count": 44,
   "id": "960ddaa7",
   "metadata": {},
   "outputs": [
    {
     "name": "stdout",
     "output_type": "stream",
     "text": [
      "Help on function g in module __main__:\n",
      "\n",
      "g(i, j, a, v)\n",
      "    너가 g를 호출 했어\n",
      "\n"
     ]
    }
   ],
   "source": [
    "help(g)"
   ]
  },
  {
   "cell_type": "code",
   "execution_count": 45,
   "id": "c18074ff",
   "metadata": {},
   "outputs": [
    {
     "data": {
      "text/plain": [
       "2"
      ]
     },
     "execution_count": 45,
     "metadata": {},
     "output_type": "execute_result"
    }
   ],
   "source": [
    "137 % 5  # %은 뒷 숫자로 나눈 나머지를 구함"
   ]
  },
  {
   "cell_type": "code",
   "execution_count": 56,
   "id": "642fd3d8",
   "metadata": {},
   "outputs": [],
   "source": [
    "a = \"안녕하세요 이재오 강사입니다.\""
   ]
  },
  {
   "cell_type": "code",
   "execution_count": 47,
   "id": "a0f99c9d",
   "metadata": {},
   "outputs": [
    {
     "data": {
      "text/plain": [
       "'녕'"
      ]
     },
     "execution_count": 47,
     "metadata": {},
     "output_type": "execute_result"
    }
   ],
   "source": [
    "a[1]"
   ]
  },
  {
   "cell_type": "code",
   "execution_count": 48,
   "id": "da39a94b",
   "metadata": {},
   "outputs": [
    {
     "data": {
      "text/plain": [
       "'녕하'"
      ]
     },
     "execution_count": 48,
     "metadata": {},
     "output_type": "execute_result"
    }
   ],
   "source": [
    "# 1번부터 ~ 3번을 포함하지 않는 곳까지\n",
    "a[1:3]  # [   )  ,   [ (폐구간 ) , )  (개구간 )"
   ]
  },
  {
   "cell_type": "code",
   "execution_count": 52,
   "id": "215ae4dc",
   "metadata": {},
   "outputs": [
    {
     "data": {
      "text/plain": [
       "'강사'"
      ]
     },
     "execution_count": 52,
     "metadata": {},
     "output_type": "execute_result"
    }
   ],
   "source": [
    "a[10:12]"
   ]
  },
  {
   "cell_type": "code",
   "execution_count": 57,
   "id": "48c8af0e",
   "metadata": {},
   "outputs": [
    {
     "data": {
      "text/plain": [
       "'강사'"
      ]
     },
     "execution_count": 57,
     "metadata": {},
     "output_type": "execute_result"
    }
   ],
   "source": [
    "a[-6:-4]"
   ]
  },
  {
   "cell_type": "code",
   "execution_count": 58,
   "id": "a3e8d06b",
   "metadata": {},
   "outputs": [
    {
     "data": {
      "text/plain": [
       "'.'"
      ]
     },
     "execution_count": 58,
     "metadata": {},
     "output_type": "execute_result"
    }
   ],
   "source": [
    "a[-1]"
   ]
  },
  {
   "cell_type": "code",
   "execution_count": 60,
   "id": "a1229c3c",
   "metadata": {},
   "outputs": [
    {
     "data": {
      "text/plain": [
       "'요 이재오 강사입니다.'"
      ]
     },
     "execution_count": 60,
     "metadata": {},
     "output_type": "execute_result"
    }
   ],
   "source": [
    "a[4:]  # 파이썬의 슬라이싱 (중요한 것!)"
   ]
  },
  {
   "cell_type": "code",
   "execution_count": 61,
   "id": "39924cc7",
   "metadata": {},
   "outputs": [
    {
     "data": {
      "text/plain": [
       "'입니다.'"
      ]
     },
     "execution_count": 61,
     "metadata": {},
     "output_type": "execute_result"
    }
   ],
   "source": [
    "a[-4:]"
   ]
  },
  {
   "cell_type": "code",
   "execution_count": 62,
   "id": "c0d487cd",
   "metadata": {},
   "outputs": [],
   "source": [
    "a = [2,3,4,5,8,10]"
   ]
  },
  {
   "cell_type": "code",
   "execution_count": 63,
   "id": "a97f7f3f",
   "metadata": {},
   "outputs": [
    {
     "data": {
      "text/plain": [
       "[2, 3]"
      ]
     },
     "execution_count": 63,
     "metadata": {},
     "output_type": "execute_result"
    }
   ],
   "source": [
    "a[:2]"
   ]
  },
  {
   "cell_type": "code",
   "execution_count": 64,
   "id": "27b1a350",
   "metadata": {},
   "outputs": [
    {
     "data": {
      "text/plain": [
       "6"
      ]
     },
     "execution_count": 64,
     "metadata": {},
     "output_type": "execute_result"
    }
   ],
   "source": [
    "len(a)  # len은 length의 약자"
   ]
  },
  {
   "cell_type": "code",
   "execution_count": 65,
   "id": "719e8fca",
   "metadata": {},
   "outputs": [
    {
     "data": {
      "text/plain": [
       "'나는 고양이 를 좋아한다 '"
      ]
     },
     "execution_count": 65,
     "metadata": {},
     "output_type": "execute_result"
    }
   ],
   "source": [
    "animal = \"고양이\"\n",
    "x = \"나는 %s 를 좋아한다 \" %animal  # s = string\n",
    "x"
   ]
  },
  {
   "cell_type": "code",
   "execution_count": 71,
   "id": "278391ec",
   "metadata": {},
   "outputs": [
    {
     "data": {
      "text/plain": [
       "'내 나이는 17 입니다 '"
      ]
     },
     "execution_count": 71,
     "metadata": {},
     "output_type": "execute_result"
    }
   ],
   "source": [
    "age = 17\n",
    "y = \"내 나이는 %d 입니다 \" %age  # d = decimal( 10진수 )\n",
    "y"
   ]
  },
  {
   "cell_type": "code",
   "execution_count": 72,
   "id": "ba5063cf",
   "metadata": {},
   "outputs": [
    {
     "data": {
      "text/plain": [
       "'내 나이는 17.400000 입니다 '"
      ]
     },
     "execution_count": 72,
     "metadata": {},
     "output_type": "execute_result"
    }
   ],
   "source": [
    "age = 17.4\n",
    "y = \"내 나이는 %f 입니다 \" %age  # f = float( 실수 )\n",
    "y"
   ]
  },
  {
   "cell_type": "code",
   "execution_count": 73,
   "id": "a5059a70",
   "metadata": {
    "scrolled": true
   },
   "outputs": [
    {
     "data": {
      "text/plain": [
       "'내 나이는 17.400000.2 입니다 '"
      ]
     },
     "execution_count": 73,
     "metadata": {},
     "output_type": "execute_result"
    }
   ],
   "source": [
    "age = 17.4\n",
    "y = \"내 나이는 %f.2 입니다 \" %age  # f = float( 실수 )\n",
    "y"
   ]
  },
  {
   "cell_type": "markdown",
   "id": "98c43a06",
   "metadata": {},
   "source": [
    "파이썬에서는 '', \"\" 둘 다 문자열이고 문자열만 format이라는 함수 사용가능"
   ]
  },
  {
   "cell_type": "code",
   "execution_count": 76,
   "id": "064a93f9",
   "metadata": {},
   "outputs": [
    {
     "data": {
      "text/plain": [
       "'test:5.44, test2:7, age:14 '"
      ]
     },
     "execution_count": 76,
     "metadata": {},
     "output_type": "execute_result"
    }
   ],
   "source": [
    "test = 5.44\n",
    "test2 = 7\n",
    "age = 14\n",
    "y = 'test:{0}, test2:{1}, age:{2} '.format(test, test2, age)\n",
    "y"
   ]
  },
  {
   "cell_type": "raw",
   "id": "ef08e5e0",
   "metadata": {},
   "source": [
    "str1 = \"이재오\" +  \"\\n\" + \"강사\" + \"\\n\" + \"입니다\"\n",
    "str1"
   ]
  },
  {
   "cell_type": "code",
   "execution_count": 78,
   "id": "376818af",
   "metadata": {},
   "outputs": [
    {
     "data": {
      "text/plain": [
       "'합계:281, 평균:93.67'"
      ]
     },
     "execution_count": 78,
     "metadata": {},
     "output_type": "execute_result"
    }
   ],
   "source": [
    "kor = 88\n",
    "eng = 96\n",
    "math = 97\n",
    "sum1 = kor + eng + math\n",
    "y = \"합계:%d, 평균:%.2f\" %(sum1, sum1/3.0)\n",
    "y"
   ]
  }
 ],
 "metadata": {
  "kernelspec": {
   "display_name": "Python 3 (ipykernel)",
   "language": "python",
   "name": "python3"
  },
  "language_info": {
   "codemirror_mode": {
    "name": "ipython",
    "version": 3
   },
   "file_extension": ".py",
   "mimetype": "text/x-python",
   "name": "python",
   "nbconvert_exporter": "python",
   "pygments_lexer": "ipython3",
   "version": "3.10.9"
  }
 },
 "nbformat": 4,
 "nbformat_minor": 5
}
