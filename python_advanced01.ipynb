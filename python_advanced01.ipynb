{
 "cells": [
  {
   "cell_type": "markdown",
   "id": "97c9af90",
   "metadata": {},
   "source": [
    "이진수 (1100)은 십진수로 \n",
    "$$ 1 x 2^3 + 1 x 2^2 + 0 x 2^1 + 0 x 2^0 = 12 $$"
   ]
  },
  {
   "cell_type": "markdown",
   "id": "47c0e687",
   "metadata": {},
   "source": [
    "이진수 (1100)은 십진수로 \n",
    "$$ 1 \\dot 2^3 + 1 x 2^2 + 0 x 2^1 + 0 x 2^0 = 12 $$"
   ]
  },
  {
   "cell_type": "markdown",
   "id": "11ca741d",
   "metadata": {},
   "source": [
    "이진수 (1100)은 십진수로 \n",
    "$$ 1 \\times 2^3 + 1 \\times x 2^2 + 0 \\times x 2^1 + 0 \\times x 2^0 = 12 $$"
   ]
  },
  {
   "cell_type": "code",
   "execution_count": null,
   "id": "6a4e5a0f",
   "metadata": {},
   "outputs": [],
   "source": [
    "print(\"안녕하세요\\n반갑습니다\") # \\n = enter , \\t =tab"
   ]
  },
  {
   "cell_type": "code",
   "execution_count": null,
   "id": "50019fbf",
   "metadata": {},
   "outputs": [],
   "source": [
    "print(\"2x1=%d\\n\"%(2*1))\n",
    "print(\"2x2=%d\\n\"%(2*2))\n",
    "print(\"2x3=%d\\n\"%(2*3))\n",
    "print(\"2x4=%d\\n\"%(2*4))\n",
    "print(\"2x5=%d\\n\"%(2*5))\n",
    "print(\"2x6=%d\\n\"%(2*6))\n",
    "print(\"2x7=%d\\n\"%(2*7))\n",
    "print(\"2x8=%d\\n\"%(2*8))\n",
    "print(\"2x9=%d\\n\"%(2*9))"
   ]
  },
  {
   "cell_type": "code",
   "execution_count": null,
   "id": "1930425c",
   "metadata": {},
   "outputs": [],
   "source": [
    "# p81 프로그래밍 맛보기\n",
    "price = 3000\n",
    "num = 3\n",
    "pay = 10000\n",
    "change = pay - price * num\n",
    "print(\"거스름돈 => %d원\"%change)"
   ]
  },
  {
   "cell_type": "code",
   "execution_count": null,
   "id": "6ae67369",
   "metadata": {},
   "outputs": [],
   "source": [
    "# 문제2) input을 이용하여 키보드로 입력 받아서 처리\n",
    "price = int(input(\"가격은? \"))\n",
    "num = int(input(\"개수 \"))\n",
    "pay = int(input(\"가격 \"))\n",
    "change = pay - price * num\n",
    "print(\"거스름돈 => %d원\"%change)"
   ]
  },
  {
   "cell_type": "code",
   "execution_count": null,
   "id": "d500729c",
   "metadata": {},
   "outputs": [],
   "source": [
    "# 83\n",
    "name = input(\"당신의 이름은? \")\n",
    "birth = input(\"당신이 태어난 해는? \")\n",
    "age = 2023 - int(birth) + 1\n",
    "print(\"%s님의 나이는 %d 세 입니다. \" %(name,age))"
   ]
  },
  {
   "cell_type": "code",
   "execution_count": null,
   "id": "2c0009d1",
   "metadata": {},
   "outputs": [],
   "source": [
    "# p87\n",
    "# 실행 결과가 나오도록 코드 채우기\n",
    "width = int(input(\"사각형의 너비? \"))\n",
    "height = int(input(\"사각형의 높이? \"))\n",
    "# 둘레 구하기\n",
    "length = width * 2 + height * 2\n",
    "area = width * height\n",
    "print(\"너비: %d , 높이: %d , 둘레: %d , 넓이: %d\"%(width, height, length, area))"
   ]
  },
  {
   "cell_type": "markdown",
   "id": "3d418ec5",
   "metadata": {},
   "source": [
    "$$ 원의 면적= \\pi \\times r^2$$\n",
    "$$ 원의 둘레= 2 \\times \\pi \\times r$$"
   ]
  },
  {
   "cell_type": "code",
   "execution_count": null,
   "id": "d3d5f4f0",
   "metadata": {},
   "outputs": [],
   "source": [
    "# 문제 3) 삼각형의 면적 구하는 프로그래밍 하세요. 밑변 * 높이 / 2\n",
    "height = int(input(\"삼각형의 높이? \"))\n",
    "ground = int(input(\"삼각형의 밑변? \"))\n",
    "print(\"삼각형의 높이: %d , 삼각형의 밑변: %d , 삼각형의 면적: %d\"%(height, ground, height * ground/ 2))\n",
    "\n",
    "# 문제 4) 원의 둘레 및 면적 구하기\n",
    "phi = 3.141592\n",
    "radius = int(input(\"원의 반지름은? \"))\n",
    "# 원의 면적 => 3.14 * 3.14 * 반지름\n",
    "area = phi * radius * radius\n",
    "# 원의 둘레 => 2 * 3.14(phi) * 반지름\n",
    "dulle = 2 * phi * radius\n",
    "print(\"원의 반지름: %d , 원의 면적: %f.2 , 원의 둘레: %.2f\"%(radius, area, dulle))"
   ]
  },
  {
   "cell_type": "markdown",
   "id": "16128bd5",
   "metadata": {},
   "source": [
    "<h2 style=\"color:red\">조건문</h2>"
   ]
  },
  {
   "cell_type": "code",
   "execution_count": null,
   "id": "e36acbe7",
   "metadata": {
    "scrolled": false
   },
   "outputs": [],
   "source": [
    "if 3>2: print(\"정답\")\n",
    "else: print(\"오답\")"
   ]
  },
  {
   "cell_type": "code",
   "execution_count": null,
   "id": "e5b3daea",
   "metadata": {},
   "outputs": [],
   "source": [
    "def f(i):\n",
    "    return \"사랑\""
   ]
  },
  {
   "cell_type": "code",
   "execution_count": null,
   "id": "8d01966b",
   "metadata": {
    "scrolled": true
   },
   "outputs": [],
   "source": [
    "print(f(3))"
   ]
  },
  {
   "cell_type": "code",
   "execution_count": null,
   "id": "56ba5d46",
   "metadata": {},
   "outputs": [],
   "source": [
    "if 3>2: \n",
    "print(\"정답\")  # 들여쓰기 에러!\n",
    "else: print(\"오답\")"
   ]
  },
  {
   "cell_type": "code",
   "execution_count": null,
   "id": "70566dcc",
   "metadata": {
    "scrolled": true
   },
   "outputs": [],
   "source": [
    "if 3>2: \n",
    "    print(\"정답\")  \n",
    "else: \n",
    "    print(\"오답\")"
   ]
  },
  {
   "cell_type": "code",
   "execution_count": null,
   "id": "df506866",
   "metadata": {},
   "outputs": [],
   "source": [
    "3==4"
   ]
  },
  {
   "cell_type": "code",
   "execution_count": null,
   "id": "b9f52cc7",
   "metadata": {},
   "outputs": [],
   "source": [
    "k = int(input(\"국어점수\"))\n",
    "m = int(input(\"수학점수\"))\n",
    "e = int(input(\"영어점수\"))\n",
    "total = k + m + e\n",
    "avg = total / 3.0\n",
    "if avg >= 90:\n",
    "    print(\"수\")\n",
    "elif avg >= 80:\n",
    "    print(\"우\")\n",
    "elif avg >= 70:\n",
    "    print(\"미\")\n",
    "elif avg >= 60:\n",
    "    print(\"양\")\n",
    "else:\n",
    "    print(\"가\")"
   ]
  },
  {
   "cell_type": "code",
   "execution_count": null,
   "id": "2f5b88d8",
   "metadata": {},
   "outputs": [],
   "source": [
    "# 키보드로 입력받은 숫자가 짝수인지 홀수인지 판단하세요. \n",
    "isEven = int(input(\"짝수인지 알고 싶은 숫자는? \"))\n",
    "if isEven % 2 == 0:\n",
    "    print(\"짝수입니다.\")\n",
    "else: \n",
    "    print(\"홀수입니다.\")"
   ]
  },
  {
   "cell_type": "code",
   "execution_count": null,
   "id": "95f0de01",
   "metadata": {},
   "outputs": [],
   "source": [
    "sum1 = 5\n",
    "# 문제 4) 입력 받은 숫자를 sum1에 더하고 더한 결과가 3의 배수인지 아닌지 확인하세요.\n",
    "isThreeTimes = sum1 + int(input(\"숫자 하나 줘라\"))\n",
    "if (isThreeTimes) % 3 == 0:\n",
    "    print(\"3의 배수\")\n",
    "else: print(\"3의 배수가 아님 \")"
   ]
  },
  {
   "cell_type": "markdown",
   "id": "77b2bc9d",
   "metadata": {},
   "source": [
    "조건 <br>\n",
    "and => 모든 것이 참일 경우만 참이다. <br>\n",
    "or =? 하나라도 참이면 참이다. \n"
   ]
  },
  {
   "cell_type": "code",
   "execution_count": null,
   "id": "c4896b5a",
   "metadata": {},
   "outputs": [],
   "source": [
    "3==2 and 2==7"
   ]
  },
  {
   "cell_type": "code",
   "execution_count": null,
   "id": "baf8cea8",
   "metadata": {},
   "outputs": [],
   "source": [
    "2==2 and 2==2"
   ]
  },
  {
   "cell_type": "code",
   "execution_count": null,
   "id": "6f837f3b",
   "metadata": {},
   "outputs": [],
   "source": [
    "3==2 or 2==2"
   ]
  },
  {
   "cell_type": "code",
   "execution_count": null,
   "id": "f1edf590",
   "metadata": {},
   "outputs": [],
   "source": [
    "a = 90\n",
    "a>70 and a>50"
   ]
  },
  {
   "cell_type": "code",
   "execution_count": null,
   "id": "e54e965d",
   "metadata": {},
   "outputs": [],
   "source": [
    "a>70"
   ]
  },
  {
   "cell_type": "code",
   "execution_count": null,
   "id": "f57477f4",
   "metadata": {},
   "outputs": [],
   "source": [
    "if a >=70:\n",
    "    print(\"수\")\n",
    "if a >= 50:\n",
    "    print(\"미\")"
   ]
  },
  {
   "cell_type": "code",
   "execution_count": null,
   "id": "be506e36",
   "metadata": {},
   "outputs": [],
   "source": [
    "# p144 (1~10까지의 총합)\n",
    "sum = 0\n",
    "for i in range(1,11):  # 1은 포함하고 11은 포함하지 않으면서 1씩 증가됨\n",
    "    sum = sum + i\n",
    "#    print(\"합계는 %d\" %sum)"
   ]
  },
  {
   "cell_type": "code",
   "execution_count": null,
   "id": "50b12417",
   "metadata": {
    "scrolled": true
   },
   "outputs": [],
   "source": [
    "# p144 (1~10까지의 총합) 위와 같은 것임!\n",
    "sum = 0\n",
    "for i in [1,2,3,4,5,6,7,8,9,10]:  # 파이썬의 리스트(배열)\n",
    "    sum = sum + i\n",
    "    print(\"합계는 %d\" %sum)"
   ]
  },
  {
   "cell_type": "code",
   "execution_count": null,
   "id": "842360d1",
   "metadata": {},
   "outputs": [],
   "source": [
    "# p144 (1~10까지의 총합) 이해해 봅시다. \n",
    "sum = 0\n",
    "for i in [1,2,3,4,5,6,7,8,9,10]:  # 파이썬의 리스트(배열)\n",
    "    if i % 2 == 0:\n",
    "        sum = sum + i\n",
    "        print(\"합계는 %d\" %sum)"
   ]
  },
  {
   "cell_type": "code",
   "execution_count": null,
   "id": "956a5343",
   "metadata": {},
   "outputs": [],
   "source": [
    "# 문제 5) 3의 배수들만의 총합 구하세요. \n",
    "sum = 0\n",
    "for i in range(1, 11):\n",
    "    if i % 3 == 0:\n",
    "        sum = sum + i\n",
    "print(\"합계는 %d\"%sum)"
   ]
  },
  {
   "cell_type": "code",
   "execution_count": null,
   "id": "d3bde830",
   "metadata": {
    "scrolled": true
   },
   "outputs": [],
   "source": [
    "# 문제 6) 2의 배수의 합과 3의 배수의 합을 각각 구하세요.\n",
    "# 출력문은 하나만 나오도록 하고 2의 배수의 총합과 3의 배수와 총합의 곱이 짝수인지 홀수인지 판단하세요. \n",
    "sum1 = 0\n",
    "sum2 = 0\n",
    "for i in range(1,11):\n",
    "    if i % 2 == 0:\n",
    "        sum1 = sum1 + i\n",
    "    if i % 3 == 0:\n",
    "        sum2 = sum2 + i\n",
    "if (sum1 * sum2) % 2 == 0:\n",
    "    print(str(sum1 * sum2) + \"은 짝수입니다. \")\n",
    "else:\n",
    "    print(str(sum1 * sum2) + \"은 홀수입니다. \")"
   ]
  },
  {
   "cell_type": "code",
   "execution_count": null,
   "id": "ff5ac81d",
   "metadata": {},
   "outputs": [],
   "source": [
    "# 문제 6) 2의 배수의 합과 3의 배수의 합을 각각 구하세요.\n",
    "x2_sum = 0  # 변수 선언(decleration)\n",
    "x3_sum = 0\n",
    "# 출력문은 하나만 나오도록 하고 2의 배수의 총합과 3의 배수와 총합의 곱이 \n",
    "for i in [1, 2, 3, 4, 5, 6, 7, 8, 9, 10]:\n",
    "    if i % 2 == 0:\n",
    "        x2_sum = x2_sum + i  # 2의 배수의 총합만 누적\n",
    "    if i % 3 == 0:\n",
    "        x3_sum = x3_sum + i  # 3의 배수의 총합만 누적\n",
    "if x2_sum * x3_sum % 2 == 0:\n",
    "    print(\"짝수\")\n",
    "else: print(\"홀수\")\n",
    "# 짝수인지 홀수인지 판단하세요. "
   ]
  },
  {
   "cell_type": "code",
   "execution_count": null,
   "id": "507a43e9",
   "metadata": {},
   "outputs": [],
   "source": [
    "a = 5"
   ]
  },
  {
   "cell_type": "code",
   "execution_count": null,
   "id": "9af8a0c5",
   "metadata": {},
   "outputs": [],
   "source": [
    "a = a + 6\n",
    "a"
   ]
  },
  {
   "cell_type": "code",
   "execution_count": null,
   "id": "13756b8d",
   "metadata": {},
   "outputs": [],
   "source": [
    "a += 6\n",
    "a"
   ]
  },
  {
   "cell_type": "code",
   "execution_count": null,
   "id": "91e680cd",
   "metadata": {},
   "outputs": [],
   "source": [
    "a = a * 2\n",
    "a"
   ]
  },
  {
   "cell_type": "code",
   "execution_count": null,
   "id": "fc23bdfa",
   "metadata": {
    "scrolled": true
   },
   "outputs": [],
   "source": [
    "a *= 2\n",
    "a"
   ]
  },
  {
   "cell_type": "markdown",
   "id": "5180fb8b",
   "metadata": {},
   "source": [
    "리스트나 배열은 0부터 시작하고 [ ] 안에 0부터의 숫자(index)로 데이터 접근"
   ]
  },
  {
   "cell_type": "code",
   "execution_count": null,
   "id": "af20269d",
   "metadata": {},
   "outputs": [],
   "source": [
    "colors=['빨강','파랑','노랑','검정','초록']  #리스트(배열)에 문자열 5개 저장"
   ]
  },
  {
   "cell_type": "code",
   "execution_count": null,
   "id": "bba91172",
   "metadata": {},
   "outputs": [],
   "source": [
    "colors[:3]  # colors에서 0번째 index의 값을 가져와라"
   ]
  },
  {
   "cell_type": "code",
   "execution_count": null,
   "id": "cd22cd2c",
   "metadata": {},
   "outputs": [],
   "source": [
    "colors[-2:]"
   ]
  },
  {
   "cell_type": "code",
   "execution_count": null,
   "id": "a7e7a2bd",
   "metadata": {},
   "outputs": [],
   "source": [
    "colors[0]"
   ]
  },
  {
   "cell_type": "code",
   "execution_count": null,
   "id": "2b341969",
   "metadata": {
    "scrolled": true
   },
   "outputs": [],
   "source": [
    "colors[1]"
   ]
  },
  {
   "cell_type": "code",
   "execution_count": null,
   "id": "729c3ef9",
   "metadata": {},
   "outputs": [],
   "source": [
    "colors[2]"
   ]
  },
  {
   "cell_type": "code",
   "execution_count": null,
   "id": "83c0e032",
   "metadata": {
    "scrolled": true
   },
   "outputs": [],
   "source": [
    "result = colors[4] + \"색\"  # colors의 데이터인 초록을 가져와서 \"색\"과 문자열\n",
    "# 결합한 결과를 result에 저장\n",
    "result"
   ]
  },
  {
   "cell_type": "code",
   "execution_count": null,
   "id": "ea46a58e",
   "metadata": {},
   "outputs": [],
   "source": [
    "for j in colors:\n",
    "    print(j + '색')"
   ]
  },
  {
   "cell_type": "code",
   "execution_count": null,
   "id": "dddb1d48",
   "metadata": {},
   "outputs": [],
   "source": [
    "# 반복문을 이용하여 문자열의 결합한 길이는 10\n",
    "result = ''\n",
    "for j in colors:\n",
    "    result = result + j\n",
    "# print(result)\n",
    "len(result)"
   ]
  },
  {
   "cell_type": "code",
   "execution_count": null,
   "id": "ce13afe6",
   "metadata": {},
   "outputs": [],
   "source": [
    "rand = ['홍','길동','국제컴퓨터','아카데미']\n",
    "# 문제10) 문자열의 길이가 짝수인 것들만 문자열 결합하기\n",
    "result = ''\n",
    "for i in rand:\n",
    "    if len(i) % 2 == 0 :\n",
    "        result = result + i\n",
    "print(result)"
   ]
  },
  {
   "cell_type": "code",
   "execution_count": null,
   "id": "5e642e45",
   "metadata": {
    "scrolled": true
   },
   "outputs": [],
   "source": [
    "a = [1, 3, 5, 3, 11, 17, 45]\n",
    "# a의 값에서 3의 배수에는 2배하고 3의 배수가 아닌 값에는 3배하고 그 총합을 구하세요\n",
    "x3 = 0\n",
    "o3 = 0\n",
    "for i in a:\n",
    "    if i % 3 == 0: \n",
    "        o3 = o3 + (i * 2)\n",
    "    else:\n",
    "        x3 = x3 + (i * 3)\n",
    "print(o3 + x3)"
   ]
  },
  {
   "cell_type": "code",
   "execution_count": null,
   "id": "4e5a6acd",
   "metadata": {},
   "outputs": [],
   "source": [
    "# 선생님\n",
    "total = 0\n",
    "for i in a: \n",
    "    if i % 3 == 0:\n",
    "        total += i * 2   # total = total + i * 2\n",
    "    else: \n",
    "        total += i * 3\n",
    "total"
   ]
  },
  {
   "cell_type": "code",
   "execution_count": null,
   "id": "4c055a79",
   "metadata": {},
   "outputs": [],
   "source": [
    "import random"
   ]
  },
  {
   "cell_type": "code",
   "execution_count": null,
   "id": "bbe7731d",
   "metadata": {},
   "outputs": [],
   "source": [
    "random.randint(1, 10)  # 숫자 1에서 10까지 중의 숫자 하나를 랜덤으로 반환함"
   ]
  },
  {
   "cell_type": "code",
   "execution_count": null,
   "id": "aae7abd3",
   "metadata": {
    "scrolled": true
   },
   "outputs": [],
   "source": [
    "result = []\n",
    "for i in range(10):\n",
    "    result[i] = random.randint(1,9)b\n",
    "result"
   ]
  },
  {
   "cell_type": "code",
   "execution_count": null,
   "id": "8083bbc3",
   "metadata": {},
   "outputs": [],
   "source": [
    "a=[] # 빈 리스트(배열 )"
   ]
  },
  {
   "cell_type": "code",
   "execution_count": null,
   "id": "90cfa4e3",
   "metadata": {},
   "outputs": [],
   "source": [
    "a.append(7)  # 추가"
   ]
  },
  {
   "cell_type": "code",
   "execution_count": null,
   "id": "8c20dbf3",
   "metadata": {},
   "outputs": [],
   "source": [
    "a.append(17)  # 추가"
   ]
  },
  {
   "cell_type": "code",
   "execution_count": null,
   "id": "52e8c7b7",
   "metadata": {},
   "outputs": [],
   "source": [
    "a.append(random.randint(1,10))\n",
    "a"
   ]
  },
  {
   "cell_type": "code",
   "execution_count": null,
   "id": "68dd610f",
   "metadata": {},
   "outputs": [],
   "source": [
    "# 문제11) 3의 배수인 것의 갯수와 3의 배수가 아닌 것의 개수 구하기\n",
    "x3 = 0\n",
    "o3 = 0\n",
    "for i in a:\n",
    "    if i % 3 == 0: \n",
    "        o3 = o3 + 1\n",
    "    else:\n",
    "        x3 = x3 + 1\n",
    "print(o3, x3)"
   ]
  },
  {
   "cell_type": "code",
   "execution_count": null,
   "id": "5a603002",
   "metadata": {},
   "outputs": [],
   "source": [
    "# 선생님\n",
    "odd_cnt = 0\n",
    "even_cnt = 0\n",
    "for i in a:\n",
    "    if i % 3 == 0: odd_cnt += 1\n",
    "    else: even_cnt += 1\n",
    "print(odd_cnt , even_cnt)"
   ]
  },
  {
   "cell_type": "code",
   "execution_count": 18,
   "id": "0c983b1c",
   "metadata": {},
   "outputs": [
    {
     "name": "stdout",
     "output_type": "stream",
     "text": [
      "48 72\n",
      "2 6\n",
      "afeffe\n"
     ]
    }
   ],
   "source": [
    "b = [3, 4, 7, 11, 13, 17, 20, 45]\n",
    "# 문제 11) 3의 배수의 총합과 3의 배수가 아닌 것의 총합 구하기\n",
    "o3 = 0\n",
    "x3 = 0\n",
    "for i in b:\n",
    "    if i % 3 == 0:\n",
    "        o3 += i\n",
    "    else: \n",
    "        x3 += i\n",
    "print(o3, x3)\n",
    "\n",
    "# 문제 12) 5의 배수의 갯수와 5의 배수가 아닌 것의 개수 구하기\n",
    "o5 = 0\n",
    "x5 = 0\n",
    "for i in b:\n",
    "    if i % 5 == 0:\n",
    "        o5 += 1\n",
    "    else: x5 += 1\n",
    "print(o5, x5)\n",
    "\n",
    "tt = ['aa','bb','afe','ffe']\n",
    "# 문제 13) 문자열의 길이가 3개인 것의 문자열 결합하기\n",
    "l3 = ''\n",
    "for i in tt:\n",
    "    if len(i) == 3:\n",
    "        l3 += i\n",
    "print(l3)"
   ]
  },
  {
   "cell_type": "code",
   "execution_count": 22,
   "id": "bfd89a9f",
   "metadata": {},
   "outputs": [
    {
     "name": "stdout",
     "output_type": "stream",
     "text": [
      "48 72\n",
      "2 6\n",
      "afeffe\n"
     ]
    }
   ],
   "source": [
    "# 선생님\n",
    "\n",
    "b = [3, 4, 7, 11, 13, 17, 20, 45]\n",
    "# 문제 11) 3의 배수의 총합과 3의 배수가 아닌 것의 총합 구하기\n",
    "x3_sum = 0\n",
    "x3x_sum = 0\n",
    "for i in b:  # b(리스트)에서 하나씩 꺼내어\n",
    "    if i % 3 == 0:  # 3의 배수의 조건을 만족하면\n",
    "        x3_sum += i #  해당 숫자를 누적함\n",
    "    else: x3x_sum += i\n",
    "print(x3_sum, x3x_sum)\n",
    "\n",
    "# 문제 12) 5의 배수의 갯수와 5의 배수가 아닌 것의 개수 구하기\n",
    "x5_cnt = 0 \n",
    "x5x_cnt = 0\n",
    "for i in b:  # b에서 하나씩 꺼내어\n",
    "    if i % 5 == 0:  # 조건이 일치하면 숫자를 1씩 증가시키면 해당 데이터 갯수가 됨\n",
    "        x5_cnt += 1\n",
    "    else: x5x_cnt += 1\n",
    "print(x5_cnt, x5x_cnt)\n",
    "\n",
    "tt = ['aa','bb','afe','ffe']\n",
    "# 문제 13) 문자열의 길이가 3개인 것의 문자열 결합하기\n",
    "merge = ''\n",
    "for v in tt:\n",
    "    if len(v) == 3: merge += v\n",
    "print(merge)"
   ]
  }
 ],
 "metadata": {
  "kernelspec": {
   "display_name": "Python 3 (ipykernel)",
   "language": "python",
   "name": "python3"
  },
  "language_info": {
   "codemirror_mode": {
    "name": "ipython",
    "version": 3
   },
   "file_extension": ".py",
   "mimetype": "text/x-python",
   "name": "python",
   "nbconvert_exporter": "python",
   "pygments_lexer": "ipython3",
   "version": "3.10.9"
  }
 },
 "nbformat": 4,
 "nbformat_minor": 5
}
