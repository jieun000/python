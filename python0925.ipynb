{
 "cells": [
  {
   "cell_type": "markdown",
   "id": "0a6fb5f5",
   "metadata": {},
   "source": [
    "# Limits (극한)\n",
    "You can use algebraeic methods to calculate the rate of change over a function interval by joining two points on the function with a secant line and measuring its slope. For example, a function might return the distance travelled by a cyclist in a period of time, and you can use a secant line to measure the average velocity between two points in time. However, this doesn't tell you the cyclist's vecolcity at any single point in time - just the average speed over an interval.\n",
    "\n",
    "To find the cyclist's velocity at a specific point in time, you need the ability to find the slope of a curve at a given point. *Differential Calculus* enables us to do through the use of *derivatives*. We can use derivatives to find the slope at a specific *x* value by calculating a delta for *x<sub>1</sub>* and *x<sub>2</sub>* values that are infinitesimally close together - so you can think of it as measuring the slope of a tiny straight line that comprises part of the curve.\n",
    "\n",
    "## Introduction to Limits 극한의 소개\n",
    "However, 미분으로 바로 들어가기 전에 \n",
    "we need to examine another aspect of 미적분의 또다른 면을 알 필요가 있음\n",
    "함수의 *극한* \n",
    "*x<sub>2</sub>* 의 값이*x<sub>1</sub>*의 값에 접근함에 따라 함수의 값이 얼마나 변화하는지 측정함 \n",
    "극한을 더 잘 이해하기 위해\n",
    "함수를 더 자세히 살펴보면\n",
    "and note that although we graph the function as a line, it is in fact made up of individual points. Run the following cell to show the points that we've plotted for integer values of ***x*** - the line is created by interpolating the points in between:\n",
    "라인 함수를 코드로 살펴보자"
   ]
  },
  {
   "cell_type": "markdown",
   "id": "055a21ef",
   "metadata": {},
   "source": [
    "***x*** 제곱하고 더함으로써 ***x f(x)*** 값이 계산될 수 있음. <br>\n",
    "선들을 점간의 연결하여 쉽게 계산가능을 볼 수 있다."
   ]
  },
  {
   "cell_type": "markdown",
   "id": "b44b8ca0",
   "metadata": {},
   "source": [
    "<a href='http://localhost:8888/notebooks/0925_02-02-Limits.ipynb'>Limits</a>"
   ]
  },
  {
   "cell_type": "code",
   "execution_count": null,
   "id": "38726b1a",
   "metadata": {},
   "outputs": [],
   "source": [
    "def f(x):\n",
    "    return x**2 + x"
   ]
  },
  {
   "cell_type": "code",
   "execution_count": null,
   "id": "612c3c09",
   "metadata": {},
   "outputs": [],
   "source": [
    "slop = (f(5) - f(4.75)) / (5-4.75)\n",
    "slop"
   ]
  },
  {
   "cell_type": "markdown",
   "id": "6d6166f4",
   "metadata": {},
   "source": [
    "$$ \\lim_{h \\rightarrow 0} \\frac{f(5+h)-f(5)}{h} $$"
   ]
  },
  {
   "cell_type": "code",
   "execution_count": null,
   "id": "2e5cbfc0",
   "metadata": {},
   "outputs": [],
   "source": [
    "slope = (f(5) - f(4.75)) / (5 - 4.75)\n",
    "print(slope)\n",
    "for i in range(500):\n",
    "    delta_x = 5 - 5*i*0.01\n",
    "    delta_y = f(5) - f(5*i*0.01) \n",
    "    try:\n",
    "        slope = delta_y / delta_x\n",
    "    except:\n",
    "        print(slope) # 11로 수렴함"
   ]
  },
  {
   "cell_type": "code",
   "execution_count": null,
   "id": "9c319470",
   "metadata": {},
   "outputs": [],
   "source": [
    "# 15가 나오도록\n",
    "def derivative(a):\n",
    "    for i in range(500):\n",
    "        delta_x = a - a*i*0.01\n",
    "        delta_y = f(a) - f(a*i*0.01) \n",
    "        try:\n",
    "            slope = delta_y / delta_x\n",
    "        except:\n",
    "            print(slope)\n",
    "derivative(7)"
   ]
  },
  {
   "cell_type": "markdown",
   "id": "36e54b65",
   "metadata": {},
   "source": []
  },
  {
   "cell_type": "markdown",
   "id": "6d10f431",
   "metadata": {},
   "source": [
    "$$ \\lim_{h \\rightarrow 0} \\frac{f(5+h)-f(5)}{h} $$\n",
    "\n",
    "$$ \\lim_{b \\rightarrow a} \\frac{f(b)-f(a)}{b-a} $$"
   ]
  },
  {
   "cell_type": "code",
   "execution_count": 1,
   "id": "fb4276de",
   "metadata": {},
   "outputs": [],
   "source": [
    "def know_der(f,x,h=0.00001):\n",
    "    return (f(x+h)-f(x))/h"
   ]
  },
  {
   "cell_type": "code",
   "execution_count": 2,
   "id": "de98cf60",
   "metadata": {},
   "outputs": [],
   "source": [
    "def f(x):\n",
    "    return x**2 + x"
   ]
  },
  {
   "cell_type": "code",
   "execution_count": 24,
   "id": "38b53e3e",
   "metadata": {},
   "outputs": [],
   "source": [
    "def derivate(a):\n",
    "    for i in range(500):\n",
    "        delta_x = a+(0.01/(i+1)) - a\n",
    "        delta_y = f(a+(0.01/(i+1))) - f(a) \n",
    "        try:\n",
    "            slope = delta_y / delta_x\n",
    "        except:\n",
    "#             print(slope)\n",
    "            pass\n",
    "    return slope"
   ]
  },
  {
   "cell_type": "code",
   "execution_count": 25,
   "id": "6fabd7f9",
   "metadata": {},
   "outputs": [
    {
     "data": {
      "text/plain": [
       "[(2, 5.000020000001655, 5.0000099999891745),\n",
       " (3, 7.000020000046064, 7.000009999913458),\n",
       " (4, 9.000019999957246, 9.000009999482472),\n",
       " (5, 11.000019999868428, 11.000009999406755),\n",
       " (6, 13.00001999977961, 13.000010000041582),\n",
       " (7, 15.000020000046064, 15.000009999255324),\n",
       " (8, 17.000019999291112, 17.000009999890153),\n",
       " (9, 19.000020000001655, 19.000009999103895),\n",
       " (10, 21.000019999291112, 21.000009999738722),\n",
       " (11, 23.000020000001655, 23.000009997531375),\n",
       " (12, 25.000020000712198, 25.000009998166203),\n",
       " (13, 27.000020000001655, 27.00000999880103),\n",
       " (14, 29.000020000712198, 29.000009999435857),\n",
       " (15, 31.000020000001655, 31.000010000070684),\n",
       " (16, 33.0000200007122, 33.00000999502117),\n",
       " (17, 35.00002000142274, 35.000009995656),\n",
       " (18, 37.00001999929111, 37.00000999629083),\n",
       " (19, 39.000020000001655, 39.000009996925655),\n",
       " (20, 41.0000200007122, 41.00000999756048),\n",
       " (21, 43.00002000142274, 43.00000999819531)]"
      ]
     },
     "execution_count": 25,
     "metadata": {},
     "output_type": "execute_result"
    }
   ],
   "source": [
    "[(i+2, derivate(i+2), know_der(f,i+2)) for i in range(20)]"
   ]
  },
  {
   "cell_type": "markdown",
   "id": "ad9adbd9",
   "metadata": {},
   "source": []
  },
  {
   "cell_type": "markdown",
   "id": "8deff3b6",
   "metadata": {},
   "source": [
    "$ f(x) = \\frac{1}{x^{2}} = x^{-2} $을 이전 코드로 확인"
   ]
  },
  {
   "cell_type": "code",
   "execution_count": 30,
   "id": "d8b85d8e",
   "metadata": {},
   "outputs": [
    {
     "data": {
      "text/plain": [
       "-2.0000000000131024"
      ]
     },
     "execution_count": 30,
     "metadata": {},
     "output_type": "execute_result"
    }
   ],
   "source": [
    "def f(x):\n",
    "    return -2*x-3\n",
    "know_der(f, 1)"
   ]
  },
  {
   "cell_type": "code",
   "execution_count": 47,
   "id": "61ed9844",
   "metadata": {
    "scrolled": true
   },
   "outputs": [
    {
     "data": {
      "text/plain": [
       "-2.0000000000131024"
      ]
     },
     "execution_count": 47,
     "metadata": {},
     "output_type": "execute_result"
    }
   ],
   "source": [
    "def f(x):\n",
    "    return -2*x-3\n",
    "know_der(f, 2)"
   ]
  },
  {
   "cell_type": "code",
   "execution_count": 36,
   "id": "daadf9f0",
   "metadata": {},
   "outputs": [],
   "source": [
    "import numpy as np"
   ]
  },
  {
   "cell_type": "code",
   "execution_count": 39,
   "id": "1d47f79c",
   "metadata": {
    "scrolled": true
   },
   "outputs": [
    {
     "name": "stdout",
     "output_type": "stream",
     "text": [
      "0.9589214379933377\n",
      "0.9589242746631385\n"
     ]
    },
    {
     "data": {
      "text/plain": [
       "0.9589228563033901"
      ]
     },
     "execution_count": 39,
     "metadata": {},
     "output_type": "execute_result"
    }
   ],
   "source": [
    "def f(x):\n",
    "    print(-np.sin(x))\n",
    "    return np.cos(x)\n",
    "\n",
    "know_der(f, 5)"
   ]
  },
  {
   "cell_type": "markdown",
   "id": "6ec12a9e",
   "metadata": {},
   "source": []
  },
  {
   "cell_type": "markdown",
   "id": "cccc78f0",
   "metadata": {},
   "source": [
    "<img src='1/20230925_124251_342.jpg' />"
   ]
  },
  {
   "cell_type": "code",
   "execution_count": 59,
   "id": "939336f4",
   "metadata": {},
   "outputs": [],
   "source": [
    "def derivate_f(f, a):\n",
    "    for i in range(500):\n",
    "        delta_x = a+(0.01/(i+1)) - a \n",
    "        # a+h=b이고 b의 값에서 a값을 빼고 (b에 a에 한없이 가까워짐)\n",
    "        delta_y = f(a+(0.01/(i+1))) - f(a) # f(b)-f(a) # y의 미세한 변화량\n",
    "        return slope = delta_y / delta_x # x의 미세한 변화량과 y의 미세한 변화량의 배율이 미분"
   ]
  },
  {
   "cell_type": "code",
   "execution_count": 70,
   "id": "e7139dce",
   "metadata": {},
   "outputs": [],
   "source": [
    "def f_square(x):\n",
    "    return x**2 + x"
   ]
  },
  {
   "cell_type": "code",
   "execution_count": 71,
   "id": "ca84a627",
   "metadata": {
    "scrolled": true
   },
   "outputs": [
    {
     "data": {
      "text/plain": [
       "[(2, -0.2499962500496498, -0.24999812501536042),\n",
       " (3, -0.07407333333951706, -0.07407370370415833)]"
      ]
     },
     "execution_count": 71,
     "metadata": {},
     "output_type": "execute_result"
    }
   ],
   "source": [
    "[(i+2, derivate_f(f_square, i+2), know_der(f_square, i+2)) for i in range(20)][:2]"
   ]
  },
  {
   "cell_type": "code",
   "execution_count": 67,
   "id": "f9c33d5c",
   "metadata": {},
   "outputs": [],
   "source": [
    "def f_root(x):\n",
    "    return x**-2"
   ]
  },
  {
   "cell_type": "code",
   "execution_count": 68,
   "id": "5011997e",
   "metadata": {
    "scrolled": true
   },
   "outputs": [
    {
     "data": {
      "text/plain": [
       "[(2, -0.2499962500496498, 5.0000099999891745),\n",
       " (3, -0.07407333333951706, 7.000009999913458)]"
      ]
     },
     "execution_count": 68,
     "metadata": {},
     "output_type": "execute_result"
    }
   ],
   "source": [
    "[(i+2, derivate_f(f_root, i+2), know_der(f_square, i+2)) for i in range(20)][:2]"
   ]
  },
  {
   "cell_type": "code",
   "execution_count": 69,
   "id": "81173443",
   "metadata": {
    "scrolled": false
   },
   "outputs": [
    {
     "data": {
      "text/plain": [
       "[(2, -0.9092932652966894, -0.9092953460798635),\n",
       " (3, -0.14111010812519456, -0.14111505810543434)]"
      ]
     },
     "execution_count": 69,
     "metadata": {},
     "output_type": "execute_result"
    }
   ],
   "source": [
    "[(i+2, derivate_f(np.cos, i+2), know_der(np.cos, i+2)) for i in range(20)][:2]"
   ]
  }
 ],
 "metadata": {
  "kernelspec": {
   "display_name": "Python 3 (ipykernel)",
   "language": "python",
   "name": "python3"
  },
  "language_info": {
   "codemirror_mode": {
    "name": "ipython",
    "version": 3
   },
   "file_extension": ".py",
   "mimetype": "text/x-python",
   "name": "python",
   "nbconvert_exporter": "python",
   "pygments_lexer": "ipython3",
   "version": "3.10.9"
  }
 },
 "nbformat": 4,
 "nbformat_minor": 5
}
