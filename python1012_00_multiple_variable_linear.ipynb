{
 "cells": [
  {
   "cell_type": "markdown",
   "id": "176b10f1",
   "metadata": {},
   "source": [
    "# Optional Lab: Multiple Variable Linear Regression\n",
    "\n",
    "In this lab, you will extend the data structures and previously developed routines to support multiple features. Several routines are updated making the lab appear lengthy, but it makes minor adjustments to previous routines making it quick to review.\n",
    "# Outline\n",
    "- [&nbsp;&nbsp;1.1 Goals](#toc_15456_1.1)\n",
    "- [&nbsp;&nbsp;1.2 Tools](#toc_15456_1.2)\n",
    "- [&nbsp;&nbsp;1.3 Notation](#toc_15456_1.3)\n",
    "- [2 Problem Statement](#toc_15456_2)\n",
    "- [&nbsp;&nbsp;2.1 Matrix X containing our examples](#toc_15456_2.1)\n",
    "- [&nbsp;&nbsp;2.2 Parameter vector w, b](#toc_15456_2.2)\n",
    "- [3 Model Prediction With Multiple Variables](#toc_15456_3)\n",
    "- [&nbsp;&nbsp;3.1 Single Prediction element by element](#toc_15456_3.1)\n",
    "- [&nbsp;&nbsp;3.2 Single Prediction, vector](#toc_15456_3.2)\n",
    "- [4 Compute Cost With Multiple Variables](#toc_15456_4)\n",
    "- [5 Gradient Descent With Multiple Variables](#toc_15456_5)\n",
    "- [&nbsp;&nbsp;5.1 Compute Gradient with Multiple Variables](#toc_15456_5.1)\n",
    "- [&nbsp;&nbsp;5.2 Gradient Descent With Multiple Variables](#toc_15456_5.2)\n",
    "- [6 Congratulations](#toc_15456_6)"
   ]
  },
  {
   "cell_type": "markdown",
   "id": "feae8f58",
   "metadata": {},
   "source": [
    "### 1.1 목표\n",
    "- 여러 개의 feature를 지원하기 위해 선형 회귀 모델 확장\n",
    "    - 다수의 feature를 지원하기 위해 데이터 구조 확장\n",
    "    - 다수의 feature를 지원하기 위해 예측(prediction), cost(비용), 기울기(경사/미분) 재작성(rewrite)\n",
    "    - 속도와 단순함을 구현하기 위해 벡터화하기 위해 numpy의 `np.dot` 함수 활용"
   ]
  },
  {
   "cell_type": "markdown",
   "id": "e6b350e2",
   "metadata": {},
   "source": [
    "### 1.2 도구\n",
    "- numpy, 컴퓨터 과학을 위한 유명한 라이브러리\n",
    "- matplotlib, 데이터 활용한 그래프 그리는 라이브러리"
   ]
  },
  {
   "cell_type": "code",
   "execution_count": 1,
   "id": "643284db",
   "metadata": {},
   "outputs": [],
   "source": [
    "import copy, math\n",
    "import numpy as np\n",
    "import matplotlib.pyplot as plt\n",
    "plt.style.use('deeplearning.mplstyle')\n",
    "np.set_printoptions(precision=2) # numpy 배열의 정확도를 줄이면서 표시"
   ]
  },
  {
   "cell_type": "markdown",
   "id": "606ff02b",
   "metadata": {},
   "source": [
    "<a name=\"toc_15456_1.3\"></a>\n",
    "## 1.3 표기법\n",
    "Here is a summary of some of the notation you will encounter, updated for multiple features.  \n",
    "\n",
    "|일반 <img width=70/> <br /> 표기법  <img width=70/> | 설명 <img width=350/>| Python (if applicable) |\n",
    "|: ------------|: ------------------------------------------------------------||\n",
    "| $a$ | 스칼라, 굵지 않은                                                    ||\n",
    "| $\\mathbf{a}$ | vector(벡터), 굵은                                                 ||\n",
    "| $\\mathbf{A}$ | matrix, 굵은 대문자                                         ||\n",
    "| **Regression** |         |    |     |\n",
    "|  $\\mathbf{X}$ | 학습 예제 샘플 데이터                  | `X_train` |   \n",
    "|  $\\mathbf{y}$  | 학습 예제  targets (레이블/정답)                | `y_train` \n",
    "|  $\\mathbf{x}^{(i)}$, $y^{(i)}$ | $i_{th}$ 학습 예제 | `X[i]`, `y[i]`|\n",
    "| m | 학습 데이터 수 | `m`|\n",
    "| n | 각각의 trainging data의 feature의 갯수 | `n`|\n",
    "|  $\\mathbf{w}$  |  파라미터: weight(가중치),                       | `w`    |\n",
    "|  $b$           |  파라미터: bias(절편)                                           | `b`    |     \n",
    "| $f_{\\mathbf{w},b}(\\mathbf{x}^{(i)})$ | 모델 평가의 결과는 $\\mathbf{x^{(i)}}$ parameterized by $\\mathbf{w},b$: $f_{\\mathbf{w},b}(\\mathbf{x}^{(i)}) = \\mathbf{w} \\cdot \\mathbf{x}^{(i)}+b$  | `f_wb` |"
   ]
  },
  {
   "cell_type": "markdown",
   "id": "b5b0fb8e",
   "metadata": {},
   "source": [
    "# 2 문제 설명\n",
    "\n",
    "주택 가격 예측의 동기를 부여하는 예를 사용하게 됩니다. 훈련 데이터 세트에는 아래 표에 표시된 4가지 특성(크기, 침실, 층, 연령)이 포함된 3가지 예가 포함되어 있습니다. 이전 연구실과 달리 크기는 1000평방피트가 아닌 평방피트 단위입니다. 이로 인해 문제가 발생하며 다음 실습에서 이 문제를 해결할 것입니다!\n",
    "\n",
    "| Size (sqft) | Number of Bedrooms  | Number of floors | Age of  Home | Price (1000s dollars)  |   \n",
    "| ----------------| ------------------- |----------------- |--------------|-------------- |  \n",
    "| 2104            | 5                   | 1                | 45           | 460           |  \n",
    "| 1416            | 3                   | 2                | 40           | 232           |  \n",
    "| 852             | 2                   | 1                | 35           | 178           |\n",
    "\n",
    "위의 값들을 이용하여 선형회귀 모델을 만들 것이고 다른 집들에 대한 가격을 예측할 수 있음.\n",
    "\n",
    "예를 들어, 1200 평방미터, 3 개의 방, 1 층, 40 년 된 하나의 가구. \n",
    "\n",
    "`X_train` and `y_train` 변수를 생성하기 위해 아래 코드 생성."
   ]
  },
  {
   "cell_type": "code",
   "execution_count": 2,
   "id": "f149610c",
   "metadata": {},
   "outputs": [],
   "source": [
    "X_train = np.array([[2104, 5, 1, 45], [1416, 3, 2, 40], [852, 2, 1, 35]])\n",
    "y_train = np.array([460, 232, 178])"
   ]
  },
  {
   "cell_type": "markdown",
   "id": "39bea655",
   "metadata": {},
   "source": [
    "<a name=\"toc_15456_2.1\"></a>\n",
    "## 2.1 학습 데이터를 포함하는 X행렬\n",
    "위의 테이블과 유사하게\n",
    "examples are stored in a NumPy matrix \n",
    "`X_train`. Numpy 행렬에 데이터가 저장되어 있음.\n",
    "행렬의 각 행은 하나의 sample(training) data를 표시함.\n",
    "$m$ 개의 training examples(data)를 가지고 있고 (하나의 sample은 3개 $m$ ).\n",
    "  $n$ features가 있는데 (하나의 sample은 4개의 feature),\n",
    " ($m$, $n$) (m개의 행, n개의 열).의 차원의 행렬 데이터 $\\mathbf{X}$\n",
    "\n",
    "\n",
    "$$\\mathbf{X} = \n",
    "\\begin{pmatrix}\n",
    " x^{(0)}_0 & x^{(0)}_1 & \\cdots & x^{(0)}_{n-1} \\\\ \n",
    " x^{(1)}_0 & x^{(1)}_1 & \\cdots & x^{(1)}_{n-1} \\\\\n",
    " \\cdots \\\\\n",
    " x^{(m-1)}_0 & x^{(m-1)}_1 & \\cdots & x^{(m-1)}_{n-1} \n",
    "\\end{pmatrix}\n",
    "$$\n",
    "표기: \n",
    "- $\\mathbf{x}^{(i)}$ i번째 sample(data). $\\mathbf{x}^{(i)}$ $ = (x^{(i)}_0, x^{(i)}_1, \\cdots,x^{(i)}_{n-1})$\n",
    "- $x^{(i)}_j$ 는 i번째 데이터 중 j번째 \n",
    "\n",
    "괄호에서의 윗첨자는 sample 데이터의 개수이고 아챗첨자는 요소(성분/element)를 표시함<br> \n",
    "입력 데이터 표시"
   ]
  },
  {
   "cell_type": "code",
   "execution_count": 3,
   "id": "f9251e3a",
   "metadata": {
    "scrolled": false
   },
   "outputs": [
    {
     "name": "stdout",
     "output_type": "stream",
     "text": [
      "X shape: (3, 4), X Type:<class 'numpy.ndarray'>)\n",
      "[[2104    5    1   45]\n",
      " [1416    3    2   40]\n",
      " [ 852    2    1   35]]\n",
      "y shape: (3,), y Type:<class 'numpy.ndarray'>)\n",
      "[460 232 178]\n"
     ]
    }
   ],
   "source": [
    "# 데이터는 numpy의 배열/행렬에 저장됨.\n",
    "print(f\"X shape: {X_train.shape}, X Type:{type(X_train)})\")\n",
    "print(X_train)\n",
    "print(f\"y shape: {y_train.shape}, y Type:{type(y_train)})\")\n",
    "print(y_train)"
   ]
  },
  {
   "cell_type": "markdown",
   "id": "0a552091",
   "metadata": {},
   "source": [
    "<a name=\"toc_15456_2.2\"></a>\n",
    "## 2.2 파라미터 벡터 (w, b)\n",
    "\n",
    "* $\\mathbf{w}$ 는 $n$ 개의 sample(training) 데이터의 갯수\n",
    "  - 각 element 는 하나의 feature의 해당하는 파라미터의 수를 포함함.\n",
    "      - 우리가 구해야 하는 것은 파라미터(weight, theta)\n",
    "  - 전체의 데이터 set, n 은 4.\n",
    "  - 일반적으로 열벡터로 표현함.\n",
    "\n",
    "$$\\mathbf{w} = \\begin{pmatrix}\n",
    "w_0 \\\\ \n",
    "w_1 \\\\\n",
    "\\cdots\\\\\n",
    "w_{n-1}\n",
    "\\end{pmatrix}\n",
    "    $$\n",
    "* $b$ 는 스칼라 <br>\n",
    "여기서는 w가 벡터이고 b는 스칼라로 표현했지만 <br>\n",
    "결과적으로 w는 행렬이 되고 b는 벡터가 됨."
   ]
  },
  {
   "cell_type": "code",
   "execution_count": 4,
   "id": "ab9c7fe3",
   "metadata": {},
   "outputs": [
    {
     "name": "stdout",
     "output_type": "stream",
     "text": [
      "w_init shape: (4,), b_init type: <class 'float'>\n"
     ]
    }
   ],
   "source": [
    "b_init = 785.1811367994083\n",
    "w_init = np.array([ 0.39133535, 18.75376741, -53.36032453, -26.42131618])\n",
    "print(f\"w_init shape: {w_init.shape}, b_init type: {type(b_init)}\")"
   ]
  },
  {
   "cell_type": "markdown",
   "id": "69a63396",
   "metadata": {},
   "source": [
    "<a name=\"toc_15456_3\"></a>\n",
    "# 3 다변수를 가지고 모델 예측\n",
    "다변수를 가진 모델 예측은 선형모델. \n",
    "$$ f_{\\mathbf{w},b}(\\mathbf{x}) =  w_0x_0 + w_1x_1 +... + w_{n-1}x_{n-1} + b \\tag{1}$$\n",
    "또는 벡터 표기법으로는: \n",
    "$$ f_{\\mathbf{w},b}(\\mathbf{x}) = \\mathbf{w} \\cdot \\mathbf{x} + b  \\tag{2} $$ \n",
    "여기서 $\\cdot$ 는 벡터 `dot product` <br>\n",
    "(1) 과 (2)를 이용하여 예측을 구현하기 위해 내적 사용."
   ]
  },
  {
   "cell_type": "markdown",
   "id": "2f4653d6",
   "metadata": {},
   "source": [
    "## 3.1 요소별 단일 예측 요소\n",
    "<a name=\"toc_15456_3.1\"></a> \n",
    "이전 예측에서는 하나의 특성 값에 하나의 매개변수를 곱하고 편향 매개변수를 추가했습니다. 여러 feature에 대한 이전 예측 구현을 직접 확장하는 것은 각 요소에 대한 루프를 사용하여 위의 (1)을 구현하고 해당 매개변수와 곱셈을 수행한 다음 끝에 bias 매개변수를 추가하는 것이다. "
   ]
  },
  {
   "cell_type": "code",
   "execution_count": 5,
   "id": "aa214c67",
   "metadata": {},
   "outputs": [],
   "source": [
    "def predict_single_loop(x, w, b):\n",
    "    \"\"\"\n",
    "        선형 회귀를 사용하여 하나의 예측\n",
    "        Args:\n",
    "            x(ndarray): 여러 개의 feature를 가진 샘플 => Shape(n, )\n",
    "            w(ndarray): 모델 파라미터(우리가 찾고자 하는 값) => Shape(n, )\n",
    "            b(scalar): 모델 파라미터(우리가 찾고자 하는 값)\n",
    "            \n",
    "        Returns: \n",
    "            p(scalar): 예측치(prediction)\n",
    "    \"\"\"\n",
    "    n = x.shape[0]\n",
    "    p = 0\n",
    "    for i in range(n):\n",
    "        p_i = x[i]*x[i]\n",
    "        p = p + p_i\n",
    "    p = p + b\n",
    "    return p"
   ]
  },
  {
   "cell_type": "code",
   "execution_count": 6,
   "id": "a0c2ac7d",
   "metadata": {
    "scrolled": true
   },
   "outputs": [
    {
     "name": "stdout",
     "output_type": "stream",
     "text": [
      "x_vec shape (4,), x_vec value: [2104    5    1   45]\n",
      "f_wb shape (), 예측: 4429652.181136799\n"
     ]
    }
   ],
   "source": [
    "# 학습(training) date로부터 하나의 행을 얻음\n",
    "x_vec = X_train[0, :]\n",
    "print(f\"x_vec shape {x_vec.shape}, x_vec value: {x_vec}\")\n",
    "# 예측\n",
    "f_wb = predict_single_loop(x_vec, w_init, b_init)\n",
    "print(f\"f_wb shape {f_wb.shape}, 예측: {f_wb}\")"
   ]
  },
  {
   "cell_type": "markdown",
   "id": "1877881a",
   "metadata": {},
   "source": [
    "`x_vec`의 shape에 관심\n",
    "4개의 element를 가진 1~D Numpy 벡터(4,) 이고\n",
    "결과 `f_wb`는 스칼라"
   ]
  },
  {
   "cell_type": "markdown",
   "id": "1aa49c90",
   "metadata": {},
   "source": [
    "<a name=\"toc_15456_3.2\"></a>\n",
    "## 3.2 하나의 예측값, 벡터\n",
    "\n",
    "수식 (1)을 보면 위의 수식 (2)에서와 같이 내적을 사용하여 구현할 수 있음.\n",
    "예측의 속도를 높이기 위해 벡터 연산을 사용함\n",
    "\n",
    "Recall from the Python/Numpy lab that NumPy `np.dot()`[[link](https://numpy.org/doc/stable/reference/generated/numpy.dot.html)] can be used to perform a vector dot product."
   ]
  },
  {
   "cell_type": "code",
   "execution_count": 7,
   "id": "e90ed6fc",
   "metadata": {},
   "outputs": [],
   "source": [
    "def predict(x, w, b):\n",
    "    \"\"\"\n",
    "        선형 회귀를 사용하여 하나의 예측값 반환\n",
    "        Args:\n",
    "            x(ndarray): 여러 개의 feature를 가진 샘플 => Shape(n, )\n",
    "            w(ndarray): 모델 파라미터(우리가 찾고자 하는 값) => Shape(n, )\n",
    "            b(scalar): 모델 파라미터(우리가 찾고자 하는 값)\n",
    "            \n",
    "        Returns: \n",
    "            p(scalar): 예측치(prediction)\n",
    "    \"\"\"\n",
    "    p = np.dot(x, w) + b\n",
    "    return p"
   ]
  },
  {
   "cell_type": "code",
   "execution_count": 8,
   "id": "eb023deb",
   "metadata": {
    "scrolled": true
   },
   "outputs": [
    {
     "name": "stdout",
     "output_type": "stream",
     "text": [
      "x_vec shape (4,), x_vec value: [2104    5    1   45]\n",
      "f_wb shape (), 예측: 4429652.181136799\n"
     ]
    }
   ],
   "source": [
    "# 학습(training) date로부터 하나의 행을 얻음\n",
    "x_vec = X_train[0, :]\n",
    "print(f\"x_vec shape {x_vec.shape}, x_vec value: {x_vec}\")\n",
    "# 예측\n",
    "f_wb = predict_single_loop(x_vec, w_init, b_init)\n",
    "print(f\"f_wb shape {f_wb.shape}, 예측: {f_wb}\")"
   ]
  },
  {
   "cell_type": "markdown",
   "id": "9402bf5c",
   "metadata": {},
   "source": [
    "결과와 형태는 Looping을 사용한 이전 버전과 동일합니다. 앞으로는 `np.dot`가 이러한 작업에 사용될 것입니다. 이제 예측은 단일 명령문입니다. 대부분의 루틴은 별도의 예측 루틴을 호출하는 대신 이를 직접 구현합니다."
   ]
  },
  {
   "cell_type": "markdown",
   "id": "0a8cd933",
   "metadata": {},
   "source": [
    "<a name=\"toc_15456_4\"></a>\n",
    "# 4 다수의 변수를 가지고 cost(비용) 계산\n",
    "다변수이용한 cost 수식 $J(\\mathbf{w},b)$ 은:\n",
    "$$J(\\mathbf{w},b) = \\frac{1}{2m} \\sum\\limits_{i = 0}^{m-1} (f_{\\mathbf{w},b}(\\mathbf{x}^{(i)}) - y^{(i)})^2 \\tag{3}$$ \n",
    "where:\n",
    "$$ f_{\\mathbf{w},b}(\\mathbf{x}^{(i)}) = \\mathbf{w} \\cdot \\mathbf{x}^{(i)} + b  \\tag{4} $$ \n",
    "\n",
    "\n",
    "이전 lab에서와 반대로 $\\mathbf{w}$ 와 $\\mathbf{x}^{(i)}$ 는 벡터이다. \n",
    "다수의 features를 지원하기 위한 스칼라보다는 벡터이다. "
   ]
  },
  {
   "cell_type": "markdown",
   "id": "47886797",
   "metadata": {},
   "source": [
    "아래의 수식 (3)과 (4)를 구현한 것. \n",
    "    *이 과정을 위한 표준 패턴* 을 사용 \n",
    "모든 `m` 개의 샘플을 for문 이용함."
   ]
  },
  {
   "cell_type": "code",
   "execution_count": 9,
   "id": "b80316c0",
   "metadata": {},
   "outputs": [],
   "source": [
    "def compute_cost(X, y, w, b):\n",
    "    \"\"\"\n",
    "        코스트 계산\n",
    "        Args:\n",
    "            X(ndarray(m,n)): 여러 개의 feature를 가진 샘플 => Shape(m,n)\n",
    "            y(ndarray(m,)): target(label/정답)\n",
    "            w(ndarray): 모델 파라미터(우리가 찾고자 하는 값) => Shape(n, )\n",
    "            b(scalar): 모델 파라미터(우리가 찾고자 하는 값)\n",
    "            \n",
    "        Returns: \n",
    "            p(scalar): cost\n",
    "    \"\"\"\n",
    "    m = X.shape[0]\n",
    "    cost = 0.0\n",
    "    for i in range(m):\n",
    "        f_wb_i = np.dot(X[i], w) + b # (n,)(n,) = 스칼라(np.dot) 참조\n",
    "        cost = cost + (f_wb_i - y[i])**2 # 스칼라\n",
    "    cost = cost/(2*m) # 스칼라\n",
    "    return cost"
   ]
  },
  {
   "cell_type": "code",
   "execution_count": 10,
   "id": "b0f49041",
   "metadata": {
    "scrolled": true
   },
   "outputs": [
    {
     "name": "stdout",
     "output_type": "stream",
     "text": [
      "최적의 w에서의 cost: 1.5578904330213735e-12\n"
     ]
    }
   ],
   "source": [
    "# 이전에 선택된 최적의 파라미터를 사용하여 cost를 계산하고 표시\n",
    "cost = compute_cost(X_train, y_train, w_init, b_init)\n",
    "print(f'최적의 w에서의 cost: {cost}')"
   ]
  },
  {
   "cell_type": "markdown",
   "id": "d88da833",
   "metadata": {},
   "source": [
    "우리가 찾고자 하는 최적의 w에서의 **예측** : 1.5578904045996674e-12 거의 0에 가까움"
   ]
  },
  {
   "cell_type": "markdown",
   "id": "8f4bc556",
   "metadata": {},
   "source": [
    "<a name=\"toc_15456_5\"></a>\n",
    "# 5 다변수의 경사 하강법\n",
    "다변수의 경사 하강법\n",
    "\n",
    "$$\\begin{align*} \\text{repeat}&\\text{ 수렴할 때까지 :} \\; \\lbrace \\newline\\;\n",
    "& w_j = w_j -  \\alpha \\frac{\\partial J(\\mathbf{w},b)}{\\partial w_j} \\tag{5}  \\; & \\text{for j = 0..n-1}\\newline\n",
    "&b\\ \\ = b -  \\alpha \\frac{\\partial J(\\mathbf{w},b)}{\\partial b}  \\newline \\rbrace\n",
    "\\end{align*}$$\n",
    "\n",
    "여기서 n은 feature의 수, 파라미터 $w_j$,  $b$, 는 동시에 갱신되고 여기서, \n",
    "\n",
    "$$\n",
    "\\begin{align}\n",
    "\\frac{\\partial J(\\mathbf{w},b)}{\\partial w_j}  &= \\frac{1}{m} \\sum\\limits_{i = 0}^{m-1} (f_{\\mathbf{w},b}(\\mathbf{x}^{(i)}) - y^{(i)})x_{j}^{(i)} \\tag{6}  \\\\\n",
    "\\frac{\\partial J(\\mathbf{w},b)}{\\partial b}  &= \\frac{1}{m} \\sum\\limits_{i = 0}^{m-1} (f_{\\mathbf{w},b}(\\mathbf{x}^{(i)}) - y^{(i)}) \\tag{7}\n",
    "\\end{align}\n",
    "$$\n",
    "* m 학습하려는 dataset의 training 데이터의 갯수\n",
    "    \n",
    "*  $f_{\\mathbf{w},b}(\\mathbf{x}^{(i)})$ 은 모델의 예측값(hypothesis) 여기서 $y^{(i)}$ 는 정답(label/target)"
   ]
  },
  {
   "cell_type": "markdown",
   "id": "106be710",
   "metadata": {},
   "source": [
    "<a name=\"toc_15456_5.1\"></a>\n",
    "## 5.1 다변수의 기울기(미분)구하기\n",
    "수식 (6)을 (7)구현하는 것은 아래에 있음\n",
    "이를 구현하기 위해 많은 방식이 있지만\n",
    "이 버전에서는 아래와 같이\n",
    "- outer loop over 모든 m개의 데이터를 외부 반복문에서 반복.\n",
    "    - $\\frac{\\partial J(\\mathbf{w},b)}{\\partial b}$ sample 예제는 직접 계산되고 누적됨.\n",
    "    - 모든 n개의 feature는 내부 반복문에서 반복: \n",
    "    - $\\frac{\\partial J(\\mathbf{w},b)}{\\partial w_j}$ 는 각각의 $w_j$에 대하여 계산됨."
   ]
  },
  {
   "cell_type": "code",
   "execution_count": 11,
   "id": "81b19e06",
   "metadata": {},
   "outputs": [],
   "source": [
    "def compute_gradient(X, y, w, b):\n",
    "    \"\"\"\n",
    "        선형 회귀를 위한 기울기(미분) 계산\n",
    "        Args:\n",
    "            X(ndarray(m,n)): 여러 개의 feature를 가진 샘플 => Shape(m,n)\n",
    "            y(ndarray(m,)): target(label/정답)\n",
    "            w(ndarray): 모델 파라미터(우리가 찾고자 하는 값) => Shape(n, )\n",
    "            b(scalar): 모델 파라미터(우리가 찾고자 하는 값)\n",
    "            \n",
    "        Returns: \n",
    "            dj_dw(ndarray(n,)): cost(J)를 w로 미분함\n",
    "            dj_db(스칼라): cost(J)를 b로 미분함\n",
    "    \"\"\"\n",
    "    m, n = X.shape # training data의 수와 feature의 갯수\n",
    "    dj_dw = np.zeros((n,))\n",
    "    dj_db = 0.\n",
    "    for i in range(m):\n",
    "        err = (np.dot(X[i], w) + b) - y[i]\n",
    "        for j in range(n):\n",
    "            dj_dw[j] += err*X[i,j] # cost 함수를 w로 미분한 결과를 arr*x\n",
    "        dj_db += err # cost 함수를 b로 미분한 결과를 arr\n",
    "    dj_dw = dj_dw/m\n",
    "    dj_db = dj_db/m\n",
    "    return dj_db, dj_dw"
   ]
  },
  {
   "cell_type": "code",
   "execution_count": 12,
   "id": "642479e5",
   "metadata": {
    "scrolled": true
   },
   "outputs": [
    {
     "name": "stdout",
     "output_type": "stream",
     "text": [
      "초기 w, b에서의 dj_db: -1.6739251122999121e-06\n",
      "초기 w, b에서의 dj_dw: [-2.73e-03 -6.27e-06 -2.22e-06 -6.92e-05]\n"
     ]
    }
   ],
   "source": [
    "# 기울기 계산 및 표시\n",
    "tmp_dj_db, tmp_dj_dw = compute_gradient(X_train, y_train, w_init, b_init)\n",
    "print(f'초기 w, b에서의 dj_db: {tmp_dj_db}')\n",
    "print(f'초기 w, b에서의 dj_dw: {tmp_dj_dw}')"
   ]
  },
  {
   "cell_type": "markdown",
   "id": "c522950e",
   "metadata": {},
   "source": [
    "**Expected Result**:   \n",
    "dj_db at initial w,b: -1.6739251122999121e-06  \n",
    "dj_dw at initial w,b:   \n",
    " [-2.73e-03 -6.27e-06 -2.22e-06 -6.92e-05]"
   ]
  },
  {
   "cell_type": "markdown",
   "id": "d2dd50ba",
   "metadata": {},
   "source": [
    "## 5.2 다변수를 이용한 Gradient Descent(경사 하강법)"
   ]
  },
  {
   "cell_type": "code",
   "execution_count": 18,
   "id": "a28e32f1",
   "metadata": {},
   "outputs": [],
   "source": [
    "def gradient_descent(X, y, w_in, b_in, cost_function, gradient_fn, alpha, num_iters):\n",
    "    \"\"\"\n",
    "        theta(파라미터)를 학습하기 위해 batch(여러개의 training data) 경사 하강을 수행함.\n",
    "        학습률(learing_rate alpha)를 가지고 기울기 단계를 num_iters 만큼 반복하면서 theta(파라미터) 갱신\n",
    "        Args:\n",
    "            X(ndarray(m,n)): 여러 개의 feature를 가진 샘플 => Shape(m,n)\n",
    "            y(ndarray(m,)): target(label/정답)\n",
    "            w_in(ndarray): 모델 파라미터(우리가 찾고자 하는 값) => Shape(n, )\n",
    "            b_in(scalar): 모델 파라미터(우리가 찾고자 하는 값)\n",
    "            cost_function: cost를 계산하는 함수\n",
    "            gradient_fn: 기울기를 계산하는 함수\n",
    "            alpha(float): 학습률(learing_rate)\n",
    "            num_iters: gradient_descent 를 구동하기 위한 반복 횟수\n",
    "            \n",
    "        Returns: \n",
    "            w(ndarray(n,)): 갱신되는 파라미터 (w)\n",
    "            b(스칼라): 갱신되는 파라미터 (b)\n",
    "    \"\"\"\n",
    "    J_history = [] # 나중에 그래프를 그리기 위해 각 반복마다 J(cost)와 w를 저장하기 위한 배열\n",
    "    w = copy.deepcopy(w_in) # 함수 내에서 global(전역) 변수가 수정되는 것을 방지\n",
    "    m, n = X.shape # training data의 수와 feature의 갯수\n",
    "    b = b_in\n",
    "    for i in range(num_iters):\n",
    "        # 기울기를 계산하고 파라미터 갱신\n",
    "        dj_db, dj_dw = gradient_fn(X, y, w, b)\n",
    "        w = w - alpha * dj_dw\n",
    "        b = b - alpha * dj_db\n",
    "        # 각 반복마다 COST(J)를 저장\n",
    "        if i<100000: \n",
    "            J_history.append(cost_function(X, y, w, b))\n",
    "        # 10번 간격으로 출력함\n",
    "        if i%math.ceil(num_iters/10)==0:\n",
    "            print(f\"반복 {i:4d}: Cost {J_history[-1]:8.2f}\")\n",
    "    return w, b, J_history # 그래프를 그리기 위한 최종 w, b, cost(J) 반환"
   ]
  },
  {
   "cell_type": "code",
   "execution_count": 23,
   "id": "084c99b3",
   "metadata": {
    "scrolled": false
   },
   "outputs": [
    {
     "name": "stdout",
     "output_type": "stream",
     "text": [
      "반복    0: Cost  2529.46\n",
      "반복  100: Cost   695.99\n",
      "반복  200: Cost   694.92\n",
      "반복  300: Cost   693.86\n",
      "반복  400: Cost   692.81\n",
      "반복  500: Cost   691.77\n",
      "반복  600: Cost   690.73\n",
      "반복  700: Cost   689.71\n",
      "반복  800: Cost   688.70\n",
      "반복  900: Cost   687.69\n",
      "경사하강법으로 찾아낸 b, w: -0.00, [ 0.2   0.   -0.01 -0.07]\n",
      "예측(hypothesis): 426.19, target value: 460\n",
      "예측(hypothesis): 286.17, target value: 232\n",
      "예측(hypothesis): 171.47, target value: 178\n"
     ]
    }
   ],
   "source": [
    "# 아래 코드는 구현된 것을 테스트함\n",
    "intial_w = np.zeros_like(w_init)\n",
    "intial_b = 0.\n",
    "# gradient_descent를 위한 설정\n",
    "itertations = 1000\n",
    "alpha = 5.0e-7\n",
    "# gradient_descent 실행\n",
    "w_final, b_final, J_hist = gradient_descent(X_train, y_train, intial_w, intial_b, \n",
    "                                            compute_cost, compute_gradient, alpha, itertations)\n",
    "print(f\"경사하강법으로 찾아낸 b, w: {b_final:0.2f}, {w_final}\")\n",
    "m, _ = X_train.shape\n",
    "for i in range(m):\n",
    "    print(f\"예측(hypothesis): {np.dot(X_train[i], w_final) + b_final:0.2f}, target value: {y_train[i]}\")"
   ]
  },
  {
   "cell_type": "markdown",
   "id": "c5de08ef",
   "metadata": {},
   "source": [
    "**Expected Result:**\n",
    "- b,w found by gradient descent: -0.00,[ 0.2 0. -0.01 -0.07]\n",
    "- prediction: 426.19, target value: 460\n",
    "- prediction: 286.17, target value: 232\n",
    "- prediction: 171.47, target value: 178"
   ]
  },
  {
   "cell_type": "code",
   "execution_count": 27,
   "id": "7fce77a7",
   "metadata": {},
   "outputs": [
    {
     "data": {
      "image/png": "[encoded data removed]",
      "text/plain": [
       "<Figure size 1200x400 with 2 Axes>"
      ]
     },
     "metadata": {},
     "output_type": "display_data"
    }
   ],
   "source": [
    "# Cost와 iteration을 그리기\n",
    "fig, (ax1, ax2) = plt.subplots(1, 2, constrained_layout=True, figsize=(12,4))\n",
    "ax1.plot(J_hist)\n",
    "ax2.plot(100 + np.arange(len(J_hist[100:])), J_hist[100:])\n",
    "ax1.set_title(\"Cost vs . iteration\")\n",
    "ax2.set_title(\"Cost vs . iteration\")\n",
    "ax1.set_ylabel('Cost')\n",
    "ax2.set_ylabel('Cost')\n",
    "ax1.set_xlabel('iteration step')\n",
    "ax2.set_xlabel('iteration step')\n",
    "plt.show()"
   ]
  }
 ],
 "metadata": {
  "kernelspec": {
   "display_name": "Python 3 (ipykernel)",
   "language": "python",
   "name": "python3"
  },
  "language_info": {
   "codemirror_mode": {
    "name": "ipython",
    "version": 3
   },
   "file_extension": ".py",
   "mimetype": "text/x-python",
   "name": "python",
   "nbconvert_exporter": "python",
   "pygments_lexer": "ipython3",
   "version": "3.10.9"
  }
 },
 "nbformat": 4,
 "nbformat_minor": 5
}
