{
 "cells": [
  {
   "cell_type": "code",
   "execution_count": null,
   "id": "3a81c390",
   "metadata": {},
   "outputs": [],
   "source": [
    "import numpy as np"
   ]
  },
  {
   "cell_type": "code",
   "execution_count": null,
   "id": "30d1d3db",
   "metadata": {},
   "outputs": [],
   "source": [
    "data1=[\n",
    "    [\n",
    "        {\"name\":['홍길동1','김말자5','김개똥9'],'age':[23,45,56]}, \n",
    "        {\"name\":['홍길동2','김말자6','김개똥10'],'age':[27,48,561]}, \n",
    "        {\"name\":['홍길동3','김말자7','김개똥11'],'age':[231,451,561]}, \n",
    "        {\"name\":['홍길동4','김말자8','김개똥12'],'age':[123,415,516]} \n",
    "    ],\n",
    "    [\n",
    "        {\"name\":['홍길동11','김말자25','김개똥91'],'age':[23,45,56]}, \n",
    "        {\"name\":['홍길동12','김말자26','김개똥101'],'age':[227,428,5261]}, \n",
    "        {\"name\":['홍길동13','김말자27','김개똥111'],'age':[2231,4251,561]}, \n",
    "        {\"name\":['홍길동14','김말자28','김개똥121'],'age':[1223,4215,5216]} \n",
    "    ],\n",
    "    [\n",
    "        {\"name\":['홍길동21','김말자55','김개똥91'],'age':[232,452,569]}, \n",
    "        {\"name\":['홍길동22','김말자56','김개똥1110'],'age':[227,498,591]}, \n",
    "        {\"name\":['홍길동23','김말자57','김개똥1111'],'age':[231,4951,561]}, \n",
    "        {\"name\":['홍길동24','김말자58','김개똥1112'],'age':[9,4915,5916]} \n",
    "    ],\n",
    "    \n",
    "]\n",
    "data1[0]\n",
    "# {'홍길동':[1,2,3,4,11,12,13,14,21,22,23,24],\n",
    "#  '김말자':[김말자 다음의 숫자 추출],\n",
    "#  '김개똥':[김개똥 다음의 숫자 추출],\n",
    "#  age_1: 23+45+56\n",
    "#  age_2: 27+48+561\n",
    "#  }"
   ]
  },
  {
   "cell_type": "code",
   "execution_count": null,
   "id": "ebd01d51",
   "metadata": {},
   "outputs": [],
   "source": [
    "# T\n",
    "obj = {}\n",
    "cnt = 0\n",
    "for i in data1: # 2차원 리스트에서 하나씩 꺼내면 1차원 리스트\n",
    "    for j in i: # 1차원 리스트에서 하나씩 꺼내면 dictionary\n",
    "        for k,v in j.items(): # dictionary에서 itmes 호출하면 k에는 각 dictionary의 key, v에는 value\n",
    "            if k=='age': # key가 age일 경우 각 리스트의 총합을 구하는데 key를 분류하기 위해\n",
    "                obj['age_'+str(cnt+1)] = sum(v)\n",
    "                cnt += 1\n",
    "            else: # key가 age가 아닐 경우 name\n",
    "                for name_v in v: # value에서 하나씩 꺼내어\n",
    "                    key_name = name_v[:3] # 앞의 이름 3개를 잘라서\n",
    "                    if key_name not in obj.keys(): # obj객체에 key가 없으면\n",
    "                        obj[key_name] = [] # value를 빈 list로 하고\n",
    "                    obj[key_name].append(int(name_v[3:])) # 그렇지 않으면 빈 리스트에 숫자를 잘라서 정수로 변환한 후 추가\n",
    "obj"
   ]
  },
  {
   "cell_type": "code",
   "execution_count": null,
   "id": "39a5cfe1",
   "metadata": {
    "scrolled": true
   },
   "outputs": [],
   "source": [
    "obj = {}\n",
    "cnt = 0\n",
    "list_1, list_2, list_3 = [],[],[]\n",
    "for i in data1:\n",
    "    for j in i:\n",
    "        list_1.append(j['name'][0][3:])\n",
    "        list_2.append(j['name'][1][3:])\n",
    "        list_3.append(j['name'][2][3:])\n",
    "        obj['age'+str(cnt+1)] = sum(j['age'])\n",
    "        cnt += 1\n",
    "obj['홍길동'] = list_1\n",
    "obj['김말자'] = list_2\n",
    "obj['김개똥'] = list_3\n",
    "obj"
   ]
  },
  {
   "cell_type": "code",
   "execution_count": 1,
   "id": "bb2dff10",
   "metadata": {},
   "outputs": [],
   "source": [
    "data2 = [\n",
    "    [\n",
    "        {\"name\":['가나다1','라마바11','아자차111'],'age':[1,2,3]}, \n",
    "        {\"name\":['가나다2','라마바22','아자차222'],'age':[4,5,6]}, \n",
    "        {\"name\":['가나다3','라마바33','아자차333'],'age':[7,8,9]}, \n",
    "        {\"name\":['가나다4','라마바44','아자차444'],'age':[9,8,7]} \n",
    "    ],\n",
    "    [\n",
    "        {\"name\":['가나다5','라마바55','아자차555'],'age':[6,5,4]}, \n",
    "        {\"name\":['가나다6','라마바66','아자차666'],'age':[3,2,1]}, \n",
    "        {\"name\":['가나다7','라마바77','아자차777'],'age':[1,2,3]}, \n",
    "        {\"name\":['가나다8','라마바88','아자차888'],'age':[4,5,6]} \n",
    "    ]\n",
    "]"
   ]
  },
  {
   "cell_type": "code",
   "execution_count": 2,
   "id": "3b53a8aa",
   "metadata": {},
   "outputs": [
    {
     "data": {
      "text/plain": [
       "{'가나다': [1, 2, 3, 4, 5, 6, 7, 8],\n",
       " '라마바': [11, 22, 33, 44, 55, 66, 77, 88],\n",
       " '아자차': [111, 222, 333, 444, 555, 666, 777, 888],\n",
       " 'age_1': 6,\n",
       " 'age_2': 15,\n",
       " 'age_3': 24,\n",
       " 'age_4': 24,\n",
       " 'age_5': 15,\n",
       " 'age_6': 6,\n",
       " 'age_7': 6,\n",
       " 'age_8': 15}"
      ]
     },
     "execution_count": 2,
     "metadata": {},
     "output_type": "execute_result"
    }
   ],
   "source": [
    "obj = {}\n",
    "cnt = 1\n",
    "for i in data2:\n",
    "    for j in i:\n",
    "        for k,v in j.items():\n",
    "            if k=='name':\n",
    "                for name_v in v:\n",
    "                    key_name = name_v[:3] \n",
    "                    if key_name not in obj.keys(): \n",
    "                        obj[key_name] = [] \n",
    "                    obj[key_name].append(int(name_v[3:])) \n",
    "            else: \n",
    "                obj['age_'+str(cnt)] = sum(v)\n",
    "                cnt += 1\n",
    "obj"
   ]
  }
 ],
 "metadata": {
  "kernelspec": {
   "display_name": "Python 3 (ipykernel)",
   "language": "python",
   "name": "python3"
  },
  "language_info": {
   "codemirror_mode": {
    "name": "ipython",
    "version": 3
   },
   "file_extension": ".py",
   "mimetype": "text/x-python",
   "name": "python",
   "nbconvert_exporter": "python",
   "pygments_lexer": "ipython3",
   "version": "3.11.3"
  }
 },
 "nbformat": 4,
 "nbformat_minor": 5
}
