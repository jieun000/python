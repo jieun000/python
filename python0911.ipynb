{
 "cells": [
  {
   "cell_type": "code",
   "execution_count": 1,
   "id": "3a81c390",
   "metadata": {},
   "outputs": [],
   "source": [
    "import numpy as np"
   ]
  },
  {
   "cell_type": "code",
   "execution_count": 2,
   "id": "ec97f3b9",
   "metadata": {},
   "outputs": [],
   "source": [
    "import pandas as pd"
   ]
  },
  {
   "cell_type": "code",
   "execution_count": 3,
   "id": "30d1d3db",
   "metadata": {},
   "outputs": [
    {
     "data": {
      "text/plain": [
       "[{'name': ['홍길동1', '김말자5', '김개똥9'], 'age': [23, 45, 56]},\n",
       " {'name': ['홍길동2', '김말자6', '김개똥10'], 'age': [27, 48, 561]},\n",
       " {'name': ['홍길동3', '김말자7', '김개똥11'], 'age': [231, 451, 561]},\n",
       " {'name': ['홍길동4', '김말자8', '김개똥12'], 'age': [123, 415, 516]}]"
      ]
     },
     "execution_count": 3,
     "metadata": {},
     "output_type": "execute_result"
    }
   ],
   "source": [
    "data1=[\n",
    "    [\n",
    "        {\"name\":['홍길동1','김말자5','김개똥9'],'age':[23,45,56]}, \n",
    "        {\"name\":['홍길동2','김말자6','김개똥10'],'age':[27,48,561]}, \n",
    "        {\"name\":['홍길동3','김말자7','김개똥11'],'age':[231,451,561]}, \n",
    "        {\"name\":['홍길동4','김말자8','김개똥12'],'age':[123,415,516]} \n",
    "    ],\n",
    "    [\n",
    "        {\"name\":['홍길동11','김말자25','김개똥91'],'age':[23,45,56]}, \n",
    "        {\"name\":['홍길동12','김말자26','김개똥101'],'age':[227,428,5261]}, \n",
    "        {\"name\":['홍길동13','김말자27','김개똥111'],'age':[2231,4251,561]}, \n",
    "        {\"name\":['홍길동14','김말자28','김개똥121'],'age':[1223,4215,5216]} \n",
    "    ],\n",
    "    [\n",
    "        {\"name\":['홍길동21','김말자55','김개똥91'],'age':[232,452,569]}, \n",
    "        {\"name\":['홍길동22','김말자56','김개똥1110'],'age':[227,498,591]}, \n",
    "        {\"name\":['홍길동23','김말자57','김개똥1111'],'age':[231,4951,561]}, \n",
    "        {\"name\":['홍길동24','김말자58','김개똥1112'],'age':[9,4915,5916]} \n",
    "    ],\n",
    "    \n",
    "]\n",
    "data1[0]\n",
    "# {'홍길동':[1,2,3,4,11,12,13,14,21,22,23,24],\n",
    "#  '김말자':[김말자 다음의 숫자 추출],\n",
    "#  '김개똥':[김개똥 다음의 숫자 추출],\n",
    "#  age_1: 23+45+56\n",
    "#  age_2: 27+48+561\n",
    "#  }"
   ]
  },
  {
   "cell_type": "code",
   "execution_count": null,
   "id": "6f9e6ccf",
   "metadata": {
    "scrolled": true
   },
   "outputs": [],
   "source": [
    "data1[0]"
   ]
  },
  {
   "cell_type": "code",
   "execution_count": null,
   "id": "39a5cfe1",
   "metadata": {
    "scrolled": true
   },
   "outputs": [],
   "source": [
    "obj = {}\n",
    "sum_ = 0\n",
    "list_1, list_2, list_3 = [],[],[]\n",
    "for i in data1:\n",
    "    for j in i:\n",
    "        list_1.append(j['name'][0][3:])\n",
    "        list_2.append(j['name'][1][3:])\n",
    "        list_3.append(j['name'][2][3:])\n",
    "        obj['age'+str(sum_+1)] = sum(j['age'])\n",
    "        sum_ += 1\n",
    "obj['홍길동'] = list_1\n",
    "obj['김말자'] = list_2\n",
    "obj['김개똥'] = list_3\n",
    "obj"
   ]
  },
  {
   "cell_type": "code",
   "execution_count": 4,
   "id": "ebd01d51",
   "metadata": {},
   "outputs": [
    {
     "data": {
      "text/plain": [
       "{'홍길동': [1, 2, 3, 4, 11, 12, 13, 14, 21, 22, 23, 24],\n",
       " '김말자': [5, 6, 7, 8, 25, 26, 27, 28, 55, 56, 57, 58],\n",
       " '김개똥': [9, 10, 11, 12, 91, 101, 111, 121, 91, 1110, 1111, 1112],\n",
       " 'age_1': 124,\n",
       " 'age_2': 636,\n",
       " 'age_3': 1243,\n",
       " 'age_4': 1054,\n",
       " 'age_5': 124,\n",
       " 'age_6': 5916,\n",
       " 'age_7': 7043,\n",
       " 'age_8': 10654,\n",
       " 'age_9': 1253,\n",
       " 'age_10': 1316,\n",
       " 'age_11': 5743,\n",
       " 'age_12': 10840}"
      ]
     },
     "execution_count": 4,
     "metadata": {},
     "output_type": "execute_result"
    }
   ],
   "source": [
    "# T\n",
    "obj = {}\n",
    "cnt = 0\n",
    "for i in data1: # 2차원 리스트에서 하나씩 꺼내면 1차원 리스트\n",
    "    for j in i: # 1차원 리스트에서 하나씩 꺼내면 dictionary\n",
    "        for k,v in j.items(): # dictionary에서 itmes 호출하면 k에는 각 dictionary의 key, v에는 value\n",
    "            if k=='age': # key가 age일 경우 각 리스트의 총합을 구하는데 key를 분류하기 위해\n",
    "                obj['age_'+str(cnt+1)] = sum(v)\n",
    "                cnt += 1\n",
    "            else: # key가 age가 아닐 경우 name\n",
    "                for name_v in v: # value에서 하나씩 꺼내어\n",
    "                    key_name = name_v[:3] # 앞의 이름 3개를 잘라서\n",
    "                    if key_name not in obj.keys(): # obj객체에 key가 없으면\n",
    "                        obj[key_name] = [] # value를 빈 list로 하고\n",
    "                    obj[key_name].append(int(name_v[3:])) # 그렇지 않으면 빈 리스트에 숫자를 잘라서 정수로 변환한 후 추가\n",
    "obj"
   ]
  }
 ],
 "metadata": {
  "kernelspec": {
   "display_name": "Python 3 (ipykernel)",
   "language": "python",
   "name": "python3"
  },
  "language_info": {
   "codemirror_mode": {
    "name": "ipython",
    "version": 3
   },
   "file_extension": ".py",
   "mimetype": "text/x-python",
   "name": "python",
   "nbconvert_exporter": "python",
   "pygments_lexer": "ipython3",
   "version": "3.11.3"
  }
 },
 "nbformat": 4,
 "nbformat_minor": 5
}
