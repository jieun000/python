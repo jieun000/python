{
 "cells": [
  {
   "cell_type": "markdown",
   "id": "5e40e1fa",
   "metadata": {},
   "source": [
    "# 지수, Radicals, and 로그\n",
    "Up to this point, all of our equations have included standard arithmetic operations, such as division, multiplication, addition, and subtraction. Many real-world calculations involve exponential values in which numbers are raised by a specific power.\n",
    "\n",
    "## 지수\n",
    "A simple case of of using an exponential is squaring a number; in other words, multipying a number by itself. For example, 2 squared is 2 times 2, which is 4. This is written like this:\n",
    "\n",
    "\\begin{equation}2^{2} = 2 \\cdot 2 = 4\\end{equation}\n",
    "\n",
    "Similarly, 2 cubed is 2 times 2 times 2 (which is of course 8):\n",
    "\n",
    "\\begin{equation}2^{3} = 2 \\cdot 2 \\cdot 2 = 8\\end{equation}\n",
    "\n",
    "In Python, you use the **&ast;&ast;** operator, like this example in which **x** is assigned the value of 5 raised to the power of 3 (in other words, 5 x 5 x 5, or 5-cubed):"
   ]
  },
  {
   "cell_type": "code",
   "execution_count": null,
   "id": "4820238e",
   "metadata": {},
   "outputs": [],
   "source": [
    "x = 5**3\n",
    "x"
   ]
  },
  {
   "cell_type": "code",
   "execution_count": null,
   "id": "c1cc5823",
   "metadata": {},
   "outputs": [],
   "source": [
    "# 5의 2승부터 5의 6승까지\n",
    "[5**(i+1) for i in range(1,7)]"
   ]
  },
  {
   "cell_type": "markdown",
   "id": "62478c39",
   "metadata": {},
   "source": [
    "e, the following notation shows 4 to the power of 7 (or 4 x 4 x 4 x 4 x 4 x 4 x 4), which has the value:\n",
    "\n",
    "\\begin{equation}4^{7} = 16384 \\end{equation}\n",
    "\n",
    "In mathematical terminology, **4** is the *base*, and **7** is the *power* or *exponent* in this expression.\n",
    "\n",
    "## Radicals (Roots)\n",
    "While it's common to need to calculate the solution for a given base and exponential, sometimes you'll need to calculate one or other of the elements themselves. For example, consider the following expression:\n",
    "\n",
    "\\begin{equation}?^{2} = 9 \\end{equation}\n",
    "\n",
    "This expression is asking, given a number (9) and an exponent (2), what's the base? In other words, which number multipled by itself results in 9? This type of operation is referred to as calculating the *root*, and in this particular case it's the *square root* (the base for a specified number given the exponential **2**). In this case, the answer is 3, because 3 x 3 = 9. We show this with a **&radic;** symbol, like this:\n",
    "\n",
    "\\begin{equation}\\sqrt{9} = 3 \\end{equation}\n",
    "\n",
    "Other common roots include the *cube root* (the base for a specified number given the exponential **3**). For example, the cube root of 64 is 4 (because 4 x 4 x 4 = 64). To show that this is the cube root, we include the exponent **3** in the **&radic;** symbol, like this:\n",
    "\n",
    "\\begin{equation}\\sqrt[3]{64} = 4 \\end{equation}\n",
    "\n",
    "We can calculate any root of any non-negative number, indicating the exponent in the **&radic;** symbol.\n",
    "\n",
    "The **math** package in Python includes a **sqrt** function that calculates the square root of a number. To calculate other roots, you need to reverse the exponential calculation by raising the given number to the power of 1 divided by the given exponent:"
   ]
  },
  {
   "cell_type": "code",
   "execution_count": null,
   "id": "3ee4b994",
   "metadata": {},
   "outputs": [],
   "source": [
    "list_ = []\n",
    "def Exponentials(x, y):\n",
    "    list_.append(x**y)\n",
    "    return list_\n",
    "\n",
    "Exponentials(2,5)"
   ]
  },
  {
   "cell_type": "code",
   "execution_count": 1,
   "id": "bc763f7b",
   "metadata": {},
   "outputs": [],
   "source": [
    "import numpy as np"
   ]
  },
  {
   "cell_type": "code",
   "execution_count": 3,
   "id": "58801260",
   "metadata": {},
   "outputs": [],
   "source": [
    "# T\n",
    "def pow2(a, b):\n",
    "    mul_ = 1\n",
    "    for i in range(b):\n",
    "        mul_ *= a\n",
    "    return mul_"
   ]
  },
  {
   "cell_type": "code",
   "execution_count": null,
   "id": "5e0c9379",
   "metadata": {},
   "outputs": [],
   "source": [
    "[pow2(np.random.randint(2,5), np.random.randint(2,5)) for i in range(100)][:5]"
   ]
  },
  {
   "cell_type": "code",
   "execution_count": 10,
   "id": "3d7fc3f6",
   "metadata": {},
   "outputs": [
    {
     "name": "stdout",
     "output_type": "stream",
     "text": [
      "4 2\n"
     ]
    },
    {
     "data": {
      "text/plain": [
       "[16, 16, 16, 16, 16]"
      ]
     },
     "execution_count": 10,
     "metadata": {},
     "output_type": "execute_result"
    }
   ],
   "source": [
    "x_1 = np.random.randint(2,5)\n",
    "x_2 = np.random.randint(2,5)\n",
    "print(x_1, x_2)\n",
    "[pow2(x_1, x_2) for _ in range(100)][:5] # 반복문 돌아갈 때는 같은 거니까 같은 숫자 반복"
   ]
  },
  {
   "cell_type": "code",
   "execution_count": 14,
   "id": "06dad1bf",
   "metadata": {},
   "outputs": [
    {
     "name": "stdout",
     "output_type": "stream",
     "text": [
      "5.0 4 3.9999999999999996\n",
      "4.23\n",
      "4.7\n"
     ]
    }
   ],
   "source": [
    "import math\n",
    "x = math.sqrt(25)\n",
    "cr = round(64**(1/3))\n",
    "cr_without_round = 64**(1/3)\n",
    "print(x, cr, cr_without_round)\n",
    "print(round(4.234,2))\n",
    "print(round(4.734,1))"
   ]
  },
  {
   "cell_type": "markdown",
   "id": "232c7dd7",
   "metadata": {},
   "source": [
    "## Logarithms\n",
    "Another consideration for exponential values is the requirement occassionally to determine the exponent for a given number and base. In other words, how many times do I need to multiply a base number by itself to get the given result. This kind of calculation is known as the *logarithm*.\n",
    "\n",
    "For example, consider the following expression:\n",
    "\n",
    "\\begin{equation}4^{?} = 16 \\end{equation}\n",
    "\n",
    "In other words, to what power must you raise 4 to produce the result 16?\n",
    "\n",
    "The answer to this is 2, because 4 x 4 (or 4 to the power of 2) = 16. The notation looks like this:\n",
    "\n",
    "\\begin{equation}log_{4}(16) = 2 \\end{equation}\n",
    "\n",
    "In Python, you can calculate the logarithm of a number using the **log** function in the **math** package, indicating the number and the base:"
   ]
  },
  {
   "cell_type": "markdown",
   "id": "4098800f",
   "metadata": {},
   "source": [
    "$$ a^{x} = b \\rightarrow log_{a}{b} = x $$"
   ]
  },
  {
   "cell_type": "markdown",
   "id": "8068fb3b",
   "metadata": {},
   "source": [
    "$$ log_{n}{1} = 0 $$\n",
    "$$ n^0 = 1 $$"
   ]
  },
  {
   "cell_type": "markdown",
   "id": "388bfe09",
   "metadata": {},
   "source": [
    "The final thing you need to know about exponentials and logarithms is that there are some special logarithms:\n",
    "\n",
    "The *common* logarithm of a number is its exponential for the base **10**. You'll occassionally see this written using the usual *log* notation with the base omitted:\n",
    "\n",
    "\\begin{equation}log(1000) = 3 \\end{equation}\n",
    "\n",
    "Another special logarithm is something called the *natural log*, which is a exponential of a number for base ***e***, where ***e*** is a constant with the approximate value 2.718. This number occurs naturally in a lot of scenarios, and you'll see it often as you work with data in many analytical contexts. For the time being, just be aware that the natural log is sometimes written as ***ln***:\n",
    "\n",
    "\\begin{equation}log_{e}(64) = ln(64) = 4.1589 \\end{equation}\n",
    "\n",
    "The **math.log** function in Python returns the natural log (base ***e***) when no base is specified. Note that this can be confusing, as the mathematical notation *log* with no base usually refers to the common log (base **10**). To return the common log in Python, use the **math.log10** function:"
   ]
  },
  {
   "cell_type": "markdown",
   "id": "f18426c0",
   "metadata": {},
   "source": [
    "## 지수를 이용하여 방정식 풀기\n",
    "## Solving Equations with Exponentials\n",
    "OK, so now that you have a basic understanding of exponentials, roots, and logarithms; let's take a look at some equations that involve exponential calculations.\n",
    "\n",
    "Let's start with what might at first glance look like a complicated example, but don't worry - we'll solve it step-by-step and learn a few tricks along the way:\n",
    "\n",
    "\\begin{equation}2y = 2x^{4} ( \\frac{x^{2} + 2x^{2}}{x^{3}} ) \\end{equation}\n",
    "\n",
    "First, let's deal with the fraction on the right side. The numerator of this fraction is x<sup>2</sup> + 2x<sup>2</sup> - so we're adding two exponential terms. When the terms you're adding (or subtracting) have the same exponential, you can simply add (or subtract) the coefficients. In this case, x<sup>2</sup> is the same as 1x<sup>2</sup>, which when added to 2x<sup>2</sup> gives us the result 3x<sup>2</sup>, so our equation now looks like this: \n",
    "\n",
    "\\begin{equation}2y = 2x^{4} ( \\frac{3x^{2}}{x^{3}} ) \\end{equation}\n",
    "\n",
    "Now that we've condolidated the numerator, let's simplify the entire fraction by dividing the numerator by the denominator. When you divide exponential terms with the same variable, you simply divide the coefficients as you usually would and subtract the exponential of the denominator from the exponential of the numerator. In this case, we're dividing 3x<sup>2</sup> by 1x<sup>3</sup>: The coefficient 3 divided by 1 is 3, and the exponential 2 minus 3 is -1, so the result is 3x<sup>-1</sup>, making our equation:\n",
    "\n",
    "\\begin{equation}2y = 2x^{4} ( 3x^{-1} ) \\end{equation}\n",
    "\n",
    "So now we've got rid of the fraction on the right side, let's deal with the remaining multiplication. We need to multiply 3x<sup>-1</sup> by 2x<sup>4</sup>. Multiplication, is the opposite of division, so this time we'll multipy the coefficients and add the exponentials: 3 multiplied by 2 is 6, and -1 + 4 is 3, so the result is 6x<sup>3</sup>:\n",
    "\n",
    "\\begin{equation}2y = 6x^{3} \\end{equation}\n",
    "\n",
    "We're in the home stretch now, we just need to isolate y on the left side, and we can do that by dividing both sides by 2. Note that we're not dividing by an exponential, we simply need to divide the whole 6x<sup>3</sup> term by two; and half of 6 times x<sup>3</sup> is just 3 times x<sup>3</sup>:\n",
    "\n",
    "\\begin{equation}y = 3x^{3} \\end{equation}\n",
    "\n",
    "Now we have a solution that defines y in terms of x. We can use Python to plot the line created by this equation for a set of arbitrary *x* and *y* values:"
   ]
  },
  {
   "cell_type": "code",
   "execution_count": 24,
   "id": "225408f0",
   "metadata": {
    "scrolled": true
   },
   "outputs": [
    {
     "data": {
      "text/plain": [
       "['a', 'b', 'c', 'd']"
      ]
     },
     "execution_count": 24,
     "metadata": {},
     "output_type": "execute_result"
    }
   ],
   "source": [
    "\"a b c d\".split(\" \")"
   ]
  },
  {
   "cell_type": "code",
   "execution_count": 25,
   "id": "9d70cf76",
   "metadata": {
    "scrolled": true
   },
   "outputs": [
    {
     "data": {
      "text/plain": [
       "['a', ' b c d']"
      ]
     },
     "execution_count": 25,
     "metadata": {},
     "output_type": "execute_result"
    }
   ],
   "source": [
    "\"a: b c d\".split(\":\")"
   ]
  }
 ],
 "metadata": {
  "kernelspec": {
   "display_name": "Python 3 (ipykernel)",
   "language": "python",
   "name": "python3"
  },
  "language_info": {
   "codemirror_mode": {
    "name": "ipython",
    "version": 3
   },
   "file_extension": ".py",
   "mimetype": "text/x-python",
   "name": "python",
   "nbconvert_exporter": "python",
   "pygments_lexer": "ipython3",
   "version": "3.10.9"
  }
 },
 "nbformat": 4,
 "nbformat_minor": 5
}
