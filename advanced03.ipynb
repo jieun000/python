{
 "cells": [
  {
   "cell_type": "markdown",
   "id": "88a07568",
   "metadata": {},
   "source": [
    " #### p109 간단한 영어 단어 퀴즈 만들기"
   ]
  },
  {
   "cell_type": "code",
   "execution_count": null,
   "id": "af645b06",
   "metadata": {},
   "outputs": [],
   "source": [
    "ans1 = input(\"'사자'의 영어 단어는 무엇일까요?\")\n",
    "result = \"땡! 틀렸습니다.\"\n",
    "\n",
    "if ans1 == 'lion':\n",
    "    result = \"딩동댕~~ 참 잘 했어요~~~~\"\n",
    "result"
   ]
  },
  {
   "cell_type": "code",
   "execution_count": null,
   "id": "ed9c5b21",
   "metadata": {},
   "outputs": [],
   "source": [
    "list1 = ['lion','tiger','bear']"
   ]
  },
  {
   "cell_type": "code",
   "execution_count": null,
   "id": "4fc3bc77",
   "metadata": {
    "scrolled": true
   },
   "outputs": [],
   "source": [
    "ans1 = input(\"'사자'의 영어 단어는 무엇일까요? \")\n",
    "result = \"땡! 틀렸습니다.\"\n",
    "ans2 = input(\"'호랑이'의 영어 단어는 무엇일까요? \")\n",
    "\n",
    "if ans1 in list1 and ans2  in list1:\n",
    "    result = \"딩동댕~~ 참 잘 했어요~~~~\"\n",
    "result"
   ]
  },
  {
   "cell_type": "code",
   "execution_count": null,
   "id": "e517bb84",
   "metadata": {},
   "outputs": [],
   "source": [
    "ans1 = input(\"'사자'의 영어 단어는 무엇일까요? \")\n",
    "result = \"땡! 틀렸습니다.\"\n",
    "ans2 = input(\"'호랑이'의 영어 단어는 무엇일까요? \")\n",
    "if ans1 == list1[0]:  # 입력받은 값이 list1의 0번째 데이터(lion)과 같으면\n",
    "    result = \"사자를 맞쳤어요. \"\n",
    "else: result = \"사자를 틀렸어요. \"\n",
    "print(result)\n",
    "if ans2 == list1[1]: # 입력받은 값이 list1의 1번째 데이터(tiger)과 같으면\n",
    "    result = \"호랑이를 맞쳤어요. \"\n",
    "else: result = \"호랑이를 틀렸어요. \"\n",
    "print(result)"
   ]
  },
  {
   "cell_type": "code",
   "execution_count": null,
   "id": "6d8cb435",
   "metadata": {},
   "outputs": [],
   "source": [
    "# 질문 받으셨음\n",
    "a = 5\n",
    "if a > 3:\n",
    "    print(\"크다. \")"
   ]
  },
  {
   "cell_type": "code",
   "execution_count": null,
   "id": "99dced80",
   "metadata": {
    "scrolled": true
   },
   "outputs": [],
   "source": [
    "if a > 3:\n",
    "    a = 7\n",
    "print(a)"
   ]
  },
  {
   "cell_type": "code",
   "execution_count": null,
   "id": "2f309793",
   "metadata": {},
   "outputs": [],
   "source": [
    "korea = 50\n",
    "if korea > 50:\n",
    "    korea = 70\n",
    "else: pass  # 아무것도 안 함"
   ]
  },
  {
   "cell_type": "code",
   "execution_count": null,
   "id": "bd610174",
   "metadata": {},
   "outputs": [],
   "source": [
    "korea"
   ]
  },
  {
   "cell_type": "code",
   "execution_count": null,
   "id": "9e68f0ce",
   "metadata": {},
   "outputs": [],
   "source": [
    "# p.113 주민번호로 남여를 판별하세요\n",
    "a = input(\"주민번호를 입력하세요. \")\n",
    "a"
   ]
  },
  {
   "cell_type": "code",
   "execution_count": null,
   "id": "4cec06ee",
   "metadata": {},
   "outputs": [],
   "source": [
    "a[7]  # 확인용~"
   ]
  },
  {
   "cell_type": "code",
   "execution_count": null,
   "id": "e84966bd",
   "metadata": {},
   "outputs": [],
   "source": [
    "sex = ''\n",
    "if a[7] == '1' or a[7] == '3':\n",
    "    sex = '남자'\n",
    "elif a[7] == '2' or a[7] == '4':\n",
    "    sex = '여자'\n",
    "sex"
   ]
  },
  {
   "cell_type": "code",
   "execution_count": null,
   "id": "52d8c80c",
   "metadata": {},
   "outputs": [],
   "source": [
    "a[-6]"
   ]
  },
  {
   "cell_type": "code",
   "execution_count": null,
   "id": "f645c268",
   "metadata": {},
   "outputs": [],
   "source": [
    "sex = ''\n",
    "if a[-7] == '1' or a[-7] == '3':\n",
    "    sex = '남자'\n",
    "elif a[-7] == '2' or a[-7] == '4':\n",
    "    sex = '여자'\n",
    "sex"
   ]
  },
  {
   "cell_type": "code",
   "execution_count": null,
   "id": "13eddf55",
   "metadata": {},
   "outputs": [],
   "source": [
    "list1[-2:]"
   ]
  },
  {
   "cell_type": "markdown",
   "id": "8e7c7a0c",
   "metadata": {},
   "source": [
    "#p124 간단계산기 만들기"
   ]
  },
  {
   "cell_type": "code",
   "execution_count": null,
   "id": "d7b48124",
   "metadata": {},
   "outputs": [],
   "source": [
    "round(10.03456, 2)  # 소숫점 몇 째자리까지 출력할지 정함"
   ]
  },
  {
   "cell_type": "code",
   "execution_count": 7,
   "id": "f8cbb43c",
   "metadata": {},
   "outputs": [],
   "source": [
    "def plus(first, second):\n",
    "     return first + second"
   ]
  },
  {
   "cell_type": "code",
   "execution_count": 8,
   "id": "8a318199",
   "metadata": {},
   "outputs": [],
   "source": [
    "def minus(first, second):\n",
    "     return first - second"
   ]
  },
  {
   "cell_type": "code",
   "execution_count": 9,
   "id": "77887840",
   "metadata": {},
   "outputs": [],
   "source": [
    "def mul(first, second):\n",
    "     return first * second"
   ]
  },
  {
   "cell_type": "code",
   "execution_count": 10,
   "id": "43c7c2ff",
   "metadata": {},
   "outputs": [],
   "source": [
    "def div(first, second):\n",
    "     return round(first / second, 4) # round(숫자,4)-> 소수점 4자리까지 반올림"
   ]
  },
  {
   "cell_type": "code",
   "execution_count": 11,
   "id": "398082a5",
   "metadata": {},
   "outputs": [],
   "source": [
    "def mod(first, second):\n",
    "     return first % second"
   ]
  },
  {
   "cell_type": "code",
   "execution_count": 28,
   "id": "00eb9c43",
   "metadata": {
    "scrolled": true
   },
   "outputs": [
    {
     "name": "stdout",
     "output_type": "stream",
     "text": [
      "원하는 계산은 1) 더하기 2) 빼기 3) 곱하기 4) 나누기 5) 나머지 2\n"
     ]
    }
   ],
   "source": [
    "a = input(\"원하는 계산은 1) 더하기 2) 빼기 3) 곱하기 4) 나누기 5) 나머지 \")"
   ]
  },
  {
   "cell_type": "code",
   "execution_count": 13,
   "id": "13ac30f3",
   "metadata": {
    "scrolled": false
   },
   "outputs": [
    {
     "name": "stdout",
     "output_type": "stream",
     "text": [
      "첫번째 숫자 3\n",
      "두번째 숫자 4\n"
     ]
    }
   ],
   "source": [
    "first = int(input(\"첫번째 숫자 \"))\n",
    "second = int(input(\"두번째 숫자 \"))"
   ]
  },
  {
   "cell_type": "code",
   "execution_count": 14,
   "id": "d205a97c",
   "metadata": {},
   "outputs": [
    {
     "name": "stdout",
     "output_type": "stream",
     "text": [
      "12\n"
     ]
    }
   ],
   "source": [
    "if a == '1':\n",
    "    print(plus(first, second))\n",
    "elif a == '2':\n",
    "    print(minus(first, second))\n",
    "elif a == '3':\n",
    "    print(mul(first, second))\n",
    "elif a == '4':\n",
    "    print(div(first, second))\n",
    "else: print(mod(first, second))"
   ]
  },
  {
   "cell_type": "code",
   "execution_count": 15,
   "id": "d55a743a",
   "metadata": {},
   "outputs": [],
   "source": [
    "func_list = [plus, minus, mul, div, mod] # 함수를 리스트에 저장"
   ]
  },
  {
   "cell_type": "code",
   "execution_count": null,
   "id": "8fb9f01b",
   "metadata": {},
   "outputs": [],
   "source": [
    "func_list = "
   ]
  },
  {
   "cell_type": "code",
   "execution_count": null,
   "id": "cb16bb7c",
   "metadata": {},
   "outputs": [],
   "source": [
    "print(a)"
   ]
  },
  {
   "cell_type": "code",
   "execution_count": 29,
   "id": "8af005aa",
   "metadata": {
    "scrolled": true
   },
   "outputs": [
    {
     "name": "stdout",
     "output_type": "stream",
     "text": [
      "-1\n"
     ]
    }
   ],
   "source": [
    "# 반복문을 쓸 수 있다, 코드가 간결해진다. \n",
    "\n",
    "function_list = [plus, minus, mul, div, mod]\n",
    "if a == '1': \n",
    "    print(func_list[0](first,second))\n",
    "elif a == '2': \n",
    "    print(func_list[1](first,second))\n",
    "elif a == '3': \n",
    "    print(func_list[2](first,second))\n",
    "elif a == '4': \n",
    "    print(func_list[3](first,second))\n",
    "else: \n",
    "    print(func_list[14](first,second))"
   ]
  },
  {
   "cell_type": "code",
   "execution_count": null,
   "id": "6042b9a6",
   "metadata": {},
   "outputs": [],
   "source": [
    "# 반복문을 쓸 수 있다, 코드가 간결해진다. \n",
    "\n",
    "for i in range(1,5):\n",
    "    if a == \"\" + str(i):\n",
    "        print(\"a1:\",a)\n",
    "        print(func_list[i](first, second))\n",
    "        break\n",
    "    elif a == \"\" + str(i):\n",
    "        print(\"a2:\",a)\n",
    "        print(func_list[i](first, second))\n",
    "        break\n",
    "    elif a == \"\" + str(i):\n",
    "        print(\"a3:\",a)\n",
    "        print(func_list[i](first, second))\n",
    "        break\n",
    "    elif a == \"\" + str(i):\n",
    "        print(\"a4:\" , a)\n",
    "        print(func_list[i](first, second))\n",
    "        break\n",
    "    else:\n",
    "        print(\"a5:\" , a)\n",
    "        print(func_list[i](first, second))\n",
    "        break"
   ]
  },
  {
   "cell_type": "markdown",
   "id": "a8a5564b",
   "metadata": {},
   "source": [
    "p.127 만나이 구하기"
   ]
  },
  {
   "cell_type": "code",
   "execution_count": null,
   "id": "eeb33f1e",
   "metadata": {},
   "outputs": [],
   "source": [
    "now_year = int(input(\"현재 년은? \"))\n",
    "now_month = int(input(\"현재 월은? \"))\n",
    "now_day = int(input(\"현재 일은? \"))\n",
    "\n",
    "birth_year = int(input(\"출생년은? \"))\n",
    "birth_month = int(input(\"출생월은? \"))\n",
    "birth_day = int(input(\"출생일은? \"))"
   ]
  },
  {
   "cell_type": "code",
   "execution_count": null,
   "id": "57994f69",
   "metadata": {},
   "outputs": [],
   "source": [
    "if birth_month < now_month:  # 출생'월'이 현재'월'보다 빠른 경우\n",
    "    age = now_year - birth_year\n",
    "elif birth_month == now_month:  # 출생월이 현재월과 같은 경우\n",
    "    if birth_day < now_day:  # 출생일이 현재일보다 빠른  경우\n",
    "        age = now_year - birth_year\n",
    "    else:\n",
    "        age = now_year - birth_year - 1\n",
    "else:\n",
    "    age = now_year - birth_year - 1"
   ]
  },
  {
   "cell_type": "code",
   "execution_count": null,
   "id": "eab0e160",
   "metadata": {},
   "outputs": [],
   "source": [
    "age"
   ]
  },
  {
   "cell_type": "code",
   "execution_count": null,
   "id": "de60fa78",
   "metadata": {},
   "outputs": [],
   "source": [
    "def calc_man_age(now, birth):  # 추상화, 모듈화\n",
    "    birth_year = int(birth[:4])\n",
    "    now_year = int(now[:4])\n",
    "    birth_month = int(birth[4:6])\n",
    "    now_month = int(now[4:6])\n",
    "    birth_day = int(birth[-2:])\n",
    "    now_day = int(now[-2:])\n",
    "    \n",
    "    if birth_month < now_month:  # 출생'월'이 현재'월'보다 빠른 경우\n",
    "        age = now_year - birth_year\n",
    "    elif birth_month == now_month:  # 출생월이 현재월과 같은 경우\n",
    "        if birth_day < now_day:  # 출생일이 현재일보다 빠른  경우 (중첩된 조건문)\n",
    "            age = now_year - birth_year\n",
    "        else :\n",
    "            age = now_year - birth_year - 1\n",
    "    else:\n",
    "        age = now_year - birth_year - 1\n",
    "    return age"
   ]
  },
  {
   "cell_type": "code",
   "execution_count": null,
   "id": "30b78543",
   "metadata": {},
   "outputs": [],
   "source": [
    "calc_man_age('20230705', '20000102')"
   ]
  },
  {
   "cell_type": "code",
   "execution_count": null,
   "id": "e86e2380",
   "metadata": {},
   "outputs": [],
   "source": [
    "kor = int(input(\"국어점수 \"))\n",
    "\n",
    "if kor >= 90:  \n",
    "    if kor >= 95:\n",
    "        print(\"A+\")\n",
    "    else:\n",
    "        print(\"A0\")\n",
    "elif kor >= 80:\n",
    "    if kor >= 85:\n",
    "        print(\"B+\")\n",
    "    else:\n",
    "        print(\"B0\")\n",
    "elif kor >= 70:\n",
    "    if kor >= 75:\n",
    "        print(\"C+\")\n",
    "    else:\n",
    "        print(\"C0\")\n",
    "else :\n",
    "    print(\"낙제\")"
   ]
  },
  {
   "cell_type": "code",
   "execution_count": null,
   "id": "301fdaf9",
   "metadata": {},
   "outputs": [],
   "source": [
    "def score_calc(kor):  \n",
    "    if kor >= 90:  \n",
    "        if kor >= 95:\n",
    "            score = \"A+\"\n",
    "        else:\n",
    "            score = \"A0\"\n",
    "    elif kor >= 80:\n",
    "        if kor >= 85:\n",
    "            score = \"B+\"\n",
    "        else:\n",
    "            score = \"B0\"\n",
    "    elif kor >= 70:\n",
    "        if kor >= 75:\n",
    "            score = \"C+\"\n",
    "        else:\n",
    "            score = \"C0\"\n",
    "    else :\n",
    "        score = \"낙제\"\n",
    "    return score"
   ]
  },
  {
   "cell_type": "code",
   "execution_count": null,
   "id": "8cd26a74",
   "metadata": {
    "scrolled": true
   },
   "outputs": [],
   "source": [
    "score_calc(97)"
   ]
  },
  {
   "cell_type": "markdown",
   "id": "6cbf45a9",
   "metadata": {},
   "source": [
    "p.131 세 수 중 가장 큰 수를 찾아라"
   ]
  },
  {
   "cell_type": "code",
   "execution_count": null,
   "id": "33cfc41f",
   "metadata": {},
   "outputs": [],
   "source": [
    "num1 = int(input(\"첫번째 정수는? \"))\n",
    "num2 = int(input(\"두번째 정수는? \"))\n",
    "num3 = int(input(\"세번째 정수는? \"))"
   ]
  },
  {
   "cell_type": "code",
   "execution_count": null,
   "id": "290c1e7e",
   "metadata": {},
   "outputs": [],
   "source": [
    "largest = 0\n",
    "if num1 > num2 and num1 > num3:  # 하나가 다른 2개 보다 크면 그 하나는 가장 큰 수. \n",
    "    largest = num1\n",
    "elif num2 > num1 and num2 > num3:\n",
    "    largest = num2\n",
    "else: \n",
    "    largest = num3\n",
    "largest"
   ]
  },
  {
   "cell_type": "markdown",
   "id": "1af014df",
   "metadata": {},
   "source": [
    "두 개의 데이터를 서로 맞교환하고 싶다. <br>\n",
    "사이다 잔, 콜라잔에 있는 내용물을 서로 맞바꾸고 싶다. <br>\n",
    "빈잔이 하나 필요하다. <br>\n",
    "빈잔에 사이다 잔의 내용물을 저장하고 <br>\n",
    "비었는 사이다 잔에 콜라잔의 있는 내용물을 비운다.  <br>\n",
    "콜라잔에 비어있으니 원래 빈잔에는 사이다의 내용물이 있으니 그것을 비운다. "
   ]
  },
  {
   "cell_type": "code",
   "execution_count": null,
   "id": "558fc0bd",
   "metadata": {
    "scrolled": true
   },
   "outputs": [],
   "source": [
    "cidar = 10\n",
    "colar = 20\n",
    "empty = 0\n",
    "print(cidar, colar)\n",
    "empty = cidar\n",
    "cidar = colar\n",
    "colar = empty\n",
    "print(cidar, colar)"
   ]
  },
  {
   "cell_type": "markdown",
   "id": "140e86d7",
   "metadata": {},
   "source": [
    "카드 섞기"
   ]
  },
  {
   "cell_type": "code",
   "execution_count": 1,
   "id": "1d27fb73",
   "metadata": {},
   "outputs": [
    {
     "data": {
      "text/plain": [
       "[1,\n",
       " 2,\n",
       " 3,\n",
       " 4,\n",
       " 5,\n",
       " 6,\n",
       " 7,\n",
       " 8,\n",
       " 9,\n",
       " 10,\n",
       " 11,\n",
       " 12,\n",
       " 13,\n",
       " 14,\n",
       " 15,\n",
       " 16,\n",
       " 17,\n",
       " 18,\n",
       " 19,\n",
       " 20,\n",
       " 21,\n",
       " 22,\n",
       " 23,\n",
       " 24,\n",
       " 25,\n",
       " 26,\n",
       " 27,\n",
       " 28,\n",
       " 29,\n",
       " 30,\n",
       " 31,\n",
       " 32,\n",
       " 33,\n",
       " 34,\n",
       " 35,\n",
       " 36,\n",
       " 37,\n",
       " 38,\n",
       " 39,\n",
       " 40,\n",
       " 41,\n",
       " 42,\n",
       " 43,\n",
       " 44,\n",
       " 45,\n",
       " 46,\n",
       " 47,\n",
       " 48]"
      ]
     },
     "execution_count": 1,
     "metadata": {},
     "output_type": "execute_result"
    }
   ],
   "source": [
    "card1 = []\n",
    "for i in range(1,49):\n",
    "    card1.append(i)\n",
    "card1"
   ]
  },
  {
   "cell_type": "code",
   "execution_count": 2,
   "id": "17d7d5c4",
   "metadata": {},
   "outputs": [],
   "source": [
    "import random"
   ]
  },
  {
   "cell_type": "code",
   "execution_count": 6,
   "id": "ecdeb586",
   "metadata": {},
   "outputs": [
    {
     "name": "stdout",
     "output_type": "stream",
     "text": [
      "1 [28, 19, 3, 4, 27, 6, 7, 15, 29, 23, 32, 31, 9, 46, 34, 10, 17, 18, 40, 20, 1, 22, 21, 24, 25, 26, 13, 2, 35, 30, 47, 14, 33, 36, 12, 11, 8, 38, 44, 5, 41, 42, 37, 39, 43, 45, 16, 48]\n"
     ]
    }
   ],
   "source": [
    "empty = 0 \n",
    "for i in range(0, 47):\n",
    "    randldx = random.randint(0,47)\n",
    "# print(randldx)\n",
    "# print(card1[0])\n",
    "    empty = card1[0]\n",
    "    card1[0] = card1[randldx]\n",
    "    card1[randldx] = empty\n",
    "print(empty, card1)"
   ]
  },
  {
   "cell_type": "code",
   "execution_count": null,
   "id": "28d33a8d",
   "metadata": {},
   "outputs": [],
   "source": []
  },
  {
   "cell_type": "code",
   "execution_count": null,
   "id": "21707d1e",
   "metadata": {},
   "outputs": [],
   "source": [
    "card2 = []"
   ]
  },
  {
   "cell_type": "code",
   "execution_count": null,
   "id": "f447793d",
   "metadata": {},
   "outputs": [],
   "source": [
    "card2.append(7)\n",
    "card2"
   ]
  },
  {
   "cell_type": "code",
   "execution_count": null,
   "id": "a6de83c6",
   "metadata": {},
   "outputs": [],
   "source": [
    "card2.append(17)\n",
    "card2"
   ]
  },
  {
   "cell_type": "code",
   "execution_count": null,
   "id": "7486c31f",
   "metadata": {},
   "outputs": [],
   "source": [
    "card2.append(37)\n",
    "card2"
   ]
  },
  {
   "cell_type": "code",
   "execution_count": null,
   "id": "7351bcc4",
   "metadata": {},
   "outputs": [],
   "source": [
    "for i in [1,2,3,4,5,6]:\n",
    "    card2.append(i)\n",
    "card2"
   ]
  },
  {
   "cell_type": "code",
   "execution_count": null,
   "id": "9b163e79",
   "metadata": {},
   "outputs": [],
   "source": [
    "aaa = [1,2,3]\n",
    "aaa[0]"
   ]
  }
 ],
 "metadata": {
  "kernelspec": {
   "display_name": "Python 3 (ipykernel)",
   "language": "python",
   "name": "python3"
  },
  "language_info": {
   "codemirror_mode": {
    "name": "ipython",
    "version": 3
   },
   "file_extension": ".py",
   "mimetype": "text/x-python",
   "name": "python",
   "nbconvert_exporter": "python",
   "pygments_lexer": "ipython3",
   "version": "3.10.9"
  }
 },
 "nbformat": 4,
 "nbformat_minor": 5
}
