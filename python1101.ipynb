{
 "cells": [
  {
   "cell_type": "code",
   "execution_count": 123,
   "id": "5e01929f",
   "metadata": {},
   "outputs": [
    {
     "data": {
      "text/plain": [
       "180.0"
      ]
     },
     "execution_count": 123,
     "metadata": {},
     "output_type": "execute_result"
    }
   ],
   "source": [
    "import numpy as np\n",
    "np.rad2deg(np.pi)"
   ]
  },
  {
   "cell_type": "code",
   "execution_count": 132,
   "id": "0a2e020d",
   "metadata": {},
   "outputs": [],
   "source": [
    "d90 = np.deg2rad(90)"
   ]
  },
  {
   "cell_type": "code",
   "execution_count": 135,
   "id": "a00cf277",
   "metadata": {},
   "outputs": [
    {
     "data": {
      "text/plain": [
       "array([[ 6.123234e-17, -1.000000e+00],\n",
       "       [ 1.000000e+00,  6.123234e-17]])"
      ]
     },
     "execution_count": 135,
     "metadata": {},
     "output_type": "execute_result"
    }
   ],
   "source": [
    "rotate_matrix90d = np.array([[np.cos(d90), -np.sin(d90)], [np.sin(d90), np.cos(d90)]])\n",
    "rotate_matrix90d"
   ]
  },
  {
   "cell_type": "code",
   "execution_count": 136,
   "id": "e8dc918b",
   "metadata": {},
   "outputs": [
    {
     "data": {
      "text/plain": [
       "array([-3.,  4.])"
      ]
     },
     "execution_count": 136,
     "metadata": {},
     "output_type": "execute_result"
    }
   ],
   "source": [
    "np.dot(rotate_matrix90d, np.array([4,3]))"
   ]
  },
  {
   "cell_type": "code",
   "execution_count": 148,
   "id": "f327d2c9",
   "metadata": {},
   "outputs": [
    {
     "data": {
      "image/png": "[encoded data removed]",
      "text/plain": [
       "<Figure size 640x480 with 1 Axes>"
      ]
     },
     "metadata": {},
     "output_type": "display_data"
    }
   ],
   "source": [
    "import matplotlib.pyplot as plt\n",
    "\n",
    "# 2차원 벡터를 정의합니다.\n",
    "vector = [4, 3]\n",
    "\n",
    "# 원점에서 벡터의 끝점까지 화살표를 그립니다.\n",
    "plt.quiver(0, 0, vector_org[0], vector_org[1], angles='xy', scale_units='xy', scale=1)\n",
    "# 원점에서 벡터의 끝점까지 화살표를 그립니다.\n",
    "plt.quiver(0, 0, rotate_vector[0], rotate_vector[1], angles='xy', scale_units='xy', scale=1)\n",
    "\n",
    "# x, y 축 범위를 설정합니다.\n",
    "plt.xlim(-4, 10)\n",
    "plt.ylim(0, 10)\n",
    "\n",
    "# x, y 축 레이블을 설정합니다.\n",
    "plt.xlabel('X-Axis')\n",
    "plt.ylabel('Y-Axis')\n",
    "\n",
    "# 그리드를 표시합니다.\n",
    "plt.grid()\n",
    "\n",
    "# 그래프를 보여줍니다.\n",
    "plt.show()"
   ]
  },
  {
   "cell_type": "code",
   "execution_count": 142,
   "id": "d739221a",
   "metadata": {},
   "outputs": [],
   "source": [
    "def rotate_mat(x):\n",
    "    rotate_matrix90d = np.array([[np.cos(d90), -np.sin(d90)], [np.sin(d90), np.cos(d90)]])\n",
    "    return np.dot(rotate_matrix90d, x)"
   ]
  },
  {
   "cell_type": "code",
   "execution_count": 145,
   "id": "a1ade846",
   "metadata": {},
   "outputs": [
    {
     "data": {
      "text/plain": [
       "array([-3.,  4.])"
      ]
     },
     "execution_count": 145,
     "metadata": {},
     "output_type": "execute_result"
    }
   ],
   "source": [
    "vector_org = [4, 3]\n",
    "rotate_vector = rotate_mat(vector_org)\n",
    "rotate_vector"
   ]
  },
  {
   "cell_type": "markdown",
   "id": "96f18818",
   "metadata": {},
   "source": [
    "$$ 회전행렬 = \\begin{pmatrix}\n",
    "cos \\theta & -sin \\theta  \\\\\n",
    "sin \\theta & cos \\theta \n",
    "\\end{pmatrix} $$"
   ]
  },
  {
   "cell_type": "code",
   "execution_count": 149,
   "id": "ca5308ec",
   "metadata": {
    "scrolled": false
   },
   "outputs": [
    {
     "data": {
      "text/plain": [
       "3.0"
      ]
     },
     "execution_count": 149,
     "metadata": {},
     "output_type": "execute_result"
    }
   ],
   "source": [
    "vector_org = np.array([4, 3]) # x축으로 4만큼 y축으로 3만큼 이동한 화살표의 끝점\n",
    "sum_ = 0\n",
    "for i in vector_org:\n",
    "    sum_ = i * i\n",
    "np.sqrt(sum_)"
   ]
  },
  {
   "cell_type": "code",
   "execution_count": 157,
   "id": "8fcc1e8c",
   "metadata": {},
   "outputs": [
    {
     "data": {
      "text/plain": [
       "(2, 1, 1)"
      ]
     },
     "execution_count": 157,
     "metadata": {},
     "output_type": "execute_result"
    }
   ],
   "source": [
    "x_ = np.array([[1, 2]]).T\n",
    "x_.shape"
   ]
  },
  {
   "cell_type": "code",
   "execution_count": 162,
   "id": "70c54e13",
   "metadata": {},
   "outputs": [
    {
     "name": "stdout",
     "output_type": "stream",
     "text": [
      "(2, 3)\n",
      "(1, 3)\n"
     ]
    },
    {
     "data": {
      "text/plain": [
       "array([[14],\n",
       "       [20]])"
      ]
     },
     "execution_count": 162,
     "metadata": {},
     "output_type": "execute_result"
    }
   ],
   "source": [
    "a = np.array([[1,2,3],[1,2,3]])\n",
    "b = np.array([[10, 20, 30]])\n",
    "print(a.shape)\n",
    "print(b.shape)\n",
    "np.dot(A, B.T)"
   ]
  },
  {
   "cell_type": "code",
   "execution_count": 176,
   "id": "ef6053a7",
   "metadata": {},
   "outputs": [
    {
     "name": "stdout",
     "output_type": "stream",
     "text": [
      "[[ 3 10 -1 17]\n",
      " [ 4 14 -2 22]\n",
      " [ 7 24 -3 39]]\n"
     ]
    }
   ],
   "source": [
    "print(np.dot(A, B))"
   ]
  },
  {
   "cell_type": "markdown",
   "id": "89b23944",
   "metadata": {},
   "source": [
    "$$ \n",
    "\\begin{bmatrix}1 & 2 \\\\ 1 & 3 \\\\ 2 & 5 \\end{bmatrix} \n",
    "\\begin{bmatrix}1 & 2 & 1 & 7 \\\\ 1 & 4 & -1 & 5 \\end{bmatrix} \n",
    "$$\n",
    "$$ 1*1+2*1,\\ 1*2+2*4,\\ 1*1+2*(-1),\\ 1*7+2*5 $$\n",
    "$$ 1*1+1*3,\\ 1*2+3*4,\\ 1*1+3*(-1),\\ 1*7+3*5 $$\n",
    "$$ 2*1+5*1,\\ 2*2+5*4,\\ 2*1+5*(-1),\\ 2*7+5*5 $$"
   ]
  },
  {
   "cell_type": "code",
   "execution_count": 213,
   "id": "e3fb73e1",
   "metadata": {},
   "outputs": [
    {
     "data": {
      "text/plain": [
       "[(1, 1), (2, 4), (1, -1), (7, 5)]"
      ]
     },
     "execution_count": 213,
     "metadata": {},
     "output_type": "execute_result"
    }
   ],
   "source": [
    "A = np.array([[1,2],[1,3],[2,5]])\n",
    "B = np.array([[1,2,1,7],[1,4,-1,5]])\n",
    "# print(np.dot(A, B))\n",
    "# np.dot을 안 쓰고 계산 해보기. \n",
    "transposed_B = list(zip(*B)) # 풀어헤친 후 zip으로 묶음\n",
    "transposed_B"
   ]
  },
  {
   "cell_type": "code",
   "execution_count": 210,
   "id": "706ed008",
   "metadata": {},
   "outputs": [
    {
     "data": {
      "text/plain": [
       "[[3, 10, -1, 17], [4, 14, -2, 22], [7, 24, -3, 39]]"
      ]
     },
     "execution_count": 210,
     "metadata": {},
     "output_type": "execute_result"
    }
   ],
   "source": [
    "outer_list = []\n",
    "for i in A:\n",
    "    inner_list = []\n",
    "    for j in transposed_B:\n",
    "        sum_ = 0\n",
    "        for i_1, j_1 in zip(i, j): # [1,2]*(1, 1), [1,3],(2,4)\n",
    "            sum_ += i_1 * j_1\n",
    "        inner_list.append(sum_)\n",
    "    outer_list.append(inner_list)\n",
    "outer_list"
   ]
  },
  {
   "cell_type": "code",
   "execution_count": 216,
   "id": "cd13c10c",
   "metadata": {},
   "outputs": [
    {
     "name": "stdout",
     "output_type": "stream",
     "text": [
      "C: 3\n",
      "C: 10\n",
      "C: -1\n",
      "C: 17\n",
      "==========\n",
      "C: 4\n",
      "C: 14\n",
      "C: -2\n",
      "C: 22\n",
      "==========\n",
      "C: 7\n",
      "C: 24\n",
      "C: -3\n",
      "C: 39\n",
      "==========\n"
     ]
    },
    {
     "data": {
      "text/plain": [
       "[[7, 24, -3, 39], [7, 24, -3, 39], [7, 24, -3, 39]]"
      ]
     },
     "execution_count": 216,
     "metadata": {},
     "output_type": "execute_result"
    }
   ],
   "source": [
    "A = [[1,2],[1,3],[2,5]]\n",
    "B = [[1,2,1,7],[1,4,-1,5]]\n",
    "C = [[0,0,0,0]] * 3\n",
    "for i in range(3):\n",
    "    for j in range(4):\n",
    "        C[i][j] = 0\n",
    "        for k in range(len(B)):\n",
    "            C[i][j] += A[i][k] * B[k][j]\n",
    "        print('C:', C[i][j])\n",
    "    print('==========')\n",
    "C"
   ]
  },
  {
   "cell_type": "code",
   "execution_count": null,
   "id": "9b4d5fab",
   "metadata": {},
   "outputs": [],
   "source": []
  }
 ],
 "metadata": {
  "kernelspec": {
   "display_name": "Python 3 (ipykernel)",
   "language": "python",
   "name": "python3"
  },
  "language_info": {
   "codemirror_mode": {
    "name": "ipython",
    "version": 3
   },
   "file_extension": ".py",
   "mimetype": "text/x-python",
   "name": "python",
   "nbconvert_exporter": "python",
   "pygments_lexer": "ipython3",
   "version": "3.10.9"
  }
 },
 "nbformat": 4,
 "nbformat_minor": 5
}
