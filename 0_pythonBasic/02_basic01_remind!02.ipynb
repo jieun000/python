{
 "cells": [
  {
   "cell_type": "code",
   "execution_count": null,
   "id": "7fd43312",
   "metadata": {},
   "outputs": [],
   "source": [
    "list2 = [3,4,5,6]\n",
    "list2.append(7)\n",
    "list2"
   ]
  },
  {
   "cell_type": "code",
   "execution_count": null,
   "id": "63a5ab76",
   "metadata": {},
   "outputs": [],
   "source": [
    "list4 = []  \n",
    "# 문제21) [ {\"a\":30}, {\"a\":40}, {\"a\":50}, {\"a\":60}, {\"a\":70} ]\n",
    "# list2의 데이터를 이용하여 append와 for in 구문"
   ]
  },
  {
   "cell_type": "code",
   "execution_count": null,
   "id": "358f9e36",
   "metadata": {},
   "outputs": [],
   "source": [
    "# 답21)\n",
    "for i in list2:\n",
    "    list4.append({\"a\": i * 10})\n",
    "list4"
   ]
  },
  {
   "cell_type": "markdown",
   "id": "18a3e415",
   "metadata": {},
   "source": [
    "===오후 문제==="
   ]
  },
  {
   "cell_type": "code",
   "execution_count": null,
   "id": "e81d7c94",
   "metadata": {
    "scrolled": false
   },
   "outputs": [],
   "source": [
    "# 문제1) 반복문을 이용해서 list4의 dictionary \n",
    "#        각각의 key a에 대응되는 값들의 총합을 구하고 \n",
    "#        새로운 dictionary에 key(sum2):에 대응되는 총합을 \n",
    "#        value로 가지는 dictinary 생성\n",
    "\n",
    "# 답1)\n",
    "new_dict = {\"sum2\":0}\n",
    "for i in list4:\n",
    "    new_dict['sum2'] += i['a']\n",
    "new_dict"
   ]
  },
  {
   "cell_type": "code",
   "execution_count": null,
   "id": "cc344168",
   "metadata": {},
   "outputs": [],
   "source": [
    "# 답 1_2) 위의 답1을 좀 더 나눠서 풀어주신 것\n",
    "new_dict = {}\n",
    "total7 = 0\n",
    "for i in list4:\n",
    "    total7 += i['a']\n",
    "new_dict['sum2'] = total7\n",
    "new_dict"
   ]
  },
  {
   "cell_type": "code",
   "execution_count": null,
   "id": "544d4ecb",
   "metadata": {},
   "outputs": [],
   "source": [
    "dict10 = [\n",
    "    {\"age\":20, \"name\":\"홍길동\"},\n",
    "    {\"age\":27, \"name\":\"홍말자\"},\n",
    "    {\"age\":8, \"name\":\"김개똥\"},\n",
    "    {\"age\":13, \"name\":\"홍아빠\"},\n",
    "    {\"age\":25, \"name\":\"홍엄마\"}\n",
    "]\n",
    "# 문제2) age의 총합을 구하고, name의 문자열을 결합하여\n",
    "#       하나의 dictionary를 생성하여 \n",
    "# {age:total값, merge:결합한 문자열, merge_cnt: 결합한 문자열의 길이}"
   ]
  },
  {
   "cell_type": "code",
   "execution_count": null,
   "id": "b00cd7fb",
   "metadata": {},
   "outputs": [],
   "source": [
    "# 답2)\n",
    "new_dict = {'age':0, 'merge':'', 'merge_cnt':0}\n",
    "for i in dict10:\n",
    "    new_dict['age'] += i['age']\n",
    "    new_dict['merge'] += i['name']\n",
    "    new_dict['merge_cnt'] = len(new_dict['merge'])\n",
    "new_dict"
   ]
  },
  {
   "cell_type": "code",
   "execution_count": null,
   "id": "28c71c22",
   "metadata": {
    "scrolled": false
   },
   "outputs": [],
   "source": [
    "# 답2) 나눠서1\n",
    "tt = 0\n",
    "mm = \"\"\n",
    "for r in dict10:\n",
    "    tt += r['age']\n",
    "    mm += r['name']\n",
    "print(tt, mm, len(mm))"
   ]
  },
  {
   "cell_type": "code",
   "execution_count": null,
   "id": "b3c341a0",
   "metadata": {
    "scrolled": true
   },
   "outputs": [],
   "source": [
    "# 답2) 나눠서2\n",
    "tt = 0\n",
    "mm = \"\"\n",
    "dict11 = {}\n",
    "for r in dict10:\n",
    "    tt += r['age']\n",
    "    mm += r['name']\n",
    "dict11['age'] = tt\n",
    "dict11['merge'] = mm\n",
    "dict11['merge_cnt'] = len(mm)\n",
    "dict11"
   ]
  },
  {
   "cell_type": "code",
   "execution_count": null,
   "id": "f68f5bf1",
   "metadata": {},
   "outputs": [],
   "source": [
    "dict12 = {'a':[1,2,3,4,5], 'b':[11,23,24,16], 'c':[11,34,12]}\n",
    "for i in dict12:\n",
    "    print(i)\n",
    "# 문제3) 각 key의 value값들 총합 {a: 15, b: 74, c: 57}"
   ]
  },
  {
   "cell_type": "code",
   "execution_count": null,
   "id": "0b8aec0b",
   "metadata": {},
   "outputs": [],
   "source": [
    "sum(dict12['a'])  # 이런 함수가 있지만 지금은 논외."
   ]
  },
  {
   "cell_type": "code",
   "execution_count": null,
   "id": "ae760138",
   "metadata": {},
   "outputs": [],
   "source": [
    "# 참고\n",
    "for i in dict12:\n",
    "    for j in dict12[i]:\n",
    "        print(j)\n",
    "    print(\"=======\")"
   ]
  },
  {
   "cell_type": "code",
   "execution_count": null,
   "id": "e308023d",
   "metadata": {
    "scrolled": true
   },
   "outputs": [],
   "source": [
    "result_dict = {'a':0, 'b':0, 'c':0}\n",
    "for i in dict12:  # i =>a=>b=>c\n",
    "    for j in dict12[i]:  # dict12['a'] => dict12['b'] => dict12['c']\n",
    "        result_dict[i] += j\n",
    "result_dict"
   ]
  },
  {
   "cell_type": "code",
   "execution_count": null,
   "id": "31a98b71",
   "metadata": {
    "scrolled": false
   },
   "outputs": [],
   "source": [
    "# 이중 for문 설명\n",
    "result_dict = {'a':0, 'b':0, 'c':0}\n",
    "for i in dict12:  # i =>a=>b=>c\n",
    "    for j in dict12[i]:  # dict12['a'] => dict12['b'] => dict12['c']\n",
    "        result_dict[i] += j\n",
    "        print(\"i=>\",i,\",dict12[i]=>\", dict12[i],\",j=>\",j) \n",
    "result_dict"
   ]
  },
  {
   "cell_type": "code",
   "execution_count": null,
   "id": "2fa2dcb2",
   "metadata": {},
   "outputs": [],
   "source": []
  },
  {
   "cell_type": "code",
   "execution_count": null,
   "id": "9a7d8ac2",
   "metadata": {},
   "outputs": [],
   "source": [
    "list_of_dict = [\n",
    "    {'a':[1,2,3,4], 'b':[\"홍1\",\"길1\",\"동1\"]},\n",
    "    {'a':[11,21,31,41], 'b':[\"홍2\",\"길2\",\"동2\"]},\n",
    "    {'a':[51,52,53,54], 'b':[\"홍3\",\"길3\",\"동3\"]},\n",
    "    {'a':[61,62,63,64], 'b':[\"홍4\",\"길4\",\"동4\"]},\n",
    "]"
   ]
  },
  {
   "cell_type": "code",
   "execution_count": null,
   "id": "dc73530b",
   "metadata": {},
   "outputs": [],
   "source": [
    "# 참고\n",
    "for i in list_of_dict:\n",
    "    print(i['a'])"
   ]
  },
  {
   "cell_type": "code",
   "execution_count": null,
   "id": "e109d1ec",
   "metadata": {},
   "outputs": [],
   "source": [
    "# 문제3) {'sum2':1+11+51+61}\n",
    "# 문제4) b의 홍1, 홍2, 홍3, 홍4의 1+2+3+4\n",
    "# 힌트\n",
    "\"홍1\"[-1]"
   ]
  },
  {
   "cell_type": "code",
   "execution_count": null,
   "id": "124f6e02",
   "metadata": {
    "scrolled": false
   },
   "outputs": [],
   "source": [
    "# 답 3&4)\n",
    "a = {'sum2':0, '홍tt':0}\n",
    "for i in list_of_dict:\n",
    "    a['sum2'] += i['a'][0]\n",
    "    a['홍tt'] += int(i['b'][0][-1])\n",
    "a"
   ]
  },
  {
   "cell_type": "code",
   "execution_count": null,
   "id": "46eab522",
   "metadata": {
    "scrolled": true
   },
   "outputs": [],
   "source": [
    "# 선생님 답 3번\n",
    "sum_a = {}\n",
    "sum_tt = 0\n",
    "for i in list_of_dict:\n",
    "    sum_tt += i['a'][0]\n",
    "    sum_a['sum2'] = sum_tt\n",
    "sum_a"
   ]
  },
  {
   "cell_type": "code",
   "execution_count": null,
   "id": "1ce0458f",
   "metadata": {},
   "outputs": [],
   "source": [
    "# 선생님 답 4번\n",
    "sum_tt = 0\n",
    "for i in list_of_dict:\n",
    "     sum_tt += int(i['b'][0][-1])\n",
    "sum_a['홍tt'] = sum_tt\n",
    "sum_a"
   ]
  },
  {
   "cell_type": "code",
   "execution_count": 1,
   "id": "99e96ef8",
   "metadata": {},
   "outputs": [],
   "source": [
    "list_of_dict2 = [\n",
    "    {\"홍\":[1,2,3,4],\"말\":[\"a\",\"b\"], \"자\":[\"1\",\"2\",\"4\"]},\n",
    "    {\"홍\":[11,32,43,64],\"말\":[\"c\",\"d\"], \"자\":[\"5\",\"8\",\"11\"]},\n",
    "    {\"홍\":[21,52,73,74],\"말\":[\"ff\",\"tt\",\"qq\"], \"자\":[\"11\",\"23\",\"45\",\"23\"]}\n",
    "]\n",
    "# 문제5) dictionary 생성\n",
    "# 홍(sum5:key)의 2+32+52(value)\n",
    "# 말(merge:key)의 문자열 결합한 길이의 2배\n",
    "# 자(\"퇴근\":key)의 문자열을 숫자로 변환하고 각각의 2배의 총합(1+2+4+5+8+11+11+23+45+23)"
   ]
  },
  {
   "cell_type": "code",
   "execution_count": 11,
   "id": "84e54e5a",
   "metadata": {},
   "outputs": [
    {
     "name": "stdout",
     "output_type": "stream",
     "text": [
      "1\n",
      "2\n",
      "4\n",
      "5\n",
      "8\n",
      "11\n",
      "11\n",
      "23\n",
      "45\n",
      "23\n"
     ]
    }
   ],
   "source": [
    "# 참고\n",
    "for i in list_of_dict2:\n",
    "    for j in i['자']:\n",
    "        print(j)"
   ]
  },
  {
   "cell_type": "code",
   "execution_count": 10,
   "id": "5c774474",
   "metadata": {},
   "outputs": [
    {
     "data": {
      "text/plain": [
       "{'sum5': 86, 'merge': 20, '퇴근': 266}"
      ]
     },
     "execution_count": 10,
     "metadata": {},
     "output_type": "execute_result"
    }
   ],
   "source": [
    "# 답5)\n",
    "new_dic = {'sum5':0, 'merge':0, '퇴근':0}\n",
    "\n",
    "for i in list_of_dict2:\n",
    "    new_dic['sum5'] += i[\"홍\"][1]\n",
    "    for j in i['말']:\n",
    "        new_dic['merge'] += len(j)*2\n",
    "    for j in i['자']:\n",
    "        new_dic['퇴근'] += int(j)*2\n",
    "new_dic    "
   ]
  },
  {
   "cell_type": "code",
   "execution_count": 7,
   "id": "1a6386cd",
   "metadata": {
    "scrolled": false
   },
   "outputs": [
    {
     "data": {
      "text/plain": [
       "{'sum5': 86, 'merge': 20, '퇴근': 266}"
      ]
     },
     "execution_count": 7,
     "metadata": {},
     "output_type": "execute_result"
    }
   ],
   "source": [
    "# 선생님 답5)\n",
    "total_hong = 0\n",
    "total_ja = 0\n",
    "merge_mal = \"\"\n",
    "final_dict = {}\n",
    "for i in list_of_dict2:\n",
    "    total_hong += i[\"홍\"][1]\n",
    "    for j in i['말']:\n",
    "        merge_mal += j\n",
    "    for k in i['자']:\n",
    "        total_ja += int(k)*2\n",
    "final_dict['sum5'] = total_hong\n",
    "final_dict['merge'] = len(merge_mal)*2\n",
    "final_dict['퇴근'] = total_ja\n",
    "\n",
    "final_dict"
   ]
  }
 ],
 "metadata": {
  "kernelspec": {
   "display_name": "Python 3 (ipykernel)",
   "language": "python",
   "name": "python3"
  },
  "language_info": {
   "codemirror_mode": {
    "name": "ipython",
    "version": 3
   },
   "file_extension": ".py",
   "mimetype": "text/x-python",
   "name": "python",
   "nbconvert_exporter": "python",
   "pygments_lexer": "ipython3",
   "version": "3.10.9"
  }
 },
 "nbformat": 4,
 "nbformat_minor": 5
}
