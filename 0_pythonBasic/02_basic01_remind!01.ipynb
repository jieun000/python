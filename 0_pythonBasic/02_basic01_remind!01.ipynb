{
 "cells": [
  {
   "cell_type": "markdown",
   "id": "d630fa13",
   "metadata": {},
   "source": [
    "변수 (상자/메모리)에 임시 저장 <br>\n",
    "파이썬에서는 변수의 자료형(type:int, float, 문자열, boolean(True, False)이 없다. <br>\n",
    "상자를 만든다. "
   ]
  },
  {
   "cell_type": "code",
   "execution_count": 1,
   "id": "055d9925",
   "metadata": {},
   "outputs": [
    {
     "data": {
      "text/plain": [
       "str"
      ]
     },
     "execution_count": 1,
     "metadata": {},
     "output_type": "execute_result"
    }
   ],
   "source": [
    "a = \"\"\n",
    "a = a + \"사랑\"\n",
    "type(a)"
   ]
  },
  {
   "cell_type": "code",
   "execution_count": 2,
   "id": "37439bdf",
   "metadata": {},
   "outputs": [
    {
     "data": {
      "text/plain": [
       "7"
      ]
     },
     "execution_count": 2,
     "metadata": {},
     "output_type": "execute_result"
    }
   ],
   "source": [
    "a = 7\n",
    "a"
   ]
  },
  {
   "cell_type": "code",
   "execution_count": 3,
   "id": "59a93959",
   "metadata": {},
   "outputs": [
    {
     "data": {
      "text/plain": [
       "int"
      ]
     },
     "execution_count": 3,
     "metadata": {},
     "output_type": "execute_result"
    }
   ],
   "source": [
    "type(a)"
   ]
  },
  {
   "cell_type": "code",
   "execution_count": 4,
   "id": "4935bdaa",
   "metadata": {
    "scrolled": true
   },
   "outputs": [
    {
     "name": "stdout",
     "output_type": "stream",
     "text": [
      "4\n",
      "<class 'int'>\n"
     ]
    }
   ],
   "source": [
    "print(4)  # 여러 개 프린트 하려면 print()해야함\n",
    "print(type(a))"
   ]
  },
  {
   "cell_type": "code",
   "execution_count": 5,
   "id": "e4856a3b",
   "metadata": {
    "scrolled": true
   },
   "outputs": [
    {
     "ename": "TypeError",
     "evalue": "unsupported operand type(s) for +: 'int' and 'str'",
     "output_type": "error",
     "traceback": [
      "\u001b[1;31m---------------------------------------------------------------------------\u001b[0m",
      "\u001b[1;31mTypeError\u001b[0m                                 Traceback (most recent call last)",
      "Cell \u001b[1;32mIn[5], line 2\u001b[0m\n\u001b[0;32m      1\u001b[0m \u001b[38;5;66;03m# 문제1) 오류를 해결하시오. \u001b[39;00m\n\u001b[1;32m----> 2\u001b[0m b \u001b[38;5;241m=\u001b[39m \u001b[38;5;241m3\u001b[39m \u001b[38;5;241m+\u001b[39m \u001b[38;5;124m\"\u001b[39m\u001b[38;5;124m믿음\u001b[39m\u001b[38;5;124m\"\u001b[39m\n",
      "\u001b[1;31mTypeError\u001b[0m: unsupported operand type(s) for +: 'int' and 'str'"
     ]
    }
   ],
   "source": [
    "# 문제1) 오류를 해결하시오. \n",
    "b = 3 + \"믿음\""
   ]
  },
  {
   "cell_type": "code",
   "execution_count": null,
   "id": "467ffa7f",
   "metadata": {
    "scrolled": false
   },
   "outputs": [],
   "source": [
    "# 답1) \n",
    "b = str(3) + \"믿음\"\n",
    "b"
   ]
  },
  {
   "cell_type": "code",
   "execution_count": null,
   "id": "b5d9550b",
   "metadata": {
    "scrolled": true
   },
   "outputs": [],
   "source": [
    "def print1():\n",
    "    print(\"사랑\")\n",
    "type(print1)"
   ]
  },
  {
   "cell_type": "code",
   "execution_count": null,
   "id": "1c438a7e",
   "metadata": {},
   "outputs": [],
   "source": [
    "def print1():\n",
    "    print(\"사랑\")\n",
    "#    return 7\n",
    "type(print1())"
   ]
  },
  {
   "cell_type": "code",
   "execution_count": null,
   "id": "dd81aeb3",
   "metadata": {
    "scrolled": false
   },
   "outputs": [],
   "source": [
    "# 문제2) 오류를 해결하시오. 실행하면 10이 나와야 함. \n",
    "\"3\" + 7"
   ]
  },
  {
   "cell_type": "code",
   "execution_count": null,
   "id": "d2583876",
   "metadata": {
    "scrolled": true
   },
   "outputs": [],
   "source": [
    "# 답2)\n",
    "int(\"3\") + 7"
   ]
  },
  {
   "cell_type": "code",
   "execution_count": null,
   "id": "901a9a82",
   "metadata": {},
   "outputs": [],
   "source": [
    "# 문제3) 오류를 해결하시오. \n",
    "a = input(\"숫자를 입력하세요.\")\n",
    "c = a + 7"
   ]
  },
  {
   "cell_type": "code",
   "execution_count": null,
   "id": "40aa3ea7",
   "metadata": {},
   "outputs": [],
   "source": [
    "# 답3) \n",
    "a = int(input(\"숫자를 입력하세요.\"))  # type(input())은 문자열(str)\n",
    "c = a + 7"
   ]
  },
  {
   "cell_type": "code",
   "execution_count": null,
   "id": "bc38ad43",
   "metadata": {
    "scrolled": true
   },
   "outputs": [],
   "source": [
    "# 문제4) 계산기로 만드시오. \n",
    "first = input(\"첫번째\")\n",
    "second = input(\"두번째\")\n",
    "result = first + second\n",
    "result"
   ]
  },
  {
   "cell_type": "code",
   "execution_count": null,
   "id": "4f7fb5a1",
   "metadata": {
    "scrolled": true
   },
   "outputs": [],
   "source": [
    "# 답4) \n",
    "first = input(\"첫번째\")\n",
    "second = input(\"두번째\")\n",
    "result = int(first) + int(second)\n",
    "result"
   ]
  },
  {
   "cell_type": "code",
   "execution_count": null,
   "id": "cc594d96",
   "metadata": {},
   "outputs": [],
   "source": [
    "f1 = input(\"입력1: \")\n",
    "f2 = input(\"입력2: \")\n",
    "# 문제5) 밑을 수정하여 오류를 해결하시오. \n",
    "if f1 > f2:\n",
    "    print(\"%d\"%(f1+f2))\n",
    "else:\n",
    "    print(\"%d\"%(f1+f2))"
   ]
  },
  {
   "cell_type": "code",
   "execution_count": null,
   "id": "22c5d4c2",
   "metadata": {
    "scrolled": true
   },
   "outputs": [],
   "source": [
    "# 답5) \n",
    "f1 = input(\"입력1: \")\n",
    "f2 = input(\"입력2: \")\n",
    "if int(f1) > int(f2):\n",
    "    print(\"%d\"%(int(f1)+int(f2)))\n",
    "else:\n",
    "    print(\"%d\"%(int(f1)+int(f2)))"
   ]
  },
  {
   "cell_type": "code",
   "execution_count": null,
   "id": "fc7535c0",
   "metadata": {},
   "outputs": [],
   "source": [
    "f3 = input(\"숫자 1, 2, 3 중 하나 입력: \")\n",
    "# 문제6) 밑을 수정하여 오류를 해결하시오. \n",
    "if f3 == 1:\n",
    "    print(\"숫자 1이 입력되었어요. \")\n",
    "elif f3 == 2:\n",
    "    print(\"숫자 2가 입력되었어요. \")\n",
    "elif f3 == 3:\n",
    "    print(\"숫자 3이 입력되었어요. \")\n",
    "else: \n",
    "    print(\"잘못 입력하셨어요. \")"
   ]
  },
  {
   "cell_type": "code",
   "execution_count": null,
   "id": "7790f68e",
   "metadata": {
    "scrolled": true
   },
   "outputs": [],
   "source": [
    "f3 = input(\"숫자 1, 2, 3 중 하나 입력: \") # 문자열이 입력됨.\n",
    "# 답6)\n",
    "if int(f3) == 1:\n",
    "    print(\"숫자 1이 입력되었어요. \")\n",
    "elif int(f3) == 2:\n",
    "    print(\"숫자 2가 입력되었어요. \")\n",
    "elif int(f3) == 3:\n",
    "    print(\"숫자 3이 입력되었어요. \")\n",
    "else: \n",
    "    print(\"잘못 입력하셨어요. \")"
   ]
  },
  {
   "cell_type": "code",
   "execution_count": null,
   "id": "091b788c",
   "metadata": {},
   "outputs": [],
   "source": [
    "sum1 = 0\n",
    "list1 = [1,2,3,4]  \n",
    "# 리스트(배열)는 대괄호로 감싼다, 리스트에 접근할 때는 변수명(list1)의 \n",
    "# 대괄호로 index를 넣으면 해당 index에 저장되어 있는 데이터를 읽고 \n",
    "# 쓸 수 있다. 리스트의 index는 0부터 시작한다. "
   ]
  },
  {
   "cell_type": "code",
   "execution_count": null,
   "id": "ba9af395",
   "metadata": {},
   "outputs": [],
   "source": [
    "# list배열의 0번째 위치의 데이터를 읽어서 2배하고 sum1의 데이터와 \n",
    "# 더한 결과를 다시 sum1에 저장한다. (결과적으로는 누적이다. )\n",
    "sum1 = sum1 + list1[0] * 2  \n",
    "sum1"
   ]
  },
  {
   "cell_type": "code",
   "execution_count": null,
   "id": "f6a1a606",
   "metadata": {},
   "outputs": [],
   "source": [
    "sum1 += list1[1] * 2\n",
    "sum1"
   ]
  },
  {
   "cell_type": "code",
   "execution_count": null,
   "id": "2d623904",
   "metadata": {},
   "outputs": [],
   "source": [
    "sum1 = sum1 + list1[2] * 2\n",
    "sum1"
   ]
  },
  {
   "cell_type": "code",
   "execution_count": null,
   "id": "70a1358f",
   "metadata": {},
   "outputs": [],
   "source": [
    "sum1 = sum1 + list1[3] * 2\n",
    "sum1"
   ]
  },
  {
   "cell_type": "code",
   "execution_count": null,
   "id": "90975ef4",
   "metadata": {},
   "outputs": [],
   "source": [
    "list2 = [3,4,5,11,17]\n",
    "#  문제7) list2에서 index가 3번째 값을 읽어서 6배하고 \n",
    "#         그 결과를 새로운 변수에 저장하고 저장된 결과를 출력\n",
    "\n",
    "# 답7)\n",
    "temp = 0\n",
    "temp = list2[3] * 6\n",
    "temp"
   ]
  },
  {
   "cell_type": "code",
   "execution_count": null,
   "id": "f3b0baa8",
   "metadata": {},
   "outputs": [],
   "source": [
    "#  문제8) list2에서 index가 0번째 값을 읽어서 2배, \n",
    "#         1번째 값을 읽어서 3배, 2번째 값을 읽어서 4배, \n",
    "#         3째 값을 읽어서 5, 4번째 값을 읽어서 6배 한 결과를 다 더하고 \n",
    "#         그 결과를 새로운 변수에 저장하고 그 값을 3배하여 출력\n",
    "\n",
    "# 답8)\n",
    "temp = 0\n",
    "temp = list2[0]*2 + list2[1]*3 + list2[2]*4 + list2[3]*5 + list2[4]*6\n",
    "temp * 3"
   ]
  },
  {
   "cell_type": "code",
   "execution_count": null,
   "id": "e52bd3d4",
   "metadata": {},
   "outputs": [],
   "source": [
    "a1 = 1\n",
    "a1 = a1 * 2\n",
    "a1 = a1 * 2\n",
    "a1 = a1 * 2\n",
    "a1 = a1 * 2\n",
    "a1 # 2^4 = 16"
   ]
  },
  {
   "cell_type": "code",
   "execution_count": null,
   "id": "972e2881",
   "metadata": {},
   "outputs": [],
   "source": [
    "a1 = 1\n",
    "a1 = a1 * 3\n",
    "a1 = a1 * 3\n",
    "a1 = a1 * 3\n",
    "a1 = a1 * 3\n",
    "a1 # 3^4 = 81"
   ]
  },
  {
   "cell_type": "code",
   "execution_count": null,
   "id": "69753e6c",
   "metadata": {},
   "outputs": [],
   "source": [
    "list2 = [3,4,5,11,17]"
   ]
  },
  {
   "cell_type": "code",
   "execution_count": null,
   "id": "65abd58f",
   "metadata": {},
   "outputs": [],
   "source": [
    "# list2의 리스트의 0번 index의 공간(메모리)에 \n",
    "# 대입연산자(=)를 이용하여 값을 저장\n",
    "list2[0] = 100  "
   ]
  },
  {
   "cell_type": "code",
   "execution_count": null,
   "id": "fc781fcd",
   "metadata": {},
   "outputs": [],
   "source": [
    "list2 = [3,4,5,11,17]\n",
    "#  문제9) list2의 각각의 요소(값)을 제곱하고 같은 위치에 저장  \n",
    "# [ 9 , 16 , 25 , 121 , 17^2] 이 나와야 함\n",
    "\n",
    "# 답9)\n",
    "list2[0] = list2[0]*list2[0]\n",
    "list2[1] = list2[1]*list2[1]\n",
    "list2[2] = list2[2]*list2[2]\n",
    "list2[3] = list2[3]*list2[3]\n",
    "list2[4] = list2[4]*list2[4]\n",
    "list2"
   ]
  },
  {
   "cell_type": "code",
   "execution_count": null,
   "id": "b961a77d",
   "metadata": {},
   "outputs": [],
   "source": [
    "#  문제10) append를 사용하지 않고 새로운 list를 생성\n",
    "list3 = [0,0,0,0,0]\n",
    "# list2의 데이터를 읽어서 list2의 0번 데이터는 list3의 4번 index에 저장\n",
    "# list2의 1번 데이터는 list3의 3번 index에 저장\n",
    "# 두 개의 index의 합이 4가 되도록 프로그래밍 하세요. \n",
    "\n",
    "#  답10) \n",
    "list3[4] = list2[0]  #=> [4]+[0]=4 (두 개의 index의 합이 4)\n",
    "list3[3] = list2[1]  #=> [3]+[1]=4\n",
    "list3[2] = list2[2]\n",
    "list3[1] = list2[3]\n",
    "list3[0] = list2[4]\n",
    "list3"
   ]
  },
  {
   "cell_type": "markdown",
   "id": "561674ae",
   "metadata": {},
   "source": [
    "<h2>딕셔너리</h2>\n",
    "<u>검색을 위해 만들어진 자료형</u> <br>\n",
    "{} 하고 key:value의 쌍으로 이루어져있고, key값을 통해 value값을 얻는다. <br>\n",
    "빈 리스트를 생성시에는 <br>\n",
    "변수명 = [ ] 하듯이 <br>\n",
    "dictionary 생성할 때는 <br>\n",
    "변수명 = { }로 빈 dictionary 생성 <br>\n",
    "값을 읽을 때에는 변수명[key]을 통해 value를 얻고 <br>\n",
    "변수명에 key가 있으면 해당되는 value값을 기존 값이 없어지고 새로운 값으로 대체된다. <br>\n",
    "만약에 key 가 없으면 key:value가 추가됨. <br>\n",
    "key값은 문자열. "
   ]
  },
  {
   "cell_type": "code",
   "execution_count": null,
   "id": "080771c8",
   "metadata": {},
   "outputs": [],
   "source": [
    "# 문제11) 홍길동을 김개똥으로 변경\n",
    "dict1 = {}  # 빈 dictionary 생성\n",
    "dict1['a'] = \"홍길동\"\n",
    "dict1"
   ]
  },
  {
   "cell_type": "code",
   "execution_count": null,
   "id": "350bd251",
   "metadata": {},
   "outputs": [],
   "source": [
    "# 답11) \n",
    "dict1['a'] = \"김개똥\"\n",
    "dict1"
   ]
  },
  {
   "cell_type": "code",
   "execution_count": null,
   "id": "a3ed068c",
   "metadata": {
    "scrolled": false
   },
   "outputs": [],
   "source": [
    "# 문제12) c의 key에 해당하는 value는 [1,2,3,4]를 추가하세요.\n",
    "# 문제13) dict1의 c에 해당하는 value list의 값의 총합을 구하세요. \n",
    "#         반복문 사용하지 않아요 (노가다 버전)\n",
    "\n",
    "# 답12) \n",
    "dict1['c'] = [1,2,3,4]\n",
    "print(dict1)\n",
    "# 답13)\n",
    "result1 = dict1['c'][0] + dict1['c'][1] + dict1['c'][2] + dict1['c'][3]\n",
    "result1"
   ]
  },
  {
   "cell_type": "code",
   "execution_count": null,
   "id": "79c554a2",
   "metadata": {},
   "outputs": [],
   "source": [
    "# 문제13) d의 key에 해당하는 value는 리스트([11,12,13,14])를 추가하세요.\n",
    "# 문제14) d의 value의 총합과 c의 value의 총합을 구하여 \n",
    "#         두 개의 총합(c,d) 을 그 총합을 dict1의 f를 key에 대응하는 \n",
    "#          value로 총합을 값으로 저장\n",
    "\n",
    "# 답13) \n",
    "dict1['d'] = [11,12,13,14]\n",
    "# 답14)\n",
    "result2 = dict1['d'][0] + dict1['d'][1] + dict1['d'][2] + dict1['d'][3]\n",
    "dict1['f'] = result1 + result2\n",
    "dict1"
   ]
  },
  {
   "cell_type": "code",
   "execution_count": null,
   "id": "42412e1b",
   "metadata": {},
   "outputs": [],
   "source": [
    "dict1.keys()"
   ]
  },
  {
   "cell_type": "code",
   "execution_count": null,
   "id": "48a5c5e0",
   "metadata": {
    "scrolled": true
   },
   "outputs": [],
   "source": [
    "dict1['a']"
   ]
  },
  {
   "cell_type": "code",
   "execution_count": null,
   "id": "47b42c90",
   "metadata": {},
   "outputs": [],
   "source": [
    "dict1['c']"
   ]
  },
  {
   "cell_type": "code",
   "execution_count": null,
   "id": "b81a2598",
   "metadata": {
    "scrolled": true
   },
   "outputs": [],
   "source": [
    "dict1['f']"
   ]
  },
  {
   "cell_type": "code",
   "execution_count": null,
   "id": "b4289b18",
   "metadata": {},
   "outputs": [],
   "source": [
    "keys_dict = dict1.keys()"
   ]
  },
  {
   "cell_type": "code",
   "execution_count": null,
   "id": "b91c23c5",
   "metadata": {},
   "outputs": [],
   "source": [
    "for i in keys_dict:\n",
    "    print(i)"
   ]
  },
  {
   "cell_type": "code",
   "execution_count": null,
   "id": "5bc68b90",
   "metadata": {},
   "outputs": [],
   "source": [
    "for _ in [1,2,3,4]:  # _(언더바) 가능\n",
    "    print(\"사랑\")"
   ]
  },
  {
   "cell_type": "code",
   "execution_count": null,
   "id": "77b4494b",
   "metadata": {},
   "outputs": [],
   "source": [
    "# 문제15) 오류를 해결하시오. \n",
    "for r in [1,2,3,4]:  \n",
    "    print(\"사랑\" + r)"
   ]
  },
  {
   "cell_type": "code",
   "execution_count": null,
   "id": "462f431b",
   "metadata": {
    "scrolled": true
   },
   "outputs": [],
   "source": [
    "# 답15) \n",
    "for r in [1,2,3,4]:  \n",
    "    print(\"사랑\" + str(r))"
   ]
  },
  {
   "cell_type": "code",
   "execution_count": null,
   "id": "dfa87202",
   "metadata": {
    "scrolled": false
   },
   "outputs": [],
   "source": [
    "# 문제16) 오류를 해결하시오. \n",
    "sum3 = 0\n",
    "for i in ['1','2','3','4']:  \n",
    "    sum3 = sum3 + i\n",
    "sum3"
   ]
  },
  {
   "cell_type": "code",
   "execution_count": null,
   "id": "b7831966",
   "metadata": {},
   "outputs": [],
   "source": [
    "# 답16) \n",
    "sum3 = 0\n",
    "for i in ['1','2','3','4']:  \n",
    "    sum3 = sum3 + int(i)\n",
    "sum3"
   ]
  },
  {
   "cell_type": "code",
   "execution_count": null,
   "id": "122eebfc",
   "metadata": {},
   "outputs": [],
   "source": [
    "#문제17) 반복문을 이용하여 f의 value(리스트)의 총합을 구하세요. \n",
    "dict7 = { }\n",
    "dict7['f'] = [1,2,3,4,5,6]\n",
    "dict7"
   ]
  },
  {
   "cell_type": "code",
   "execution_count": null,
   "id": "d0f23f3f",
   "metadata": {
    "scrolled": true
   },
   "outputs": [],
   "source": [
    "# 답17)\n",
    "sum3 = 0\n",
    "for i in dict7['f']:\n",
    "    sum3 += i\n",
    "sum3"
   ]
  },
  {
   "cell_type": "code",
   "execution_count": null,
   "id": "c5a0a0bf",
   "metadata": {},
   "outputs": [],
   "source": [
    "# 문제18) dict7에 key를 name으로 하고 \n",
    "#         value는 [\"홍길동\",\"김개똥\",\"김말자\",\"국제\",\"아카데미\"]로 저장.\n",
    "# 문제19) dict7의 key가 name인 value의 문자열을 결합한 결과 출력\n",
    "    \n",
    "# 답18)\n",
    "dict7['name'] = [\"홍길동\",\"김개똥\",\"김말자\",\"국제\",\"아카데미\"]\n",
    "# 답19)\n",
    "result = dict7['name'][0] + dict7['name'][1] + dict7['name'][2] \n",
    "                          + dict7['name'][3] + dict7['name'][4]\n",
    "result"
   ]
  },
  {
   "cell_type": "code",
   "execution_count": null,
   "id": "0c35ffc7",
   "metadata": {},
   "outputs": [],
   "source": [
    "list2 = [3,4,5,6]\n",
    "list2.append(7)\n",
    "list2"
   ]
  },
  {
   "cell_type": "code",
   "execution_count": null,
   "id": "c5599851",
   "metadata": {},
   "outputs": [],
   "source": [
    "list3 = []\n",
    "# 문제20) 위 셀의 list2를 이용해 list3를 [30,40,50,60,70] 로 만들기 \n",
    "#         결과 append와 for in 구문"
   ]
  },
  {
   "cell_type": "code",
   "execution_count": null,
   "id": "6b7cd401",
   "metadata": {},
   "outputs": [],
   "source": [
    "# 답20)\n",
    "for i in list2:\n",
    "    list3.append(i * 10)\n",
    "list3"
   ]
  },
  {
   "cell_type": "code",
   "execution_count": null,
   "id": "d6757d59",
   "metadata": {},
   "outputs": [],
   "source": [
    "list4 = []  \n",
    "# 문제21) [ {\"a\":30}, {\"a\":40}, {\"a\":50}, {\"a\":60}, {\"a\":70} ]\n",
    "# list2의 데이터를 이용하여 append와 for in 구문"
   ]
  },
  {
   "cell_type": "code",
   "execution_count": null,
   "id": "56895c10",
   "metadata": {},
   "outputs": [],
   "source": [
    "# 답21)\n",
    "for i in list2:\n",
    "    list4.append({\"a\": i * 10})\n",
    "list4"
   ]
  }
 ],
 "metadata": {
  "kernelspec": {
   "display_name": "Python 3 (ipykernel)",
   "language": "python",
   "name": "python3"
  },
  "language_info": {
   "codemirror_mode": {
    "name": "ipython",
    "version": 3
   },
   "file_extension": ".py",
   "mimetype": "text/x-python",
   "name": "python",
   "nbconvert_exporter": "python",
   "pygments_lexer": "ipython3",
   "version": "3.11.3"
  }
 },
 "nbformat": 4,
 "nbformat_minor": 5
}
