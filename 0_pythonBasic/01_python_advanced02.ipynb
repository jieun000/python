{
 "cells": [
  {
   "cell_type": "code",
   "execution_count": null,
   "id": "335ae03f",
   "metadata": {},
   "outputs": [],
   "source": [
    "# p.115\n",
    "pilgi = int(input(\"필기 시험 점수는? \"))\n",
    "silgi = int(input(\"실기 시험 점수는? \"))\n",
    "\n",
    "if pilgi >= 80 and silgi >= 80:\n",
    "    result = \"합격\"\n",
    "else: result = \"불합격\"\n",
    "    \n",
    "print(\"- 필기 시험 점수: %d\" %pilgi)\n",
    "print(\"- 실기 시험 점수: %d\" %silgi)\n",
    "print(\"판정: %s\" %result)"
   ]
  },
  {
   "cell_type": "code",
   "execution_count": null,
   "id": "00974506",
   "metadata": {},
   "outputs": [],
   "source": [
    "# p.117\n",
    "char = input(\"영문 소문자 하나를 입력하세요.\")\n",
    "if char == \"a\" or char == \"e\" or char == \"i\" or char == \"o\" or char == \"u\":\n",
    "    print(\"%s은(는) 모음이다.\" %char)\n",
    "else: print(\"%s은(는) 자음이다.\" %char)"
   ]
  },
  {
   "cell_type": "code",
   "execution_count": null,
   "id": "56163068",
   "metadata": {},
   "outputs": [],
   "source": [
    "if 'b' in 'aeiou':\n",
    "    print('참')\n",
    "else: print(\"거짓\")"
   ]
  },
  {
   "cell_type": "code",
   "execution_count": null,
   "id": "1222376c",
   "metadata": {},
   "outputs": [],
   "source": [
    "char = input(\"영문 소문자 하나를 입력하세요. \")\n",
    "if char in 'aeiou':\n",
    "    print(\"%s은(는) 모음이다.\" %char)\n",
    "else: print(\"%s은(는) 자음이다.\" %char)"
   ]
  },
  {
   "cell_type": "code",
   "execution_count": null,
   "id": "fae52640",
   "metadata": {},
   "outputs": [],
   "source": [
    "char = input(\"영문 소문자 하나를 입력하세요. \")\n",
    "if char in ['a','e','i','o','u']:\n",
    "    print(\"%s은(는) 모음이다.\" %char)\n",
    "else: print(\"%s은(는) 자음이다.\" %char)"
   ]
  },
  {
   "cell_type": "code",
   "execution_count": null,
   "id": "5704ccf5",
   "metadata": {},
   "outputs": [],
   "source": [
    "# 문제 13) 키보드로 2개의 문자를 입력받고\n",
    "a = input(\"첫번째\")\n",
    "b = input(\"두번째\")\n",
    "\n",
    "#  두 개 다 모음인지 그렇지 않은지 확인하기\n",
    "if a and b in 'aeiou':\n",
    "    print(\"%s와 %s는 두 개 다 모음이다.\" %(a, b))\n",
    "else: \n",
    "    print(\"%s와 %s가 두 개 다 모음이진 않다.\" %(a, b))"
   ]
  },
  {
   "cell_type": "code",
   "execution_count": null,
   "id": "9e5917bb",
   "metadata": {},
   "outputs": [],
   "source": [
    "# 문제 13) 선생님\n",
    "a = input(\"첫번째\")\n",
    "b = input(\"두번째\")\n",
    "\n",
    "if a in 'aeiou' and b in 'aeiou':\n",
    "    print(\"%s와 %s는 두 개 다 모음이다.\" %(a, b))\n",
    "elif a in 'aeiou' or b in 'aeiou':\n",
    "    print(\"%s와 %s가 둘 중 하나가 모음이다.\" %(a, b))\n",
    "else: print(\"둘 다 모음 아님\")"
   ]
  },
  {
   "cell_type": "code",
   "execution_count": null,
   "id": "99328a35",
   "metadata": {
    "scrolled": false
   },
   "outputs": [],
   "source": [
    "names = ['홍길동','홍말자','김개똥','국제']\n",
    "# 문제 14) 키보드로 입력받은 데이터가 names에 포함되는지 코딩하세요. \n",
    "a = input(\"데이터 입력: \")\n",
    "if a in names:\n",
    "    print(\"포함됩니다. \")\n",
    "else:\n",
    "    print(\"포함 안 됩니다. \")"
   ]
  },
  {
   "cell_type": "code",
   "execution_count": null,
   "id": "258f0d97",
   "metadata": {},
   "outputs": [],
   "source": [
    "for i in range(9):\n",
    "    print(i)"
   ]
  },
  {
   "cell_type": "code",
   "execution_count": null,
   "id": "c40ed092",
   "metadata": {},
   "outputs": [],
   "source": [
    "# 함수 호출 구구단\n",
    "def gugu(n): \n",
    "    for i in range(2,10):\n",
    "        print(str(n) + \"x\" + str(i) + \"=\" + str(n*i))\n",
    "gugu(5)"
   ]
  },
  {
   "cell_type": "code",
   "execution_count": null,
   "id": "e1eb62dd",
   "metadata": {},
   "outputs": [],
   "source": [
    "import random\n",
    "\n",
    "rand = random.randint(0,4)  # 랜덤의 index를 생성하여\n",
    "print(rand)"
   ]
  },
  {
   "cell_type": "code",
   "execution_count": null,
   "id": "91c248f8",
   "metadata": {},
   "outputs": [],
   "source": [
    "names = [\"홍길동\", \"홍말자\", \"김개똥\",\"국제\",\"아카데미\"]\n",
    "names[rand]  # 랜덤의 데이터 추출"
   ]
  },
  {
   "cell_type": "code",
   "execution_count": null,
   "id": "520623c3",
   "metadata": {},
   "outputs": [],
   "source": [
    "games = ['가위','바위','보']\n",
    "\n",
    "rand = random.randint(0,2)  # 랜덤의 index를 생성하여\n",
    "print(rand)\n",
    "\n",
    "test = input(\"가위 바위 보 게임 \")\n",
    "if games[rand] == test:\n",
    "    print(\"이겼어요.\")\n",
    "else: print(\"졌어요.\")"
   ]
  }
 ],
 "metadata": {
  "kernelspec": {
   "display_name": "Python 3 (ipykernel)",
   "language": "python",
   "name": "python3"
  },
  "language_info": {
   "codemirror_mode": {
    "name": "ipython",
    "version": 3
   },
   "file_extension": ".py",
   "mimetype": "text/x-python",
   "name": "python",
   "nbconvert_exporter": "python",
   "pygments_lexer": "ipython3",
   "version": "3.10.9"
  }
 },
 "nbformat": 4,
 "nbformat_minor": 5
}
