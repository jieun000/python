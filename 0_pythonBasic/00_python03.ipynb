{
 "cells": [
  {
   "cell_type": "markdown",
   "id": "4c54cfd0",
   "metadata": {},
   "source": [
    "## 조건문"
   ]
  },
  {
   "cell_type": "code",
   "execution_count": null,
   "id": "b6788b9e",
   "metadata": {},
   "outputs": [],
   "source": [
    "x = 50\n",
    "if x >= 50: \n",
    "    print(\"양수\")\n",
    "else: \n",
    "    print(\"음수\")"
   ]
  },
  {
   "cell_type": "code",
   "execution_count": null,
   "id": "f7a60bb4",
   "metadata": {},
   "outputs": [],
   "source": [
    "korea = input(\"국어\")\n",
    "math = input(\"수학\")\n",
    "eng = input(\"영어\")\n",
    "\n",
    "# 바로 계산이 안 되므로 int로 변환\n",
    "kor_int = int(korea)\n",
    "eng_int = int(eng)\n",
    "math_int = int(math)\n",
    "\n",
    "# 총점과 평균을 구해요\n",
    "total = kor_int + eng_int + math_int\n",
    "avg = total / 3\n",
    "\n",
    "# 조건문\n",
    "if avg >= 90:\n",
    "    print(\"수\")\n",
    "elif avg >= 80:\n",
    "    print(\"우\")\n",
    "elif avg >= 70:\n",
    "    print(\"미\")\n",
    "elif avg >= 60:\n",
    "    print(\"양\")  \n",
    "else:\n",
    "    print(\"가\")\n",
    "\n",
    "print(\"총점은 \" + str(total) + \", 평균은 \" + str(avg))"
   ]
  },
  {
   "cell_type": "markdown",
   "id": "bff0aef7",
   "metadata": {},
   "source": [
    "문제2) 강아지가 하루 5m씩 갑니다. \n",
    "10일 간 강아지가 간 거리가 30m 이상 갔으면 \n",
    "성공 그렇지 않으면 실패를 프로그래밍 하세요."
   ]
  },
  {
   "cell_type": "code",
   "execution_count": null,
   "id": "184ed67b",
   "metadata": {},
   "outputs": [],
   "source": [
    "dog = 5\n",
    "day = 10\n",
    "distance = dog * day\n",
    "\n",
    "if distance >= 30: \n",
    "    print(\"성공\")\n",
    "else: \n",
    "    print(\"실패\")"
   ]
  },
  {
   "cell_type": "markdown",
   "id": "6b1cc8e0",
   "metadata": {},
   "source": [
    "문제2-1) 강아지가 하루 몇 m씩 갔는지는 키보드로 입력받아요. \n",
    "강아지가 몇 일 갔는지도 키보드로 받아요. 이동한 거리가 30m 이상 갔으면 성공, 그렇지 않으면 실패를 프로그래밍 하세요. "
   ]
  },
  {
   "cell_type": "code",
   "execution_count": null,
   "id": "93b36c45",
   "metadata": {},
   "outputs": [],
   "source": [
    "dog = input(\"강아지가 하루에 몇 미터 갔는가요? \")\n",
    "day = input(\"강아지는 며칠 간 이동했나요? \")\n",
    "distance = int(dog) * int(day)  # !!입력받으면 문자열!!\n",
    "\n",
    "if distance >= 30: \n",
    "    print(\"성공\")\n",
    "else: \n",
    "    print(\"실패\")"
   ]
  },
  {
   "cell_type": "code",
   "execution_count": null,
   "id": "032e5b94",
   "metadata": {
    "scrolled": true
   },
   "outputs": [],
   "source": [
    "dog = int(input(\"강아지가 하루에 몇미터 갔는가요? \"))\n",
    "day = int(input(\"강아지는 며칠간 이동했나요? \"))\n",
    "distance = dog * day\n",
    "\n",
    "if distance >= 30: \n",
    "    print(\"성공\")\n",
    "else: \n",
    "    print(\"실패\")"
   ]
  },
  {
   "cell_type": "markdown",
   "id": "3e6ef169",
   "metadata": {},
   "source": [
    "입력된 숫자가 5의 배수이면 '5의 배수입니다.'를 출력하고 <br>\n",
    "5의 배수가 아니면 '5의 배수가 아닙니다.' 출력 <br>\n",
    "==(같다), %(나누고 남은 나머지값)"
   ]
  },
  {
   "cell_type": "code",
   "execution_count": null,
   "id": "55cc0df9",
   "metadata": {},
   "outputs": [],
   "source": [
    "number = int(input(\"숫자를 입력하세요 \"))\n",
    "if number % 5 == 0:\n",
    "    print(\"5의 배수입니다. \")\n",
    "else:\n",
    "    print(\"5의 배수가 아닙니다.\")"
   ]
  },
  {
   "cell_type": "code",
   "execution_count": null,
   "id": "20047b8b",
   "metadata": {},
   "outputs": [],
   "source": [
    "num = int(input(\"너가 알고 싶은 숫자가 5의 배수인지 알려줄게 \"))\n",
    "if num % 5 == 0:\n",
    "    print(\"당신이 입력한 숫자는 5의 배수입니다.\")\n",
    "else:\n",
    "    print(\"당신이 입력한 숫자는 5의 배수가 아닙니다.\")"
   ]
  },
  {
   "cell_type": "markdown",
   "id": "237eade9",
   "metadata": {},
   "source": [
    "첫번째 숫자를 키보드로 입력받고 <br>\n",
    "두번째 숫자를 키보드로 입력받고 <br>\n",
    "2개의 숫자의 곱이 3의 배수인지 확인하세요. "
   ]
  },
  {
   "cell_type": "code",
   "execution_count": null,
   "id": "73f04134",
   "metadata": {},
   "outputs": [],
   "source": [
    "num1 = int(input(\"첫번째 숫자: \"))\n",
    "num2 = int(input(\"두번째 숫자: \"))\n",
    "if (num1 * num2) % 3 == 0:\n",
    "    print(\"3의 배수입니다.\")\n",
    "else:\n",
    "    print(\"3의 배수가 아닙니다.\")"
   ]
  },
  {
   "cell_type": "code",
   "execution_count": null,
   "id": "4c4653ba",
   "metadata": {},
   "outputs": [],
   "source": [
    "first = int(input(\"첫번째 숫자: \"))\n",
    "second = int(input(\"두번째 숫자: \"))\n",
    "mul = first * second\n",
    "if mul % 3 == 0:\n",
    "    print(\"%d 와 %d 의 곱은 %d 이고, %d 는 3의 배수입니다.\"%(first, second, mul, mul))\n",
    "else:\n",
    "     print(\"%d 와 %d 의 곱은 %d 이고, %d 은 3의 배수가 아닙니다.\"%(first, second, mul, mul))"
   ]
  },
  {
   "cell_type": "code",
   "execution_count": null,
   "id": "fb349d5c",
   "metadata": {},
   "outputs": [],
   "source": [
    "a00 = \"박지은\"\n",
    "a01 = \"이가영\"\n",
    "a02 = \"채승민\"\n",
    "a03 = \"정상준\"\n",
    "a04 = \"윤지현\"\n",
    "a05 = \"김단아\"\n",
    "a06 = \"정은영\"\n",
    "a07 = \"김지영\"\n",
    "a08 = \"문주희\"\n",
    "a09 = \"강설\"\n",
    "a10 = \"김예지나\"\n",
    "a11 = \"이태규\"\n",
    "a12 = \"석사무엘\"\n",
    "a13 = \"이지호\"\n",
    "a14 = \"서우진\"\n",
    "a15 = \"채정호\"\n",
    "a16 = \"도지은\"\n",
    "a17 = \"이선빈\"\n",
    "a18 = \"이민규\"\n",
    "a19 = \"권동훈\"\n",
    "a20 = \"조훈영\"\n",
    "a21 = \"유현준\"\n",
    "a22 = \"이승주\"\n",
    "a23 = \"유강진\"\n",
    "a24 = \"이재오 강사\"\n",
    "x = a00 + a01 + a02 + a03 + a04 + a05 + a06 + a07 + a08 + a09 + a10 + a11 + a12 + a13 + a14 + a15 + a16 + a17 + a18 + a19 + a20 + a21 + a22 + a23 + a24\n",
    "len(x)"
   ]
  },
  {
   "cell_type": "markdown",
   "id": "48a02716",
   "metadata": {},
   "source": []
  },
  {
   "cell_type": "code",
   "execution_count": null,
   "id": "96d34459",
   "metadata": {
    "scrolled": true
   },
   "outputs": [],
   "source": [
    "# p.90 \n",
    "a = input(\"첫번째 정수를 입력하세요\")\n",
    "b = input(\"두번째 정수를 입력하세요\")\n",
    "c = a + b\n",
    "c"
   ]
  },
  {
   "cell_type": "code",
   "execution_count": null,
   "id": "136dd958",
   "metadata": {},
   "outputs": [],
   "source": [
    "d = int(a) + int(b)\n",
    "d"
   ]
  },
  {
   "cell_type": "code",
   "execution_count": null,
   "id": "6d2050f8",
   "metadata": {
    "scrolled": true
   },
   "outputs": [],
   "source": [
    "add = input(\"주소를 입력하세요\")\n",
    "int(add)"
   ]
  },
  {
   "cell_type": "code",
   "execution_count": null,
   "id": "fa77f626",
   "metadata": {
    "scrolled": true
   },
   "outputs": [],
   "source": [
    "# 함수 정의 (defion)\n",
    "def str_1(i): \n",
    "    return '사랑' + str(i)\n",
    "\n",
    "# 함수 호출(실행)\n",
    "str_1(5)"
   ]
  },
  {
   "cell_type": "code",
   "execution_count": null,
   "id": "1e5ae416",
   "metadata": {},
   "outputs": [],
   "source": [
    "# p.74\n",
    "name = '홍지영'\n",
    "print(name)"
   ]
  },
  {
   "cell_type": "code",
   "execution_count": null,
   "id": "9eb575d0",
   "metadata": {
    "scrolled": true
   },
   "outputs": [],
   "source": [
    "# 문제1) name의 변수에 저장된 데이터 타입이 무엇인지를 출력하세요. \n",
    "print(type(name))"
   ]
  },
  {
   "cell_type": "code",
   "execution_count": null,
   "id": "2da6adf1",
   "metadata": {},
   "outputs": [],
   "source": [
    "# p.75\n",
    "hp1 = '010'\n",
    "hp2 = \"1234\"\n",
    "hp3 = '4568'\n",
    "print(hp1, hp2, hp3, sep=\"-\")  # seperator(구분자)의 약어 "
   ]
  },
  {
   "cell_type": "code",
   "execution_count": null,
   "id": "e2237172",
   "metadata": {},
   "outputs": [],
   "source": [
    "# p.77\n",
    "x = 25\n",
    "y = 3.3\n",
    "animal = \"호랑이\"\n",
    "\n",
    "# d=decimal, f=float, s=string\n",
    "print(\"%d %.3f %s \" %(x, y, animal)) "
   ]
  },
  {
   "cell_type": "code",
   "execution_count": null,
   "id": "892ec6dc",
   "metadata": {},
   "outputs": [],
   "source": []
  }
 ],
 "metadata": {
  "kernelspec": {
   "display_name": "Python 3 (ipykernel)",
   "language": "python",
   "name": "python3"
  },
  "language_info": {
   "codemirror_mode": {
    "name": "ipython",
    "version": 3
   },
   "file_extension": ".py",
   "mimetype": "text/x-python",
   "name": "python",
   "nbconvert_exporter": "python",
   "pygments_lexer": "ipython3",
   "version": "3.10.9"
  }
 },
 "nbformat": 4,
 "nbformat_minor": 5
}
