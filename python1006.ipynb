{
 "cells": [
  {
   "cell_type": "code",
   "execution_count": 1,
   "id": "cec11dd8",
   "metadata": {},
   "outputs": [],
   "source": [
    "from queue import *"
   ]
  },
  {
   "cell_type": "code",
   "execution_count": 2,
   "id": "14b6fc86",
   "metadata": {},
   "outputs": [],
   "source": [
    "queue = Queue()"
   ]
  },
  {
   "cell_type": "code",
   "execution_count": null,
   "id": "baa290ea",
   "metadata": {},
   "outputs": [],
   "source": [
    "queue.put(3)"
   ]
  },
  {
   "cell_type": "code",
   "execution_count": null,
   "id": "ccc510a3",
   "metadata": {},
   "outputs": [],
   "source": [
    "queue.put(13)"
   ]
  },
  {
   "cell_type": "code",
   "execution_count": 3,
   "id": "ca6a7542",
   "metadata": {},
   "outputs": [],
   "source": [
    "for i in range(100):\n",
    "    queue.put(i*3) # 추가시에는 put으로"
   ]
  },
  {
   "cell_type": "code",
   "execution_count": 4,
   "id": "bfdd054c",
   "metadata": {
    "scrolled": true
   },
   "outputs": [
    {
     "name": "stdout",
     "output_type": "stream",
     "text": [
      "0\n",
      "3\n",
      "6\n",
      "9\n",
      "12\n",
      "15\n",
      "18\n",
      "21\n",
      "24\n",
      "27\n",
      "30\n",
      "33\n",
      "36\n",
      "39\n",
      "42\n",
      "45\n",
      "48\n",
      "51\n",
      "54\n",
      "57\n",
      "60\n",
      "63\n",
      "66\n",
      "69\n",
      "72\n",
      "75\n",
      "78\n",
      "81\n",
      "84\n",
      "87\n",
      "90\n",
      "93\n",
      "96\n",
      "99\n",
      "102\n",
      "105\n",
      "108\n",
      "111\n",
      "114\n",
      "117\n",
      "120\n",
      "123\n",
      "126\n",
      "129\n",
      "132\n",
      "135\n",
      "138\n",
      "141\n",
      "144\n",
      "147\n",
      "150\n",
      "153\n",
      "156\n",
      "159\n",
      "162\n",
      "165\n",
      "168\n",
      "171\n",
      "174\n",
      "177\n",
      "180\n",
      "183\n",
      "186\n",
      "189\n",
      "192\n",
      "195\n",
      "198\n",
      "201\n",
      "204\n",
      "207\n",
      "210\n",
      "213\n",
      "216\n",
      "219\n",
      "222\n",
      "225\n",
      "228\n",
      "231\n",
      "234\n",
      "237\n",
      "240\n",
      "243\n",
      "246\n",
      "249\n",
      "252\n",
      "255\n",
      "258\n",
      "261\n",
      "264\n",
      "267\n",
      "270\n",
      "273\n",
      "276\n",
      "279\n",
      "282\n",
      "285\n",
      "288\n",
      "291\n",
      "294\n",
      "297\n"
     ]
    }
   ],
   "source": [
    "for i in range(100):\n",
    "    print(queue.get(i)) # 데이터 꺼내올 때는 get()"
   ]
  },
  {
   "cell_type": "code",
   "execution_count": null,
   "id": "254d2c40",
   "metadata": {},
   "outputs": [],
   "source": [
    "Map<key, value> map = new HashMap<>()\n",
    "map.put(3,5)"
   ]
  },
  {
   "cell_type": "code",
   "execution_count": null,
   "id": "e9899b06",
   "metadata": {},
   "outputs": [],
   "source": [
    "Map<String, Integer> map = new HashMap<>()\n",
    "map.put('a',15)"
   ]
  }
 ],
 "metadata": {
  "kernelspec": {
   "display_name": "Python 3 (ipykernel)",
   "language": "python",
   "name": "python3"
  },
  "language_info": {
   "codemirror_mode": {
    "name": "ipython",
    "version": 3
   },
   "file_extension": ".py",
   "mimetype": "text/x-python",
   "name": "python",
   "nbconvert_exporter": "python",
   "pygments_lexer": "ipython3",
   "version": "3.11.3"
  }
 },
 "nbformat": 4,
 "nbformat_minor": 5
}
