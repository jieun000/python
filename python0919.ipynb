{
 "cells": [
  {
   "cell_type": "markdown",
   "id": "6763803b",
   "metadata": {},
   "source": [
    "### 테일러 급수(Taylor Series)"
   ]
  },
  {
   "cell_type": "markdown",
   "id": "3598b34a",
   "metadata": {},
   "source": [
    "$$ e^{x} \\approx \\sum_{n=0}^{\\infty} \\frac{x^{n}}{n!} \\approx 1+ x + \\frac{x^{2}}{2!} + \\frac{x^{3}}{3!} + \\frac{x^{4}}{4!} + \\cdot \\cdot \\cdot \n",
    "$$\n",
    "$$ \\approx \\rightarrow 근사(approximation) $$"
   ]
  },
  {
   "cell_type": "code",
   "execution_count": null,
   "id": "5301a187",
   "metadata": {},
   "outputs": [],
   "source": [
    "def my_factorial(n): # 재귀(recursive 호출(call))\n",
    "    print(n)\n",
    "    if(n>1):\n",
    "        return n*my_factorial(n-1)\n",
    "    else:\n",
    "        return 1"
   ]
  },
  {
   "cell_type": "code",
   "execution_count": null,
   "id": "135c1e36",
   "metadata": {
    "scrolled": true
   },
   "outputs": [],
   "source": [
    "a = int(input(\"팩토리알을 구할 숫자를 입력하세요 \"))\n",
    "my_factorial(a)"
   ]
  },
  {
   "cell_type": "code",
   "execution_count": null,
   "id": "57b9683e",
   "metadata": {},
   "outputs": [],
   "source": [
    "import numpy as np\n",
    "import math"
   ]
  },
  {
   "cell_type": "code",
   "execution_count": null,
   "id": "ca3b0c5b",
   "metadata": {
    "scrolled": true
   },
   "outputs": [],
   "source": [
    "np.exp(np.arange(-10,10))"
   ]
  },
  {
   "cell_type": "code",
   "execution_count": null,
   "id": "dbdbbfc4",
   "metadata": {},
   "outputs": [],
   "source": [
    "math.factorial(7)"
   ]
  },
  {
   "cell_type": "markdown",
   "id": "a0b488e3",
   "metadata": {},
   "source": [
    "테일러 급수 확인 문제"
   ]
  },
  {
   "cell_type": "code",
   "execution_count": null,
   "id": "404d020a",
   "metadata": {},
   "outputs": [],
   "source": [
    "import matplotlib.pyplot as plt"
   ]
  },
  {
   "cell_type": "code",
   "execution_count": null,
   "id": "175053c0",
   "metadata": {},
   "outputs": [],
   "source": [
    "x = np.arange(-10,10,0.08)\n",
    "exp_x = np.exp(x)"
   ]
  },
  {
   "cell_type": "code",
   "execution_count": null,
   "id": "19f808d6",
   "metadata": {},
   "outputs": [],
   "source": [
    "taylor_list = []\n",
    "for x_ori, exp_value in zip(x, exp_x):\n",
    "    sum_ = 0\n",
    "    for i in range(100):\n",
    "        sum_ += x_ori**i/math.factorial(i)\n",
    "    taylor_list.append(sum_)"
   ]
  },
  {
   "cell_type": "code",
   "execution_count": null,
   "id": "9d9e3acd",
   "metadata": {},
   "outputs": [],
   "source": [
    "taylor_list"
   ]
  },
  {
   "cell_type": "code",
   "execution_count": null,
   "id": "6f295d93",
   "metadata": {},
   "outputs": [],
   "source": [
    "# plt.scatter(x, exp_x, color='b', marker='x')\n",
    "plt.plot(x, exp_x, color='b', marker='x')\n",
    "plt.plot(x, taylor_list, color='r')"
   ]
  },
  {
   "cell_type": "code",
   "execution_count": null,
   "id": "0281e47b",
   "metadata": {},
   "outputs": [],
   "source": [
    "x = np.arange(-10,10)\n",
    "taylor = np.array([data/math.factorial(idx) for idx, data in enumerate(x)])\n",
    "for i, j in zip(x, taylor):\n",
    "    print(abs(i-j)<10000)"
   ]
  },
  {
   "cell_type": "code",
   "execution_count": null,
   "id": "4fcdb164",
   "metadata": {},
   "outputs": [],
   "source": [
    "x = np.arange(-10,10)\n",
    "list_result = []\n",
    "for v in x:\n",
    "    result = 0\n",
    "    for i in range(500):\n",
    "        result += v**i / math.factorial(i)   \n",
    "#     print('v: ',v, abs(np.exp(v) - result))\n",
    "        list_result.append(result)"
   ]
  },
  {
   "cell_type": "code",
   "execution_count": null,
   "id": "c18ec3c8",
   "metadata": {},
   "outputs": [],
   "source": [
    "list_result"
   ]
  },
  {
   "cell_type": "code",
   "execution_count": null,
   "id": "d150eb1e",
   "metadata": {},
   "outputs": [],
   "source": [
    "def func_e(x, n):\n",
    "    e_approx = 0\n",
    "    for i in range(n):\n",
    "        e_approx += x**i / math.factorial(i)\n",
    "    return e_approx"
   ]
  },
  {
   "cell_type": "markdown",
   "id": "bf1de8ca",
   "metadata": {},
   "source": [
    "$$ cos (x) \\approx \\sum_{n=0}^{\\infty} (-1)^{n} \\frac{x^{2n}}{(2n)!} \\approx 1 - \\frac{x^{2}}{2!} + \\frac{x^{4}}{4!} - \\frac{x^{6}}{6!} + \\frac{x^{8}}{8!}- \\frac{x^{10}}{10!} + \\cdot \\cdot \\cdot \n",
    "$$\n",
    "$$ \\approx \\rightarrow 근사(approximation) $$"
   ]
  },
  {
   "cell_type": "code",
   "execution_count": null,
   "id": "10135690",
   "metadata": {},
   "outputs": [],
   "source": [
    "def func_cos(x, n):\n",
    "    cos_approx = 0\n",
    "    # 여기를 위의 수식을 보고 채우세요.\n",
    "    for i in range(n):\n",
    "        coef = (-1)**i\n",
    "        num = x**(2*i)\n",
    "        denom = math.factorial(2*i)\n",
    "        cos_approx += (coef)*((num)/(denom))\n",
    "    return cos_approx"
   ]
  },
  {
   "cell_type": "code",
   "execution_count": null,
   "id": "1a40ad34",
   "metadata": {
    "scrolled": true
   },
   "outputs": [],
   "source": [
    "angles = np.arange(-2*np.pi, 2*np.pi, 0.1)\n",
    "p_cos = np.cos(angles)\n",
    "fig, ax = plt.subplots()\n",
    "ax.plot(angles, p_cos)\n",
    "# 테일러 급수에서 1과 6사이의 term을 선으로 그리기 추가\n",
    "for i in range(1,6):\n",
    "    t_cos = [func_cos(angle,i) for angle in angles ]\n",
    "    ax.plot(angles, t_cos) \n",
    "ax.set_ylim([-7,4])\n",
    "legend_list = ['cos() function']\n",
    "for i in range(1,6):\n",
    "    legend_list.append(f'Taylor Series -{i} terms')\n",
    "ax.legend(legend_list, loc=3)\n",
    "plt.show()"
   ]
  },
  {
   "cell_type": "markdown",
   "id": "5fd94ba5",
   "metadata": {},
   "source": [
    "$$ sin (x) \\approx \\sum_{n=0}^{\\infty} (-1)^{n} \\frac{x^{2n}}{(2n)!}  $$\n",
    "$$ \\approx 0 + 1x + 0x^{2} + \\frac{-1}{3!}x^{3} + 0x^{4} + \\cdot \\cdot \\cdot $$ \n",
    "$$ = x - \\frac{x^{3}}{3} + \\frac{x^{5}}{5!} + \\frac{x^{7}}{7!} + \\cdot \\cdot \\cdot $$"
   ]
  },
  {
   "cell_type": "code",
   "execution_count": null,
   "id": "a4ddcaa0",
   "metadata": {},
   "outputs": [],
   "source": [
    "# sigma(sum)의 코드 변경하고 파이썬 코드로 작성"
   ]
  },
  {
   "cell_type": "code",
   "execution_count": null,
   "id": "801f33a8",
   "metadata": {},
   "outputs": [],
   "source": [
    "def func_sin(x, n):\n",
    "    sin_approx = 0\n",
    "    for i in range(n):\n",
    "        coef = (-1)**i\n",
    "        num = x**(2*i+1)\n",
    "        denom = math.factorial(2*i+1)\n",
    "        sin_approx += (coef)*((num)/(denom))\n",
    "    return sin_approx"
   ]
  },
  {
   "cell_type": "code",
   "execution_count": null,
   "id": "ba35e89e",
   "metadata": {
    "scrolled": true
   },
   "outputs": [],
   "source": [
    "angles = np.arange(-2*np.pi, 2*np.pi, 0.1)\n",
    "p_sin = np.sin(angles)\n",
    "fig, ax = plt.subplots()\n",
    "ax.plot(angles, p_sin)\n",
    "# 테일러 급수에서 1과 6사이의 term을 선으로 그리기 추가\n",
    "for i in range(1,6):\n",
    "    t_sin = [func_sin(angle,i) for angle in angles ]\n",
    "    ax.plot(angles, t_sin) \n",
    "ax.set_ylim([-7,4])\n",
    "legend_list = ['sin() function']\n",
    "for i in range(1,6):\n",
    "    legend_list.append(f'Taylor Series -{i} terms')\n",
    "ax.legend(legend_list, loc=3)\n",
    "plt.show()"
   ]
  },
  {
   "cell_type": "markdown",
   "id": "f57318ab",
   "metadata": {},
   "source": []
  },
  {
   "cell_type": "code",
   "execution_count": null,
   "id": "d66f1b46",
   "metadata": {},
   "outputs": [],
   "source": [
    "x = np.arange(-10,10,0.01)\n",
    "y_diff_1 = np.diff(x)\n",
    "plt.plot(x[:-1], y_diff_1)"
   ]
  },
  {
   "cell_type": "code",
   "execution_count": null,
   "id": "4f7f3391",
   "metadata": {},
   "outputs": [],
   "source": []
  }
 ],
 "metadata": {
  "kernelspec": {
   "display_name": "Python 3 (ipykernel)",
   "language": "python",
   "name": "python3"
  },
  "language_info": {
   "codemirror_mode": {
    "name": "ipython",
    "version": 3
   },
   "file_extension": ".py",
   "mimetype": "text/x-python",
   "name": "python",
   "nbconvert_exporter": "python",
   "pygments_lexer": "ipython3",
   "version": "3.11.3"
  }
 },
 "nbformat": 4,
 "nbformat_minor": 5
}
