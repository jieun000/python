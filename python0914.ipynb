{
 "cells": [
  {
   "cell_type": "code",
   "execution_count": null,
   "id": "3fde5bb1",
   "metadata": {},
   "outputs": [],
   "source": [
    "import numpy as np\n",
    "import cv2"
   ]
  },
  {
   "cell_type": "code",
   "execution_count": null,
   "id": "43451598",
   "metadata": {},
   "outputs": [],
   "source": [
    "img = np.full((400,400,3), 255, np.uint8)\n",
    "cv2.line(img, (50,50),(200,50),(0,0,255))\n",
    "                # 시작선, 끝선, 색상, 두께\n",
    "cv2.line(img, (50,100),(200,100),(255,0,255),3)\n",
    "cv2.imshow('img',img)\n",
    "cv2.waitKey()\n",
    "cv2.destroyAllWindows()"
   ]
  },
  {
   "cell_type": "code",
   "execution_count": null,
   "id": "95cd5065",
   "metadata": {},
   "outputs": [],
   "source": [
    "def color():\n",
    "    return (np.random.randint(1,255),np.random.randint(1,255),np.random.randint(1,255))"
   ]
  },
  {
   "cell_type": "code",
   "execution_count": null,
   "id": "d2fdc9b2",
   "metadata": {},
   "outputs": [],
   "source": [
    "def deg_to_rad(x):\n",
    "    return (2*np.pi*x/360)"
   ]
  },
  {
   "cell_type": "code",
   "execution_count": null,
   "id": "c495cd29",
   "metadata": {},
   "outputs": [],
   "source": [
    "# 라인의 시작점과 끝점 중의 하나는 시작점보다 크다\n",
    "def end_point(r=200,theta=20):\n",
    "    rad = deg_to_rad(theta)\n",
    "    value = (int(r*np.cos(rad)), int(r*np.sin(rad)))\n",
    "#     print(value)\n",
    "    return value"
   ]
  },
  {
   "cell_type": "code",
   "execution_count": null,
   "id": "ae2d71db",
   "metadata": {},
   "outputs": [],
   "source": [
    "img = np.full((400,400,3), 255, np.uint8)\n",
    "for i in range(360):\n",
    "    start = (200,200)\n",
    "    end_x, end_y = end_point(theta=360-i)\n",
    "    end_x = end_x + start[0]\n",
    "    end_y = end_y + start[1]\n",
    "    cv2.line(img, start,(end_x,end_y),color(),3)\n",
    "cv2.imshow('img',img)\n",
    "cv2.waitKey()\n",
    "cv2.destroyAllWindows()"
   ]
  },
  {
   "cell_type": "code",
   "execution_count": null,
   "id": "e123979c",
   "metadata": {},
   "outputs": [],
   "source": [
    "img = np.full((400,400,3), 0, np.uint8)\n",
    "for i in range(360):\n",
    "    start = (200,200)\n",
    "    end_x, end_y = end_point(theta=360-i)\n",
    "    end_x = end_x + start[0]\n",
    "    end_y = end_y + start[1]\n",
    "    cv2.line(img, start,(end_x,end_y),(i,i,i),3)\n",
    "cv2.imshow('img',img)\n",
    "cv2.waitKey()\n",
    "cv2.destroyAllWindows()"
   ]
  },
  {
   "cell_type": "code",
   "execution_count": null,
   "id": "5b4b22d7",
   "metadata": {},
   "outputs": [],
   "source": [
    "# 라인의 시작점과 끝점 중의 하나는 시작점보다 크다\n",
    "def start_r_theta(start_,r=20,theta=20):\n",
    "    rad = deg_to_rad(theta)\n",
    "    end_x = start_[0] + int(r*np.cos(rad))\n",
    "    end_y = start_[1] + int(r*np.sin(rad))\n",
    "    return (end_x, end_y)"
   ]
  },
  {
   "cell_type": "code",
   "execution_count": null,
   "id": "f1ba3cae",
   "metadata": {},
   "outputs": [],
   "source": [
    "img = np.full((400,400,3), 255, np.uint8)\n",
    "for i in range(360):\n",
    "    start = (200,200)\n",
    "    end_x, end_y = start_r_theta(start_=start, r=200, theta=360-i)\n",
    "    cv2.line(img, start,(end_x,end_y),color(),3)\n",
    "cv2.imshow('img',img)\n",
    "cv2.waitKey()\n",
    "cv2.destroyAllWindows()"
   ]
  },
  {
   "cell_type": "code",
   "execution_count": null,
   "id": "6d7d9d52",
   "metadata": {},
   "outputs": [],
   "source": [
    "# 라인의 시작점과 끝점 중의 하나는 시작점보다 크다\n",
    "def end_point(r=200,theta=20):\n",
    "    rad = deg_to_rad(theta)\n",
    "    value = (int(r*np.cos(rad)), int(r*np.sin(rad)))\n",
    "    print(value)\n",
    "    return value"
   ]
  },
  {
   "cell_type": "code",
   "execution_count": null,
   "id": "731bac1d",
   "metadata": {},
   "outputs": [],
   "source": [
    "img = np.full((400,400,3), 255, np.uint8)\n",
    "for i in range(360):\n",
    "    start = (200,200)\n",
    "    end_x, end_y = end_point(theta=360-i)\n",
    "    end_x = end_x + start[0]\n",
    "    end_y = end_y + start[1]\n",
    "    cv2.line(img, start,(end_x,end_y),color(),3)\n",
    "cv2.imshow('img',img)\n",
    "cv2.waitKey()\n",
    "cv2.destroyAllWindows()"
   ]
  },
  {
   "cell_type": "code",
   "execution_count": null,
   "id": "7e5d19e0",
   "metadata": {},
   "outputs": [],
   "source": [
    "img = np.full((400,400,3), 255, np.uint8)\n",
    "for i in range(50):\n",
    "    cv2.line(img, (50,100+i*2),(200,20+i*2),color(),3)\n",
    "cv2.imshow('img',img)\n",
    "cv2.waitKey()\n",
    "cv2.destroyAllWindows()"
   ]
  },
  {
   "cell_type": "code",
   "execution_count": null,
   "id": "99d7b079",
   "metadata": {},
   "outputs": [],
   "source": [
    "img = np.full((400,400,3), 255, np.uint8)\n",
    "cv2.line(img, (0,200),(400,200),(255,0,255),10)\n",
    "cv2.line(img, (200,0),(200,400),(255,0,255),10)\n",
    "cv2.imshow('img',img)\n",
    "cv2.waitKey()\n",
    "cv2.destroyAllWindows()"
   ]
  },
  {
   "cell_type": "code",
   "execution_count": null,
   "id": "2a30b3cb",
   "metadata": {},
   "outputs": [],
   "source": [
    "img = np.full((400,400,3), 255, np.uint8)\n",
    "for i in range(201):\n",
    "    cv2.line(img, (0,200-i),(200,200),color(),3)\n",
    "cv2.imshow('img',img)\n",
    "cv2.waitKey()\n",
    "cv2.destroyAllWindows()"
   ]
  },
  {
   "cell_type": "code",
   "execution_count": null,
   "id": "0f35a91c",
   "metadata": {},
   "outputs": [],
   "source": [
    "img = np.zeros((400, 400, 3), np.uint8)\n",
    "\n",
    "cv2.rectangle(img, (50, 50), (350, 350), (0, 255, 255), -1)\n",
    "cv2.rectangle(img, (100, 100), (200, 200), (0, 0, 0), -1)\n",
    "\n",
    "cv2.imshow('Rectangle', img)\n",
    "cv2.waitKey(0)\n",
    "cv2.destroyAllWindows()"
   ]
  },
  {
   "cell_type": "code",
   "execution_count": null,
   "id": "74d9d0b3",
   "metadata": {},
   "outputs": [],
   "source": [
    "img = np.full((400,400,3),255,np.uint8)\n",
    "for i in range(360):\n",
    "    start=  start_r_theta(start_=(200,200), theta=380-i,r=100)\n",
    "    for j in range(360):\n",
    "        end_x, end_y = start_r_theta(start_=start, theta=360-j,r=100)\n",
    "        cv2.line(img, start,(end_x,end_y), (255,0,0),2)\n",
    "    start=  start_r_theta(start_=(200,200), theta=200-i,r=100)\n",
    "    for k in range(360):\n",
    "        end_x, end_y = start_r_theta(start_=start, theta=360-k,r=100)\n",
    "        cv2.line(img, start,(end_x,end_y), (0,0,255),2)\n",
    "        \n",
    "cv2.imshow('img', img)\n",
    "cv2.waitKey()\n",
    "cv2.destroyAllWindows()"
   ]
  },
  {
   "cell_type": "code",
   "execution_count": null,
   "id": "d8bc9096",
   "metadata": {},
   "outputs": [],
   "source": [
    "img = np.full((400,400,3), 255, np.uint8)\n",
    "enter = input(\"원하는 라인의 종류는 1) 직선, 2) 화살표 \")\n",
    "\n",
    "if enter==\"1\":\n",
    "    cv2.arrowedLine(img, (50,200), (150,200), (0,0,255),1)\n",
    "else:\n",
    "    cv2.line(img, (50,200), (150,200), (0,0,255),1)\n",
    "    \n",
    "cv2.imshow('img', img)\n",
    "cv2.waitKey()\n",
    "cv2.destroyAllWindows()"
   ]
  },
  {
   "cell_type": "code",
   "execution_count": null,
   "id": "239938f6",
   "metadata": {},
   "outputs": [],
   "source": [
    "img = np.full((400,400,3), 255, np.uint8)\n",
    "\n",
    "cv2.drawMarker(img,(50,350),(0,0,255),cv2.MARKER_CROSS)\n",
    "cv2.drawMarker(img,(50,350),(0,0,255),cv2.MARKER_TILTED_CROSS)\n",
    "cv2.imshow('img',img)\n",
    "cv2.waitKey()\n",
    "cv2.destroyAllWindows()\n",
    "\n",
    "list_marker = [cv2.MARKER_CROSS, cv2.MARKER_TILTED_CROSS,\n",
    "              cv2.MARKER_STAR, cv2.MARKER_DIAMOND,\n",
    "               cv2.MARKER_SQUARE, cv2.MARKER_TRIANGLE_UP,\n",
    "               cv2.MARKER_TRIANGLE_DOWN\n",
    "              ]\n",
    "# 문2) 좌표를 변경하면서 그리기\n",
    "for i in list_marker:\n",
    "    cv2.drawMarker(img,(200,100+(i*30)),(0,0,i),i)\n",
    "cv2.imshow('img',img)\n",
    "cv2.waitKey()\n",
    "cv2.destroyAllWindows()\n",
    "\n",
    "# pts = np.array([[250,250],[300,250],[300,300],[350,300],[350,350],[250,350]])\n",
    "# cv2.polylines(img,[pts],True,(255,0,255),2)\n",
    "# cv2.imshow('img',img)\n",
    "# cv2.waitKey()\n",
    "# cv2.destroyAllWindows()\n",
    "\n",
    "# 문3) polyline을 랜덤의 points로 그리고, 숫자(점(좌표)의 갯수를 변경하면서 그리기)\n",
    "pts = []\n",
    "for i in range(int(np.random.randint(30))):\n",
    "    cv2.drawMarker(img,(100+(i*30),-100+(i*30)),(255,0,0),i)\n",
    "    cv2.drawMarker(img,(100+(i*30),-100+(i*30)),(255,0,0),i)\n",
    "cv2.imshow('img',img)\n",
    "cv2.waitKey()\n",
    "cv2.destroyAllWindows()"
   ]
  },
  {
   "cell_type": "code",
   "execution_count": null,
   "id": "36880918",
   "metadata": {},
   "outputs": [],
   "source": [
    "pts = []\n",
    "img = np.full((400,400,3), 255, np.uint8)\n",
    "for i in range(int(np.random.randint(1,30))):\n",
    "    pts.append(np.array([100+np.random.randint(200),100+np.random.randint(50)]))\n",
    "print(len(pts))\n",
    "pts21 = np.array(pts)\n",
    "cv2.polylines(img,[pts21],True,(255,0,255),2)\n",
    "cv2.imshow('img',img)\n",
    "cv2.waitKey()\n",
    "cv2.destroyAllWindows()"
   ]
  },
  {
   "cell_type": "code",
   "execution_count": null,
   "id": "bd066df2",
   "metadata": {},
   "outputs": [],
   "source": [
    "pts2 = np.array(([\n",
    "    np.random.randint(256),np.random.randint(256)],\n",
    "    [np.random.randint(256),np.random.randint(256)],\n",
    "    [np.random.randint(256),np.random.randint(256)],\n",
    "    [np.random.randint(256),np.random.randint(256)],\n",
    "    [np.random.randint(256),np.random.randint(256)],\n",
    "    [np.random.randint(256),np.random.randint(256)]))\n",
    "cv2.polylines(img,[pts2],True,(255,0,255),2)\n",
    "cv2.imshow('img',img)\n",
    "cv2.waitKey()\n",
    "cv2.destroyAllWindows()"
   ]
  },
  {
   "cell_type": "code",
   "execution_count": null,
   "id": "b942bbc1",
   "metadata": {},
   "outputs": [],
   "source": [
    "pts = []\n",
    "for i in range(int(np.random.randint(30))):\n",
    "    pts.append(np.array([[100+np.random.randint(20),100+np.random.randint(50)]]))\n",
    "len(pts)"
   ]
  },
  {
   "cell_type": "code",
   "execution_count": null,
   "id": "2cfd21df",
   "metadata": {},
   "outputs": [],
   "source": [
    "src = cv2.imread('image/rose.bmp', cv2.IMREAD_GRAYSCALE)\n",
    "if src is None:\n",
    "    print('이미지 로딩 실패')\n",
    "    sys.exit()\n",
    "emboss = np.array([[1,-1,0],[-1,0,1],[0,1,1]],np.float32)\n",
    "dst = cv2.filter2D(src, -1, emboss, delta=128)\n",
    "cv2.imshow('src', src)\n",
    "cv2.imshow('dst', dst)\n",
    "cv2.waitKey()\n",
    "cv2.destroyAllWindows()"
   ]
  }
 ],
 "metadata": {
  "kernelspec": {
   "display_name": "Python 3 (ipykernel)",
   "language": "python",
   "name": "python3"
  },
  "language_info": {
   "codemirror_mode": {
    "name": "ipython",
    "version": 3
   },
   "file_extension": ".py",
   "mimetype": "text/x-python",
   "name": "python",
   "nbconvert_exporter": "python",
   "pygments_lexer": "ipython3",
   "version": "3.11.3"
  }
 },
 "nbformat": 4,
 "nbformat_minor": 5
}
