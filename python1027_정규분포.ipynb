{
 "cells": [
  {
   "cell_type": "markdown",
   "id": "3e97af89",
   "metadata": {},
   "source": [
    "# [확률과 통계] 파이썬으로 정규 분포 그리기"
   ]
  },
  {
   "cell_type": "markdown",
   "id": "ebdad438",
   "metadata": {},
   "source": [
    "1. 정규 분포란\n",
    "- 정규 분포(Normal distribution)은 통계학에서 연속 확률분포의 한 종류로서 데이터의 분포를 근사하는데 가장 흔하게 사용됨.\n",
    "- 가우스 분포라고도 함.\n",
    "- 정규 분포의 모양은 2개의 매개변수(parameter)인 평균 $ \\mu $과 표준편차$ \\sigma $에 의해 결정되며, 이때의 분포를 N($ \\mu $, $ \\sigma $)로 나타냅니다.\n",
    "- N($ \\mu $, $ \\sigma $)를 갖는 확률 변수 X는 기대값, 최빈값, 중앙값이 모두 $ \\mu $이면, 분산은 $ \\sigma^2 $로 주어집니다. \n",
    "- 정규 분포 N($ \\mu $, $ \\sigma $)를 갖는 확률 변수 X에 대한 확률밀도함수(probaility Density Function, PDF)는 아래와 같이 주어집니다.\n",
    "$$ N(x | \\mu, \\sigma^2) = \\frac{1}{\\sqrt{2\\pi\\sigma^2}} exp \\left[ \n",
    "    - \\frac{(x-\\mu)^2}{e\\sigma^2} \\right] $$\n",
    "\n",
    "- 정규 분포 N($ \\mu $, $ \\sigma $)의 학률 밀도 함수에 대한 누적 분포 함수 (cumulative Distribution Funtion, CDF)는 아래와 같이 주어집니다.\n",
    "$$  \\phi (x |  \\mu  ,  \\sigma^2   )  = \\frac{1}{2}  \\left [ 1+  +erf \\left ( \\frac{(x-\\mu)}{\\sqrt{2\\sigma ^2}} \\right)  \\right ]  $$"
   ]
  },
  {
   "cell_type": "markdown",
   "id": "e2c28373",
   "metadata": {},
   "source": [
    "## 2. 정규 분포 그리기"
   ]
  },
  {
   "cell_type": "code",
   "execution_count": 1,
   "id": "2f6c927d",
   "metadata": {},
   "outputs": [],
   "source": [
    "import numpy as np\n",
    "import matplotlib.pyplot as plt\n",
    "from scipy.special import erf"
   ]
  },
  {
   "cell_type": "code",
   "execution_count": 3,
   "id": "25dcd8e0",
   "metadata": {},
   "outputs": [
    {
     "data": {
      "image/png": "[encoded data removed]",
      "text/plain": [
       "<Figure size 600x300 with 1 Axes>"
      ]
     },
     "metadata": {},
     "output_type": "display_data"
    }
   ],
   "source": [
    "np.random .seed(0)\n",
    "\n",
    "plt.style.use('default')\n",
    "plt.rcParams['figure.figsize'] = (6, 3)\n",
    "plt.rcParams['font.size'] = 12\n",
    "plt.rcParams['lines.linewidth'] = 5\n",
    "\n",
    "# mu = 0.0\n",
    "# sigma = 1.0\n",
    "mu = 7.0\n",
    "sigma = 0.7\n",
    "\n",
    "x = np.linspace(-8, 8, 1000)\n",
    "y = (1 / np.sqrt(2*np.pi*sigma**2) * np.exp(-(x-mu)**2)/(2*sigma**2))\n",
    "y_cum = 0.5 * (1 + erf((x-mu) / (np.sqrt(2*sigma**2))))\n",
    "\n",
    "plt.plot(x, y, alpha=0.7, label='PDF of N(0, 1)')\n",
    "plt.plot(x, y_cum, alpha=0.7, label='CDF of N(0, 1)')\n",
    "plt.xlabel('x')\n",
    "plt.ylabel('f(x)')\n",
    "plt.legend(loc='upper left')\n",
    "plt.show()"
   ]
  },
  {
   "cell_type": "code",
   "execution_count": 39,
   "id": "3b01862a",
   "metadata": {},
   "outputs": [
    {
     "data": {
      "text/plain": [
       "<Figure size 600x300 with 0 Axes>"
      ]
     },
     "metadata": {},
     "output_type": "display_data"
    }
   ],
   "source": [
    "np.random .seed(0)\n",
    "\n",
    "plt.style.use('default')\n",
    "plt.rcParams['figure.figsize'] = (6, 3)\n",
    "plt.rcParams['font.size'] = 12\n",
    "plt.rcParams['lines.linewidth'] = 5\n",
    "\n",
    "data = [(1.0, 1.0), (1.5, 1.5), (3.0, 2.0)  ] # 하나는 평균이고 하나는 sigma(표준편차)\n",
    "# 이것을 하나씩 꺼내어 파일로 저장함. \n",
    "x = np.linspace(-8, 8, 1000)\n",
    "\n",
    "for idx, i in enumerate(data):\n",
    "    y = (1 / np.sqrt(2*np.pi*i[1]**2) * np.exp(-(x-i[0])**2)/(2*i[1]**2))\n",
    "    plt.plot(x, y, alpha=0.7, label='mer: ' + str(i[0])+', '+'sigma: '+str(i[1]))\n",
    "    plt.xlabel('x')\n",
    "    plt.ylabel('f(x)')\n",
    "    plt.legend(loc='upper left')\n",
    "    plt.savefig('savefig' + str(idx) + '.png')\n",
    "    plt.clf()"
   ]
  },
  {
   "cell_type": "code",
   "execution_count": 47,
   "id": "907853cf",
   "metadata": {},
   "outputs": [
    {
     "data": {
      "text/plain": [
       "<Figure size 600x300 with 0 Axes>"
      ]
     },
     "metadata": {},
     "output_type": "display_data"
    }
   ],
   "source": [
    "np.random .seed(0)\n",
    "\n",
    "plt.style.use('default')\n",
    "plt.rcParams['figure.figsize'] = (6, 3)\n",
    "plt.rcParams['font.size'] = 12\n",
    "plt.rcParams['lines.linewidth'] = 5\n",
    "\n",
    "# 하나는 평균이고 하나는 sigma(표준편차)\n",
    "data = [(np.random.randint(1,10), np.random.rand()*10) for _ in range(50)]\n",
    "x = np.linspace(-8, 8, 1000)\n",
    "\n",
    "for idx, data in enumerate(data):\n",
    "    i, j = data\n",
    "    y = (1 / np.sqrt(2*np.pi*j**2) * np.exp(-(x-i)**2)/(2*j**2))\n",
    "    plt.plot(x, y, alpha=0.7, label=f'CDF of N({i, j})')\n",
    "    plt.xlabel('x')\n",
    "    plt.ylabel('f(x)')\n",
    "    plt.legend(loc='upper left')\n",
    "    plt.savefig('savefig' + str(idx) + '.png')\n",
    "    plt.clf()"
   ]
  },
  {
   "cell_type": "code",
   "execution_count": 48,
   "id": "2c208c13",
   "metadata": {},
   "outputs": [],
   "source": [
    "def der_f(f_, x_, h=0.0000001):\n",
    "    return (f_(x_ + 2*h) - f_(x_ - 2*h) / (2*h))"
   ]
  },
  {
   "cell_type": "code",
   "execution_count": null,
   "id": "2758cba7",
   "metadata": {},
   "outputs": [],
   "source": []
  }
 ],
 "metadata": {
  "kernelspec": {
   "display_name": "Python 3 (ipykernel)",
   "language": "python",
   "name": "python3"
  },
  "language_info": {
   "codemirror_mode": {
    "name": "ipython",
    "version": 3
   },
   "file_extension": ".py",
   "mimetype": "text/x-python",
   "name": "python",
   "nbconvert_exporter": "python",
   "pygments_lexer": "ipython3",
   "version": "3.10.9"
  }
 },
 "nbformat": 4,
 "nbformat_minor": 5
}
