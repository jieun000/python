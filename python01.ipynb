{
 "cells": [
  {
   "cell_type": "code",
   "execution_count": 1,
   "id": "33febfd2",
   "metadata": {},
   "outputs": [],
   "source": [
    "#우리는 하나 #은 주석(comment)"
   ]
  },
  {
   "cell_type": "code",
   "execution_count": 2,
   "id": "bed7dd4d",
   "metadata": {},
   "outputs": [
    {
     "name": "stdout",
     "output_type": "stream",
     "text": [
      "4\n"
     ]
    }
   ],
   "source": [
    "a=3+1 # a라는 변수에 3+1의 결과가 저장된다. \n",
    "print(a) # a의 값을 출력해라. "
   ]
  },
  {
   "cell_type": "code",
   "execution_count": 3,
   "id": "a6e0bb22",
   "metadata": {},
   "outputs": [
    {
     "name": "stdout",
     "output_type": "stream",
     "text": [
      "11\n"
     ]
    }
   ],
   "source": [
    "b = a+7\n",
    "print(b)"
   ]
  },
  {
   "cell_type": "markdown",
   "id": "ab4eea53",
   "metadata": {},
   "source": [
    "### 변수"
   ]
  },
  {
   "cell_type": "markdown",
   "id": "6ae2d8c5",
   "metadata": {},
   "source": [
    "<ul>\n",
    "    <li>변수는 값을 저장하는 공간</li>\n",
    "    <li>=는 같다는 것이 아니라 오른쪽의 값을 왼쪽의 변수에 저장하라는 대입연산자</li>\n",
    "</ul>"
   ]
  },
  {
   "cell_type": "code",
   "execution_count": 4,
   "id": "c5a3a169",
   "metadata": {},
   "outputs": [],
   "source": [
    "# 변수는 값을 저장하는 공간\n",
    "# 는 같다는 것이 아니라 오른쪽의 값을 왼쪽의 변수에 저장하라는 \n",
    "# 대입연산자"
   ]
  },
  {
   "cell_type": "code",
   "execution_count": 5,
   "id": "a4d3aefd",
   "metadata": {},
   "outputs": [
    {
     "data": {
      "text/plain": [
       "10"
      ]
     },
     "execution_count": 5,
     "metadata": {},
     "output_type": "execute_result"
    }
   ],
   "source": [
    "a = 7\n",
    "b = 3\n",
    "c = a + b\n",
    "c"
   ]
  },
  {
   "cell_type": "code",
   "execution_count": null,
   "id": "31d023f3",
   "metadata": {},
   "outputs": [],
   "source": [
    "변수 d에 a의 값과 b의 값을 곱한 결과를 저장하고 저장된 d의 값 출력"
   ]
  },
  {
   "cell_type": "code",
   "execution_count": 6,
   "id": "6eee8240",
   "metadata": {
    "scrolled": true
   },
   "outputs": [
    {
     "data": {
      "text/plain": [
       "21"
      ]
     },
     "execution_count": 6,
     "metadata": {},
     "output_type": "execute_result"
    }
   ],
   "source": [
    "d = a * b\n",
    "d"
   ]
  },
  {
   "cell_type": "code",
   "execution_count": 7,
   "id": "8267cecd",
   "metadata": {
    "scrolled": true
   },
   "outputs": [
    {
     "data": {
      "text/plain": [
       "'한국대학교'"
      ]
     },
     "execution_count": 7,
     "metadata": {},
     "output_type": "execute_result"
    }
   ],
   "source": [
    "# p48\n",
    "school = \"한국대학교\" # 쌍따옴표는 문자열을 표시\n",
    "school"
   ]
  },
  {
   "cell_type": "code",
   "execution_count": 8,
   "id": "d7996b46",
   "metadata": {},
   "outputs": [],
   "source": [
    "a=3 # a 변수에 숫자 3을 대입연산자(=)를 이용하여 값을 a 변수에 저장\n",
    "a = 100"
   ]
  }
 ],
 "metadata": {
  "kernelspec": {
   "display_name": "Python 3 (ipykernel)",
   "language": "python",
   "name": "python3"
  },
  "language_info": {
   "codemirror_mode": {
    "name": "ipython",
    "version": 3
   },
   "file_extension": ".py",
   "mimetype": "text/x-python",
   "name": "python",
   "nbconvert_exporter": "python",
   "pygments_lexer": "ipython3",
   "version": "3.10.9"
  }
 },
 "nbformat": 4,
 "nbformat_minor": 5
}
