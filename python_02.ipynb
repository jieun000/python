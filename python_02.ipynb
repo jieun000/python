{
 "cells": [
  {
   "cell_type": "code",
   "execution_count": null,
   "id": "91bfd0a5",
   "metadata": {
    "scrolled": true
   },
   "outputs": [],
   "source": [
    "# 함수의 정의, def = define(정의하다의 약자)\n",
    "def d(i): \n",
    "    return i * 2\n",
    "\n",
    "# 함수의 호출\n",
    "d(4) "
   ]
  },
  {
   "cell_type": "code",
   "execution_count": null,
   "id": "cc124ce2",
   "metadata": {},
   "outputs": [],
   "source": [
    "# 함수의 호출\n",
    "d(4) "
   ]
  },
  {
   "cell_type": "code",
   "execution_count": null,
   "id": "c7ca35b1",
   "metadata": {},
   "outputs": [],
   "source": [
    "# 두 개를 더하는 함수\n",
    "def g(i, j):\n",
    "    return i + j\n",
    "\n",
    "g(3, 4)"
   ]
  },
  {
   "cell_type": "code",
   "execution_count": null,
   "id": "5a711b99",
   "metadata": {
    "scrolled": true
   },
   "outputs": [],
   "source": [
    "def d(a, b):\n",
    "return a + b   # 들여쓰기의 비극"
   ]
  },
  {
   "cell_type": "code",
   "execution_count": null,
   "id": "0d18b11c",
   "metadata": {},
   "outputs": [],
   "source": [
    "def g(i, j, a, v):\n",
    "    \"\"\"너가 g를 호출 했어\"\"\"\n",
    "    return i + j * a * v\n",
    "\n",
    "g(3, 4, 2, 3)"
   ]
  },
  {
   "cell_type": "code",
   "execution_count": null,
   "id": "1e9b8c8e",
   "metadata": {
    "scrolled": true
   },
   "outputs": [],
   "source": [
    "# 함수의 정의를 알려줌\n",
    "help(g)"
   ]
  },
  {
   "cell_type": "code",
   "execution_count": null,
   "id": "c18074ff",
   "metadata": {
    "scrolled": true
   },
   "outputs": [],
   "source": [
    "137 % 5  # %은 뒷 숫자로 나눈 나머지를 구함"
   ]
  },
  {
   "cell_type": "code",
   "execution_count": null,
   "id": "642fd3d8",
   "metadata": {},
   "outputs": [],
   "source": [
    "a = \"안녕하세요 이재오 강사입니다.\"\n",
    "a[1]"
   ]
  },
  {
   "cell_type": "code",
   "execution_count": null,
   "id": "da39a94b",
   "metadata": {},
   "outputs": [],
   "source": [
    "# 1번부터 ~ 3번을 포함하지 않는 곳까지\n",
    "a[1:3]  # [   )  ,   [ (폐구간 ) , )  (개구간 )"
   ]
  },
  {
   "cell_type": "code",
   "execution_count": null,
   "id": "215ae4dc",
   "metadata": {},
   "outputs": [],
   "source": [
    "a[10:12]"
   ]
  },
  {
   "cell_type": "code",
   "execution_count": null,
   "id": "48c8af0e",
   "metadata": {},
   "outputs": [],
   "source": [
    "a[-6:-4]"
   ]
  },
  {
   "cell_type": "code",
   "execution_count": null,
   "id": "a3e8d06b",
   "metadata": {},
   "outputs": [],
   "source": [
    "a[-1]"
   ]
  },
  {
   "cell_type": "code",
   "execution_count": null,
   "id": "a1229c3c",
   "metadata": {},
   "outputs": [],
   "source": [
    "a[4:]  # 파이썬의 슬라이싱 (중요한 것!)"
   ]
  },
  {
   "cell_type": "code",
   "execution_count": null,
   "id": "39924cc7",
   "metadata": {},
   "outputs": [],
   "source": [
    "a[-4:]"
   ]
  },
  {
   "cell_type": "code",
   "execution_count": null,
   "id": "c0d487cd",
   "metadata": {},
   "outputs": [],
   "source": [
    "a = [2,3,4,5,8,10]\n",
    "a[:2]"
   ]
  },
  {
   "cell_type": "code",
   "execution_count": null,
   "id": "27b1a350",
   "metadata": {},
   "outputs": [],
   "source": [
    "len(a)  # len은 length의 약자"
   ]
  },
  {
   "cell_type": "code",
   "execution_count": null,
   "id": "3fde4e73",
   "metadata": {},
   "outputs": [],
   "source": []
  }
 ],
 "metadata": {
  "kernelspec": {
   "display_name": "Python 3 (ipykernel)",
   "language": "python",
   "name": "python3"
  },
  "language_info": {
   "codemirror_mode": {
    "name": "ipython",
    "version": 3
   },
   "file_extension": ".py",
   "mimetype": "text/x-python",
   "name": "python",
   "nbconvert_exporter": "python",
   "pygments_lexer": "ipython3",
   "version": "3.10.9"
  }
 },
 "nbformat": 4,
 "nbformat_minor": 5
}
