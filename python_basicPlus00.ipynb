{
 "cells": [
  {
   "cell_type": "markdown",
   "id": "ca92d7de",
   "metadata": {},
   "source": [
    "## 리스트\n",
    "배열이다"
   ]
  },
  {
   "cell_type": "code",
   "execution_count": 2,
   "id": "cf06acd6",
   "metadata": {},
   "outputs": [
    {
     "data": {
      "text/plain": [
       "1"
      ]
     },
     "execution_count": 2,
     "metadata": {},
     "output_type": "execute_result"
    }
   ],
   "source": [
    "arr = [1,3,4,5,6]\n",
    "arr[0]"
   ]
  },
  {
   "cell_type": "code",
   "execution_count": 3,
   "id": "b1c95897",
   "metadata": {},
   "outputs": [],
   "source": [
    "def f(x):\n",
    "    return x*2"
   ]
  },
  {
   "cell_type": "markdown",
   "id": "0eb254e6",
   "metadata": {},
   "source": [
    "문제1) arr리스트의 값을 하나씩 꺼내어 f함수에 전달하여 list로 저장\n",
    "[2,6,8,10,12]"
   ]
  },
  {
   "cell_type": "markdown",
   "id": "0e6301a5",
   "metadata": {},
   "source": [
    "list1 = []\n",
    "for i in arr:\n",
    "    list1.append(f(i))\n",
    "list1"
   ]
  },
  {
   "cell_type": "code",
   "execution_count": 6,
   "id": "ccb47b67",
   "metadata": {},
   "outputs": [
    {
     "data": {
      "text/plain": [
       "[[1, 3, 4, 5, 6, 1, 3, 4, 5, 6]]"
      ]
     },
     "execution_count": 6,
     "metadata": {},
     "output_type": "execute_result"
    }
   ],
   "source": [
    "list2 = []\n",
    "list2.append(f(arr))\n",
    "list2"
   ]
  },
  {
   "cell_type": "markdown",
   "id": "986797a2",
   "metadata": {},
   "source": [
    "## list comprehension"
   ]
  },
  {
   "cell_type": "code",
   "execution_count": 7,
   "id": "25007f52",
   "metadata": {
    "scrolled": true
   },
   "outputs": [
    {
     "data": {
      "text/plain": [
       "[2, 6, 8, 10, 12]"
      ]
     },
     "execution_count": 7,
     "metadata": {},
     "output_type": "execute_result"
    }
   ],
   "source": [
    "[f(i) for i in arr]"
   ]
  },
  {
   "cell_type": "code",
   "execution_count": 8,
   "id": "c46fc31f",
   "metadata": {},
   "outputs": [
    {
     "data": {
      "text/plain": [
       "[4, 12, 16, 20, 24]"
      ]
     },
     "execution_count": 8,
     "metadata": {},
     "output_type": "execute_result"
    }
   ],
   "source": [
    "arr2 = [i*4 for i in arr]\n",
    "arr2"
   ]
  },
  {
   "cell_type": "markdown",
   "id": "e7c7bef6",
   "metadata": {},
   "source": [
    "문제2) arr2의 각각의 원소에 1을 더하세요."
   ]
  },
  {
   "cell_type": "code",
   "execution_count": 9,
   "id": "01e83fb2",
   "metadata": {},
   "outputs": [
    {
     "data": {
      "text/plain": [
       "[5, 13, 17, 21, 25]"
      ]
     },
     "execution_count": 9,
     "metadata": {},
     "output_type": "execute_result"
    }
   ],
   "source": [
    "arr3 = [i+1 for i in arr2]\n",
    "arr3"
   ]
  },
  {
   "cell_type": "code",
   "execution_count": 10,
   "id": "f77c0d98",
   "metadata": {},
   "outputs": [
    {
     "data": {
      "text/plain": [
       "[5, 13, 17, 21, 25]"
      ]
     },
     "execution_count": 10,
     "metadata": {},
     "output_type": "execute_result"
    }
   ],
   "source": [
    "result_1 = []\n",
    "for i in arr2:\n",
    "    result_1.append(i+1)\n",
    "result_1"
   ]
  },
  {
   "cell_type": "code",
   "execution_count": 11,
   "id": "11637aaa",
   "metadata": {},
   "outputs": [
    {
     "data": {
      "text/plain": [
       "[5, 13, 17, 21, 25]"
      ]
     },
     "execution_count": 11,
     "metadata": {},
     "output_type": "execute_result"
    }
   ],
   "source": [
    "result_2 = [ i + 1 for i in arr2 ]\n",
    "result_2"
   ]
  },
  {
   "cell_type": "code",
   "execution_count": 13,
   "id": "c144d2d8",
   "metadata": {},
   "outputs": [
    {
     "data": {
      "text/plain": [
       "[63]"
      ]
     },
     "execution_count": 13,
     "metadata": {},
     "output_type": "execute_result"
    }
   ],
   "source": [
    "result_3 = [v*3 for v in result_2 if v%3==0 ]\n",
    "result_3"
   ]
  },
  {
   "cell_type": "markdown",
   "id": "b94f2e67",
   "metadata": {},
   "source": [
    "딕셔너리(dictionary) <br>\n",
    "키와 value의 쌍으로 이루어진 데이터 자료형"
   ]
  },
  {
   "cell_type": "code",
   "execution_count": 15,
   "id": "be2f0366",
   "metadata": {},
   "outputs": [],
   "source": [
    "dict1 = {'a':34, \"b\":[12,3,4,5], \"c\":{\"t\":[1,3,2,8], \"r\":[1,7]}}"
   ]
  },
  {
   "cell_type": "code",
   "execution_count": 16,
   "id": "6e7cd3ab",
   "metadata": {},
   "outputs": [
    {
     "data": {
      "text/plain": [
       "34"
      ]
     },
     "execution_count": 16,
     "metadata": {},
     "output_type": "execute_result"
    }
   ],
   "source": [
    "dict1['a']"
   ]
  },
  {
   "cell_type": "code",
   "execution_count": 20,
   "id": "8243a2ad",
   "metadata": {},
   "outputs": [
    {
     "data": {
      "text/plain": [
       "24"
      ]
     },
     "execution_count": 20,
     "metadata": {},
     "output_type": "execute_result"
    }
   ],
   "source": [
    "sum = 0\n",
    "for i in dict1['b']:\n",
    "    sum += i\n",
    "sum"
   ]
  },
  {
   "cell_type": "code",
   "execution_count": 21,
   "id": "346b4fc1",
   "metadata": {},
   "outputs": [
    {
     "name": "stdout",
     "output_type": "stream",
     "text": [
      "22\n"
     ]
    }
   ],
   "source": [
    "# 문제3) dict1의 key'c'안에 있는 숫자를 더하라. 1+3+2+8+1+7\n",
    "sum = 0\n",
    "for i in dict1['c']['t']:\n",
    "    sum += i\n",
    "for i in dict1['c']['r']:\n",
    "    sum += i\n",
    "print(sum)"
   ]
  },
  {
   "cell_type": "code",
   "execution_count": 11,
   "id": "90a1f7e3",
   "metadata": {},
   "outputs": [
    {
     "ename": "SyntaxError",
     "evalue": "invalid syntax (2395729769.py, line 2)",
     "output_type": "error",
     "traceback": [
      "\u001b[1;36m  Cell \u001b[1;32mIn[11], line 2\u001b[1;36m\u001b[0m\n\u001b[1;33m    [ sum += i for i in dict1['c']['t']]\u001b[0m\n\u001b[1;37m          ^\u001b[0m\n\u001b[1;31mSyntaxError\u001b[0m\u001b[1;31m:\u001b[0m invalid syntax\n"
     ]
    }
   ],
   "source": [
    "sum = 0\n",
    "# 이 방법은 리스트가 가능하며 딕셔너리는 다른 방법을 요함\n",
    "[ sum += i for i in dict1['c']['t']] \n",
    "print(sum)"
   ]
  }
 ],
 "metadata": {
  "kernelspec": {
   "display_name": "Python 3 (ipykernel)",
   "language": "python",
   "name": "python3"
  },
  "language_info": {
   "codemirror_mode": {
    "name": "ipython",
    "version": 3
   },
   "file_extension": ".py",
   "mimetype": "text/x-python",
   "name": "python",
   "nbconvert_exporter": "python",
   "pygments_lexer": "ipython3",
   "version": "3.11.3"
  }
 },
 "nbformat": 4,
 "nbformat_minor": 5
}
